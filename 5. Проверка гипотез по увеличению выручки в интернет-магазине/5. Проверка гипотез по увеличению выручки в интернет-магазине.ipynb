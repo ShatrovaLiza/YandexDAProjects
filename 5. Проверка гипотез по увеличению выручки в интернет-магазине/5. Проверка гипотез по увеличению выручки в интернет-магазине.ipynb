{
 "cells": [
  {
   "cell_type": "markdown",
   "metadata": {},
   "source": [
    "# Приоритизация гипотез и анализ А/В-теста интернет-магазина"
   ]
  },
  {
   "cell_type": "markdown",
   "metadata": {},
   "source": [
    "# Описание задачи\n",
    "Отдел маркетинга вместе с командой аналитиков крупного интернет-магазина подготовили список гипотез для увеличения выручки.\n",
    "Необходимо приоритизировать гипотезы, запустить A/B-тест и проанализировать результаты."
   ]
  },
  {
   "cell_type": "markdown",
   "metadata": {},
   "source": [
    "# Описание данных \n",
    "**Данные для первой части**\n",
    "\n",
    "Файл hypothesis.csv.\n",
    "* Hypothesis — краткое описание гипотезы;\n",
    "* Reach — охват пользователей по 10-балльной шкале;\n",
    "* Impact — влияние на пользователей по 10-балльной шкале;\n",
    "* Confidence — уверенность в гипотезе по 10-балльной шкале;\n",
    "* Efforts — затраты ресурсов на проверку гипотезы по 10-балльной шкале. Чем больше значение Efforts, тем дороже проверка гипотезы.\n",
    "\n",
    "**Данные для второй части**\n",
    "\n",
    "Файл orders.csv.\n",
    "* transactionId — идентификатор заказа;\n",
    "* visitorId — идентификатор пользователя, совершившего заказ;\n",
    "* date — дата, когда был совершён заказ;\n",
    "* revenue — выручка заказа;\n",
    "* group — группа A/B-теста, в которую попал заказ.\n",
    "\n",
    "Файл visitors.csv. \n",
    "* date — дата;\n",
    "* group — группа A/B-теста;\n",
    "* visitors — количество пользователей в указанную дату в указанной группе A/B-теста"
   ]
  },
  {
   "cell_type": "markdown",
   "metadata": {},
   "source": [
    "## Часть 1. Приоритизация гипотез. \n",
    "\n",
    "В файле hypothesis.csv содержится 9 гипотез по увеличению выручки интернет-магазина с указанными параметрами Reach, Impact, Confidence, Effort  "
   ]
  },
  {
   "cell_type": "markdown",
   "metadata": {},
   "source": [
    "### Предобработка данных"
   ]
  },
  {
   "cell_type": "code",
   "execution_count": 1,
   "metadata": {},
   "outputs": [],
   "source": [
    "# импортируем все необходимые библиотеки\n",
    "import pandas as pd\n",
    "import scipy.stats as stats\n",
    "import numpy as np\n",
    "import datetime as dt\n",
    "import matplotlib.pyplot as plt\n",
    "import math\n",
    "from pandas.plotting import register_matplotlib_converters\n",
    "import warnings\n",
    "register_matplotlib_converters()"
   ]
  },
  {
   "cell_type": "code",
   "execution_count": 2,
   "metadata": {
    "scrolled": true
   },
   "outputs": [
    {
     "data": {
      "text/html": [
       "<div>\n",
       "<style scoped>\n",
       "    .dataframe tbody tr th:only-of-type {\n",
       "        vertical-align: middle;\n",
       "    }\n",
       "\n",
       "    .dataframe tbody tr th {\n",
       "        vertical-align: top;\n",
       "    }\n",
       "\n",
       "    .dataframe thead th {\n",
       "        text-align: right;\n",
       "    }\n",
       "</style>\n",
       "<table border=\"1\" class=\"dataframe\">\n",
       "  <thead>\n",
       "    <tr style=\"text-align: right;\">\n",
       "      <th></th>\n",
       "      <th>Hypothesis</th>\n",
       "      <th>Reach</th>\n",
       "      <th>Impact</th>\n",
       "      <th>Confidence</th>\n",
       "      <th>Efforts</th>\n",
       "    </tr>\n",
       "  </thead>\n",
       "  <tbody>\n",
       "    <tr>\n",
       "      <th>0</th>\n",
       "      <td>Добавить два новых канала привлечения трафика,...</td>\n",
       "      <td>3</td>\n",
       "      <td>10</td>\n",
       "      <td>8</td>\n",
       "      <td>6</td>\n",
       "    </tr>\n",
       "    <tr>\n",
       "      <th>1</th>\n",
       "      <td>Запустить собственную службу доставки, что сок...</td>\n",
       "      <td>2</td>\n",
       "      <td>5</td>\n",
       "      <td>4</td>\n",
       "      <td>10</td>\n",
       "    </tr>\n",
       "    <tr>\n",
       "      <th>2</th>\n",
       "      <td>Добавить блоки рекомендаций товаров на сайт ин...</td>\n",
       "      <td>8</td>\n",
       "      <td>3</td>\n",
       "      <td>7</td>\n",
       "      <td>3</td>\n",
       "    </tr>\n",
       "    <tr>\n",
       "      <th>3</th>\n",
       "      <td>Изменить структура категорий, что увеличит кон...</td>\n",
       "      <td>8</td>\n",
       "      <td>3</td>\n",
       "      <td>3</td>\n",
       "      <td>8</td>\n",
       "    </tr>\n",
       "    <tr>\n",
       "      <th>4</th>\n",
       "      <td>Изменить цвет фона главной страницы, чтобы уве...</td>\n",
       "      <td>3</td>\n",
       "      <td>1</td>\n",
       "      <td>1</td>\n",
       "      <td>1</td>\n",
       "    </tr>\n",
       "    <tr>\n",
       "      <th>5</th>\n",
       "      <td>Добавить страницу отзывов клиентов о магазине,...</td>\n",
       "      <td>3</td>\n",
       "      <td>2</td>\n",
       "      <td>2</td>\n",
       "      <td>3</td>\n",
       "    </tr>\n",
       "    <tr>\n",
       "      <th>6</th>\n",
       "      <td>Показать на главной странице баннеры с актуаль...</td>\n",
       "      <td>5</td>\n",
       "      <td>3</td>\n",
       "      <td>8</td>\n",
       "      <td>3</td>\n",
       "    </tr>\n",
       "    <tr>\n",
       "      <th>7</th>\n",
       "      <td>Добавить форму подписки на все основные страни...</td>\n",
       "      <td>10</td>\n",
       "      <td>7</td>\n",
       "      <td>8</td>\n",
       "      <td>5</td>\n",
       "    </tr>\n",
       "    <tr>\n",
       "      <th>8</th>\n",
       "      <td>Запустить акцию, дающую скидку на товар в день...</td>\n",
       "      <td>1</td>\n",
       "      <td>9</td>\n",
       "      <td>9</td>\n",
       "      <td>5</td>\n",
       "    </tr>\n",
       "  </tbody>\n",
       "</table>\n",
       "</div>"
      ],
      "text/plain": [
       "                                          Hypothesis  Reach  Impact  \\\n",
       "0  Добавить два новых канала привлечения трафика,...      3      10   \n",
       "1  Запустить собственную службу доставки, что сок...      2       5   \n",
       "2  Добавить блоки рекомендаций товаров на сайт ин...      8       3   \n",
       "3  Изменить структура категорий, что увеличит кон...      8       3   \n",
       "4  Изменить цвет фона главной страницы, чтобы уве...      3       1   \n",
       "5  Добавить страницу отзывов клиентов о магазине,...      3       2   \n",
       "6  Показать на главной странице баннеры с актуаль...      5       3   \n",
       "7  Добавить форму подписки на все основные страни...     10       7   \n",
       "8  Запустить акцию, дающую скидку на товар в день...      1       9   \n",
       "\n",
       "   Confidence  Efforts  \n",
       "0           8        6  \n",
       "1           4       10  \n",
       "2           7        3  \n",
       "3           3        8  \n",
       "4           1        1  \n",
       "5           2        3  \n",
       "6           8        3  \n",
       "7           8        5  \n",
       "8           9        5  "
      ]
     },
     "execution_count": 2,
     "metadata": {},
     "output_type": "execute_result"
    }
   ],
   "source": [
    "# загрузим данные и запишем их в переменную\n",
    "hypothesis = pd.read_csv('/datasets/hypothesis.csv')\n",
    "hypothesis"
   ]
  },
  {
   "cell_type": "markdown",
   "metadata": {},
   "source": [
    "Посмотрим на данные"
   ]
  },
  {
   "cell_type": "code",
   "execution_count": 3,
   "metadata": {},
   "outputs": [
    {
     "name": "stdout",
     "output_type": "stream",
     "text": [
      "<class 'pandas.core.frame.DataFrame'>\n",
      "RangeIndex: 9 entries, 0 to 8\n",
      "Data columns (total 5 columns):\n",
      " #   Column      Non-Null Count  Dtype \n",
      "---  ------      --------------  ----- \n",
      " 0   Hypothesis  9 non-null      object\n",
      " 1   Reach       9 non-null      int64 \n",
      " 2   Impact      9 non-null      int64 \n",
      " 3   Confidence  9 non-null      int64 \n",
      " 4   Efforts     9 non-null      int64 \n",
      "dtypes: int64(4), object(1)\n",
      "memory usage: 488.0+ bytes\n"
     ]
    }
   ],
   "source": [
    "hypothesis.info()"
   ]
  },
  {
   "cell_type": "code",
   "execution_count": 4,
   "metadata": {
    "scrolled": true
   },
   "outputs": [
    {
     "data": {
      "text/html": [
       "<div>\n",
       "<style scoped>\n",
       "    .dataframe tbody tr th:only-of-type {\n",
       "        vertical-align: middle;\n",
       "    }\n",
       "\n",
       "    .dataframe tbody tr th {\n",
       "        vertical-align: top;\n",
       "    }\n",
       "\n",
       "    .dataframe thead th {\n",
       "        text-align: right;\n",
       "    }\n",
       "</style>\n",
       "<table border=\"1\" class=\"dataframe\">\n",
       "  <thead>\n",
       "    <tr style=\"text-align: right;\">\n",
       "      <th></th>\n",
       "      <th>Reach</th>\n",
       "      <th>Impact</th>\n",
       "      <th>Confidence</th>\n",
       "      <th>Efforts</th>\n",
       "    </tr>\n",
       "  </thead>\n",
       "  <tbody>\n",
       "    <tr>\n",
       "      <th>count</th>\n",
       "      <td>9.000000</td>\n",
       "      <td>9.000000</td>\n",
       "      <td>9.000000</td>\n",
       "      <td>9.000000</td>\n",
       "    </tr>\n",
       "    <tr>\n",
       "      <th>mean</th>\n",
       "      <td>4.777778</td>\n",
       "      <td>4.777778</td>\n",
       "      <td>5.555556</td>\n",
       "      <td>4.888889</td>\n",
       "    </tr>\n",
       "    <tr>\n",
       "      <th>std</th>\n",
       "      <td>3.153481</td>\n",
       "      <td>3.192874</td>\n",
       "      <td>3.045944</td>\n",
       "      <td>2.803767</td>\n",
       "    </tr>\n",
       "    <tr>\n",
       "      <th>min</th>\n",
       "      <td>1.000000</td>\n",
       "      <td>1.000000</td>\n",
       "      <td>1.000000</td>\n",
       "      <td>1.000000</td>\n",
       "    </tr>\n",
       "    <tr>\n",
       "      <th>25%</th>\n",
       "      <td>3.000000</td>\n",
       "      <td>3.000000</td>\n",
       "      <td>3.000000</td>\n",
       "      <td>3.000000</td>\n",
       "    </tr>\n",
       "    <tr>\n",
       "      <th>50%</th>\n",
       "      <td>3.000000</td>\n",
       "      <td>3.000000</td>\n",
       "      <td>7.000000</td>\n",
       "      <td>5.000000</td>\n",
       "    </tr>\n",
       "    <tr>\n",
       "      <th>75%</th>\n",
       "      <td>8.000000</td>\n",
       "      <td>7.000000</td>\n",
       "      <td>8.000000</td>\n",
       "      <td>6.000000</td>\n",
       "    </tr>\n",
       "    <tr>\n",
       "      <th>max</th>\n",
       "      <td>10.000000</td>\n",
       "      <td>10.000000</td>\n",
       "      <td>9.000000</td>\n",
       "      <td>10.000000</td>\n",
       "    </tr>\n",
       "  </tbody>\n",
       "</table>\n",
       "</div>"
      ],
      "text/plain": [
       "           Reach     Impact  Confidence    Efforts\n",
       "count   9.000000   9.000000    9.000000   9.000000\n",
       "mean    4.777778   4.777778    5.555556   4.888889\n",
       "std     3.153481   3.192874    3.045944   2.803767\n",
       "min     1.000000   1.000000    1.000000   1.000000\n",
       "25%     3.000000   3.000000    3.000000   3.000000\n",
       "50%     3.000000   3.000000    7.000000   5.000000\n",
       "75%     8.000000   7.000000    8.000000   6.000000\n",
       "max    10.000000  10.000000    9.000000  10.000000"
      ]
     },
     "execution_count": 4,
     "metadata": {},
     "output_type": "execute_result"
    }
   ],
   "source": [
    "hypothesis.describe()"
   ]
  },
  {
   "cell_type": "code",
   "execution_count": 5,
   "metadata": {},
   "outputs": [
    {
     "data": {
      "text/plain": [
       "Hypothesis    0\n",
       "Reach         0\n",
       "Impact        0\n",
       "Confidence    0\n",
       "Efforts       0\n",
       "dtype: int64"
      ]
     },
     "execution_count": 5,
     "metadata": {},
     "output_type": "execute_result"
    }
   ],
   "source": [
    "hypothesis.isna().sum()"
   ]
  },
  {
   "cell_type": "markdown",
   "metadata": {},
   "source": [
    "В датафрейме 5 столбцов, тип первого - object, в нем содержится текст, остальные столбцы имеют тип int64 - целые числа, здесь все корректно  \n",
    "Пропуски и нулевые значения также отсутствуют (минимальное значение = 1)  \n",
    "Проверим наличие дубликатов, приведем наименования столбцов к нижнему регистру, а также увеличим ширину столбцов, чтобы текст гипотез отображался полностью"
   ]
  },
  {
   "cell_type": "code",
   "execution_count": 6,
   "metadata": {},
   "outputs": [
    {
     "data": {
      "text/plain": [
       "0"
      ]
     },
     "execution_count": 6,
     "metadata": {},
     "output_type": "execute_result"
    }
   ],
   "source": [
    "# проверим наличие дубликатов\n",
    "hypothesis.duplicated().sum()"
   ]
  },
  {
   "cell_type": "code",
   "execution_count": 7,
   "metadata": {},
   "outputs": [
    {
     "data": {
      "text/html": [
       "<div>\n",
       "<style scoped>\n",
       "    .dataframe tbody tr th:only-of-type {\n",
       "        vertical-align: middle;\n",
       "    }\n",
       "\n",
       "    .dataframe tbody tr th {\n",
       "        vertical-align: top;\n",
       "    }\n",
       "\n",
       "    .dataframe thead th {\n",
       "        text-align: right;\n",
       "    }\n",
       "</style>\n",
       "<table border=\"1\" class=\"dataframe\">\n",
       "  <thead>\n",
       "    <tr style=\"text-align: right;\">\n",
       "      <th></th>\n",
       "      <th>hypothesis</th>\n",
       "      <th>reach</th>\n",
       "      <th>impact</th>\n",
       "      <th>confidence</th>\n",
       "      <th>efforts</th>\n",
       "    </tr>\n",
       "  </thead>\n",
       "  <tbody>\n",
       "    <tr>\n",
       "      <th>0</th>\n",
       "      <td>Добавить два новых канала привлечения трафика, что позволит привлекать на 30% больше пользователей</td>\n",
       "      <td>3</td>\n",
       "      <td>10</td>\n",
       "      <td>8</td>\n",
       "      <td>6</td>\n",
       "    </tr>\n",
       "    <tr>\n",
       "      <th>1</th>\n",
       "      <td>Запустить собственную службу доставки, что сократит срок доставки заказов</td>\n",
       "      <td>2</td>\n",
       "      <td>5</td>\n",
       "      <td>4</td>\n",
       "      <td>10</td>\n",
       "    </tr>\n",
       "    <tr>\n",
       "      <th>2</th>\n",
       "      <td>Добавить блоки рекомендаций товаров на сайт интернет магазина, чтобы повысить конверсию и средний чек заказа</td>\n",
       "      <td>8</td>\n",
       "      <td>3</td>\n",
       "      <td>7</td>\n",
       "      <td>3</td>\n",
       "    </tr>\n",
       "  </tbody>\n",
       "</table>\n",
       "</div>"
      ],
      "text/plain": [
       "                                                                                                     hypothesis  \\\n",
       "0            Добавить два новых канала привлечения трафика, что позволит привлекать на 30% больше пользователей   \n",
       "1                                     Запустить собственную службу доставки, что сократит срок доставки заказов   \n",
       "2  Добавить блоки рекомендаций товаров на сайт интернет магазина, чтобы повысить конверсию и средний чек заказа   \n",
       "\n",
       "   reach  impact  confidence  efforts  \n",
       "0      3      10           8        6  \n",
       "1      2       5           4       10  \n",
       "2      8       3           7        3  "
      ]
     },
     "execution_count": 7,
     "metadata": {},
     "output_type": "execute_result"
    }
   ],
   "source": [
    "# приведем все названия к нижнему регистру\n",
    "hypothesis.columns = hypothesis.columns.str.lower()\n",
    "# увеличим ширину колонок\n",
    "pd.set_option('max_colwidth', 110) \n",
    "hypothesis.head(3)"
   ]
  },
  {
   "cell_type": "markdown",
   "metadata": {},
   "source": [
    "Предобработка завершена, тип данных соответствует нужному, пропуски и дубликаты отсутствуют, наименования столбцов приведены к корректному виду, весь текст отображается"
   ]
  },
  {
   "cell_type": "markdown",
   "metadata": {},
   "source": [
    "### Фреймворк ICE для приоритизации гипотез\n",
    "Применим фреймворк ICE для приоритизации гипотез и отсортирем их по убыванию приоритета"
   ]
  },
  {
   "cell_type": "code",
   "execution_count": 8,
   "metadata": {},
   "outputs": [
    {
     "data": {
      "text/html": [
       "<div>\n",
       "<style scoped>\n",
       "    .dataframe tbody tr th:only-of-type {\n",
       "        vertical-align: middle;\n",
       "    }\n",
       "\n",
       "    .dataframe tbody tr th {\n",
       "        vertical-align: top;\n",
       "    }\n",
       "\n",
       "    .dataframe thead th {\n",
       "        text-align: right;\n",
       "    }\n",
       "</style>\n",
       "<table border=\"1\" class=\"dataframe\">\n",
       "  <thead>\n",
       "    <tr style=\"text-align: right;\">\n",
       "      <th></th>\n",
       "      <th>hypothesis</th>\n",
       "      <th>ICE</th>\n",
       "    </tr>\n",
       "  </thead>\n",
       "  <tbody>\n",
       "    <tr>\n",
       "      <th>8</th>\n",
       "      <td>Запустить акцию, дающую скидку на товар в день рождения</td>\n",
       "      <td>16.20</td>\n",
       "    </tr>\n",
       "    <tr>\n",
       "      <th>0</th>\n",
       "      <td>Добавить два новых канала привлечения трафика, что позволит привлекать на 30% больше пользователей</td>\n",
       "      <td>13.33</td>\n",
       "    </tr>\n",
       "    <tr>\n",
       "      <th>7</th>\n",
       "      <td>Добавить форму подписки на все основные страницы, чтобы собрать базу клиентов для email-рассылок</td>\n",
       "      <td>11.20</td>\n",
       "    </tr>\n",
       "    <tr>\n",
       "      <th>6</th>\n",
       "      <td>Показать на главной странице баннеры с актуальными акциями и распродажами, чтобы увеличить конверсию</td>\n",
       "      <td>8.00</td>\n",
       "    </tr>\n",
       "    <tr>\n",
       "      <th>2</th>\n",
       "      <td>Добавить блоки рекомендаций товаров на сайт интернет магазина, чтобы повысить конверсию и средний чек заказа</td>\n",
       "      <td>7.00</td>\n",
       "    </tr>\n",
       "    <tr>\n",
       "      <th>1</th>\n",
       "      <td>Запустить собственную службу доставки, что сократит срок доставки заказов</td>\n",
       "      <td>2.00</td>\n",
       "    </tr>\n",
       "    <tr>\n",
       "      <th>5</th>\n",
       "      <td>Добавить страницу отзывов клиентов о магазине, что позволит увеличить количество заказов</td>\n",
       "      <td>1.33</td>\n",
       "    </tr>\n",
       "    <tr>\n",
       "      <th>3</th>\n",
       "      <td>Изменить структура категорий, что увеличит конверсию, т.к. пользователи быстрее найдут нужный товар</td>\n",
       "      <td>1.12</td>\n",
       "    </tr>\n",
       "    <tr>\n",
       "      <th>4</th>\n",
       "      <td>Изменить цвет фона главной страницы, чтобы увеличить вовлеченность пользователей</td>\n",
       "      <td>1.00</td>\n",
       "    </tr>\n",
       "  </tbody>\n",
       "</table>\n",
       "</div>"
      ],
      "text/plain": [
       "                                                                                                     hypothesis  \\\n",
       "8                                                       Запустить акцию, дающую скидку на товар в день рождения   \n",
       "0            Добавить два новых канала привлечения трафика, что позволит привлекать на 30% больше пользователей   \n",
       "7              Добавить форму подписки на все основные страницы, чтобы собрать базу клиентов для email-рассылок   \n",
       "6          Показать на главной странице баннеры с актуальными акциями и распродажами, чтобы увеличить конверсию   \n",
       "2  Добавить блоки рекомендаций товаров на сайт интернет магазина, чтобы повысить конверсию и средний чек заказа   \n",
       "1                                     Запустить собственную службу доставки, что сократит срок доставки заказов   \n",
       "5                      Добавить страницу отзывов клиентов о магазине, что позволит увеличить количество заказов   \n",
       "3           Изменить структура категорий, что увеличит конверсию, т.к. пользователи быстрее найдут нужный товар   \n",
       "4                              Изменить цвет фона главной страницы, чтобы увеличить вовлеченность пользователей   \n",
       "\n",
       "     ICE  \n",
       "8  16.20  \n",
       "0  13.33  \n",
       "7  11.20  \n",
       "6   8.00  \n",
       "2   7.00  \n",
       "1   2.00  \n",
       "5   1.33  \n",
       "3   1.12  \n",
       "4   1.00  "
      ]
     },
     "execution_count": 8,
     "metadata": {},
     "output_type": "execute_result"
    }
   ],
   "source": [
    "hypothesis['ICE'] = ((hypothesis['impact'] * hypothesis['confidence']) / hypothesis['efforts']).round(2)\n",
    "\n",
    "hypothesis[['hypothesis', 'ICE']].sort_values(by='ICE', ascending=False)"
   ]
  },
  {
   "cell_type": "markdown",
   "metadata": {},
   "source": [
    "По фреймворку ICE наибольший приоритет получили гипотезы: \n",
    "* 8 - Запустить акцию, дающую скидку на товар в день рождения, \n",
    "* 0 - Добавить два новых канала привлечения трафика, что позволит привлекать на 30% больше пользователей, \n",
    "* 7 - Добавить форму подписки на все основные страницы, чтобы собрать базу клиентов для email-рассылок.  \n",
    "\n",
    "А наименьший приоритет получили гипотезы: \n",
    "* 5 - Добавить страницу отзывов клиентов о магазине, что позволит увеличить количество заказов, \n",
    "* 3 - Изменить структура категорий, что увеличит конверсию, т.к. пользователи быстрее найдут нужный товар, \n",
    "* 4 - Изменить цвет фона главной страницы, чтобы увеличить вовлеченность пользователей."
   ]
  },
  {
   "cell_type": "markdown",
   "metadata": {},
   "source": [
    "### Фреймворк RICE для приоритизации гипотез\n",
    "Применим фреймворк RICE для приоритизации гипотез и отсортируем их по убыванию приоритета"
   ]
  },
  {
   "cell_type": "code",
   "execution_count": 9,
   "metadata": {},
   "outputs": [
    {
     "data": {
      "text/html": [
       "<div>\n",
       "<style scoped>\n",
       "    .dataframe tbody tr th:only-of-type {\n",
       "        vertical-align: middle;\n",
       "    }\n",
       "\n",
       "    .dataframe tbody tr th {\n",
       "        vertical-align: top;\n",
       "    }\n",
       "\n",
       "    .dataframe thead th {\n",
       "        text-align: right;\n",
       "    }\n",
       "</style>\n",
       "<table border=\"1\" class=\"dataframe\">\n",
       "  <thead>\n",
       "    <tr style=\"text-align: right;\">\n",
       "      <th></th>\n",
       "      <th>hypothesis</th>\n",
       "      <th>RICE</th>\n",
       "    </tr>\n",
       "  </thead>\n",
       "  <tbody>\n",
       "    <tr>\n",
       "      <th>7</th>\n",
       "      <td>Добавить форму подписки на все основные страницы, чтобы собрать базу клиентов для email-рассылок</td>\n",
       "      <td>112.0</td>\n",
       "    </tr>\n",
       "    <tr>\n",
       "      <th>2</th>\n",
       "      <td>Добавить блоки рекомендаций товаров на сайт интернет магазина, чтобы повысить конверсию и средний чек заказа</td>\n",
       "      <td>56.0</td>\n",
       "    </tr>\n",
       "    <tr>\n",
       "      <th>0</th>\n",
       "      <td>Добавить два новых канала привлечения трафика, что позволит привлекать на 30% больше пользователей</td>\n",
       "      <td>40.0</td>\n",
       "    </tr>\n",
       "    <tr>\n",
       "      <th>6</th>\n",
       "      <td>Показать на главной странице баннеры с актуальными акциями и распродажами, чтобы увеличить конверсию</td>\n",
       "      <td>40.0</td>\n",
       "    </tr>\n",
       "    <tr>\n",
       "      <th>8</th>\n",
       "      <td>Запустить акцию, дающую скидку на товар в день рождения</td>\n",
       "      <td>16.2</td>\n",
       "    </tr>\n",
       "    <tr>\n",
       "      <th>3</th>\n",
       "      <td>Изменить структура категорий, что увеличит конверсию, т.к. пользователи быстрее найдут нужный товар</td>\n",
       "      <td>9.0</td>\n",
       "    </tr>\n",
       "    <tr>\n",
       "      <th>1</th>\n",
       "      <td>Запустить собственную службу доставки, что сократит срок доставки заказов</td>\n",
       "      <td>4.0</td>\n",
       "    </tr>\n",
       "    <tr>\n",
       "      <th>5</th>\n",
       "      <td>Добавить страницу отзывов клиентов о магазине, что позволит увеличить количество заказов</td>\n",
       "      <td>4.0</td>\n",
       "    </tr>\n",
       "    <tr>\n",
       "      <th>4</th>\n",
       "      <td>Изменить цвет фона главной страницы, чтобы увеличить вовлеченность пользователей</td>\n",
       "      <td>3.0</td>\n",
       "    </tr>\n",
       "  </tbody>\n",
       "</table>\n",
       "</div>"
      ],
      "text/plain": [
       "                                                                                                     hypothesis  \\\n",
       "7              Добавить форму подписки на все основные страницы, чтобы собрать базу клиентов для email-рассылок   \n",
       "2  Добавить блоки рекомендаций товаров на сайт интернет магазина, чтобы повысить конверсию и средний чек заказа   \n",
       "0            Добавить два новых канала привлечения трафика, что позволит привлекать на 30% больше пользователей   \n",
       "6          Показать на главной странице баннеры с актуальными акциями и распродажами, чтобы увеличить конверсию   \n",
       "8                                                       Запустить акцию, дающую скидку на товар в день рождения   \n",
       "3           Изменить структура категорий, что увеличит конверсию, т.к. пользователи быстрее найдут нужный товар   \n",
       "1                                     Запустить собственную службу доставки, что сократит срок доставки заказов   \n",
       "5                      Добавить страницу отзывов клиентов о магазине, что позволит увеличить количество заказов   \n",
       "4                              Изменить цвет фона главной страницы, чтобы увеличить вовлеченность пользователей   \n",
       "\n",
       "    RICE  \n",
       "7  112.0  \n",
       "2   56.0  \n",
       "0   40.0  \n",
       "6   40.0  \n",
       "8   16.2  \n",
       "3    9.0  \n",
       "1    4.0  \n",
       "5    4.0  \n",
       "4    3.0  "
      ]
     },
     "execution_count": 9,
     "metadata": {},
     "output_type": "execute_result"
    }
   ],
   "source": [
    "hypothesis['RICE'] = ((hypothesis['reach'] * hypothesis['impact'] * hypothesis['confidence']) / hypothesis['efforts']).round(2)\n",
    "\n",
    "hypothesis[['hypothesis', 'RICE']].sort_values(by='RICE', ascending=False)"
   ]
  },
  {
   "cell_type": "markdown",
   "metadata": {},
   "source": [
    "По фреймворку RICE наибольший приоритет получили гипотезы: \n",
    "* 7 - Добавить форму подписки на все основные страницы, чтобы собрать базу клиентов для email-рассылок, \n",
    "* 2 - Добавить блоки рекомендаций товаров на сайт интернет магазина, чтобы повысить конверсию и средний чек заказа, \n",
    "* 0 - Добавить два новых канала привлечения трафика, что позволит привлекать на 30% больше пользователей.  \n",
    "\n",
    "А наименьший приоритет получили гипотезы: \n",
    "* 1 - Запустить собственную службу доставки, что сократит срок доставки заказов,\n",
    "* 5 - Добавить страницу отзывов клиентов о магазине, что позволит увеличить количество заказов, \n",
    "* 4 - Изменить цвет фона главной страницы, чтобы увеличить вовлеченность пользователей."
   ]
  },
  {
   "cell_type": "markdown",
   "metadata": {},
   "source": [
    "### Вывод по приоритизации гипотез"
   ]
  },
  {
   "cell_type": "markdown",
   "metadata": {},
   "source": [
    "При применении RICE вместо ICE приоритизация гипотез изменилась:\n",
    "* гипотеза №8 с первого места сместилась на пятое, а №2 наоборот - с пятого места поднялась на второе,\n",
    "* гипотезы № 7 и №0 остались в тройке лидеров, но №7 поднялась с третьего места на первое, а №0 - опустилась со второго на третье,\n",
    "* в тройке гипотез с наименьшим приоритетом также остались №5 и №4, а вместо №3 появилась №1, однако они не сделали каких-то больших скачков.\n",
    "\n",
    "Приоритезация гипотез изменилась таким образом, поскольку во фреймфорке RICE используется параметр reach, который отображает охват пользователей, и т.к. у гипотезы №8 он равен 1, а у №7 - 10, №7 заняла первое место."
   ]
  },
  {
   "cell_type": "markdown",
   "metadata": {},
   "source": [
    "## Часть 2. Анализ A/B-теста \n",
    "\n",
    "Был проведен A/B-тест и получены результаты, которые описаны в файлах /datasets/orders.csv и /datasets/visitors.csv.  \n",
    "Приступим к анализу A/B-теста.  "
   ]
  },
  {
   "cell_type": "markdown",
   "metadata": {},
   "source": [
    "### Предобработка данных"
   ]
  },
  {
   "cell_type": "code",
   "execution_count": 10,
   "metadata": {
    "scrolled": true
   },
   "outputs": [
    {
     "data": {
      "text/html": [
       "<div>\n",
       "<style scoped>\n",
       "    .dataframe tbody tr th:only-of-type {\n",
       "        vertical-align: middle;\n",
       "    }\n",
       "\n",
       "    .dataframe tbody tr th {\n",
       "        vertical-align: top;\n",
       "    }\n",
       "\n",
       "    .dataframe thead th {\n",
       "        text-align: right;\n",
       "    }\n",
       "</style>\n",
       "<table border=\"1\" class=\"dataframe\">\n",
       "  <thead>\n",
       "    <tr style=\"text-align: right;\">\n",
       "      <th></th>\n",
       "      <th>transactionId</th>\n",
       "      <th>visitorId</th>\n",
       "      <th>date</th>\n",
       "      <th>revenue</th>\n",
       "      <th>group</th>\n",
       "    </tr>\n",
       "  </thead>\n",
       "  <tbody>\n",
       "    <tr>\n",
       "      <th>0</th>\n",
       "      <td>3667963787</td>\n",
       "      <td>3312258926</td>\n",
       "      <td>2019-08-15</td>\n",
       "      <td>1650</td>\n",
       "      <td>B</td>\n",
       "    </tr>\n",
       "    <tr>\n",
       "      <th>1</th>\n",
       "      <td>2804400009</td>\n",
       "      <td>3642806036</td>\n",
       "      <td>2019-08-15</td>\n",
       "      <td>730</td>\n",
       "      <td>B</td>\n",
       "    </tr>\n",
       "    <tr>\n",
       "      <th>2</th>\n",
       "      <td>2961555356</td>\n",
       "      <td>4069496402</td>\n",
       "      <td>2019-08-15</td>\n",
       "      <td>400</td>\n",
       "      <td>A</td>\n",
       "    </tr>\n",
       "    <tr>\n",
       "      <th>3</th>\n",
       "      <td>3797467345</td>\n",
       "      <td>1196621759</td>\n",
       "      <td>2019-08-15</td>\n",
       "      <td>9759</td>\n",
       "      <td>B</td>\n",
       "    </tr>\n",
       "    <tr>\n",
       "      <th>4</th>\n",
       "      <td>2282983706</td>\n",
       "      <td>2322279887</td>\n",
       "      <td>2019-08-15</td>\n",
       "      <td>2308</td>\n",
       "      <td>B</td>\n",
       "    </tr>\n",
       "  </tbody>\n",
       "</table>\n",
       "</div>"
      ],
      "text/plain": [
       "   transactionId   visitorId        date  revenue group\n",
       "0     3667963787  3312258926  2019-08-15     1650     B\n",
       "1     2804400009  3642806036  2019-08-15      730     B\n",
       "2     2961555356  4069496402  2019-08-15      400     A\n",
       "3     3797467345  1196621759  2019-08-15     9759     B\n",
       "4     2282983706  2322279887  2019-08-15     2308     B"
      ]
     },
     "execution_count": 10,
     "metadata": {},
     "output_type": "execute_result"
    }
   ],
   "source": [
    "# загрузим файл и запишем его в переменную\n",
    "orders = pd.read_csv('/datasets/orders.csv')\n",
    "orders.head()"
   ]
  },
  {
   "cell_type": "code",
   "execution_count": 11,
   "metadata": {},
   "outputs": [
    {
     "name": "stdout",
     "output_type": "stream",
     "text": [
      "<class 'pandas.core.frame.DataFrame'>\n",
      "RangeIndex: 1197 entries, 0 to 1196\n",
      "Data columns (total 5 columns):\n",
      " #   Column         Non-Null Count  Dtype \n",
      "---  ------         --------------  ----- \n",
      " 0   transactionId  1197 non-null   int64 \n",
      " 1   visitorId      1197 non-null   int64 \n",
      " 2   date           1197 non-null   object\n",
      " 3   revenue        1197 non-null   int64 \n",
      " 4   group          1197 non-null   object\n",
      "dtypes: int64(3), object(2)\n",
      "memory usage: 46.9+ KB\n"
     ]
    }
   ],
   "source": [
    "orders.info()"
   ]
  },
  {
   "cell_type": "code",
   "execution_count": 12,
   "metadata": {
    "scrolled": true
   },
   "outputs": [
    {
     "data": {
      "text/plain": [
       "0"
      ]
     },
     "execution_count": 12,
     "metadata": {},
     "output_type": "execute_result"
    }
   ],
   "source": [
    "orders.duplicated().sum()"
   ]
  },
  {
   "cell_type": "markdown",
   "metadata": {},
   "source": [
    "Пропуски и дубликаты отсутствуют  \n",
    "Тип данных в столбце data - object, переведем в datetime"
   ]
  },
  {
   "cell_type": "code",
   "execution_count": 13,
   "metadata": {},
   "outputs": [],
   "source": [
    "orders['date'] = orders['date'].map(\n",
    "    lambda x: dt.datetime.strptime(x, '%Y-%m-%d')\n",
    ")"
   ]
  },
  {
   "cell_type": "code",
   "execution_count": 14,
   "metadata": {},
   "outputs": [],
   "source": [
    "# переименуем столбцы transactionId и visitorId на более короткие и понятные orderId и userId\n",
    "orders = orders.rename(\n",
    "    columns={\n",
    "        'transactionId':'orderId', \n",
    "        'visitorId':'userId'\n",
    "    }\n",
    ")"
   ]
  },
  {
   "cell_type": "code",
   "execution_count": 15,
   "metadata": {},
   "outputs": [
    {
     "data": {
      "text/html": [
       "<div>\n",
       "<style scoped>\n",
       "    .dataframe tbody tr th:only-of-type {\n",
       "        vertical-align: middle;\n",
       "    }\n",
       "\n",
       "    .dataframe tbody tr th {\n",
       "        vertical-align: top;\n",
       "    }\n",
       "\n",
       "    .dataframe thead th {\n",
       "        text-align: right;\n",
       "    }\n",
       "</style>\n",
       "<table border=\"1\" class=\"dataframe\">\n",
       "  <thead>\n",
       "    <tr style=\"text-align: right;\">\n",
       "      <th></th>\n",
       "      <th>date</th>\n",
       "      <th>group</th>\n",
       "      <th>visitors</th>\n",
       "    </tr>\n",
       "  </thead>\n",
       "  <tbody>\n",
       "    <tr>\n",
       "      <th>0</th>\n",
       "      <td>2019-08-01</td>\n",
       "      <td>A</td>\n",
       "      <td>719</td>\n",
       "    </tr>\n",
       "    <tr>\n",
       "      <th>1</th>\n",
       "      <td>2019-08-02</td>\n",
       "      <td>A</td>\n",
       "      <td>619</td>\n",
       "    </tr>\n",
       "    <tr>\n",
       "      <th>2</th>\n",
       "      <td>2019-08-03</td>\n",
       "      <td>A</td>\n",
       "      <td>507</td>\n",
       "    </tr>\n",
       "    <tr>\n",
       "      <th>3</th>\n",
       "      <td>2019-08-04</td>\n",
       "      <td>A</td>\n",
       "      <td>717</td>\n",
       "    </tr>\n",
       "    <tr>\n",
       "      <th>4</th>\n",
       "      <td>2019-08-05</td>\n",
       "      <td>A</td>\n",
       "      <td>756</td>\n",
       "    </tr>\n",
       "  </tbody>\n",
       "</table>\n",
       "</div>"
      ],
      "text/plain": [
       "         date group  visitors\n",
       "0  2019-08-01     A       719\n",
       "1  2019-08-02     A       619\n",
       "2  2019-08-03     A       507\n",
       "3  2019-08-04     A       717\n",
       "4  2019-08-05     A       756"
      ]
     },
     "execution_count": 15,
     "metadata": {},
     "output_type": "execute_result"
    }
   ],
   "source": [
    "# теперь для visitors также загрузим файл и запишем его в переменную\n",
    "visitors = pd.read_csv('/datasets/visitors.csv')\n",
    "visitors.head()"
   ]
  },
  {
   "cell_type": "code",
   "execution_count": 16,
   "metadata": {},
   "outputs": [
    {
     "name": "stdout",
     "output_type": "stream",
     "text": [
      "<class 'pandas.core.frame.DataFrame'>\n",
      "RangeIndex: 62 entries, 0 to 61\n",
      "Data columns (total 3 columns):\n",
      " #   Column    Non-Null Count  Dtype \n",
      "---  ------    --------------  ----- \n",
      " 0   date      62 non-null     object\n",
      " 1   group     62 non-null     object\n",
      " 2   visitors  62 non-null     int64 \n",
      "dtypes: int64(1), object(2)\n",
      "memory usage: 1.6+ KB\n"
     ]
    }
   ],
   "source": [
    "visitors.info()"
   ]
  },
  {
   "cell_type": "code",
   "execution_count": 17,
   "metadata": {},
   "outputs": [
    {
     "data": {
      "text/plain": [
       "0"
      ]
     },
     "execution_count": 17,
     "metadata": {},
     "output_type": "execute_result"
    }
   ],
   "source": [
    "visitors.duplicated().sum()"
   ]
  },
  {
   "cell_type": "markdown",
   "metadata": {},
   "source": [
    "Пропуски и дубликаты также отсутствуют  \n",
    "Тип данных в столбце data также - object, переведем в datetime"
   ]
  },
  {
   "cell_type": "code",
   "execution_count": 18,
   "metadata": {},
   "outputs": [],
   "source": [
    "visitors['date'] = visitors['date'].map(\n",
    "    lambda x: dt.datetime.strptime(x, '%Y-%m-%d')\n",
    ")"
   ]
  },
  {
   "cell_type": "code",
   "execution_count": 19,
   "metadata": {},
   "outputs": [
    {
     "data": {
      "text/plain": [
       "B    640\n",
       "A    557\n",
       "Name: group, dtype: int64"
      ]
     },
     "execution_count": 19,
     "metadata": {},
     "output_type": "execute_result"
    }
   ],
   "source": [
    "orders['group'].value_counts()"
   ]
  },
  {
   "cell_type": "markdown",
   "metadata": {},
   "source": [
    "В выборке из 1197 человек в группе А оказалось 46,5%, а в группе В - 53,5%  \n",
    "Для корректного А/В-теста нужно, чтобы пользователи были распределены равномерно  \n",
    "Проверим также, нет ли совпадений пользователей в группах"
   ]
  },
  {
   "cell_type": "code",
   "execution_count": 20,
   "metadata": {
    "scrolled": false
   },
   "outputs": [
    {
     "data": {
      "text/plain": [
       "{8300375,\n",
       " 199603092,\n",
       " 232979603,\n",
       " 237748145,\n",
       " 276558944,\n",
       " 351125977,\n",
       " 393266494,\n",
       " 457167155,\n",
       " 471551937,\n",
       " 477780734,\n",
       " 818047933,\n",
       " 963407295,\n",
       " 1230306981,\n",
       " 1294878855,\n",
       " 1316129916,\n",
       " 1333886533,\n",
       " 1404934699,\n",
       " 1602967004,\n",
       " 1614305549,\n",
       " 1648269707,\n",
       " 1668030113,\n",
       " 1738359350,\n",
       " 1801183820,\n",
       " 1959144690,\n",
       " 2038680547,\n",
       " 2044997962,\n",
       " 2378935119,\n",
       " 2458001652,\n",
       " 2579882178,\n",
       " 2587333274,\n",
       " 2600415354,\n",
       " 2654030115,\n",
       " 2686716486,\n",
       " 2712142231,\n",
       " 2716752286,\n",
       " 2780786433,\n",
       " 2927087541,\n",
       " 2949041841,\n",
       " 2954449915,\n",
       " 3062433592,\n",
       " 3202540741,\n",
       " 3234906277,\n",
       " 3656415546,\n",
       " 3717692402,\n",
       " 3766097110,\n",
       " 3803269165,\n",
       " 3891541246,\n",
       " 3941795274,\n",
       " 3951559397,\n",
       " 3957174400,\n",
       " 3963646447,\n",
       " 3972127743,\n",
       " 3984495233,\n",
       " 4069496402,\n",
       " 4120364173,\n",
       " 4186807279,\n",
       " 4256040402,\n",
       " 4266935830}"
      ]
     },
     "execution_count": 20,
     "metadata": {},
     "output_type": "execute_result"
    }
   ],
   "source": [
    "# соберем отдельно данные по группе А\n",
    "group_a = orders.loc[orders['group'] == 'A']\n",
    "# соберем отдельно данные по группе В\n",
    "group_b = orders.loc[orders['group'] == 'B']\n",
    "# соберем группы во множества и найдем пересечение в них\n",
    "set(group_a['userId']) & set(group_b['userId'])"
   ]
  },
  {
   "cell_type": "markdown",
   "metadata": {},
   "source": [
    "Видим, что есть пользователи, которые находятся в обеих группах одновременно, чего не должно быть\n",
    "\n",
    "Т.е. необходимо было сначала провести A/A-тест, в котором можно было выявить, что:\n",
    "* Количество пользователей в различных группах различается более, чем на 1%;\n",
    "* 58 пользователей находятся в двух группах одновременно  \n",
    "\n",
    "И для корректного проведения А/В-теста необходимо было поправить эти моменты\n",
    "\n",
    "Однако поскольку данные для анализа невозможно пересобрать корректно, продолжим работать в текущем виду с учетом этих пользователей"
   ]
  },
  {
   "cell_type": "markdown",
   "metadata": {},
   "source": [
    "### Кумулятивная выручка"
   ]
  },
  {
   "cell_type": "markdown",
   "metadata": {},
   "source": [
    "Для того, чтобы построить график кумулятивной выручки, нужно сначала собрать кумулятивные данные "
   ]
  },
  {
   "cell_type": "code",
   "execution_count": 21,
   "metadata": {},
   "outputs": [
    {
     "name": "stdout",
     "output_type": "stream",
     "text": [
      "        date group  orders  buyers  revenue  visitors\n",
      "0 2019-08-01     A      24      20   148579       719\n",
      "1 2019-08-01     B      21      20   101217       713\n",
      "2 2019-08-02     A      44      38   242401      1338\n",
      "3 2019-08-02     B      45      43   266748      1294\n",
      "4 2019-08-03     A      68      62   354874      1845\n"
     ]
    }
   ],
   "source": [
    "# создаем массив уникальных пар значений дат и групп теста\n",
    "datesGroups = orders[['date','group']].drop_duplicates()\n",
    "\n",
    "# получаем агрегированные кумулятивные по дням данные о заказах \n",
    "ordersAggregated = datesGroups.apply(lambda x: orders[np.logical_and(orders['date'] <= x['date'], orders['group'] == x['group'])].agg({'date' : 'max', 'group' : 'max', 'orderId' : 'nunique', 'userId' : 'nunique', 'revenue' : 'sum'}), axis=1).sort_values(by=['date','group'])\n",
    "\n",
    "# получаем агрегированные кумулятивные по дням данные о посетителях интернет-магазина \n",
    "visitorsAggregated = datesGroups.apply(lambda x: visitors[np.logical_and(visitors['date'] <= x['date'], visitors['group'] == x['group'])].agg({'date' : 'max', 'group' : 'max', 'visitors' : 'sum'}), axis=1).sort_values(by=['date','group'])\n",
    "\n",
    "# объединяем кумулятивные данные в одной таблице и присваиваем ее столбцам понятные названия\n",
    "cumulativeData = ordersAggregated.merge(visitorsAggregated, left_on=['date', 'group'], right_on=['date', 'group'])\n",
    "cumulativeData.columns = ['date', 'group', 'orders', 'buyers', 'revenue', 'visitors']\n",
    "\n",
    "print(cumulativeData.head(5))"
   ]
  },
  {
   "cell_type": "markdown",
   "metadata": {},
   "source": [
    "Теперь построим график кумулятивной выручки по дням и группам A/B-тестирования"
   ]
  },
  {
   "cell_type": "code",
   "execution_count": 22,
   "metadata": {},
   "outputs": [
    {
     "data": {
      "image/png": "[encoded data removed]",
      "text/plain": [
       "<Figure size 1080x504 with 1 Axes>"
      ]
     },
     "metadata": {
      "needs_background": "light"
     },
     "output_type": "display_data"
    }
   ],
   "source": [
    "# датафрейм с кумулятивным количеством заказов и кумулятивной выручкой по дням в группе А\n",
    "cumulativeRevenueA = cumulativeData[cumulativeData['group']=='A'][['date','revenue', 'orders']]\n",
    "\n",
    "# датафрейм с кумулятивным количеством заказов и кумулятивной выручкой по дням в группе B\n",
    "cumulativeRevenueB = cumulativeData[cumulativeData['group']=='B'][['date','revenue', 'orders']]\n",
    "\n",
    "plt.figure(figsize=(15,7))\n",
    "# Строим график выручки группы А\n",
    "plt.plot(cumulativeRevenueA['date'], cumulativeRevenueA['revenue'], label='A')\n",
    "\n",
    "# Строим график выручки группы B\n",
    "plt.plot(cumulativeRevenueB['date'], cumulativeRevenueB['revenue'], label='B')\n",
    "\n",
    "plt.legend() \n",
    "plt.title('Кумулятивная выручка по группам')\n",
    "plt.xlabel('Дата')\n",
    "plt.ylabel('Выручка') \n",
    "plt.show()"
   ]
  },
  {
   "cell_type": "markdown",
   "metadata": {},
   "source": [
    "**Вывод** \n",
    "\n",
    "Где-то до середины теста выручка почти равномерно увеличивается, показатели группы В сразу выше, чем в группе А  \n",
    "Однако в одной точке выручка группы В резко выросла и с тех пор сильно опережает группу А. Это может сигнализировать о всплесках числа заказов, либо о появлении очень дорогих заказов в выборке."
   ]
  },
  {
   "cell_type": "markdown",
   "metadata": {},
   "source": [
    "### Кумулятивный средний чек"
   ]
  },
  {
   "cell_type": "markdown",
   "metadata": {},
   "source": [
    "Построим графики среднего чека по группам — разделим кумулятивную выручку на кумулятивное число заказов"
   ]
  },
  {
   "cell_type": "code",
   "execution_count": 23,
   "metadata": {},
   "outputs": [
    {
     "data": {
      "image/png": "[encoded data removed]",
      "text/plain": [
       "<Figure size 1080x504 with 1 Axes>"
      ]
     },
     "metadata": {
      "needs_background": "light"
     },
     "output_type": "display_data"
    }
   ],
   "source": [
    "plt.figure(figsize=(15,7))\n",
    "plt.plot(cumulativeRevenueA['date'], cumulativeRevenueA['revenue']/cumulativeRevenueA['orders'], label='A')\n",
    "plt.plot(cumulativeRevenueB['date'], cumulativeRevenueB['revenue']/cumulativeRevenueB['orders'], label='B')\n",
    "plt.legend()\n",
    "plt.title('Средний чек по группам')\n",
    "plt.xlabel('Дата')\n",
    "plt.ylabel('Средний чек') \n",
    "plt.show()"
   ]
  },
  {
   "cell_type": "markdown",
   "metadata": {},
   "source": [
    "**Вывод**\n",
    "\n",
    "Средний чек для группы А падал до 6 августа, затем активно рос до 13 августа и к концу теста практически установился, а для группы В видим большие колебания и большой всплеск в одной точке 19 августа\n",
    "Скорее всего, в группу B попали крупные заказы, отсюда и всплеск, тогда этой группе нужно больше данных, чтобы прийти к реальному среднему чеку и установиться на его уровне."
   ]
  },
  {
   "cell_type": "markdown",
   "metadata": {},
   "source": [
    "### Относительное изменение кумулятивного среднего чека группы B к группе A"
   ]
  },
  {
   "cell_type": "markdown",
   "metadata": {},
   "source": [
    "Построим график относительного различия для среднего чека. Добавим горизонтальную ось на нуле"
   ]
  },
  {
   "cell_type": "code",
   "execution_count": 24,
   "metadata": {},
   "outputs": [
    {
     "data": {
      "image/png": "[encoded data removed]",
      "text/plain": [
       "<Figure size 1080x504 with 1 Axes>"
      ]
     },
     "metadata": {
      "needs_background": "light"
     },
     "output_type": "display_data"
    }
   ],
   "source": [
    "# собираем данные в одном датафрейме\n",
    "mergedCumulativeRevenue = cumulativeRevenueA.merge(cumulativeRevenueB, left_on='date', right_on='date', how='left', suffixes=['A', 'B'])\n",
    "\n",
    "# cтроим отношение средних чеков\n",
    "plt.figure(figsize=(15,7))\n",
    "plt.plot(mergedCumulativeRevenue['date'], (mergedCumulativeRevenue['revenueB']/mergedCumulativeRevenue['ordersB'])/(mergedCumulativeRevenue['revenueA']/mergedCumulativeRevenue['ordersA'])-1)\n",
    "\n",
    "# добавляем ось X\n",
    "plt.axhline(y=0, color='black', linestyle='--')\n",
    "\n",
    "plt.title('Относительное изменение кумулятивного среднего чека группы B к группе A')\n",
    "plt.xlabel('Дата')\n",
    "plt.ylabel('Отношение средних чеков') \n",
    "plt.show()"
   ]
  },
  {
   "cell_type": "markdown",
   "metadata": {},
   "source": [
    "**Вывод**\n",
    "\n",
    "В нескольких точках график различия между сегментами резко «скачет», что подтверждает наличие крупных заказов и выбросов"
   ]
  },
  {
   "cell_type": "markdown",
   "metadata": {},
   "source": [
    "### Кумулятивное среднее количество заказов на посетителя"
   ]
  },
  {
   "cell_type": "markdown",
   "metadata": {},
   "source": [
    "Для того, чтобы построить график кумулятивного среднего количества заказов на посетителя по группам"
   ]
  },
  {
   "cell_type": "code",
   "execution_count": 25,
   "metadata": {},
   "outputs": [
    {
     "data": {
      "text/plain": [
       "Timestamp('2019-08-01 00:00:00')"
      ]
     },
     "execution_count": 25,
     "metadata": {},
     "output_type": "execute_result"
    }
   ],
   "source": [
    "cumulativeData['date'].min()"
   ]
  },
  {
   "cell_type": "code",
   "execution_count": 26,
   "metadata": {},
   "outputs": [
    {
     "data": {
      "text/plain": [
       "Timestamp('2019-08-31 00:00:00')"
      ]
     },
     "execution_count": 26,
     "metadata": {},
     "output_type": "execute_result"
    }
   ],
   "source": [
    "cumulativeData['date'].max()"
   ]
  },
  {
   "cell_type": "code",
   "execution_count": 27,
   "metadata": {},
   "outputs": [
    {
     "data": {
      "image/png": "[encoded data removed]",
      "text/plain": [
       "<Figure size 1080x504 with 1 Axes>"
      ]
     },
     "metadata": {
      "needs_background": "light"
     },
     "output_type": "display_data"
    }
   ],
   "source": [
    "# считаем кумулятивное среднее количество заказов\n",
    "cumulativeData['conversion'] = cumulativeData['orders']/cumulativeData['visitors']\n",
    "\n",
    "# отделяем данные по группе A\n",
    "cumulativeDataA = cumulativeData[cumulativeData['group']=='A']\n",
    "\n",
    "# отделяем данные по группе B\n",
    "cumulativeDataB = cumulativeData[cumulativeData['group']=='B']\n",
    "\n",
    "# строим графики\n",
    "plt.figure(figsize=(15,7))\n",
    "plt.plot(cumulativeDataA['date'], cumulativeDataA['conversion'], label='A')\n",
    "plt.plot(cumulativeDataB['date'], cumulativeDataB['conversion'], label='B')\n",
    "plt.legend()\n",
    "plt.title('Кумулятивное среднее количество заказов на посетителя по группам')\n",
    "plt.xlabel('Дата')\n",
    "plt.ylabel('Кумулятивное среднее') \n",
    "\n",
    "# задаем масштаб осей\n",
    "plt.axis([\"2019-08-01\", '2019-08-31', 0.02, 0.045]);"
   ]
  },
  {
   "cell_type": "markdown",
   "metadata": {},
   "source": [
    "**Вывод**\n",
    "\n",
    "Группы сначала колебались, 6 августа конверсия группы В вырвалась вперёд и зафиксировалась, а конверсия группы B просела и также зафиксировалась"
   ]
  },
  {
   "cell_type": "markdown",
   "metadata": {},
   "source": [
    "### Относительное изменение кумулятивного среднего количества заказов на посетителя группы B к группе A"
   ]
  },
  {
   "cell_type": "markdown",
   "metadata": {},
   "source": [
    "Построим график относительного изменения кумулятивного среднего количества заказов на посетителя группы B к группе A"
   ]
  },
  {
   "cell_type": "code",
   "execution_count": 28,
   "metadata": {},
   "outputs": [
    {
     "data": {
      "image/png": "[encoded data removed]",
      "text/plain": [
       "<Figure size 1080x504 with 1 Axes>"
      ]
     },
     "metadata": {
      "needs_background": "light"
     },
     "output_type": "display_data"
    }
   ],
   "source": [
    "mergedCumulativeConversions = cumulativeDataA[['date','conversion']].merge(cumulativeDataB[['date','conversion']], left_on='date', right_on='date', how='left', suffixes=['A', 'B'])\n",
    "\n",
    "plt.figure(figsize=(15,7))\n",
    "plt.plot(mergedCumulativeConversions['date'], mergedCumulativeConversions['conversionB']/mergedCumulativeConversions['conversionA']-1, label=\"Относительный прирост кумулятивного среднего количества заказов группы B относительно группы A\")\n",
    "plt.legend()\n",
    "\n",
    "plt.axhline(y=0, color='black', linestyle='--')\n",
    "plt.axhline(y=0.1, color='grey', linestyle='--')\n",
    "plt.axis([\"2019-08-01\", '2019-08-31', -0.6, 0.6])\n",
    "\n",
    "plt.title('Относительное изменение кумулятивного количества заказов на посетителя группы B к группе A')\n",
    "plt.xlabel('Дата')\n",
    "plt.ylabel('Отношение количества заказов') \n",
    "plt.show()"
   ]
  },
  {
   "cell_type": "markdown",
   "metadata": {},
   "source": [
    "**Вывод**\n",
    "\n",
    "В начале теста группа B немного проигрывала группе A, затем вырвалась вперёд и к середине теста прирост составил 20%, и к концу группа В все еще лидирует  \n",
    "В целом отношение конверсии практически установилось, но сперва стоит проанализировать аномалии"
   ]
  },
  {
   "cell_type": "markdown",
   "metadata": {},
   "source": [
    "### Количество заказов по пользователям"
   ]
  },
  {
   "cell_type": "markdown",
   "metadata": {},
   "source": [
    "Подсчитаем количество заказов по пользователям и посмотрим на результат"
   ]
  },
  {
   "cell_type": "code",
   "execution_count": 29,
   "metadata": {},
   "outputs": [
    {
     "data": {
      "text/html": [
       "<div>\n",
       "<style scoped>\n",
       "    .dataframe tbody tr th:only-of-type {\n",
       "        vertical-align: middle;\n",
       "    }\n",
       "\n",
       "    .dataframe tbody tr th {\n",
       "        vertical-align: top;\n",
       "    }\n",
       "\n",
       "    .dataframe thead th {\n",
       "        text-align: right;\n",
       "    }\n",
       "</style>\n",
       "<table border=\"1\" class=\"dataframe\">\n",
       "  <thead>\n",
       "    <tr style=\"text-align: right;\">\n",
       "      <th></th>\n",
       "      <th>userId</th>\n",
       "      <th>orders</th>\n",
       "    </tr>\n",
       "  </thead>\n",
       "  <tbody>\n",
       "    <tr>\n",
       "      <th>1023</th>\n",
       "      <td>4256040402</td>\n",
       "      <td>11</td>\n",
       "    </tr>\n",
       "    <tr>\n",
       "      <th>591</th>\n",
       "      <td>2458001652</td>\n",
       "      <td>11</td>\n",
       "    </tr>\n",
       "    <tr>\n",
       "      <th>569</th>\n",
       "      <td>2378935119</td>\n",
       "      <td>9</td>\n",
       "    </tr>\n",
       "    <tr>\n",
       "      <th>487</th>\n",
       "      <td>2038680547</td>\n",
       "      <td>8</td>\n",
       "    </tr>\n",
       "    <tr>\n",
       "      <th>44</th>\n",
       "      <td>199603092</td>\n",
       "      <td>5</td>\n",
       "    </tr>\n",
       "    <tr>\n",
       "      <th>744</th>\n",
       "      <td>3062433592</td>\n",
       "      <td>5</td>\n",
       "    </tr>\n",
       "    <tr>\n",
       "      <th>55</th>\n",
       "      <td>237748145</td>\n",
       "      <td>5</td>\n",
       "    </tr>\n",
       "    <tr>\n",
       "      <th>917</th>\n",
       "      <td>3803269165</td>\n",
       "      <td>5</td>\n",
       "    </tr>\n",
       "    <tr>\n",
       "      <th>299</th>\n",
       "      <td>1230306981</td>\n",
       "      <td>5</td>\n",
       "    </tr>\n",
       "    <tr>\n",
       "      <th>897</th>\n",
       "      <td>3717692402</td>\n",
       "      <td>5</td>\n",
       "    </tr>\n",
       "    <tr>\n",
       "      <th>393</th>\n",
       "      <td>1614305549</td>\n",
       "      <td>4</td>\n",
       "    </tr>\n",
       "    <tr>\n",
       "      <th>114</th>\n",
       "      <td>457167155</td>\n",
       "      <td>4</td>\n",
       "    </tr>\n",
       "    <tr>\n",
       "      <th>619</th>\n",
       "      <td>2587333274</td>\n",
       "      <td>4</td>\n",
       "    </tr>\n",
       "    <tr>\n",
       "      <th>340</th>\n",
       "      <td>1404934699</td>\n",
       "      <td>3</td>\n",
       "    </tr>\n",
       "    <tr>\n",
       "      <th>937</th>\n",
       "      <td>3908431265</td>\n",
       "      <td>3</td>\n",
       "    </tr>\n",
       "    <tr>\n",
       "      <th>726</th>\n",
       "      <td>2988190573</td>\n",
       "      <td>3</td>\n",
       "    </tr>\n",
       "    <tr>\n",
       "      <th>97</th>\n",
       "      <td>393266494</td>\n",
       "      <td>3</td>\n",
       "    </tr>\n",
       "    <tr>\n",
       "      <th>491</th>\n",
       "      <td>2044997962</td>\n",
       "      <td>3</td>\n",
       "    </tr>\n",
       "    <tr>\n",
       "      <th>677</th>\n",
       "      <td>2780786433</td>\n",
       "      <td>3</td>\n",
       "    </tr>\n",
       "    <tr>\n",
       "      <th>932</th>\n",
       "      <td>3891541246</td>\n",
       "      <td>3</td>\n",
       "    </tr>\n",
       "  </tbody>\n",
       "</table>\n",
       "</div>"
      ],
      "text/plain": [
       "          userId  orders\n",
       "1023  4256040402      11\n",
       "591   2458001652      11\n",
       "569   2378935119       9\n",
       "487   2038680547       8\n",
       "44     199603092       5\n",
       "744   3062433592       5\n",
       "55     237748145       5\n",
       "917   3803269165       5\n",
       "299   1230306981       5\n",
       "897   3717692402       5\n",
       "393   1614305549       4\n",
       "114    457167155       4\n",
       "619   2587333274       4\n",
       "340   1404934699       3\n",
       "937   3908431265       3\n",
       "726   2988190573       3\n",
       "97     393266494       3\n",
       "491   2044997962       3\n",
       "677   2780786433       3\n",
       "932   3891541246       3"
      ]
     },
     "execution_count": 29,
     "metadata": {},
     "output_type": "execute_result"
    }
   ],
   "source": [
    "ordersByUsers = (\n",
    "    orders.groupby('userId', as_index=False)\n",
    "    .agg({'orderId': 'nunique'})\n",
    ")\n",
    "\n",
    "ordersByUsers.columns = ['userId', 'orders']\n",
    "\n",
    "ordersByUsers.sort_values(by='orders', ascending=False).head(20)"
   ]
  },
  {
   "cell_type": "markdown",
   "metadata": {},
   "source": [
    "Два пользователя совершили по 11 заказов, по одному - 9 и 8, 6 человек сделали 5 заказов, четверо - по 4, все эти цифры -  необычно много для среднестатистического пользователя  \n",
    "Построим точечную диаграмму числа заказов на одного пользователя"
   ]
  },
  {
   "cell_type": "code",
   "execution_count": 30,
   "metadata": {},
   "outputs": [
    {
     "data": {
      "image/png": "[encoded data removed]",
      "text/plain": [
       "<Figure size 720x360 with 1 Axes>"
      ]
     },
     "metadata": {
      "needs_background": "light"
     },
     "output_type": "display_data"
    }
   ],
   "source": [
    "x_values = pd.Series(range(0,len(ordersByUsers)))\n",
    "\n",
    "plt.figure(figsize=(10,5))\n",
    "plt.scatter(x_values, ordersByUsers['orders'])\n",
    "\n",
    "plt.title('Количество заказов по пользователям')\n",
    "plt.xlabel('Количество пользователей')\n",
    "plt.ylabel('Количество заказов')\n",
    "plt.show()"
   ]
  },
  {
   "cell_type": "markdown",
   "metadata": {},
   "source": [
    "**Вывод**\n",
    "\n",
    "Большинство пользователей сделали только 1 заказ  \n",
    "Пользователей, сделавших 2 заказа гораздо меньше, но все же много, а вот больше 3 заказов мало кто сделал, эти заказы могут считаться аномалиями, для подтверждения этого необходимо посчитать перцентили  \n"
   ]
  },
  {
   "cell_type": "markdown",
   "metadata": {},
   "source": [
    "### Граница для определения аномальных пользователей по количеству заказов"
   ]
  },
  {
   "cell_type": "markdown",
   "metadata": {},
   "source": [
    "Посчитаем выборочные перцентили количества заказов на одного пользователя"
   ]
  },
  {
   "cell_type": "code",
   "execution_count": 31,
   "metadata": {},
   "outputs": [
    {
     "data": {
      "text/plain": [
       "array([2., 4.])"
      ]
     },
     "execution_count": 31,
     "metadata": {},
     "output_type": "execute_result"
    }
   ],
   "source": [
    "np.percentile(ordersByUsers['orders'], [95, 99])"
   ]
  },
  {
   "cell_type": "markdown",
   "metadata": {},
   "source": [
    "Не более 5% пользователей оформляли больше чем 2 заказа и 99% пользователей сделали не более 4 заказов  \n",
    "Границей для определения аномальных пользователей будем считать по 95 перцентилю, возьмем чуть больше, т.е. **верхняя граница числа заказов - 3**"
   ]
  },
  {
   "cell_type": "markdown",
   "metadata": {},
   "source": [
    "### Стоимость заказов"
   ]
  },
  {
   "cell_type": "code",
   "execution_count": 32,
   "metadata": {},
   "outputs": [
    {
     "data": {
      "image/png": "[encoded data removed]",
      "text/plain": [
       "<Figure size 720x360 with 1 Axes>"
      ]
     },
     "metadata": {
      "needs_background": "light"
     },
     "output_type": "display_data"
    }
   ],
   "source": [
    "x_values = pd.Series(range(0, len(orders['revenue'])))\n",
    "\n",
    "plt.figure(figsize=(10,5))\n",
    "plt.scatter(x_values, orders['revenue']) \n",
    "\n",
    "plt.title('Распределение стоимости заказов')\n",
    "plt.xlabel('Количество пользователей')\n",
    "plt.ylabel('Стоимость заказов')\n",
    "\n",
    "plt.show()"
   ]
  },
  {
   "cell_type": "code",
   "execution_count": 33,
   "metadata": {},
   "outputs": [
    {
     "data": {
      "image/png": "[encoded data removed]",
      "text/plain": [
       "<Figure size 720x360 with 1 Axes>"
      ]
     },
     "metadata": {
      "needs_background": "light"
     },
     "output_type": "display_data"
    }
   ],
   "source": [
    "x_values = pd.Series(range(0, len(orders['revenue'])))\n",
    "\n",
    "plt.figure(figsize=(10,5))\n",
    "plt.scatter(x_values, orders['revenue'])\n",
    "plt.ylim([0, 150000])\n",
    "\n",
    "plt.title('Распределение стоимости заказов')\n",
    "plt.xlabel('Количество пользователей')\n",
    "plt.ylabel('Стоимость заказов')\n",
    "\n",
    "plt.show()"
   ]
  },
  {
   "cell_type": "markdown",
   "metadata": {},
   "source": [
    "**Вывод**\n",
    "\n",
    "По первому графику замечаем, что почти у всех стоимость заказов составляет не более 100 000  \n",
    "При приближении можем сказать, что в основной массе стоимость заказов не превышает 40 000, и значения где-то с 50 000 можно считать аномальными     \n",
    "Два самых заметных выброса - на уровне примерно 200 000 и 1 300 000  \n",
    "Нужно посчитать перцентили, чтобы увидеть более точные показатели"
   ]
  },
  {
   "cell_type": "markdown",
   "metadata": {},
   "source": [
    "### Граница для определения аномальных заказов по стоимости"
   ]
  },
  {
   "cell_type": "markdown",
   "metadata": {},
   "source": [
    "Посчитаем выборочные перцентили заказов по стоимости"
   ]
  },
  {
   "cell_type": "code",
   "execution_count": 34,
   "metadata": {},
   "outputs": [
    {
     "data": {
      "text/plain": [
       "array([28000. , 58233.2])"
      ]
     },
     "execution_count": 34,
     "metadata": {},
     "output_type": "execute_result"
    }
   ],
   "source": [
    "np.percentile(orders['revenue'], [95, 99])"
   ]
  },
  {
   "cell_type": "markdown",
   "metadata": {},
   "source": [
    "95% заказов стоили менее 28 000, а заказы дороже 58 233 сосиавляют менее 1%  \n",
    "Границей для определения аномальных заказов выберем ближе к 99 перцентилю, т.е. **верхняя граница стоимости заказов - 50 000**"
   ]
  },
  {
   "cell_type": "markdown",
   "metadata": {},
   "source": [
    "### Статистическая значимость различий в среднем количестве заказов на посетителя между группами по «сырым» данным"
   ]
  },
  {
   "cell_type": "markdown",
   "metadata": {},
   "source": [
    "Посчитаем статистическую значимость различий в среднем количестве заказов на посетителя между группами по «сырым» данным - до удаления аномалий\n",
    "\n",
    "Для определения статистической значимости различий в среднем количестве заказов на посетителя и в среднем чеке заказа между группами в этом и всех последующих шагах будем использовать **Непараметрический тест Уилкоксона-Манна-Уитни**, поскольку в имеющихся данных присутствуют выбросы, а данный тест работает с рангами никак не учитывая сами значения, что нам и нужно  \n",
    "\n",
    "Сформулируем гипотезы  \n",
    "**Нулевая:** различий в среднем количестве заказов между группами нет  \n",
    "**Альтернативная:** различия в среднем между группами есть  \n",
    "\n",
    "Уровень статистической значимости alpha = 0.05\n",
    "\n",
    "Для начала подготовим данные"
   ]
  },
  {
   "cell_type": "code",
   "execution_count": 35,
   "metadata": {},
   "outputs": [
    {
     "data": {
      "text/html": [
       "<div>\n",
       "<style scoped>\n",
       "    .dataframe tbody tr th:only-of-type {\n",
       "        vertical-align: middle;\n",
       "    }\n",
       "\n",
       "    .dataframe tbody tr th {\n",
       "        vertical-align: top;\n",
       "    }\n",
       "\n",
       "    .dataframe thead th {\n",
       "        text-align: right;\n",
       "    }\n",
       "</style>\n",
       "<table border=\"1\" class=\"dataframe\">\n",
       "  <thead>\n",
       "    <tr style=\"text-align: right;\">\n",
       "      <th></th>\n",
       "      <th>date</th>\n",
       "      <th>ordersPerDateA</th>\n",
       "      <th>revenuePerDateA</th>\n",
       "      <th>ordersPerDateB</th>\n",
       "      <th>revenuePerDateB</th>\n",
       "      <th>ordersCummulativeA</th>\n",
       "      <th>revenueCummulativeA</th>\n",
       "      <th>ordersCummulativeB</th>\n",
       "      <th>revenueCummulativeB</th>\n",
       "      <th>visitorsPerDateA</th>\n",
       "      <th>visitorsPerDateB</th>\n",
       "      <th>visitorsCummulativeA</th>\n",
       "      <th>visitorsCummulativeB</th>\n",
       "    </tr>\n",
       "  </thead>\n",
       "  <tbody>\n",
       "    <tr>\n",
       "      <th>0</th>\n",
       "      <td>2019-08-01</td>\n",
       "      <td>24</td>\n",
       "      <td>148579</td>\n",
       "      <td>21</td>\n",
       "      <td>101217</td>\n",
       "      <td>24</td>\n",
       "      <td>148579</td>\n",
       "      <td>21</td>\n",
       "      <td>101217</td>\n",
       "      <td>719</td>\n",
       "      <td>713</td>\n",
       "      <td>719</td>\n",
       "      <td>713</td>\n",
       "    </tr>\n",
       "    <tr>\n",
       "      <th>1</th>\n",
       "      <td>2019-08-02</td>\n",
       "      <td>20</td>\n",
       "      <td>93822</td>\n",
       "      <td>24</td>\n",
       "      <td>165531</td>\n",
       "      <td>44</td>\n",
       "      <td>242401</td>\n",
       "      <td>45</td>\n",
       "      <td>266748</td>\n",
       "      <td>619</td>\n",
       "      <td>581</td>\n",
       "      <td>1338</td>\n",
       "      <td>1294</td>\n",
       "    </tr>\n",
       "    <tr>\n",
       "      <th>2</th>\n",
       "      <td>2019-08-03</td>\n",
       "      <td>24</td>\n",
       "      <td>112473</td>\n",
       "      <td>16</td>\n",
       "      <td>114248</td>\n",
       "      <td>68</td>\n",
       "      <td>354874</td>\n",
       "      <td>61</td>\n",
       "      <td>380996</td>\n",
       "      <td>507</td>\n",
       "      <td>509</td>\n",
       "      <td>1845</td>\n",
       "      <td>1803</td>\n",
       "    </tr>\n",
       "    <tr>\n",
       "      <th>3</th>\n",
       "      <td>2019-08-04</td>\n",
       "      <td>16</td>\n",
       "      <td>70825</td>\n",
       "      <td>17</td>\n",
       "      <td>108571</td>\n",
       "      <td>84</td>\n",
       "      <td>425699</td>\n",
       "      <td>78</td>\n",
       "      <td>489567</td>\n",
       "      <td>717</td>\n",
       "      <td>770</td>\n",
       "      <td>2562</td>\n",
       "      <td>2573</td>\n",
       "    </tr>\n",
       "    <tr>\n",
       "      <th>4</th>\n",
       "      <td>2019-08-05</td>\n",
       "      <td>25</td>\n",
       "      <td>124218</td>\n",
       "      <td>23</td>\n",
       "      <td>92428</td>\n",
       "      <td>109</td>\n",
       "      <td>549917</td>\n",
       "      <td>101</td>\n",
       "      <td>581995</td>\n",
       "      <td>756</td>\n",
       "      <td>707</td>\n",
       "      <td>3318</td>\n",
       "      <td>3280</td>\n",
       "    </tr>\n",
       "  </tbody>\n",
       "</table>\n",
       "</div>"
      ],
      "text/plain": [
       "        date  ordersPerDateA  revenuePerDateA  ordersPerDateB  \\\n",
       "0 2019-08-01              24           148579              21   \n",
       "1 2019-08-02              20            93822              24   \n",
       "2 2019-08-03              24           112473              16   \n",
       "3 2019-08-04              16            70825              17   \n",
       "4 2019-08-05              25           124218              23   \n",
       "\n",
       "   revenuePerDateB  ordersCummulativeA  revenueCummulativeA  \\\n",
       "0           101217                  24               148579   \n",
       "1           165531                  44               242401   \n",
       "2           114248                  68               354874   \n",
       "3           108571                  84               425699   \n",
       "4            92428                 109               549917   \n",
       "\n",
       "   ordersCummulativeB  revenueCummulativeB  visitorsPerDateA  \\\n",
       "0                  21               101217               719   \n",
       "1                  45               266748               619   \n",
       "2                  61               380996               507   \n",
       "3                  78               489567               717   \n",
       "4                 101               581995               756   \n",
       "\n",
       "   visitorsPerDateB  visitorsCummulativeA  visitorsCummulativeB  \n",
       "0               713                   719                   713  \n",
       "1               581                  1338                  1294  \n",
       "2               509                  1845                  1803  \n",
       "3               770                  2562                  2573  \n",
       "4               707                  3318                  3280  "
      ]
     },
     "execution_count": 35,
     "metadata": {},
     "output_type": "execute_result"
    }
   ],
   "source": [
    "# подготовим данные\n",
    "visitorsADaily = visitors[visitors['group'] == 'A'][['date', 'visitors']]\n",
    "visitorsADaily.columns = ['date', 'visitorsPerDateA']\n",
    "\n",
    "visitorsACummulative = visitorsADaily.apply(\n",
    "    lambda x: visitorsADaily[visitorsADaily['date'] <= x['date']].agg(\n",
    "        {'date': 'max', 'visitorsPerDateA': 'sum'}\n",
    "    ),\n",
    "    axis=1,\n",
    ")\n",
    "visitorsACummulative.columns = ['date', 'visitorsCummulativeA']\n",
    "\n",
    "visitorsBDaily = visitors[visitors['group'] == 'B'][['date', 'visitors']]\n",
    "visitorsBDaily.columns = ['date', 'visitorsPerDateB']\n",
    "\n",
    "visitorsBCummulative = visitorsBDaily.apply(\n",
    "    lambda x: visitorsBDaily[visitorsBDaily['date'] <= x['date']].agg(\n",
    "        {'date': 'max', 'visitorsPerDateB': 'sum'}\n",
    "    ),\n",
    "    axis=1,\n",
    ")\n",
    "visitorsBCummulative.columns = ['date', 'visitorsCummulativeB']\n",
    "\n",
    "ordersADaily = (\n",
    "    orders[orders['group'] == 'A'][['date', 'orderId', 'userId', 'revenue']]\n",
    "    .groupby('date', as_index=False)\n",
    "    .agg({'orderId': pd.Series.nunique, 'revenue': 'sum'})\n",
    ")\n",
    "ordersADaily.columns = ['date', 'ordersPerDateA', 'revenuePerDateA']\n",
    "\n",
    "ordersACummulative = ordersADaily.apply(\n",
    "    lambda x: ordersADaily[ordersADaily['date'] <= x['date']].agg(\n",
    "        {'date': 'max', 'ordersPerDateA': 'sum', 'revenuePerDateA': 'sum'}\n",
    "    ),\n",
    "    axis=1,\n",
    ").sort_values(by=['date'])\n",
    "ordersACummulative.columns = [\n",
    "    'date',\n",
    "    'ordersCummulativeA',\n",
    "    'revenueCummulativeA',\n",
    "]\n",
    "\n",
    "ordersBDaily = (\n",
    "    orders[orders['group'] == 'B'][['date', 'orderId', 'userId', 'revenue']]\n",
    "    .groupby('date', as_index=False)\n",
    "    .agg({'orderId': pd.Series.nunique, 'revenue': 'sum'})\n",
    ")\n",
    "ordersBDaily.columns = ['date', 'ordersPerDateB', 'revenuePerDateB']\n",
    "\n",
    "ordersBCummulative = ordersBDaily.apply(\n",
    "    lambda x: ordersBDaily[ordersBDaily['date'] <= x['date']].agg(\n",
    "        {'date': 'max', 'ordersPerDateB': 'sum', 'revenuePerDateB': 'sum'}\n",
    "    ),\n",
    "    axis=1,\n",
    ").sort_values(by=['date'])\n",
    "ordersBCummulative.columns = [\n",
    "    'date',\n",
    "    'ordersCummulativeB',\n",
    "    'revenueCummulativeB',\n",
    "]\n",
    "\n",
    "data = (\n",
    "    ordersADaily.merge(\n",
    "        ordersBDaily, left_on='date', right_on='date', how='left'\n",
    "    )\n",
    "    .merge(ordersACummulative, left_on='date', right_on='date', how='left')\n",
    "    .merge(ordersBCummulative, left_on='date', right_on='date', how='left')\n",
    "    .merge(visitorsADaily, left_on='date', right_on='date', how='left')\n",
    "    .merge(visitorsBDaily, left_on='date', right_on='date', how='left')\n",
    "    .merge(visitorsACummulative, left_on='date', right_on='date', how='left')\n",
    "    .merge(visitorsBCummulative, left_on='date', right_on='date', how='left')\n",
    ")\n",
    "\n",
    "data.head(5)"
   ]
  },
  {
   "cell_type": "markdown",
   "metadata": {},
   "source": [
    "Теперь посчитаем статистическую значимость различия в среднем количестве заказов между группами"
   ]
  },
  {
   "cell_type": "code",
   "execution_count": 36,
   "metadata": {},
   "outputs": [
    {
     "name": "stdout",
     "output_type": "stream",
     "text": [
      "p-value: 0.017\n",
      "Отноcительный прирост: 0.138\n"
     ]
    }
   ],
   "source": [
    "ordersByUsersA = (\n",
    "    orders[orders['group'] == 'A']\n",
    "    .groupby('userId', as_index=False)\n",
    "    .agg({'orderId': pd.Series.nunique})\n",
    ")\n",
    "ordersByUsersA.columns = ['userId', 'orders']\n",
    "\n",
    "ordersByUsersB = (\n",
    "    orders[orders['group'] == 'B']\n",
    "    .groupby('userId', as_index=False)\n",
    "    .agg({'orderId': pd.Series.nunique})\n",
    ")\n",
    "ordersByUsersB.columns = ['userId', 'orders']\n",
    "\n",
    "sampleA = pd.concat(\n",
    "    [\n",
    "        ordersByUsersA['orders'],\n",
    "        pd.Series(\n",
    "            0,\n",
    "            index=np.arange(\n",
    "                data['visitorsPerDateA'].sum() - len(ordersByUsersA['orders'])\n",
    "            ),\n",
    "            name='orders',\n",
    "        ),\n",
    "    ],\n",
    "    axis=0,\n",
    ")\n",
    "\n",
    "sampleB = pd.concat(\n",
    "    [\n",
    "        ordersByUsersB['orders'],\n",
    "        pd.Series(\n",
    "            0,\n",
    "            index=np.arange(\n",
    "                data['visitorsPerDateB'].sum() - len(ordersByUsersB['orders'])\n",
    "            ),\n",
    "            name='orders',\n",
    "        ),\n",
    "    ],\n",
    "    axis=0,\n",
    ")\n",
    "\n",
    "print('p-value:', \"{0:.3f}\".format(stats.mannwhitneyu(sampleA, sampleB)[1]))\n",
    "\n",
    "print('Отноcительный прирост:', \"{0:.3f}\".format(sampleB.mean() / sampleA.mean() - 1))\n"
   ]
  },
  {
   "cell_type": "markdown",
   "metadata": {},
   "source": [
    "**Вывод**\n",
    "\n",
    "Первое число — p-value = 0.017 меньше 0.05, значит, нулевую гипотезу о том, что статистически значимых различий в среднем числе заказов между группами нет, **отвергаем**, т.е. по \"сырым данным\" различия в среднем между группами есть  \n",
    "Второе число - относительный выигрыш группы B равен **14%**"
   ]
  },
  {
   "cell_type": "markdown",
   "metadata": {},
   "source": [
    "### Статистическая значимость различий в среднем чеке заказа между группами по «сырым» данным"
   ]
  },
  {
   "cell_type": "markdown",
   "metadata": {},
   "source": [
    "Теперь проверим статистическую значимость различий в среднем чеке чеке заказа между группами по «сырым» данным  \n",
    "**Нулевая гипотеза:** различий в среднем чеке между группами нет   \n",
    "**Альтернативная гипотеза:** различия в среднем чеке между группами есть  \n",
    "\n",
    "Уровень статистической значимости alpha = 0.05"
   ]
  },
  {
   "cell_type": "code",
   "execution_count": 37,
   "metadata": {},
   "outputs": [
    {
     "name": "stdout",
     "output_type": "stream",
     "text": [
      "p-value: 0.729\n",
      "Отноcительный прирост: 0.259\n"
     ]
    }
   ],
   "source": [
    "print('p-value:', '{0:.3f}'.format(stats.mannwhitneyu(orders[orders['group']=='A']['revenue'], orders[orders['group']=='B']['revenue'])[1]))\n",
    "print('Отноcительный прирост:', '{0:.3f}'.format(orders[orders['group']=='B']['revenue'].mean()/orders[orders['group']=='A']['revenue'].mean()-1))"
   ]
  },
  {
   "cell_type": "markdown",
   "metadata": {},
   "source": [
    "**Вывод**\n",
    "\n",
    "P-value= 0.729, что значительно больше 0.05, соответственно, причин отвергать нулевую гипотезу и считать, что в среднем чеке есть различия, нет  \n",
    "А средний чек группы B на 26% выше среднего чека группы A"
   ]
  },
  {
   "cell_type": "markdown",
   "metadata": {},
   "source": [
    "### Статистическая значимость различий в среднем количестве заказов на посетителя между группами по «очищенным» данным"
   ]
  },
  {
   "cell_type": "markdown",
   "metadata": {},
   "source": [
    "Ранее мы приняли за аномальных пользователей тех, кто совершил от 3 заказов или совершил заказ дороже 50 000 рублей - так мы уберём 1% до 5% пользователей с наибольшим числом заказов и от 1% до 5% пользователей с дорогими заказами  \n",
    "Сделаем срезы пользователей с числом заказов больше 3 и пользователей, совершивших заказы дороже 50 000, и объединим их в одной таблице "
   ]
  },
  {
   "cell_type": "code",
   "execution_count": 38,
   "metadata": {},
   "outputs": [
    {
     "data": {
      "text/plain": [
       "1099    148427295\n",
       "18      199603092\n",
       "23      237748145\n",
       "1137    759473111\n",
       "949     887908475\n",
       "Name: userId, dtype: int64"
      ]
     },
     "metadata": {},
     "output_type": "display_data"
    },
    {
     "data": {
      "text/plain": [
       "26"
      ]
     },
     "execution_count": 38,
     "metadata": {},
     "output_type": "execute_result"
    }
   ],
   "source": [
    "usersWithManyOrders = pd.concat(\n",
    "    [\n",
    "        ordersByUsersA[ordersByUsersA['orders'] > 3]['userId'],\n",
    "        ordersByUsersB[ordersByUsersB['orders'] > 3]['userId'],\n",
    "    ],\n",
    "    axis=0,\n",
    ")\n",
    "usersWithExpensiveOrders = orders[orders['revenue'] > 50000]['userId']\n",
    "abnormalUsers = (\n",
    "    pd.concat([usersWithManyOrders, usersWithExpensiveOrders], axis=0)\n",
    "    .drop_duplicates()\n",
    "    .sort_values()\n",
    ")\n",
    "display(abnormalUsers.head(5))\n",
    "abnormalUsers.shape[0]"
   ]
  },
  {
   "cell_type": "markdown",
   "metadata": {},
   "source": [
    "Всего 26 аномальных пользователей  \n",
    "Узнаем, как их действия повлияли на результаты теста - посчитаем статистическую значимость различий в среднем количестве заказов между группами теста по очищенным данным  \n",
    "Сначала подготовим выборки количества заказов по пользователям по группам теста:"
   ]
  },
  {
   "cell_type": "code",
   "execution_count": 39,
   "metadata": {},
   "outputs": [],
   "source": [
    "sampleAFiltered = pd.concat(\n",
    "    [\n",
    "        ordersByUsersA[\n",
    "            np.logical_not(ordersByUsersA['userId'].isin(abnormalUsers))\n",
    "        ]['orders'],\n",
    "        pd.Series(\n",
    "            0,\n",
    "            index=np.arange(\n",
    "                data['visitorsPerDateA'].sum() - len(ordersByUsersA['orders'])\n",
    "            ),\n",
    "            name='orders',\n",
    "        ),\n",
    "    ],\n",
    "    axis=0,\n",
    ")\n",
    "\n",
    "sampleBFiltered = pd.concat(\n",
    "    [\n",
    "        ordersByUsersB[\n",
    "            np.logical_not(ordersByUsersB['userId'].isin(abnormalUsers))\n",
    "        ]['orders'],\n",
    "        pd.Series(\n",
    "            0,\n",
    "            index=np.arange(\n",
    "                data['visitorsPerDateB'].sum() - len(ordersByUsersB['orders'])\n",
    "            ),\n",
    "            name='orders',\n",
    "        ),\n",
    "    ],\n",
    "    axis=0,\n",
    ")"
   ]
  },
  {
   "cell_type": "markdown",
   "metadata": {},
   "source": [
    "Применим статистический критерий Манна-Уитни к полученным выборкам:"
   ]
  },
  {
   "cell_type": "code",
   "execution_count": 40,
   "metadata": {},
   "outputs": [
    {
     "name": "stdout",
     "output_type": "stream",
     "text": [
      "p-value: 0.011\n",
      "Отноcительный прирост: 0.158\n"
     ]
    }
   ],
   "source": [
    "print('p-value:', '{0:.3f}'.format(stats.mannwhitneyu(sampleAFiltered, sampleBFiltered)[1]))\n",
    "print('Отноcительный прирост:', '{0:.3f}'.format(sampleBFiltered.mean()/sampleAFiltered.mean()-1))"
   ]
  },
  {
   "cell_type": "markdown",
   "metadata": {},
   "source": [
    "**Вывод**\n",
    "\n",
    "Результаты по среднему количеству заказов практически не изменились:  \n",
    "p-value = 0.011 все еще меньше 0.05, значит, нулевую гипотезу о том, что статистически значимых различий в среднем числе заказов между группами нет, отвергаем, т.е. и по \"очищенным данным\" различия в среднем между группами есть  \n",
    "Относительный выигрыш группы B увеличился на 2% и составил 16%"
   ]
  },
  {
   "cell_type": "markdown",
   "metadata": {},
   "source": [
    "### Статистическая значимость различий в среднем чеке заказа между группами по «очищенным» данным"
   ]
  },
  {
   "cell_type": "markdown",
   "metadata": {},
   "source": [
    "Теперь посчитаем статистическую значимость различий в среднем чеке заказа между группами по «очищенным» данным и проверим, изменится ли что-то"
   ]
  },
  {
   "cell_type": "code",
   "execution_count": 41,
   "metadata": {},
   "outputs": [
    {
     "name": "stdout",
     "output_type": "stream",
     "text": [
      "p-value: 0.819\n",
      "Отноcительный прирост: 0.024\n"
     ]
    }
   ],
   "source": [
    "print('p-value:', \n",
    "    '{0:.3f}'.format(\n",
    "        stats.mannwhitneyu(\n",
    "            orders[\n",
    "                np.logical_and(\n",
    "                    orders['group'] == 'A',\n",
    "                    np.logical_not(orders['userId'].isin(abnormalUsers)),\n",
    "                )\n",
    "            ]['revenue'],\n",
    "            orders[\n",
    "                np.logical_and(\n",
    "                    orders['group'] == 'B',\n",
    "                    np.logical_not(orders['userId'].isin(abnormalUsers)),\n",
    "                )\n",
    "            ]['revenue'],\n",
    "        )[1]\n",
    "    )\n",
    ")\n",
    "\n",
    "print('Отноcительный прирост:', \n",
    "    \"{0:.3f}\".format(\n",
    "        orders[\n",
    "            np.logical_and(\n",
    "                orders['group'] == 'B',\n",
    "                np.logical_not(orders['userId'].isin(abnormalUsers)),\n",
    "            )\n",
    "        ]['revenue'].mean()\n",
    "        / orders[\n",
    "            np.logical_and(\n",
    "                orders['group'] == 'A',\n",
    "                np.logical_not(orders['userId'].isin(abnormalUsers)),\n",
    "            )\n",
    "        ]['revenue'].mean()\n",
    "        - 1\n",
    "    )\n",
    ")"
   ]
  },
  {
   "cell_type": "markdown",
   "metadata": {},
   "source": [
    "**Вывод**\n",
    "\n",
    "P-value увеличился на 10% - 0.819, что также как и по \"сырым\" данным значительно больше 0.05, соответственно, причин отвергать нулевую гипотезу и считать, что в среднем чеке есть различия, нет  \n",
    "А средний чек группы B значительно снизился и стал всего на 2,4% (вместо 26%) выше среднего чека группы A"
   ]
  },
  {
   "cell_type": "markdown",
   "metadata": {},
   "source": [
    "### Вывод по анализу A/B-теста"
   ]
  },
  {
   "cell_type": "markdown",
   "metadata": {},
   "source": [
    "Повторим, что удалось выяснить по итогам анализа А/В-теста\n",
    "1. Есть статистически значимое различие по среднему количеству заказов между группами и по «сырым» данным, и по данным после фильтрации аномалий. Относительный прирост среднего количества заказов группы B к среднему количеству заказов группы A увеличился на 2% по \"очищенным данным\" по сравнению с сырыми;\n",
    "\n",
    "2. Нет статистически значимого различия по среднему чеку между группами ни по «сырым», ни по данным после фильтрации аномалий, хотя относительный прирост среднего чека группы B к среднему чеку группы A по \"очищенным данным\" снизился на 23,5% по сравнению с сырыми;\n",
    "\n",
    "3. График различия среднего количества заказов между группами показывает, что результаты группы B стремятся к стабилизации и обгоняют группу A почти на 20%;\n",
    "\n",
    "4. График различия среднего чека в нескольких точках «скачет» по причине выбросов - крупных заказов (самый крупный почти на 1,3 млн)\n",
    "\n",
    "Таким образом, решение по результатам теста - **остановить тест, зафиксировать победу группы В**\n"
   ]
  },
  {
   "cell_type": "markdown",
   "metadata": {},
   "source": [
    "## Общий вывод  \n",
    "\n",
    "В первой части работы была проведена приоритизация гипотез, сформулированных с целью увеличения выручки интернет-магазина  \n",
    "С учетом фреймворка RICE, который учитывает охват пользователей, самый высокий приоритет получила гипотеза №7: Добавить форму подписки на все основные страницы, чтобы собрать базу клиентов для email-рассылок  \n",
    "\n",
    "Во второй части был проведен анализ результатов A/B-теста:\n",
    "* определено статистически значимое различие по среднему количеству заказов между группами\n",
    "* определено отсутствие статистически значимого различия по среднему чеку между группами\n",
    "* выявлены аномальные значения количества и стоимости заказов, и проведен анализ без учета выбросов, который не изменил результаты: наличие различия по среднему количеству заказов и отсутствите различия по среднему чеку\n",
    "\n",
    "По результатам A/B-теста принято решение - остановить тест, зафиксировать победу группы В."
   ]
  },
  {
   "cell_type": "code",
   "execution_count": null,
   "metadata": {},
   "outputs": [],
   "source": []
  }
 ],
 "metadata": {
  "ExecuteTimeLog": [
   {
    "duration": 1228,
    "start_time": "2023-02-20T15:22:21.843Z"
   },
   {
    "duration": 3,
    "start_time": "2023-02-20T15:32:47.622Z"
   },
   {
    "duration": 155,
    "start_time": "2023-02-20T15:33:45.072Z"
   },
   {
    "duration": 27,
    "start_time": "2023-02-20T15:36:10.290Z"
   },
   {
    "duration": 19,
    "start_time": "2023-02-20T15:36:22.741Z"
   },
   {
    "duration": 5,
    "start_time": "2023-02-20T15:36:27.891Z"
   },
   {
    "duration": 10,
    "start_time": "2023-02-20T15:36:33.154Z"
   },
   {
    "duration": 6,
    "start_time": "2023-02-20T15:42:35.230Z"
   },
   {
    "duration": 8,
    "start_time": "2023-02-20T15:43:04.547Z"
   },
   {
    "duration": 13,
    "start_time": "2023-02-20T15:48:27.536Z"
   },
   {
    "duration": 10,
    "start_time": "2023-02-20T16:29:29.871Z"
   },
   {
    "duration": 10,
    "start_time": "2023-02-20T16:29:34.318Z"
   },
   {
    "duration": 9,
    "start_time": "2023-02-20T16:29:38.148Z"
   },
   {
    "duration": 9,
    "start_time": "2023-02-20T16:30:04.449Z"
   },
   {
    "duration": 12,
    "start_time": "2023-02-20T16:30:10.377Z"
   },
   {
    "duration": 16,
    "start_time": "2023-02-20T16:45:46.037Z"
   },
   {
    "duration": 32,
    "start_time": "2023-02-20T17:03:39.372Z"
   },
   {
    "duration": 9,
    "start_time": "2023-02-20T17:06:59.458Z"
   },
   {
    "duration": 162,
    "start_time": "2023-02-20T17:45:47.719Z"
   },
   {
    "duration": 9,
    "start_time": "2023-02-20T17:46:02.916Z"
   },
   {
    "duration": 9,
    "start_time": "2023-02-20T17:46:13.520Z"
   },
   {
    "duration": 54,
    "start_time": "2023-02-20T17:47:31.942Z"
   },
   {
    "duration": 49,
    "start_time": "2023-02-20T17:47:37.460Z"
   },
   {
    "duration": 1214,
    "start_time": "2023-02-20T19:27:38.495Z"
   },
   {
    "duration": 132,
    "start_time": "2023-02-20T19:27:39.712Z"
   },
   {
    "duration": 11,
    "start_time": "2023-02-20T19:27:39.846Z"
   },
   {
    "duration": 23,
    "start_time": "2023-02-20T19:27:39.860Z"
   },
   {
    "duration": 8,
    "start_time": "2023-02-20T19:27:39.884Z"
   },
   {
    "duration": 11,
    "start_time": "2023-02-20T19:27:39.894Z"
   },
   {
    "duration": 16,
    "start_time": "2023-02-20T19:27:39.907Z"
   },
   {
    "duration": 11,
    "start_time": "2023-02-20T19:27:39.924Z"
   },
   {
    "duration": 87,
    "start_time": "2023-02-20T19:27:39.937Z"
   },
   {
    "duration": 62,
    "start_time": "2023-02-20T19:27:40.026Z"
   },
   {
    "duration": 10,
    "start_time": "2023-02-20T19:36:29.499Z"
   },
   {
    "duration": 10,
    "start_time": "2023-02-20T19:37:10.618Z"
   },
   {
    "duration": 19,
    "start_time": "2023-02-20T19:37:57.456Z"
   },
   {
    "duration": 13,
    "start_time": "2023-02-20T19:38:19.648Z"
   },
   {
    "duration": 6,
    "start_time": "2023-02-20T19:38:54.841Z"
   },
   {
    "duration": 6,
    "start_time": "2023-02-20T19:39:07.453Z"
   },
   {
    "duration": 7,
    "start_time": "2023-02-20T19:43:29.391Z"
   },
   {
    "duration": 6,
    "start_time": "2023-02-20T19:43:39.544Z"
   },
   {
    "duration": 7,
    "start_time": "2023-02-20T19:44:15.960Z"
   },
   {
    "duration": 6,
    "start_time": "2023-02-20T19:46:36.853Z"
   },
   {
    "duration": 11,
    "start_time": "2023-02-20T19:46:45.105Z"
   },
   {
    "duration": 9,
    "start_time": "2023-02-20T19:47:01.721Z"
   },
   {
    "duration": 7,
    "start_time": "2023-02-20T19:49:02.151Z"
   },
   {
    "duration": 6,
    "start_time": "2023-02-20T19:49:07.608Z"
   },
   {
    "duration": 104,
    "start_time": "2023-02-20T19:54:16.390Z"
   },
   {
    "duration": 5,
    "start_time": "2023-02-20T19:54:35.562Z"
   },
   {
    "duration": 5,
    "start_time": "2023-02-20T19:55:30.560Z"
   },
   {
    "duration": 302,
    "start_time": "2023-02-20T19:57:58.718Z"
   },
   {
    "duration": 4,
    "start_time": "2023-02-20T19:58:15.964Z"
   },
   {
    "duration": 29,
    "start_time": "2023-02-20T19:58:15.984Z"
   },
   {
    "duration": 14,
    "start_time": "2023-02-20T19:58:16.015Z"
   },
   {
    "duration": 33,
    "start_time": "2023-02-20T19:58:16.031Z"
   },
   {
    "duration": 8,
    "start_time": "2023-02-20T19:58:16.066Z"
   },
   {
    "duration": 6,
    "start_time": "2023-02-20T19:58:16.077Z"
   },
   {
    "duration": 22,
    "start_time": "2023-02-20T19:58:16.085Z"
   },
   {
    "duration": 23,
    "start_time": "2023-02-20T19:58:16.110Z"
   },
   {
    "duration": 19,
    "start_time": "2023-02-20T19:58:16.136Z"
   },
   {
    "duration": 42,
    "start_time": "2023-02-20T19:58:16.158Z"
   },
   {
    "duration": 16,
    "start_time": "2023-02-20T19:58:16.201Z"
   },
   {
    "duration": 14,
    "start_time": "2023-02-20T19:58:16.219Z"
   },
   {
    "duration": 20,
    "start_time": "2023-02-20T19:58:16.236Z"
   },
   {
    "duration": 14,
    "start_time": "2023-02-20T19:58:16.258Z"
   },
   {
    "duration": 26,
    "start_time": "2023-02-20T19:58:16.275Z"
   },
   {
    "duration": 320,
    "start_time": "2023-02-20T19:58:16.303Z"
   },
   {
    "duration": 0,
    "start_time": "2023-02-20T19:58:16.626Z"
   },
   {
    "duration": 297,
    "start_time": "2023-02-20T19:58:50.976Z"
   },
   {
    "duration": 5,
    "start_time": "2023-02-20T19:59:11.214Z"
   },
   {
    "duration": 5,
    "start_time": "2023-02-20T19:59:16.128Z"
   },
   {
    "duration": 6,
    "start_time": "2023-02-20T20:04:45.105Z"
   },
   {
    "duration": 4,
    "start_time": "2023-02-20T20:10:33.596Z"
   },
   {
    "duration": 27,
    "start_time": "2023-02-20T20:10:33.608Z"
   },
   {
    "duration": 10,
    "start_time": "2023-02-20T20:10:33.638Z"
   },
   {
    "duration": 20,
    "start_time": "2023-02-20T20:10:33.649Z"
   },
   {
    "duration": 5,
    "start_time": "2023-02-20T20:10:33.672Z"
   },
   {
    "duration": 7,
    "start_time": "2023-02-20T20:10:33.679Z"
   },
   {
    "duration": 8,
    "start_time": "2023-02-20T20:10:33.699Z"
   },
   {
    "duration": 11,
    "start_time": "2023-02-20T20:10:33.709Z"
   },
   {
    "duration": 14,
    "start_time": "2023-02-20T20:10:33.722Z"
   },
   {
    "duration": 37,
    "start_time": "2023-02-20T20:10:33.760Z"
   },
   {
    "duration": 11,
    "start_time": "2023-02-20T20:10:33.798Z"
   },
   {
    "duration": 8,
    "start_time": "2023-02-20T20:10:33.811Z"
   },
   {
    "duration": 18,
    "start_time": "2023-02-20T20:10:33.821Z"
   },
   {
    "duration": 11,
    "start_time": "2023-02-20T20:10:33.840Z"
   },
   {
    "duration": 9,
    "start_time": "2023-02-20T20:10:33.852Z"
   },
   {
    "duration": 6,
    "start_time": "2023-02-20T20:10:33.863Z"
   },
   {
    "duration": 7,
    "start_time": "2023-02-20T20:10:33.871Z"
   },
   {
    "duration": 24,
    "start_time": "2023-02-20T20:10:33.880Z"
   },
   {
    "duration": 14,
    "start_time": "2023-02-20T20:10:53.069Z"
   },
   {
    "duration": 11,
    "start_time": "2023-02-20T20:11:03.511Z"
   },
   {
    "duration": 29,
    "start_time": "2023-02-20T20:12:27.011Z"
   },
   {
    "duration": 5,
    "start_time": "2023-02-20T20:13:10.092Z"
   },
   {
    "duration": 14,
    "start_time": "2023-02-20T20:23:44.278Z"
   },
   {
    "duration": 13,
    "start_time": "2023-02-20T20:23:53.049Z"
   },
   {
    "duration": 10,
    "start_time": "2023-02-20T20:24:06.890Z"
   },
   {
    "duration": 5,
    "start_time": "2023-02-20T20:24:32.105Z"
   },
   {
    "duration": 9,
    "start_time": "2023-02-20T20:43:13.812Z"
   },
   {
    "duration": 10,
    "start_time": "2023-02-20T20:43:33.809Z"
   },
   {
    "duration": 9,
    "start_time": "2023-02-20T20:52:39.493Z"
   },
   {
    "duration": 12,
    "start_time": "2023-02-20T20:58:06.540Z"
   },
   {
    "duration": 3,
    "start_time": "2023-02-20T20:58:09.071Z"
   },
   {
    "duration": 37,
    "start_time": "2023-02-20T20:58:09.076Z"
   },
   {
    "duration": 12,
    "start_time": "2023-02-20T20:58:09.115Z"
   },
   {
    "duration": 34,
    "start_time": "2023-02-20T20:58:09.129Z"
   },
   {
    "duration": 11,
    "start_time": "2023-02-20T20:58:09.165Z"
   },
   {
    "duration": 13,
    "start_time": "2023-02-20T20:58:09.177Z"
   },
   {
    "duration": 14,
    "start_time": "2023-02-20T20:58:09.192Z"
   },
   {
    "duration": 14,
    "start_time": "2023-02-20T20:58:09.207Z"
   },
   {
    "duration": 12,
    "start_time": "2023-02-20T20:58:09.224Z"
   },
   {
    "duration": 39,
    "start_time": "2023-02-20T20:58:09.238Z"
   },
   {
    "duration": 12,
    "start_time": "2023-02-20T20:58:09.278Z"
   },
   {
    "duration": 12,
    "start_time": "2023-02-20T20:58:09.291Z"
   },
   {
    "duration": 17,
    "start_time": "2023-02-20T20:58:09.304Z"
   },
   {
    "duration": 25,
    "start_time": "2023-02-20T20:58:09.322Z"
   },
   {
    "duration": 9,
    "start_time": "2023-02-20T20:58:09.349Z"
   },
   {
    "duration": 11,
    "start_time": "2023-02-20T20:58:09.360Z"
   },
   {
    "duration": 12,
    "start_time": "2023-02-20T20:58:09.372Z"
   },
   {
    "duration": 15,
    "start_time": "2023-02-20T20:58:09.385Z"
   },
   {
    "duration": 16,
    "start_time": "2023-02-20T20:58:09.402Z"
   },
   {
    "duration": 13,
    "start_time": "2023-02-20T20:58:09.420Z"
   },
   {
    "duration": 32,
    "start_time": "2023-02-20T21:00:50.233Z"
   },
   {
    "duration": 4,
    "start_time": "2023-02-20T21:05:39.861Z"
   },
   {
    "duration": 271,
    "start_time": "2023-02-20T21:06:02.590Z"
   },
   {
    "duration": 298,
    "start_time": "2023-02-20T21:07:08.846Z"
   },
   {
    "duration": 199,
    "start_time": "2023-02-20T21:08:47.138Z"
   },
   {
    "duration": 176,
    "start_time": "2023-02-20T21:09:38.259Z"
   },
   {
    "duration": 201,
    "start_time": "2023-02-20T21:09:52.218Z"
   },
   {
    "duration": 206,
    "start_time": "2023-02-20T21:10:05.401Z"
   },
   {
    "duration": 222,
    "start_time": "2023-02-20T21:10:13.992Z"
   },
   {
    "duration": 289,
    "start_time": "2023-02-20T21:10:45.990Z"
   },
   {
    "duration": 215,
    "start_time": "2023-02-20T21:10:57.294Z"
   },
   {
    "duration": 272,
    "start_time": "2023-02-20T21:11:13.482Z"
   },
   {
    "duration": 232,
    "start_time": "2023-02-20T21:11:23.289Z"
   },
   {
    "duration": 211,
    "start_time": "2023-02-20T21:11:32.081Z"
   },
   {
    "duration": 220,
    "start_time": "2023-02-20T21:13:30.388Z"
   },
   {
    "duration": 175,
    "start_time": "2023-02-20T21:29:13.763Z"
   },
   {
    "duration": 238,
    "start_time": "2023-02-20T21:30:23.492Z"
   },
   {
    "duration": 288,
    "start_time": "2023-02-20T21:40:49.542Z"
   },
   {
    "duration": 318,
    "start_time": "2023-02-20T21:41:17.690Z"
   },
   {
    "duration": 304,
    "start_time": "2023-02-20T21:42:11.947Z"
   },
   {
    "duration": 353,
    "start_time": "2023-02-20T21:42:23.681Z"
   },
   {
    "duration": 201,
    "start_time": "2023-02-20T21:42:39.121Z"
   },
   {
    "duration": 311,
    "start_time": "2023-02-20T21:42:46.103Z"
   },
   {
    "duration": 311,
    "start_time": "2023-02-20T21:43:30.210Z"
   },
   {
    "duration": 175,
    "start_time": "2023-02-20T21:52:08.694Z"
   },
   {
    "duration": 5,
    "start_time": "2023-02-20T21:55:44.912Z"
   },
   {
    "duration": 4,
    "start_time": "2023-02-20T21:55:55.425Z"
   },
   {
    "duration": 5,
    "start_time": "2023-02-20T21:56:06.132Z"
   },
   {
    "duration": 159,
    "start_time": "2023-02-20T21:56:30.146Z"
   },
   {
    "duration": 156,
    "start_time": "2023-02-20T21:56:58.404Z"
   },
   {
    "duration": 211,
    "start_time": "2023-02-20T21:57:18.257Z"
   },
   {
    "duration": 310,
    "start_time": "2023-02-20T21:58:38.927Z"
   },
   {
    "duration": 236,
    "start_time": "2023-02-20T21:58:50.242Z"
   },
   {
    "duration": 204,
    "start_time": "2023-02-20T21:59:00.569Z"
   },
   {
    "duration": 310,
    "start_time": "2023-02-20T22:02:45.465Z"
   },
   {
    "duration": 330,
    "start_time": "2023-02-20T22:04:27.693Z"
   },
   {
    "duration": 449,
    "start_time": "2023-02-20T22:05:38.191Z"
   },
   {
    "duration": 373,
    "start_time": "2023-02-20T22:05:53.281Z"
   },
   {
    "duration": 344,
    "start_time": "2023-02-20T22:06:17.213Z"
   },
   {
    "duration": 291,
    "start_time": "2023-02-20T22:13:00.937Z"
   },
   {
    "duration": 9,
    "start_time": "2023-02-20T22:17:52.718Z"
   },
   {
    "duration": 12,
    "start_time": "2023-02-20T22:20:06.140Z"
   },
   {
    "duration": 13,
    "start_time": "2023-02-20T22:26:33.845Z"
   },
   {
    "duration": 151,
    "start_time": "2023-02-20T22:28:12.057Z"
   },
   {
    "duration": 120,
    "start_time": "2023-02-20T22:28:16.585Z"
   },
   {
    "duration": 102,
    "start_time": "2023-02-20T22:28:34.592Z"
   },
   {
    "duration": 126,
    "start_time": "2023-02-20T22:30:36.162Z"
   },
   {
    "duration": 4,
    "start_time": "2023-02-20T22:38:31.408Z"
   },
   {
    "duration": 4,
    "start_time": "2023-02-20T22:41:45.251Z"
   },
   {
    "duration": 5,
    "start_time": "2023-02-20T22:45:48.937Z"
   },
   {
    "duration": 136,
    "start_time": "2023-02-20T22:48:07.849Z"
   },
   {
    "duration": 5,
    "start_time": "2023-02-20T22:55:34.831Z"
   },
   {
    "duration": 208,
    "start_time": "2023-02-20T23:13:14.560Z"
   },
   {
    "duration": 256,
    "start_time": "2023-02-20T23:18:33.762Z"
   },
   {
    "duration": 162,
    "start_time": "2023-02-20T23:20:05.054Z"
   },
   {
    "duration": 10,
    "start_time": "2023-02-20T23:30:29.292Z"
   },
   {
    "duration": 9,
    "start_time": "2023-02-20T23:38:55.556Z"
   },
   {
    "duration": 9,
    "start_time": "2023-02-20T23:39:34.700Z"
   },
   {
    "duration": 12,
    "start_time": "2023-02-20T23:39:53.330Z"
   },
   {
    "duration": 8,
    "start_time": "2023-02-20T23:41:02.920Z"
   },
   {
    "duration": 20,
    "start_time": "2023-02-20T23:43:37.651Z"
   },
   {
    "duration": 14,
    "start_time": "2023-02-20T23:52:14.192Z"
   },
   {
    "duration": 3,
    "start_time": "2023-02-21T00:15:38.106Z"
   },
   {
    "duration": 32,
    "start_time": "2023-02-21T00:15:38.111Z"
   },
   {
    "duration": 11,
    "start_time": "2023-02-21T00:15:38.145Z"
   },
   {
    "duration": 24,
    "start_time": "2023-02-21T00:15:38.158Z"
   },
   {
    "duration": 5,
    "start_time": "2023-02-21T00:15:38.184Z"
   },
   {
    "duration": 6,
    "start_time": "2023-02-21T00:15:38.199Z"
   },
   {
    "duration": 19,
    "start_time": "2023-02-21T00:15:38.207Z"
   },
   {
    "duration": 12,
    "start_time": "2023-02-21T00:15:38.228Z"
   },
   {
    "duration": 12,
    "start_time": "2023-02-21T00:15:38.242Z"
   },
   {
    "duration": 40,
    "start_time": "2023-02-21T00:15:38.256Z"
   },
   {
    "duration": 10,
    "start_time": "2023-02-21T00:15:38.300Z"
   },
   {
    "duration": 8,
    "start_time": "2023-02-21T00:15:38.311Z"
   },
   {
    "duration": 12,
    "start_time": "2023-02-21T00:15:38.321Z"
   },
   {
    "duration": 6,
    "start_time": "2023-02-21T00:15:38.334Z"
   },
   {
    "duration": 23,
    "start_time": "2023-02-21T00:15:38.341Z"
   },
   {
    "duration": 11,
    "start_time": "2023-02-21T00:15:38.365Z"
   },
   {
    "duration": 24,
    "start_time": "2023-02-21T00:15:38.377Z"
   },
   {
    "duration": 4,
    "start_time": "2023-02-21T00:15:38.403Z"
   },
   {
    "duration": 8,
    "start_time": "2023-02-21T00:15:38.408Z"
   },
   {
    "duration": 7,
    "start_time": "2023-02-21T00:15:38.417Z"
   },
   {
    "duration": 1175,
    "start_time": "2023-02-21T00:15:38.426Z"
   },
   {
    "duration": 0,
    "start_time": "2023-02-21T00:15:39.603Z"
   },
   {
    "duration": 0,
    "start_time": "2023-02-21T00:15:39.604Z"
   },
   {
    "duration": 0,
    "start_time": "2023-02-21T00:15:39.605Z"
   },
   {
    "duration": 0,
    "start_time": "2023-02-21T00:15:39.606Z"
   },
   {
    "duration": 1,
    "start_time": "2023-02-21T00:15:39.606Z"
   },
   {
    "duration": 0,
    "start_time": "2023-02-21T00:15:39.608Z"
   },
   {
    "duration": 0,
    "start_time": "2023-02-21T00:15:39.608Z"
   },
   {
    "duration": 0,
    "start_time": "2023-02-21T00:15:39.609Z"
   },
   {
    "duration": 0,
    "start_time": "2023-02-21T00:15:39.610Z"
   },
   {
    "duration": 0,
    "start_time": "2023-02-21T00:15:39.611Z"
   },
   {
    "duration": 0,
    "start_time": "2023-02-21T00:15:39.612Z"
   },
   {
    "duration": 0,
    "start_time": "2023-02-21T00:15:39.613Z"
   },
   {
    "duration": 0,
    "start_time": "2023-02-21T00:15:39.614Z"
   },
   {
    "duration": 0,
    "start_time": "2023-02-21T00:15:39.616Z"
   },
   {
    "duration": 0,
    "start_time": "2023-02-21T00:15:39.616Z"
   },
   {
    "duration": 0,
    "start_time": "2023-02-21T00:15:39.617Z"
   },
   {
    "duration": 0,
    "start_time": "2023-02-21T00:15:39.618Z"
   },
   {
    "duration": 0,
    "start_time": "2023-02-21T00:15:39.619Z"
   },
   {
    "duration": 0,
    "start_time": "2023-02-21T00:15:39.620Z"
   },
   {
    "duration": 0,
    "start_time": "2023-02-21T00:15:39.621Z"
   },
   {
    "duration": 7,
    "start_time": "2023-02-21T00:17:57.048Z"
   },
   {
    "duration": 4,
    "start_time": "2023-02-21T00:18:13.403Z"
   },
   {
    "duration": 31,
    "start_time": "2023-02-21T00:18:13.408Z"
   },
   {
    "duration": 10,
    "start_time": "2023-02-21T00:18:13.440Z"
   },
   {
    "duration": 25,
    "start_time": "2023-02-21T00:18:13.452Z"
   },
   {
    "duration": 8,
    "start_time": "2023-02-21T00:18:13.478Z"
   },
   {
    "duration": 7,
    "start_time": "2023-02-21T00:18:13.488Z"
   },
   {
    "duration": 9,
    "start_time": "2023-02-21T00:18:13.498Z"
   },
   {
    "duration": 11,
    "start_time": "2023-02-21T00:18:13.508Z"
   },
   {
    "duration": 12,
    "start_time": "2023-02-21T00:18:13.521Z"
   },
   {
    "duration": 41,
    "start_time": "2023-02-21T00:18:13.534Z"
   },
   {
    "duration": 10,
    "start_time": "2023-02-21T00:18:13.576Z"
   },
   {
    "duration": 14,
    "start_time": "2023-02-21T00:18:13.587Z"
   },
   {
    "duration": 10,
    "start_time": "2023-02-21T00:18:13.603Z"
   },
   {
    "duration": 5,
    "start_time": "2023-02-21T00:18:13.615Z"
   },
   {
    "duration": 22,
    "start_time": "2023-02-21T00:18:13.622Z"
   },
   {
    "duration": 10,
    "start_time": "2023-02-21T00:18:13.645Z"
   },
   {
    "duration": 17,
    "start_time": "2023-02-21T00:18:13.657Z"
   },
   {
    "duration": 14,
    "start_time": "2023-02-21T00:18:13.675Z"
   },
   {
    "duration": 9,
    "start_time": "2023-02-21T00:18:13.690Z"
   },
   {
    "duration": 9,
    "start_time": "2023-02-21T00:18:13.700Z"
   },
   {
    "duration": 10,
    "start_time": "2023-02-21T00:18:13.710Z"
   },
   {
    "duration": 285,
    "start_time": "2023-02-21T00:18:13.721Z"
   },
   {
    "duration": 228,
    "start_time": "2023-02-21T00:18:14.008Z"
   },
   {
    "duration": 218,
    "start_time": "2023-02-21T00:18:14.239Z"
   },
   {
    "duration": 394,
    "start_time": "2023-02-21T00:18:14.459Z"
   },
   {
    "duration": 4,
    "start_time": "2023-02-21T00:18:14.855Z"
   },
   {
    "duration": 5,
    "start_time": "2023-02-21T00:18:14.861Z"
   },
   {
    "duration": 204,
    "start_time": "2023-02-21T00:18:14.868Z"
   },
   {
    "duration": 348,
    "start_time": "2023-02-21T00:18:15.073Z"
   },
   {
    "duration": 12,
    "start_time": "2023-02-21T00:18:15.423Z"
   },
   {
    "duration": 141,
    "start_time": "2023-02-21T00:18:15.437Z"
   },
   {
    "duration": 5,
    "start_time": "2023-02-21T00:18:15.579Z"
   },
   {
    "duration": 154,
    "start_time": "2023-02-21T00:18:15.585Z"
   },
   {
    "duration": 5,
    "start_time": "2023-02-21T00:18:15.740Z"
   },
   {
    "duration": 243,
    "start_time": "2023-02-21T00:18:15.747Z"
   },
   {
    "duration": 193,
    "start_time": "2023-02-21T00:18:15.992Z"
   },
   {
    "duration": 18,
    "start_time": "2023-02-21T00:18:16.187Z"
   },
   {
    "duration": 12,
    "start_time": "2023-02-21T00:18:16.207Z"
   },
   {
    "duration": 10,
    "start_time": "2023-02-21T00:18:16.221Z"
   },
   {
    "duration": 23,
    "start_time": "2023-02-21T00:18:16.233Z"
   },
   {
    "duration": 47,
    "start_time": "2023-02-21T00:18:16.257Z"
   },
   {
    "duration": 3,
    "start_time": "2023-02-21T00:28:00.683Z"
   },
   {
    "duration": 39,
    "start_time": "2023-02-21T00:28:00.688Z"
   },
   {
    "duration": 12,
    "start_time": "2023-02-21T00:28:00.728Z"
   },
   {
    "duration": 30,
    "start_time": "2023-02-21T00:28:00.743Z"
   },
   {
    "duration": 37,
    "start_time": "2023-02-21T00:28:00.775Z"
   },
   {
    "duration": 27,
    "start_time": "2023-02-21T00:28:00.814Z"
   },
   {
    "duration": 30,
    "start_time": "2023-02-21T00:28:00.843Z"
   },
   {
    "duration": 39,
    "start_time": "2023-02-21T00:28:00.874Z"
   },
   {
    "duration": 48,
    "start_time": "2023-02-21T00:28:00.916Z"
   },
   {
    "duration": 83,
    "start_time": "2023-02-21T00:28:00.966Z"
   },
   {
    "duration": 10,
    "start_time": "2023-02-21T00:28:01.051Z"
   },
   {
    "duration": 24,
    "start_time": "2023-02-21T00:28:01.063Z"
   },
   {
    "duration": 33,
    "start_time": "2023-02-21T00:28:01.089Z"
   },
   {
    "duration": 30,
    "start_time": "2023-02-21T00:28:01.124Z"
   },
   {
    "duration": 29,
    "start_time": "2023-02-21T00:28:01.156Z"
   },
   {
    "duration": 22,
    "start_time": "2023-02-21T00:28:01.186Z"
   },
   {
    "duration": 23,
    "start_time": "2023-02-21T00:28:01.209Z"
   },
   {
    "duration": 12,
    "start_time": "2023-02-21T00:28:01.234Z"
   },
   {
    "duration": 38,
    "start_time": "2023-02-21T00:28:01.248Z"
   },
   {
    "duration": 26,
    "start_time": "2023-02-21T00:28:01.287Z"
   },
   {
    "duration": 272,
    "start_time": "2023-02-21T00:28:01.315Z"
   },
   {
    "duration": 203,
    "start_time": "2023-02-21T00:28:01.589Z"
   },
   {
    "duration": 216,
    "start_time": "2023-02-21T00:28:01.793Z"
   },
   {
    "duration": 317,
    "start_time": "2023-02-21T00:28:02.013Z"
   },
   {
    "duration": 5,
    "start_time": "2023-02-21T00:28:02.332Z"
   },
   {
    "duration": 6,
    "start_time": "2023-02-21T00:28:02.338Z"
   },
   {
    "duration": 214,
    "start_time": "2023-02-21T00:28:02.345Z"
   },
   {
    "duration": 372,
    "start_time": "2023-02-21T00:28:02.561Z"
   },
   {
    "duration": 12,
    "start_time": "2023-02-21T00:28:02.935Z"
   },
   {
    "duration": 159,
    "start_time": "2023-02-21T00:28:02.948Z"
   },
   {
    "duration": 5,
    "start_time": "2023-02-21T00:28:03.109Z"
   },
   {
    "duration": 157,
    "start_time": "2023-02-21T00:28:03.115Z"
   },
   {
    "duration": 5,
    "start_time": "2023-02-21T00:28:03.274Z"
   },
   {
    "duration": 327,
    "start_time": "2023-02-21T00:28:03.281Z"
   },
   {
    "duration": 148,
    "start_time": "2023-02-21T00:28:03.610Z"
   },
   {
    "duration": 10,
    "start_time": "2023-02-21T00:28:03.759Z"
   },
   {
    "duration": 13,
    "start_time": "2023-02-21T00:28:03.770Z"
   },
   {
    "duration": 9,
    "start_time": "2023-02-21T00:28:03.799Z"
   },
   {
    "duration": 20,
    "start_time": "2023-02-21T00:28:03.809Z"
   },
   {
    "duration": 14,
    "start_time": "2023-02-21T00:28:03.831Z"
   },
   {
    "duration": 1100,
    "start_time": "2023-02-21T08:01:40.589Z"
   },
   {
    "duration": 35,
    "start_time": "2023-02-21T08:01:41.692Z"
   },
   {
    "duration": 12,
    "start_time": "2023-02-21T08:01:41.728Z"
   },
   {
    "duration": 52,
    "start_time": "2023-02-21T08:01:41.742Z"
   },
   {
    "duration": 40,
    "start_time": "2023-02-21T08:01:41.795Z"
   },
   {
    "duration": 33,
    "start_time": "2023-02-21T08:01:41.836Z"
   },
   {
    "duration": 34,
    "start_time": "2023-02-21T08:01:41.871Z"
   },
   {
    "duration": 49,
    "start_time": "2023-02-21T08:01:41.907Z"
   },
   {
    "duration": 22,
    "start_time": "2023-02-21T08:01:41.958Z"
   },
   {
    "duration": 95,
    "start_time": "2023-02-21T08:01:41.982Z"
   },
   {
    "duration": 17,
    "start_time": "2023-02-21T08:01:42.079Z"
   },
   {
    "duration": 82,
    "start_time": "2023-02-21T08:01:42.098Z"
   },
   {
    "duration": 47,
    "start_time": "2023-02-21T08:01:42.181Z"
   },
   {
    "duration": 35,
    "start_time": "2023-02-21T08:01:42.230Z"
   },
   {
    "duration": 34,
    "start_time": "2023-02-21T08:01:42.267Z"
   },
   {
    "duration": 53,
    "start_time": "2023-02-21T08:01:42.303Z"
   },
   {
    "duration": 54,
    "start_time": "2023-02-21T08:01:42.357Z"
   },
   {
    "duration": 98,
    "start_time": "2023-02-21T08:01:42.413Z"
   },
   {
    "duration": 61,
    "start_time": "2023-02-21T08:01:42.513Z"
   },
   {
    "duration": 91,
    "start_time": "2023-02-21T08:01:42.576Z"
   },
   {
    "duration": 365,
    "start_time": "2023-02-21T08:01:42.669Z"
   },
   {
    "duration": 371,
    "start_time": "2023-02-21T08:01:43.038Z"
   },
   {
    "duration": 247,
    "start_time": "2023-02-21T08:01:43.411Z"
   },
   {
    "duration": 329,
    "start_time": "2023-02-21T08:01:43.660Z"
   },
   {
    "duration": 5,
    "start_time": "2023-02-21T08:01:43.991Z"
   },
   {
    "duration": 45,
    "start_time": "2023-02-21T08:01:43.997Z"
   },
   {
    "duration": 263,
    "start_time": "2023-02-21T08:01:44.044Z"
   },
   {
    "duration": 377,
    "start_time": "2023-02-21T08:01:44.310Z"
   },
   {
    "duration": 13,
    "start_time": "2023-02-21T08:01:44.689Z"
   },
   {
    "duration": 184,
    "start_time": "2023-02-21T08:01:44.703Z"
   },
   {
    "duration": 5,
    "start_time": "2023-02-21T08:01:44.888Z"
   },
   {
    "duration": 185,
    "start_time": "2023-02-21T08:01:44.895Z"
   },
   {
    "duration": 6,
    "start_time": "2023-02-21T08:01:45.081Z"
   },
   {
    "duration": 286,
    "start_time": "2023-02-21T08:01:45.088Z"
   },
   {
    "duration": 213,
    "start_time": "2023-02-21T08:01:45.375Z"
   },
   {
    "duration": 10,
    "start_time": "2023-02-21T08:01:45.590Z"
   },
   {
    "duration": 52,
    "start_time": "2023-02-21T08:01:45.602Z"
   },
   {
    "duration": 52,
    "start_time": "2023-02-21T08:01:45.656Z"
   },
   {
    "duration": 58,
    "start_time": "2023-02-21T08:01:45.709Z"
   },
   {
    "duration": 45,
    "start_time": "2023-02-21T08:01:45.769Z"
   },
   {
    "duration": 1158,
    "start_time": "2023-02-21T08:21:56.756Z"
   },
   {
    "duration": 37,
    "start_time": "2023-02-21T08:21:57.916Z"
   },
   {
    "duration": 12,
    "start_time": "2023-02-21T08:21:57.955Z"
   },
   {
    "duration": 32,
    "start_time": "2023-02-21T08:21:57.969Z"
   },
   {
    "duration": 16,
    "start_time": "2023-02-21T08:21:58.003Z"
   },
   {
    "duration": 18,
    "start_time": "2023-02-21T08:21:58.021Z"
   },
   {
    "duration": 30,
    "start_time": "2023-02-21T08:21:58.041Z"
   },
   {
    "duration": 33,
    "start_time": "2023-02-21T08:21:58.072Z"
   },
   {
    "duration": 13,
    "start_time": "2023-02-21T08:21:58.107Z"
   },
   {
    "duration": 86,
    "start_time": "2023-02-21T08:21:58.122Z"
   },
   {
    "duration": 12,
    "start_time": "2023-02-21T08:21:58.209Z"
   },
   {
    "duration": 14,
    "start_time": "2023-02-21T08:21:58.222Z"
   },
   {
    "duration": 19,
    "start_time": "2023-02-21T08:21:58.237Z"
   },
   {
    "duration": 12,
    "start_time": "2023-02-21T08:21:58.259Z"
   },
   {
    "duration": 34,
    "start_time": "2023-02-21T08:21:58.273Z"
   },
   {
    "duration": 10,
    "start_time": "2023-02-21T08:21:58.309Z"
   },
   {
    "duration": 9,
    "start_time": "2023-02-21T08:21:58.321Z"
   },
   {
    "duration": 8,
    "start_time": "2023-02-21T08:21:58.332Z"
   },
   {
    "duration": 11,
    "start_time": "2023-02-21T08:21:58.342Z"
   },
   {
    "duration": 12,
    "start_time": "2023-02-21T08:21:58.355Z"
   },
   {
    "duration": 299,
    "start_time": "2023-02-21T08:21:58.369Z"
   },
   {
    "duration": 325,
    "start_time": "2023-02-21T08:21:58.670Z"
   },
   {
    "duration": 250,
    "start_time": "2023-02-21T08:21:58.996Z"
   },
   {
    "duration": 361,
    "start_time": "2023-02-21T08:21:59.248Z"
   },
   {
    "duration": 5,
    "start_time": "2023-02-21T08:21:59.611Z"
   },
   {
    "duration": 22,
    "start_time": "2023-02-21T08:21:59.618Z"
   },
   {
    "duration": 234,
    "start_time": "2023-02-21T08:21:59.642Z"
   },
   {
    "duration": 355,
    "start_time": "2023-02-21T08:21:59.878Z"
   },
   {
    "duration": 13,
    "start_time": "2023-02-21T08:22:00.235Z"
   },
   {
    "duration": 162,
    "start_time": "2023-02-21T08:22:00.249Z"
   },
   {
    "duration": 5,
    "start_time": "2023-02-21T08:22:00.413Z"
   },
   {
    "duration": 186,
    "start_time": "2023-02-21T08:22:00.420Z"
   },
   {
    "duration": 6,
    "start_time": "2023-02-21T08:22:00.608Z"
   },
   {
    "duration": 261,
    "start_time": "2023-02-21T08:22:00.615Z"
   },
   {
    "duration": 173,
    "start_time": "2023-02-21T08:22:00.878Z"
   },
   {
    "duration": 12,
    "start_time": "2023-02-21T08:22:01.053Z"
   },
   {
    "duration": 162,
    "start_time": "2023-02-21T08:22:01.067Z"
   },
   {
    "duration": 60,
    "start_time": "2023-02-21T08:22:01.230Z"
   },
   {
    "duration": 69,
    "start_time": "2023-02-21T08:22:01.291Z"
   },
   {
    "duration": 32,
    "start_time": "2023-02-21T08:22:01.362Z"
   },
   {
    "duration": 1245,
    "start_time": "2023-02-21T08:22:32.422Z"
   },
   {
    "duration": 41,
    "start_time": "2023-02-21T08:22:33.669Z"
   },
   {
    "duration": 11,
    "start_time": "2023-02-21T08:22:33.712Z"
   },
   {
    "duration": 40,
    "start_time": "2023-02-21T08:22:33.725Z"
   },
   {
    "duration": 16,
    "start_time": "2023-02-21T08:22:33.768Z"
   },
   {
    "duration": 22,
    "start_time": "2023-02-21T08:22:33.785Z"
   },
   {
    "duration": 23,
    "start_time": "2023-02-21T08:22:33.809Z"
   },
   {
    "duration": 23,
    "start_time": "2023-02-21T08:22:33.834Z"
   },
   {
    "duration": 17,
    "start_time": "2023-02-21T08:22:33.858Z"
   },
   {
    "duration": 56,
    "start_time": "2023-02-21T08:22:33.876Z"
   },
   {
    "duration": 11,
    "start_time": "2023-02-21T08:22:33.933Z"
   },
   {
    "duration": 14,
    "start_time": "2023-02-21T08:22:33.946Z"
   },
   {
    "duration": 17,
    "start_time": "2023-02-21T08:22:33.961Z"
   },
   {
    "duration": 15,
    "start_time": "2023-02-21T08:22:33.981Z"
   },
   {
    "duration": 34,
    "start_time": "2023-02-21T08:22:33.998Z"
   },
   {
    "duration": 11,
    "start_time": "2023-02-21T08:22:34.033Z"
   },
   {
    "duration": 11,
    "start_time": "2023-02-21T08:22:34.046Z"
   },
   {
    "duration": 31,
    "start_time": "2023-02-21T08:22:34.059Z"
   },
   {
    "duration": 25,
    "start_time": "2023-02-21T08:22:34.092Z"
   },
   {
    "duration": 41,
    "start_time": "2023-02-21T08:22:34.119Z"
   },
   {
    "duration": 340,
    "start_time": "2023-02-21T08:22:34.162Z"
   },
   {
    "duration": 342,
    "start_time": "2023-02-21T08:22:34.504Z"
   },
   {
    "duration": 243,
    "start_time": "2023-02-21T08:22:34.848Z"
   },
   {
    "duration": 335,
    "start_time": "2023-02-21T08:22:35.093Z"
   },
   {
    "duration": 9,
    "start_time": "2023-02-21T08:22:35.430Z"
   },
   {
    "duration": 9,
    "start_time": "2023-02-21T08:22:35.441Z"
   },
   {
    "duration": 246,
    "start_time": "2023-02-21T08:22:35.452Z"
   },
   {
    "duration": 375,
    "start_time": "2023-02-21T08:22:35.700Z"
   },
   {
    "duration": 12,
    "start_time": "2023-02-21T08:22:36.077Z"
   },
   {
    "duration": 163,
    "start_time": "2023-02-21T08:22:36.091Z"
   },
   {
    "duration": 5,
    "start_time": "2023-02-21T08:22:36.255Z"
   },
   {
    "duration": 187,
    "start_time": "2023-02-21T08:22:36.262Z"
   },
   {
    "duration": 8,
    "start_time": "2023-02-21T08:22:36.452Z"
   },
   {
    "duration": 271,
    "start_time": "2023-02-21T08:22:36.462Z"
   },
   {
    "duration": 182,
    "start_time": "2023-02-21T08:22:36.737Z"
   },
   {
    "duration": 19,
    "start_time": "2023-02-21T08:22:36.921Z"
   },
   {
    "duration": 13,
    "start_time": "2023-02-21T08:22:36.942Z"
   },
   {
    "duration": 18,
    "start_time": "2023-02-21T08:22:36.957Z"
   },
   {
    "duration": 41,
    "start_time": "2023-02-21T08:22:36.976Z"
   },
   {
    "duration": 22,
    "start_time": "2023-02-21T08:22:37.020Z"
   },
   {
    "duration": 51,
    "start_time": "2023-02-21T08:43:47.628Z"
   },
   {
    "duration": 1292,
    "start_time": "2023-02-21T08:43:56.888Z"
   },
   {
    "duration": 65,
    "start_time": "2023-02-21T08:43:58.183Z"
   },
   {
    "duration": 11,
    "start_time": "2023-02-21T08:43:58.249Z"
   },
   {
    "duration": 19,
    "start_time": "2023-02-21T08:43:58.262Z"
   },
   {
    "duration": 6,
    "start_time": "2023-02-21T08:43:58.282Z"
   },
   {
    "duration": 6,
    "start_time": "2023-02-21T08:43:58.289Z"
   },
   {
    "duration": 17,
    "start_time": "2023-02-21T08:43:58.297Z"
   },
   {
    "duration": 14,
    "start_time": "2023-02-21T08:43:58.316Z"
   },
   {
    "duration": 11,
    "start_time": "2023-02-21T08:43:58.332Z"
   },
   {
    "duration": 95,
    "start_time": "2023-02-21T08:43:58.347Z"
   },
   {
    "duration": 9,
    "start_time": "2023-02-21T08:43:58.444Z"
   },
   {
    "duration": 8,
    "start_time": "2023-02-21T08:43:58.455Z"
   },
   {
    "duration": 15,
    "start_time": "2023-02-21T08:43:58.465Z"
   },
   {
    "duration": 7,
    "start_time": "2023-02-21T08:43:58.482Z"
   },
   {
    "duration": 71,
    "start_time": "2023-02-21T08:43:58.490Z"
   },
   {
    "duration": 10,
    "start_time": "2023-02-21T08:43:58.562Z"
   },
   {
    "duration": 13,
    "start_time": "2023-02-21T08:43:58.573Z"
   },
   {
    "duration": 17,
    "start_time": "2023-02-21T08:43:58.588Z"
   },
   {
    "duration": 7,
    "start_time": "2023-02-21T08:43:58.606Z"
   },
   {
    "duration": 11,
    "start_time": "2023-02-21T08:43:58.615Z"
   },
   {
    "duration": 286,
    "start_time": "2023-02-21T08:43:58.627Z"
   },
   {
    "duration": 304,
    "start_time": "2023-02-21T08:43:58.914Z"
   },
   {
    "duration": 272,
    "start_time": "2023-02-21T08:43:59.219Z"
   },
   {
    "duration": 418,
    "start_time": "2023-02-21T08:43:59.492Z"
   },
   {
    "duration": 5,
    "start_time": "2023-02-21T08:43:59.911Z"
   },
   {
    "duration": 9,
    "start_time": "2023-02-21T08:43:59.917Z"
   },
   {
    "duration": 267,
    "start_time": "2023-02-21T08:43:59.927Z"
   },
   {
    "duration": 355,
    "start_time": "2023-02-21T08:44:00.198Z"
   },
   {
    "duration": 11,
    "start_time": "2023-02-21T08:44:00.554Z"
   },
   {
    "duration": 147,
    "start_time": "2023-02-21T08:44:00.566Z"
   },
   {
    "duration": 4,
    "start_time": "2023-02-21T08:44:00.715Z"
   },
   {
    "duration": 182,
    "start_time": "2023-02-21T08:44:00.721Z"
   },
   {
    "duration": 153,
    "start_time": "2023-02-21T08:44:00.905Z"
   },
   {
    "duration": 4,
    "start_time": "2023-02-21T08:44:01.060Z"
   },
   {
    "duration": 237,
    "start_time": "2023-02-21T08:44:01.065Z"
   },
   {
    "duration": 176,
    "start_time": "2023-02-21T08:44:01.311Z"
   },
   {
    "duration": 9,
    "start_time": "2023-02-21T08:44:01.488Z"
   },
   {
    "duration": 11,
    "start_time": "2023-02-21T08:44:01.509Z"
   },
   {
    "duration": 33,
    "start_time": "2023-02-21T08:44:01.521Z"
   },
   {
    "duration": 38,
    "start_time": "2023-02-21T08:44:01.556Z"
   },
   {
    "duration": 21,
    "start_time": "2023-02-21T08:44:01.596Z"
   },
   {
    "duration": 128,
    "start_time": "2023-02-21T08:46:23.402Z"
   },
   {
    "duration": 212,
    "start_time": "2023-02-21T08:46:36.406Z"
   },
   {
    "duration": 148,
    "start_time": "2023-02-21T08:46:53.558Z"
   },
   {
    "duration": 181,
    "start_time": "2023-02-21T09:21:27.763Z"
   },
   {
    "duration": 170,
    "start_time": "2023-02-21T09:21:47.005Z"
   },
   {
    "duration": 11,
    "start_time": "2023-02-21T09:22:24.902Z"
   },
   {
    "duration": 20,
    "start_time": "2023-02-21T09:22:46.274Z"
   },
   {
    "duration": 18,
    "start_time": "2023-02-21T09:23:16.409Z"
   },
   {
    "duration": 19,
    "start_time": "2023-02-21T09:23:22.486Z"
   },
   {
    "duration": 21,
    "start_time": "2023-02-21T09:23:33.426Z"
   },
   {
    "duration": 14,
    "start_time": "2023-02-21T09:23:42.204Z"
   },
   {
    "duration": 181,
    "start_time": "2023-02-21T09:23:51.473Z"
   },
   {
    "duration": 172,
    "start_time": "2023-02-21T09:45:06.968Z"
   },
   {
    "duration": 1127,
    "start_time": "2023-02-22T05:44:52.555Z"
   },
   {
    "duration": 127,
    "start_time": "2023-02-22T05:44:53.684Z"
   },
   {
    "duration": 16,
    "start_time": "2023-02-22T05:44:53.814Z"
   },
   {
    "duration": 28,
    "start_time": "2023-02-22T05:44:53.832Z"
   },
   {
    "duration": 17,
    "start_time": "2023-02-22T05:44:53.862Z"
   },
   {
    "duration": 41,
    "start_time": "2023-02-22T05:44:53.880Z"
   },
   {
    "duration": 18,
    "start_time": "2023-02-22T05:44:53.924Z"
   },
   {
    "duration": 17,
    "start_time": "2023-02-22T05:44:53.944Z"
   },
   {
    "duration": 11,
    "start_time": "2023-02-22T05:44:53.962Z"
   },
   {
    "duration": 153,
    "start_time": "2023-02-22T05:44:53.974Z"
   },
   {
    "duration": 10,
    "start_time": "2023-02-22T05:44:54.129Z"
   },
   {
    "duration": 14,
    "start_time": "2023-02-22T05:44:54.141Z"
   },
   {
    "duration": 14,
    "start_time": "2023-02-22T05:44:54.157Z"
   },
   {
    "duration": 6,
    "start_time": "2023-02-22T05:44:54.174Z"
   },
   {
    "duration": 115,
    "start_time": "2023-02-22T05:44:54.182Z"
   },
   {
    "duration": 11,
    "start_time": "2023-02-22T05:44:54.299Z"
   },
   {
    "duration": 31,
    "start_time": "2023-02-22T05:44:54.312Z"
   },
   {
    "duration": 5,
    "start_time": "2023-02-22T05:44:54.345Z"
   },
   {
    "duration": 15,
    "start_time": "2023-02-22T05:44:54.352Z"
   },
   {
    "duration": 10,
    "start_time": "2023-02-22T05:44:54.369Z"
   },
   {
    "duration": 322,
    "start_time": "2023-02-22T05:44:54.381Z"
   },
   {
    "duration": 341,
    "start_time": "2023-02-22T05:44:54.710Z"
   },
   {
    "duration": 277,
    "start_time": "2023-02-22T05:44:55.054Z"
   },
   {
    "duration": 409,
    "start_time": "2023-02-22T05:44:55.333Z"
   },
   {
    "duration": 5,
    "start_time": "2023-02-22T05:44:55.744Z"
   },
   {
    "duration": 14,
    "start_time": "2023-02-22T05:44:55.752Z"
   },
   {
    "duration": 272,
    "start_time": "2023-02-22T05:44:55.767Z"
   },
   {
    "duration": 421,
    "start_time": "2023-02-22T05:44:56.041Z"
   },
   {
    "duration": 16,
    "start_time": "2023-02-22T05:44:56.464Z"
   },
   {
    "duration": 232,
    "start_time": "2023-02-22T05:44:56.482Z"
   },
   {
    "duration": 6,
    "start_time": "2023-02-22T05:44:56.725Z"
   },
   {
    "duration": 164,
    "start_time": "2023-02-22T05:44:56.733Z"
   },
   {
    "duration": 204,
    "start_time": "2023-02-22T05:44:56.898Z"
   },
   {
    "duration": 6,
    "start_time": "2023-02-22T05:44:57.108Z"
   },
   {
    "duration": 306,
    "start_time": "2023-02-22T05:44:57.116Z"
   },
   {
    "duration": 202,
    "start_time": "2023-02-22T05:44:57.430Z"
   },
   {
    "duration": 12,
    "start_time": "2023-02-22T05:44:57.634Z"
   },
   {
    "duration": 15,
    "start_time": "2023-02-22T05:44:57.648Z"
   },
   {
    "duration": 31,
    "start_time": "2023-02-22T05:44:57.665Z"
   },
   {
    "duration": 48,
    "start_time": "2023-02-22T05:44:57.698Z"
   },
   {
    "duration": 13,
    "start_time": "2023-02-22T05:44:57.750Z"
   },
   {
    "duration": 1221,
    "start_time": "2023-02-22T05:47:10.964Z"
   },
   {
    "duration": 56,
    "start_time": "2023-02-22T05:47:12.187Z"
   },
   {
    "duration": 11,
    "start_time": "2023-02-22T05:47:12.245Z"
   },
   {
    "duration": 58,
    "start_time": "2023-02-22T05:47:12.257Z"
   },
   {
    "duration": 16,
    "start_time": "2023-02-22T05:47:12.327Z"
   },
   {
    "duration": 9,
    "start_time": "2023-02-22T05:47:12.344Z"
   },
   {
    "duration": 11,
    "start_time": "2023-02-22T05:47:12.354Z"
   },
   {
    "duration": 17,
    "start_time": "2023-02-22T05:47:12.366Z"
   },
   {
    "duration": 15,
    "start_time": "2023-02-22T05:47:12.385Z"
   },
   {
    "duration": 77,
    "start_time": "2023-02-22T05:47:12.402Z"
   },
   {
    "duration": 20,
    "start_time": "2023-02-22T05:47:12.481Z"
   },
   {
    "duration": 74,
    "start_time": "2023-02-22T05:47:12.503Z"
   },
   {
    "duration": 50,
    "start_time": "2023-02-22T05:47:12.579Z"
   },
   {
    "duration": 17,
    "start_time": "2023-02-22T05:47:12.632Z"
   },
   {
    "duration": 53,
    "start_time": "2023-02-22T05:47:12.654Z"
   },
   {
    "duration": 22,
    "start_time": "2023-02-22T05:47:12.711Z"
   },
   {
    "duration": 19,
    "start_time": "2023-02-22T05:47:12.735Z"
   },
   {
    "duration": 21,
    "start_time": "2023-02-22T05:47:12.756Z"
   },
   {
    "duration": 61,
    "start_time": "2023-02-22T05:47:12.779Z"
   },
   {
    "duration": 23,
    "start_time": "2023-02-22T05:47:12.843Z"
   },
   {
    "duration": 328,
    "start_time": "2023-02-22T05:47:12.868Z"
   },
   {
    "duration": 359,
    "start_time": "2023-02-22T05:47:13.208Z"
   },
   {
    "duration": 259,
    "start_time": "2023-02-22T05:47:13.569Z"
   },
   {
    "duration": 349,
    "start_time": "2023-02-22T05:47:13.830Z"
   },
   {
    "duration": 25,
    "start_time": "2023-02-22T05:47:14.181Z"
   },
   {
    "duration": 17,
    "start_time": "2023-02-22T05:47:14.215Z"
   },
   {
    "duration": 253,
    "start_time": "2023-02-22T05:47:14.234Z"
   },
   {
    "duration": 445,
    "start_time": "2023-02-22T05:47:14.489Z"
   },
   {
    "duration": 16,
    "start_time": "2023-02-22T05:47:14.936Z"
   },
   {
    "duration": 187,
    "start_time": "2023-02-22T05:47:14.954Z"
   },
   {
    "duration": 5,
    "start_time": "2023-02-22T05:47:15.143Z"
   },
   {
    "duration": 214,
    "start_time": "2023-02-22T05:47:15.150Z"
   },
   {
    "duration": 197,
    "start_time": "2023-02-22T05:47:15.366Z"
   },
   {
    "duration": 5,
    "start_time": "2023-02-22T05:47:15.565Z"
   },
   {
    "duration": 276,
    "start_time": "2023-02-22T05:47:15.572Z"
   },
   {
    "duration": 226,
    "start_time": "2023-02-22T05:47:15.851Z"
   },
   {
    "duration": 24,
    "start_time": "2023-02-22T05:47:16.080Z"
   },
   {
    "duration": 45,
    "start_time": "2023-02-22T05:47:16.109Z"
   },
   {
    "duration": 15,
    "start_time": "2023-02-22T05:47:16.156Z"
   },
   {
    "duration": 61,
    "start_time": "2023-02-22T05:47:16.173Z"
   },
   {
    "duration": 38,
    "start_time": "2023-02-22T05:47:16.238Z"
   }
  ],
  "kernelspec": {
   "display_name": "Python 3 (ipykernel)",
   "language": "python",
   "name": "python3"
  },
  "language_info": {
   "codemirror_mode": {
    "name": "ipython",
    "version": 3
   },
   "file_extension": ".py",
   "mimetype": "text/x-python",
   "name": "python",
   "nbconvert_exporter": "python",
   "pygments_lexer": "ipython3",
   "version": "3.9.13"
  },
  "toc": {
   "base_numbering": 1,
   "nav_menu": {},
   "number_sections": true,
   "sideBar": true,
   "skip_h1_title": true,
   "title_cell": "Table of Contents",
   "title_sidebar": "Contents",
   "toc_cell": false,
   "toc_position": {
    "height": "calc(100% - 180px)",
    "left": "10px",
    "top": "150px",
    "width": "228.542px"
   },
   "toc_section_display": true,
   "toc_window_display": true
  }
 },
 "nbformat": 4,
 "nbformat_minor": 2
}
