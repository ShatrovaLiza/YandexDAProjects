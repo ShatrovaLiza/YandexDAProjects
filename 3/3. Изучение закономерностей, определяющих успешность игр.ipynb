{
 "cells": [
  {
   "cell_type": "markdown",
   "metadata": {},
   "source": [
    "# Выявление потенциально успешных продуктов для интернет-магазина компьютерных игр на будущий год"
   ]
  },
  {
   "cell_type": "markdown",
   "metadata": {},
   "source": [
    "Нам доступны исторические данные о продажах игр, оценки пользователей и экспертов, жанры и платформы.  \n",
    "Нужно выявить определяющие успешность игры закономерности, что позволит сделать ставку на потенциально популярный продукт и спланировать рекламные кампании.  \n",
    "Располагаем данными до 2016 года, соответственно, планируем кампанию на 2017-й. "
   ]
  },
  {
   "cell_type": "markdown",
   "metadata": {},
   "source": [
    "**Описание данных:**  \n",
    "* Name — название игры\n",
    "* Platform — платформа\n",
    "* Year_of_Release — год выпуска\n",
    "* Genre — жанр игры\n",
    "* NA_sales — продажи в Северной Америке (миллионы проданных копий)\n",
    "* EU_sales — продажи в Европе (миллионы проданных копий)\n",
    "* JP_sales — продажи в Японии (миллионы проданных копий)\n",
    "* Other_sales — продажи в других странах (миллионы проданных копий)\n",
    "* Critic_Score — оценка критиков (максимум 100)\n",
    "* User_Score — оценка пользователей (максимум 10)\n",
    "* Rating — рейтинг от организации ESRB (англ. Entertainment Software Rating Board). Эта ассоциация определяет рейтинг компьютерных игр и присваивает им подходящую возрастную категорию."
   ]
  },
  {
   "cell_type": "markdown",
   "metadata": {},
   "source": [
    "Порядок работы:  \n",
    "\n",
    "1. обзор данных;\n",
    "2. предобработка данных;\n",
    "3. исследовательский анализ данных;\n",
    "4. статистический анализ данных."
   ]
  },
  {
   "cell_type": "markdown",
   "metadata": {},
   "source": [
    "## Изучение общей информации  \n"
   ]
  },
  {
   "cell_type": "code",
   "execution_count": 114,
   "metadata": {},
   "outputs": [],
   "source": [
    "#импортируем все необходимые библиотеки\n",
    "import pandas as pd\n",
    "import seaborn as sns\n",
    "import matplotlib.pyplot as plt\n",
    "import numpy as np\n",
    "from scipy import stats as st"
   ]
  },
  {
   "cell_type": "code",
   "execution_count": 115,
   "metadata": {},
   "outputs": [],
   "source": [
    "#считаем csv-файл games.csv в датафрейм data\n",
    "data = pd.read_csv('/datasets/games.csv') "
   ]
  },
  {
   "cell_type": "code",
   "execution_count": 116,
   "metadata": {},
   "outputs": [
    {
     "data": {
      "text/html": [
       "<div>\n",
       "<style scoped>\n",
       "    .dataframe tbody tr th:only-of-type {\n",
       "        vertical-align: middle;\n",
       "    }\n",
       "\n",
       "    .dataframe tbody tr th {\n",
       "        vertical-align: top;\n",
       "    }\n",
       "\n",
       "    .dataframe thead th {\n",
       "        text-align: right;\n",
       "    }\n",
       "</style>\n",
       "<table border=\"1\" class=\"dataframe\">\n",
       "  <thead>\n",
       "    <tr style=\"text-align: right;\">\n",
       "      <th></th>\n",
       "      <th>Name</th>\n",
       "      <th>Platform</th>\n",
       "      <th>Year_of_Release</th>\n",
       "      <th>Genre</th>\n",
       "      <th>NA_sales</th>\n",
       "      <th>EU_sales</th>\n",
       "      <th>JP_sales</th>\n",
       "      <th>Other_sales</th>\n",
       "      <th>Critic_Score</th>\n",
       "      <th>User_Score</th>\n",
       "      <th>Rating</th>\n",
       "    </tr>\n",
       "  </thead>\n",
       "  <tbody>\n",
       "    <tr>\n",
       "      <th>0</th>\n",
       "      <td>Wii Sports</td>\n",
       "      <td>Wii</td>\n",
       "      <td>2006.0</td>\n",
       "      <td>Sports</td>\n",
       "      <td>41.36</td>\n",
       "      <td>28.96</td>\n",
       "      <td>3.77</td>\n",
       "      <td>8.45</td>\n",
       "      <td>76.0</td>\n",
       "      <td>8</td>\n",
       "      <td>E</td>\n",
       "    </tr>\n",
       "    <tr>\n",
       "      <th>1</th>\n",
       "      <td>Super Mario Bros.</td>\n",
       "      <td>NES</td>\n",
       "      <td>1985.0</td>\n",
       "      <td>Platform</td>\n",
       "      <td>29.08</td>\n",
       "      <td>3.58</td>\n",
       "      <td>6.81</td>\n",
       "      <td>0.77</td>\n",
       "      <td>NaN</td>\n",
       "      <td>NaN</td>\n",
       "      <td>NaN</td>\n",
       "    </tr>\n",
       "    <tr>\n",
       "      <th>2</th>\n",
       "      <td>Mario Kart Wii</td>\n",
       "      <td>Wii</td>\n",
       "      <td>2008.0</td>\n",
       "      <td>Racing</td>\n",
       "      <td>15.68</td>\n",
       "      <td>12.76</td>\n",
       "      <td>3.79</td>\n",
       "      <td>3.29</td>\n",
       "      <td>82.0</td>\n",
       "      <td>8.3</td>\n",
       "      <td>E</td>\n",
       "    </tr>\n",
       "    <tr>\n",
       "      <th>3</th>\n",
       "      <td>Wii Sports Resort</td>\n",
       "      <td>Wii</td>\n",
       "      <td>2009.0</td>\n",
       "      <td>Sports</td>\n",
       "      <td>15.61</td>\n",
       "      <td>10.93</td>\n",
       "      <td>3.28</td>\n",
       "      <td>2.95</td>\n",
       "      <td>80.0</td>\n",
       "      <td>8</td>\n",
       "      <td>E</td>\n",
       "    </tr>\n",
       "    <tr>\n",
       "      <th>4</th>\n",
       "      <td>Pokemon Red/Pokemon Blue</td>\n",
       "      <td>GB</td>\n",
       "      <td>1996.0</td>\n",
       "      <td>Role-Playing</td>\n",
       "      <td>11.27</td>\n",
       "      <td>8.89</td>\n",
       "      <td>10.22</td>\n",
       "      <td>1.00</td>\n",
       "      <td>NaN</td>\n",
       "      <td>NaN</td>\n",
       "      <td>NaN</td>\n",
       "    </tr>\n",
       "    <tr>\n",
       "      <th>5</th>\n",
       "      <td>Tetris</td>\n",
       "      <td>GB</td>\n",
       "      <td>1989.0</td>\n",
       "      <td>Puzzle</td>\n",
       "      <td>23.20</td>\n",
       "      <td>2.26</td>\n",
       "      <td>4.22</td>\n",
       "      <td>0.58</td>\n",
       "      <td>NaN</td>\n",
       "      <td>NaN</td>\n",
       "      <td>NaN</td>\n",
       "    </tr>\n",
       "    <tr>\n",
       "      <th>6</th>\n",
       "      <td>New Super Mario Bros.</td>\n",
       "      <td>DS</td>\n",
       "      <td>2006.0</td>\n",
       "      <td>Platform</td>\n",
       "      <td>11.28</td>\n",
       "      <td>9.14</td>\n",
       "      <td>6.50</td>\n",
       "      <td>2.88</td>\n",
       "      <td>89.0</td>\n",
       "      <td>8.5</td>\n",
       "      <td>E</td>\n",
       "    </tr>\n",
       "    <tr>\n",
       "      <th>7</th>\n",
       "      <td>Wii Play</td>\n",
       "      <td>Wii</td>\n",
       "      <td>2006.0</td>\n",
       "      <td>Misc</td>\n",
       "      <td>13.96</td>\n",
       "      <td>9.18</td>\n",
       "      <td>2.93</td>\n",
       "      <td>2.84</td>\n",
       "      <td>58.0</td>\n",
       "      <td>6.6</td>\n",
       "      <td>E</td>\n",
       "    </tr>\n",
       "    <tr>\n",
       "      <th>8</th>\n",
       "      <td>New Super Mario Bros. Wii</td>\n",
       "      <td>Wii</td>\n",
       "      <td>2009.0</td>\n",
       "      <td>Platform</td>\n",
       "      <td>14.44</td>\n",
       "      <td>6.94</td>\n",
       "      <td>4.70</td>\n",
       "      <td>2.24</td>\n",
       "      <td>87.0</td>\n",
       "      <td>8.4</td>\n",
       "      <td>E</td>\n",
       "    </tr>\n",
       "    <tr>\n",
       "      <th>9</th>\n",
       "      <td>Duck Hunt</td>\n",
       "      <td>NES</td>\n",
       "      <td>1984.0</td>\n",
       "      <td>Shooter</td>\n",
       "      <td>26.93</td>\n",
       "      <td>0.63</td>\n",
       "      <td>0.28</td>\n",
       "      <td>0.47</td>\n",
       "      <td>NaN</td>\n",
       "      <td>NaN</td>\n",
       "      <td>NaN</td>\n",
       "    </tr>\n",
       "  </tbody>\n",
       "</table>\n",
       "</div>"
      ],
      "text/plain": [
       "                        Name Platform  Year_of_Release         Genre  \\\n",
       "0                 Wii Sports      Wii           2006.0        Sports   \n",
       "1          Super Mario Bros.      NES           1985.0      Platform   \n",
       "2             Mario Kart Wii      Wii           2008.0        Racing   \n",
       "3          Wii Sports Resort      Wii           2009.0        Sports   \n",
       "4   Pokemon Red/Pokemon Blue       GB           1996.0  Role-Playing   \n",
       "5                     Tetris       GB           1989.0        Puzzle   \n",
       "6      New Super Mario Bros.       DS           2006.0      Platform   \n",
       "7                   Wii Play      Wii           2006.0          Misc   \n",
       "8  New Super Mario Bros. Wii      Wii           2009.0      Platform   \n",
       "9                  Duck Hunt      NES           1984.0       Shooter   \n",
       "\n",
       "   NA_sales  EU_sales  JP_sales  Other_sales  Critic_Score User_Score Rating  \n",
       "0     41.36     28.96      3.77         8.45          76.0          8      E  \n",
       "1     29.08      3.58      6.81         0.77           NaN        NaN    NaN  \n",
       "2     15.68     12.76      3.79         3.29          82.0        8.3      E  \n",
       "3     15.61     10.93      3.28         2.95          80.0          8      E  \n",
       "4     11.27      8.89     10.22         1.00           NaN        NaN    NaN  \n",
       "5     23.20      2.26      4.22         0.58           NaN        NaN    NaN  \n",
       "6     11.28      9.14      6.50         2.88          89.0        8.5      E  \n",
       "7     13.96      9.18      2.93         2.84          58.0        6.6      E  \n",
       "8     14.44      6.94      4.70         2.24          87.0        8.4      E  \n",
       "9     26.93      0.63      0.28         0.47           NaN        NaN    NaN  "
      ]
     },
     "execution_count": 116,
     "metadata": {},
     "output_type": "execute_result"
    }
   ],
   "source": [
    "#выведем на экран первые 10 строк\n",
    "data.head(10) "
   ]
  },
  {
   "cell_type": "code",
   "execution_count": 117,
   "metadata": {},
   "outputs": [
    {
     "name": "stdout",
     "output_type": "stream",
     "text": [
      "<class 'pandas.core.frame.DataFrame'>\n",
      "RangeIndex: 16715 entries, 0 to 16714\n",
      "Data columns (total 11 columns):\n",
      " #   Column           Non-Null Count  Dtype  \n",
      "---  ------           --------------  -----  \n",
      " 0   Name             16713 non-null  object \n",
      " 1   Platform         16715 non-null  object \n",
      " 2   Year_of_Release  16446 non-null  float64\n",
      " 3   Genre            16713 non-null  object \n",
      " 4   NA_sales         16715 non-null  float64\n",
      " 5   EU_sales         16715 non-null  float64\n",
      " 6   JP_sales         16715 non-null  float64\n",
      " 7   Other_sales      16715 non-null  float64\n",
      " 8   Critic_Score     8137 non-null   float64\n",
      " 9   User_Score       10014 non-null  object \n",
      " 10  Rating           9949 non-null   object \n",
      "dtypes: float64(6), object(5)\n",
      "memory usage: 1.4+ MB\n"
     ]
    }
   ],
   "source": [
    "# посмотрим общую информацию о датафрейме\n",
    "data.info()"
   ]
  },
  {
   "cell_type": "code",
   "execution_count": 118,
   "metadata": {},
   "outputs": [
    {
     "data": {
      "text/html": [
       "<div>\n",
       "<style scoped>\n",
       "    .dataframe tbody tr th:only-of-type {\n",
       "        vertical-align: middle;\n",
       "    }\n",
       "\n",
       "    .dataframe tbody tr th {\n",
       "        vertical-align: top;\n",
       "    }\n",
       "\n",
       "    .dataframe thead th {\n",
       "        text-align: right;\n",
       "    }\n",
       "</style>\n",
       "<table border=\"1\" class=\"dataframe\">\n",
       "  <thead>\n",
       "    <tr style=\"text-align: right;\">\n",
       "      <th></th>\n",
       "      <th>Year_of_Release</th>\n",
       "      <th>NA_sales</th>\n",
       "      <th>EU_sales</th>\n",
       "      <th>JP_sales</th>\n",
       "      <th>Other_sales</th>\n",
       "      <th>Critic_Score</th>\n",
       "    </tr>\n",
       "  </thead>\n",
       "  <tbody>\n",
       "    <tr>\n",
       "      <th>count</th>\n",
       "      <td>16446.000000</td>\n",
       "      <td>16715.000000</td>\n",
       "      <td>16715.000000</td>\n",
       "      <td>16715.000000</td>\n",
       "      <td>16715.000000</td>\n",
       "      <td>8137.000000</td>\n",
       "    </tr>\n",
       "    <tr>\n",
       "      <th>mean</th>\n",
       "      <td>2006.484616</td>\n",
       "      <td>0.263377</td>\n",
       "      <td>0.145060</td>\n",
       "      <td>0.077617</td>\n",
       "      <td>0.047342</td>\n",
       "      <td>68.967679</td>\n",
       "    </tr>\n",
       "    <tr>\n",
       "      <th>std</th>\n",
       "      <td>5.877050</td>\n",
       "      <td>0.813604</td>\n",
       "      <td>0.503339</td>\n",
       "      <td>0.308853</td>\n",
       "      <td>0.186731</td>\n",
       "      <td>13.938165</td>\n",
       "    </tr>\n",
       "    <tr>\n",
       "      <th>min</th>\n",
       "      <td>1980.000000</td>\n",
       "      <td>0.000000</td>\n",
       "      <td>0.000000</td>\n",
       "      <td>0.000000</td>\n",
       "      <td>0.000000</td>\n",
       "      <td>13.000000</td>\n",
       "    </tr>\n",
       "    <tr>\n",
       "      <th>25%</th>\n",
       "      <td>2003.000000</td>\n",
       "      <td>0.000000</td>\n",
       "      <td>0.000000</td>\n",
       "      <td>0.000000</td>\n",
       "      <td>0.000000</td>\n",
       "      <td>60.000000</td>\n",
       "    </tr>\n",
       "    <tr>\n",
       "      <th>50%</th>\n",
       "      <td>2007.000000</td>\n",
       "      <td>0.080000</td>\n",
       "      <td>0.020000</td>\n",
       "      <td>0.000000</td>\n",
       "      <td>0.010000</td>\n",
       "      <td>71.000000</td>\n",
       "    </tr>\n",
       "    <tr>\n",
       "      <th>75%</th>\n",
       "      <td>2010.000000</td>\n",
       "      <td>0.240000</td>\n",
       "      <td>0.110000</td>\n",
       "      <td>0.040000</td>\n",
       "      <td>0.030000</td>\n",
       "      <td>79.000000</td>\n",
       "    </tr>\n",
       "    <tr>\n",
       "      <th>max</th>\n",
       "      <td>2016.000000</td>\n",
       "      <td>41.360000</td>\n",
       "      <td>28.960000</td>\n",
       "      <td>10.220000</td>\n",
       "      <td>10.570000</td>\n",
       "      <td>98.000000</td>\n",
       "    </tr>\n",
       "  </tbody>\n",
       "</table>\n",
       "</div>"
      ],
      "text/plain": [
       "       Year_of_Release      NA_sales      EU_sales      JP_sales  \\\n",
       "count     16446.000000  16715.000000  16715.000000  16715.000000   \n",
       "mean       2006.484616      0.263377      0.145060      0.077617   \n",
       "std           5.877050      0.813604      0.503339      0.308853   \n",
       "min        1980.000000      0.000000      0.000000      0.000000   \n",
       "25%        2003.000000      0.000000      0.000000      0.000000   \n",
       "50%        2007.000000      0.080000      0.020000      0.000000   \n",
       "75%        2010.000000      0.240000      0.110000      0.040000   \n",
       "max        2016.000000     41.360000     28.960000     10.220000   \n",
       "\n",
       "        Other_sales  Critic_Score  \n",
       "count  16715.000000   8137.000000  \n",
       "mean       0.047342     68.967679  \n",
       "std        0.186731     13.938165  \n",
       "min        0.000000     13.000000  \n",
       "25%        0.000000     60.000000  \n",
       "50%        0.010000     71.000000  \n",
       "75%        0.030000     79.000000  \n",
       "max       10.570000     98.000000  "
      ]
     },
     "execution_count": 118,
     "metadata": {},
     "output_type": "execute_result"
    }
   ],
   "source": [
    "#посмотрим на характерные значения\n",
    "data.describe()"
   ]
  },
  {
   "cell_type": "markdown",
   "metadata": {},
   "source": [
    "**Вывод:**  \n",
    "В датафрейме 16715 строк  \n",
    "Судя по данным describe в столбце Year_of_Release представлены данные с 1980 по 2016 год  \n",
    "Присутствуют пропуски в столбцах Name, Year_of_Release, Genre, Critic_Score, User_Score и Rating  \n",
    "Некорректные типы данных в столбцах Year_of_Release, User_Score  \n",
    "В названиях всех столбцов есть прописные буквы  "
   ]
  },
  {
   "cell_type": "markdown",
   "metadata": {},
   "source": [
    "## Предобработка данных"
   ]
  },
  {
   "cell_type": "markdown",
   "metadata": {},
   "source": [
    "В предобработке данных необходимо выполнить следующие действия:  \n",
    "1. привести названия столбцов к нижнему регистру;\n",
    "2. преобразовать данные в нужные типы;\n",
    "3. обработать пропуски;\n",
    "4. добавить столбец с суммарными продажами во всех регионах."
   ]
  },
  {
   "cell_type": "markdown",
   "metadata": {},
   "source": [
    "### Корректировка названий столбцов"
   ]
  },
  {
   "cell_type": "code",
   "execution_count": 119,
   "metadata": {},
   "outputs": [],
   "source": [
    "#приведем все названия к нижнему регистру\n",
    "data.columns = data.columns.str.lower()"
   ]
  },
  {
   "cell_type": "code",
   "execution_count": 120,
   "metadata": {},
   "outputs": [
    {
     "data": {
      "text/html": [
       "<div>\n",
       "<style scoped>\n",
       "    .dataframe tbody tr th:only-of-type {\n",
       "        vertical-align: middle;\n",
       "    }\n",
       "\n",
       "    .dataframe tbody tr th {\n",
       "        vertical-align: top;\n",
       "    }\n",
       "\n",
       "    .dataframe thead th {\n",
       "        text-align: right;\n",
       "    }\n",
       "</style>\n",
       "<table border=\"1\" class=\"dataframe\">\n",
       "  <thead>\n",
       "    <tr style=\"text-align: right;\">\n",
       "      <th></th>\n",
       "      <th>name</th>\n",
       "      <th>platform</th>\n",
       "      <th>year_of_release</th>\n",
       "      <th>genre</th>\n",
       "      <th>na_sales</th>\n",
       "      <th>eu_sales</th>\n",
       "      <th>jp_sales</th>\n",
       "      <th>other_sales</th>\n",
       "      <th>critic_score</th>\n",
       "      <th>user_score</th>\n",
       "      <th>rating</th>\n",
       "    </tr>\n",
       "  </thead>\n",
       "  <tbody>\n",
       "    <tr>\n",
       "      <th>0</th>\n",
       "      <td>Wii Sports</td>\n",
       "      <td>Wii</td>\n",
       "      <td>2006.0</td>\n",
       "      <td>Sports</td>\n",
       "      <td>41.36</td>\n",
       "      <td>28.96</td>\n",
       "      <td>3.77</td>\n",
       "      <td>8.45</td>\n",
       "      <td>76.0</td>\n",
       "      <td>8</td>\n",
       "      <td>E</td>\n",
       "    </tr>\n",
       "    <tr>\n",
       "      <th>1</th>\n",
       "      <td>Super Mario Bros.</td>\n",
       "      <td>NES</td>\n",
       "      <td>1985.0</td>\n",
       "      <td>Platform</td>\n",
       "      <td>29.08</td>\n",
       "      <td>3.58</td>\n",
       "      <td>6.81</td>\n",
       "      <td>0.77</td>\n",
       "      <td>NaN</td>\n",
       "      <td>NaN</td>\n",
       "      <td>NaN</td>\n",
       "    </tr>\n",
       "    <tr>\n",
       "      <th>2</th>\n",
       "      <td>Mario Kart Wii</td>\n",
       "      <td>Wii</td>\n",
       "      <td>2008.0</td>\n",
       "      <td>Racing</td>\n",
       "      <td>15.68</td>\n",
       "      <td>12.76</td>\n",
       "      <td>3.79</td>\n",
       "      <td>3.29</td>\n",
       "      <td>82.0</td>\n",
       "      <td>8.3</td>\n",
       "      <td>E</td>\n",
       "    </tr>\n",
       "    <tr>\n",
       "      <th>3</th>\n",
       "      <td>Wii Sports Resort</td>\n",
       "      <td>Wii</td>\n",
       "      <td>2009.0</td>\n",
       "      <td>Sports</td>\n",
       "      <td>15.61</td>\n",
       "      <td>10.93</td>\n",
       "      <td>3.28</td>\n",
       "      <td>2.95</td>\n",
       "      <td>80.0</td>\n",
       "      <td>8</td>\n",
       "      <td>E</td>\n",
       "    </tr>\n",
       "    <tr>\n",
       "      <th>4</th>\n",
       "      <td>Pokemon Red/Pokemon Blue</td>\n",
       "      <td>GB</td>\n",
       "      <td>1996.0</td>\n",
       "      <td>Role-Playing</td>\n",
       "      <td>11.27</td>\n",
       "      <td>8.89</td>\n",
       "      <td>10.22</td>\n",
       "      <td>1.00</td>\n",
       "      <td>NaN</td>\n",
       "      <td>NaN</td>\n",
       "      <td>NaN</td>\n",
       "    </tr>\n",
       "  </tbody>\n",
       "</table>\n",
       "</div>"
      ],
      "text/plain": [
       "                       name platform  year_of_release         genre  na_sales  \\\n",
       "0                Wii Sports      Wii           2006.0        Sports     41.36   \n",
       "1         Super Mario Bros.      NES           1985.0      Platform     29.08   \n",
       "2            Mario Kart Wii      Wii           2008.0        Racing     15.68   \n",
       "3         Wii Sports Resort      Wii           2009.0        Sports     15.61   \n",
       "4  Pokemon Red/Pokemon Blue       GB           1996.0  Role-Playing     11.27   \n",
       "\n",
       "   eu_sales  jp_sales  other_sales  critic_score user_score rating  \n",
       "0     28.96      3.77         8.45          76.0          8      E  \n",
       "1      3.58      6.81         0.77           NaN        NaN    NaN  \n",
       "2     12.76      3.79         3.29          82.0        8.3      E  \n",
       "3     10.93      3.28         2.95          80.0          8      E  \n",
       "4      8.89     10.22         1.00           NaN        NaN    NaN  "
      ]
     },
     "execution_count": 120,
     "metadata": {},
     "output_type": "execute_result"
    }
   ],
   "source": [
    "#проверим, что изменения произошли\n",
    "data.head()"
   ]
  },
  {
   "cell_type": "markdown",
   "metadata": {},
   "source": [
    "### Обработка пропусков"
   ]
  },
  {
   "cell_type": "code",
   "execution_count": 121,
   "metadata": {
    "scrolled": true
   },
   "outputs": [
    {
     "data": {
      "text/plain": [
       "name                  2\n",
       "platform              0\n",
       "year_of_release     269\n",
       "genre                 2\n",
       "na_sales              0\n",
       "eu_sales              0\n",
       "jp_sales              0\n",
       "other_sales           0\n",
       "critic_score       8578\n",
       "user_score         6701\n",
       "rating             6766\n",
       "dtype: int64"
      ]
     },
     "execution_count": 121,
     "metadata": {},
     "output_type": "execute_result"
    }
   ],
   "source": [
    "# посмотрим, в каких столбцах сколько пропусков\n",
    "data.isna().sum() "
   ]
  },
  {
   "cell_type": "code",
   "execution_count": 122,
   "metadata": {},
   "outputs": [
    {
     "name": "stdout",
     "output_type": "stream",
     "text": [
      "Requirement already satisfied: missingno in /opt/conda/lib/python3.9/site-packages (0.5.1)\n",
      "Requirement already satisfied: numpy in /opt/conda/lib/python3.9/site-packages (from missingno) (1.21.1)\n",
      "Requirement already satisfied: matplotlib in /opt/conda/lib/python3.9/site-packages (from missingno) (3.3.4)\n",
      "Requirement already satisfied: seaborn in /opt/conda/lib/python3.9/site-packages (from missingno) (0.11.1)\n",
      "Requirement already satisfied: scipy in /opt/conda/lib/python3.9/site-packages (from missingno) (1.9.1)\n",
      "Requirement already satisfied: pillow>=6.2.0 in /opt/conda/lib/python3.9/site-packages (from matplotlib->missingno) (8.4.0)\n",
      "Requirement already satisfied: pyparsing!=2.0.4,!=2.1.2,!=2.1.6,>=2.0.3 in /opt/conda/lib/python3.9/site-packages (from matplotlib->missingno) (2.4.7)\n",
      "Requirement already satisfied: cycler>=0.10 in /opt/conda/lib/python3.9/site-packages (from matplotlib->missingno) (0.11.0)\n",
      "Requirement already satisfied: python-dateutil>=2.1 in /opt/conda/lib/python3.9/site-packages (from matplotlib->missingno) (2.8.1)\n",
      "Requirement already satisfied: kiwisolver>=1.0.1 in /opt/conda/lib/python3.9/site-packages (from matplotlib->missingno) (1.4.4)\n",
      "Requirement already satisfied: six>=1.5 in /opt/conda/lib/python3.9/site-packages (from python-dateutil>=2.1->matplotlib->missingno) (1.16.0)\n",
      "Requirement already satisfied: pandas>=0.23 in /opt/conda/lib/python3.9/site-packages (from seaborn->missingno) (1.2.4)\n",
      "Requirement already satisfied: pytz>=2017.3 in /opt/conda/lib/python3.9/site-packages (from pandas>=0.23->seaborn->missingno) (2021.1)\n",
      "Note: you may need to restart the kernel to use updated packages.\n"
     ]
    }
   ],
   "source": [
    "pip install missingno"
   ]
  },
  {
   "cell_type": "code",
   "execution_count": 123,
   "metadata": {},
   "outputs": [],
   "source": [
    "import missingno as msno"
   ]
  },
  {
   "cell_type": "code",
   "execution_count": 124,
   "metadata": {},
   "outputs": [
    {
     "data": {
      "text/plain": [
       "<AxesSubplot:>"
      ]
     },
     "execution_count": 124,
     "metadata": {},
     "output_type": "execute_result"
    },
    {
     "data": {
      "image/png": "[encoded data removed]",
      "text/plain": [
       "<Figure size 1800x720 with 2 Axes>"
      ]
     },
     "metadata": {
      "needs_background": "light"
     },
     "output_type": "display_data"
    }
   ],
   "source": [
    "msno.matrix(data, labels=True)"
   ]
  },
  {
   "cell_type": "markdown",
   "metadata": {},
   "source": [
    "При помощи визуализации пропущенных значений, получается наглядно, в какой степени отсутствуют значения в тех или иных столбцах  \n",
    "Видим незначительные пропуски в столбце year_of_release, а также сильную нехватку данных в user_score, rating, и больше всего в critic_score"
   ]
  },
  {
   "cell_type": "markdown",
   "metadata": {},
   "source": [
    "#### Пропуски в столбце name"
   ]
  },
  {
   "cell_type": "code",
   "execution_count": 125,
   "metadata": {},
   "outputs": [
    {
     "data": {
      "text/html": [
       "<div>\n",
       "<style scoped>\n",
       "    .dataframe tbody tr th:only-of-type {\n",
       "        vertical-align: middle;\n",
       "    }\n",
       "\n",
       "    .dataframe tbody tr th {\n",
       "        vertical-align: top;\n",
       "    }\n",
       "\n",
       "    .dataframe thead th {\n",
       "        text-align: right;\n",
       "    }\n",
       "</style>\n",
       "<table border=\"1\" class=\"dataframe\">\n",
       "  <thead>\n",
       "    <tr style=\"text-align: right;\">\n",
       "      <th></th>\n",
       "      <th>name</th>\n",
       "      <th>platform</th>\n",
       "      <th>year_of_release</th>\n",
       "      <th>genre</th>\n",
       "      <th>na_sales</th>\n",
       "      <th>eu_sales</th>\n",
       "      <th>jp_sales</th>\n",
       "      <th>other_sales</th>\n",
       "      <th>critic_score</th>\n",
       "      <th>user_score</th>\n",
       "      <th>rating</th>\n",
       "    </tr>\n",
       "  </thead>\n",
       "  <tbody>\n",
       "    <tr>\n",
       "      <th>659</th>\n",
       "      <td>NaN</td>\n",
       "      <td>GEN</td>\n",
       "      <td>1993.0</td>\n",
       "      <td>NaN</td>\n",
       "      <td>1.78</td>\n",
       "      <td>0.53</td>\n",
       "      <td>0.00</td>\n",
       "      <td>0.08</td>\n",
       "      <td>NaN</td>\n",
       "      <td>NaN</td>\n",
       "      <td>NaN</td>\n",
       "    </tr>\n",
       "    <tr>\n",
       "      <th>14244</th>\n",
       "      <td>NaN</td>\n",
       "      <td>GEN</td>\n",
       "      <td>1993.0</td>\n",
       "      <td>NaN</td>\n",
       "      <td>0.00</td>\n",
       "      <td>0.00</td>\n",
       "      <td>0.03</td>\n",
       "      <td>0.00</td>\n",
       "      <td>NaN</td>\n",
       "      <td>NaN</td>\n",
       "      <td>NaN</td>\n",
       "    </tr>\n",
       "  </tbody>\n",
       "</table>\n",
       "</div>"
      ],
      "text/plain": [
       "      name platform  year_of_release genre  na_sales  eu_sales  jp_sales  \\\n",
       "659    NaN      GEN           1993.0   NaN      1.78      0.53      0.00   \n",
       "14244  NaN      GEN           1993.0   NaN      0.00      0.00      0.03   \n",
       "\n",
       "       other_sales  critic_score user_score rating  \n",
       "659           0.08           NaN        NaN    NaN  \n",
       "14244         0.00           NaN        NaN    NaN  "
      ]
     },
     "execution_count": 125,
     "metadata": {},
     "output_type": "execute_result"
    }
   ],
   "source": [
    "data[data['name'].isna() == True]"
   ]
  },
  {
   "cell_type": "markdown",
   "metadata": {},
   "source": [
    "В столбце name всего два пропуска, также в этих строках отсутствуют значения еще в 4х столбцах, плюс это данные за 1993 год, скорее всего при дальнейшем анализе мы будем рассматривать более поздний период, поэтому эти строки можно удалить"
   ]
  },
  {
   "cell_type": "code",
   "execution_count": 126,
   "metadata": {},
   "outputs": [
    {
     "data": {
      "text/plain": [
       "16715"
      ]
     },
     "execution_count": 126,
     "metadata": {},
     "output_type": "execute_result"
    }
   ],
   "source": [
    "data.shape[0]"
   ]
  },
  {
   "cell_type": "code",
   "execution_count": 127,
   "metadata": {},
   "outputs": [],
   "source": [
    "data = data.dropna(subset = ['name'])"
   ]
  },
  {
   "cell_type": "code",
   "execution_count": 128,
   "metadata": {
    "scrolled": true
   },
   "outputs": [
    {
     "data": {
      "text/plain": [
       "16713"
      ]
     },
     "execution_count": 128,
     "metadata": {},
     "output_type": "execute_result"
    }
   ],
   "source": [
    "#проверим, что удалилось всего 2 строки\n",
    "data.shape[0]"
   ]
  },
  {
   "cell_type": "markdown",
   "metadata": {},
   "source": [
    "#### Пропуски в столбце year_of_release"
   ]
  },
  {
   "cell_type": "code",
   "execution_count": 129,
   "metadata": {},
   "outputs": [
    {
     "data": {
      "text/html": [
       "<div>\n",
       "<style scoped>\n",
       "    .dataframe tbody tr th:only-of-type {\n",
       "        vertical-align: middle;\n",
       "    }\n",
       "\n",
       "    .dataframe tbody tr th {\n",
       "        vertical-align: top;\n",
       "    }\n",
       "\n",
       "    .dataframe thead th {\n",
       "        text-align: right;\n",
       "    }\n",
       "</style>\n",
       "<table border=\"1\" class=\"dataframe\">\n",
       "  <thead>\n",
       "    <tr style=\"text-align: right;\">\n",
       "      <th></th>\n",
       "      <th>name</th>\n",
       "      <th>platform</th>\n",
       "      <th>year_of_release</th>\n",
       "      <th>genre</th>\n",
       "      <th>na_sales</th>\n",
       "      <th>eu_sales</th>\n",
       "      <th>jp_sales</th>\n",
       "      <th>other_sales</th>\n",
       "      <th>critic_score</th>\n",
       "      <th>user_score</th>\n",
       "      <th>rating</th>\n",
       "    </tr>\n",
       "  </thead>\n",
       "  <tbody>\n",
       "    <tr>\n",
       "      <th>183</th>\n",
       "      <td>Madden NFL 2004</td>\n",
       "      <td>PS2</td>\n",
       "      <td>NaN</td>\n",
       "      <td>Sports</td>\n",
       "      <td>4.26</td>\n",
       "      <td>0.26</td>\n",
       "      <td>0.01</td>\n",
       "      <td>0.71</td>\n",
       "      <td>94.0</td>\n",
       "      <td>8.5</td>\n",
       "      <td>E</td>\n",
       "    </tr>\n",
       "    <tr>\n",
       "      <th>377</th>\n",
       "      <td>FIFA Soccer 2004</td>\n",
       "      <td>PS2</td>\n",
       "      <td>NaN</td>\n",
       "      <td>Sports</td>\n",
       "      <td>0.59</td>\n",
       "      <td>2.36</td>\n",
       "      <td>0.04</td>\n",
       "      <td>0.51</td>\n",
       "      <td>84.0</td>\n",
       "      <td>6.4</td>\n",
       "      <td>E</td>\n",
       "    </tr>\n",
       "    <tr>\n",
       "      <th>456</th>\n",
       "      <td>LEGO Batman: The Videogame</td>\n",
       "      <td>Wii</td>\n",
       "      <td>NaN</td>\n",
       "      <td>Action</td>\n",
       "      <td>1.80</td>\n",
       "      <td>0.97</td>\n",
       "      <td>0.00</td>\n",
       "      <td>0.29</td>\n",
       "      <td>74.0</td>\n",
       "      <td>7.9</td>\n",
       "      <td>E10+</td>\n",
       "    </tr>\n",
       "    <tr>\n",
       "      <th>475</th>\n",
       "      <td>wwe Smackdown vs. Raw 2006</td>\n",
       "      <td>PS2</td>\n",
       "      <td>NaN</td>\n",
       "      <td>Fighting</td>\n",
       "      <td>1.57</td>\n",
       "      <td>1.02</td>\n",
       "      <td>0.00</td>\n",
       "      <td>0.41</td>\n",
       "      <td>NaN</td>\n",
       "      <td>NaN</td>\n",
       "      <td>NaN</td>\n",
       "    </tr>\n",
       "    <tr>\n",
       "      <th>609</th>\n",
       "      <td>Space Invaders</td>\n",
       "      <td>2600</td>\n",
       "      <td>NaN</td>\n",
       "      <td>Shooter</td>\n",
       "      <td>2.36</td>\n",
       "      <td>0.14</td>\n",
       "      <td>0.00</td>\n",
       "      <td>0.03</td>\n",
       "      <td>NaN</td>\n",
       "      <td>NaN</td>\n",
       "      <td>NaN</td>\n",
       "    </tr>\n",
       "    <tr>\n",
       "      <th>...</th>\n",
       "      <td>...</td>\n",
       "      <td>...</td>\n",
       "      <td>...</td>\n",
       "      <td>...</td>\n",
       "      <td>...</td>\n",
       "      <td>...</td>\n",
       "      <td>...</td>\n",
       "      <td>...</td>\n",
       "      <td>...</td>\n",
       "      <td>...</td>\n",
       "      <td>...</td>\n",
       "    </tr>\n",
       "    <tr>\n",
       "      <th>16373</th>\n",
       "      <td>PDC World Championship Darts 2008</td>\n",
       "      <td>PSP</td>\n",
       "      <td>NaN</td>\n",
       "      <td>Sports</td>\n",
       "      <td>0.01</td>\n",
       "      <td>0.00</td>\n",
       "      <td>0.00</td>\n",
       "      <td>0.00</td>\n",
       "      <td>43.0</td>\n",
       "      <td>tbd</td>\n",
       "      <td>E10+</td>\n",
       "    </tr>\n",
       "    <tr>\n",
       "      <th>16405</th>\n",
       "      <td>Freaky Flyers</td>\n",
       "      <td>GC</td>\n",
       "      <td>NaN</td>\n",
       "      <td>Racing</td>\n",
       "      <td>0.01</td>\n",
       "      <td>0.00</td>\n",
       "      <td>0.00</td>\n",
       "      <td>0.00</td>\n",
       "      <td>69.0</td>\n",
       "      <td>6.5</td>\n",
       "      <td>T</td>\n",
       "    </tr>\n",
       "    <tr>\n",
       "      <th>16448</th>\n",
       "      <td>Inversion</td>\n",
       "      <td>PC</td>\n",
       "      <td>NaN</td>\n",
       "      <td>Shooter</td>\n",
       "      <td>0.01</td>\n",
       "      <td>0.00</td>\n",
       "      <td>0.00</td>\n",
       "      <td>0.00</td>\n",
       "      <td>59.0</td>\n",
       "      <td>6.7</td>\n",
       "      <td>M</td>\n",
       "    </tr>\n",
       "    <tr>\n",
       "      <th>16458</th>\n",
       "      <td>Hakuouki: Shinsengumi Kitan</td>\n",
       "      <td>PS3</td>\n",
       "      <td>NaN</td>\n",
       "      <td>Adventure</td>\n",
       "      <td>0.01</td>\n",
       "      <td>0.00</td>\n",
       "      <td>0.00</td>\n",
       "      <td>0.00</td>\n",
       "      <td>NaN</td>\n",
       "      <td>NaN</td>\n",
       "      <td>NaN</td>\n",
       "    </tr>\n",
       "    <tr>\n",
       "      <th>16522</th>\n",
       "      <td>Virtua Quest</td>\n",
       "      <td>GC</td>\n",
       "      <td>NaN</td>\n",
       "      <td>Role-Playing</td>\n",
       "      <td>0.01</td>\n",
       "      <td>0.00</td>\n",
       "      <td>0.00</td>\n",
       "      <td>0.00</td>\n",
       "      <td>55.0</td>\n",
       "      <td>5.5</td>\n",
       "      <td>T</td>\n",
       "    </tr>\n",
       "  </tbody>\n",
       "</table>\n",
       "<p>269 rows × 11 columns</p>\n",
       "</div>"
      ],
      "text/plain": [
       "                                    name platform  year_of_release  \\\n",
       "183                      Madden NFL 2004      PS2              NaN   \n",
       "377                     FIFA Soccer 2004      PS2              NaN   \n",
       "456           LEGO Batman: The Videogame      Wii              NaN   \n",
       "475           wwe Smackdown vs. Raw 2006      PS2              NaN   \n",
       "609                       Space Invaders     2600              NaN   \n",
       "...                                  ...      ...              ...   \n",
       "16373  PDC World Championship Darts 2008      PSP              NaN   \n",
       "16405                      Freaky Flyers       GC              NaN   \n",
       "16448                          Inversion       PC              NaN   \n",
       "16458        Hakuouki: Shinsengumi Kitan      PS3              NaN   \n",
       "16522                       Virtua Quest       GC              NaN   \n",
       "\n",
       "              genre  na_sales  eu_sales  jp_sales  other_sales  critic_score  \\\n",
       "183          Sports      4.26      0.26      0.01         0.71          94.0   \n",
       "377          Sports      0.59      2.36      0.04         0.51          84.0   \n",
       "456          Action      1.80      0.97      0.00         0.29          74.0   \n",
       "475        Fighting      1.57      1.02      0.00         0.41           NaN   \n",
       "609         Shooter      2.36      0.14      0.00         0.03           NaN   \n",
       "...             ...       ...       ...       ...          ...           ...   \n",
       "16373        Sports      0.01      0.00      0.00         0.00          43.0   \n",
       "16405        Racing      0.01      0.00      0.00         0.00          69.0   \n",
       "16448       Shooter      0.01      0.00      0.00         0.00          59.0   \n",
       "16458     Adventure      0.01      0.00      0.00         0.00           NaN   \n",
       "16522  Role-Playing      0.01      0.00      0.00         0.00          55.0   \n",
       "\n",
       "      user_score rating  \n",
       "183          8.5      E  \n",
       "377          6.4      E  \n",
       "456          7.9   E10+  \n",
       "475          NaN    NaN  \n",
       "609          NaN    NaN  \n",
       "...          ...    ...  \n",
       "16373        tbd   E10+  \n",
       "16405        6.5      T  \n",
       "16448        6.7      M  \n",
       "16458        NaN    NaN  \n",
       "16522        5.5      T  \n",
       "\n",
       "[269 rows x 11 columns]"
      ]
     },
     "execution_count": 129,
     "metadata": {},
     "output_type": "execute_result"
    }
   ],
   "source": [
    "data[data['year_of_release'].isna() == True]"
   ]
  },
  {
   "cell_type": "markdown",
   "metadata": {},
   "source": [
    "269 пропущенных значений = менее 1,5 % всего датафрейма, поскольку мы не можем заполнить пропуски в этом столбце какими-то логичными значениями, удалим данные строки"
   ]
  },
  {
   "cell_type": "code",
   "execution_count": 130,
   "metadata": {},
   "outputs": [],
   "source": [
    "data = data.dropna(subset = ['year_of_release'])"
   ]
  },
  {
   "cell_type": "code",
   "execution_count": 131,
   "metadata": {},
   "outputs": [
    {
     "data": {
      "text/plain": [
       "16444"
      ]
     },
     "execution_count": 131,
     "metadata": {},
     "output_type": "execute_result"
    }
   ],
   "source": [
    "data.shape[0]"
   ]
  },
  {
   "cell_type": "code",
   "execution_count": 132,
   "metadata": {},
   "outputs": [
    {
     "data": {
      "text/plain": [
       "name                  0\n",
       "platform              0\n",
       "year_of_release       0\n",
       "genre                 0\n",
       "na_sales              0\n",
       "eu_sales              0\n",
       "jp_sales              0\n",
       "other_sales           0\n",
       "critic_score       8461\n",
       "user_score         6605\n",
       "rating             6676\n",
       "dtype: int64"
      ]
     },
     "execution_count": 132,
     "metadata": {},
     "output_type": "execute_result"
    }
   ],
   "source": [
    "#еще раз посмотрим, в каких столбцах остались пропуски\n",
    "data.isna().sum() "
   ]
  },
  {
   "cell_type": "markdown",
   "metadata": {},
   "source": [
    "С удалением пропусков в столбце name ушли и пропуски в столбце genre  \n",
    "Посмотрим на данные в столбцах critic_score, user_score и rating"
   ]
  },
  {
   "cell_type": "markdown",
   "metadata": {},
   "source": [
    "#### Пропуски в столбце critic_score"
   ]
  },
  {
   "cell_type": "code",
   "execution_count": 133,
   "metadata": {},
   "outputs": [
    {
     "data": {
      "text/plain": [
       "array([76., nan, 82., 80., 89., 58., 87., 91., 61., 97., 95., 77., 88.,\n",
       "       83., 94., 93., 85., 86., 98., 96., 90., 84., 73., 74., 78., 92.,\n",
       "       71., 72., 68., 62., 49., 67., 81., 66., 56., 79., 70., 59., 64.,\n",
       "       75., 60., 63., 69., 50., 25., 42., 44., 55., 48., 57., 29., 47.,\n",
       "       65., 54., 20., 53., 37., 38., 33., 52., 30., 32., 43., 45., 51.,\n",
       "       40., 46., 39., 34., 41., 36., 31., 27., 35., 26., 19., 28., 23.,\n",
       "       24., 21., 17., 13.])"
      ]
     },
     "execution_count": 133,
     "metadata": {},
     "output_type": "execute_result"
    }
   ],
   "source": [
    "data['critic_score'].unique()"
   ]
  },
  {
   "cell_type": "code",
   "execution_count": 134,
   "metadata": {},
   "outputs": [
    {
     "data": {
      "text/html": [
       "<div>\n",
       "<style scoped>\n",
       "    .dataframe tbody tr th:only-of-type {\n",
       "        vertical-align: middle;\n",
       "    }\n",
       "\n",
       "    .dataframe tbody tr th {\n",
       "        vertical-align: top;\n",
       "    }\n",
       "\n",
       "    .dataframe thead th {\n",
       "        text-align: right;\n",
       "    }\n",
       "</style>\n",
       "<table border=\"1\" class=\"dataframe\">\n",
       "  <thead>\n",
       "    <tr style=\"text-align: right;\">\n",
       "      <th></th>\n",
       "      <th>critic_score</th>\n",
       "    </tr>\n",
       "    <tr>\n",
       "      <th>year_of_release</th>\n",
       "      <th></th>\n",
       "    </tr>\n",
       "  </thead>\n",
       "  <tbody>\n",
       "    <tr>\n",
       "      <th>1980.0</th>\n",
       "      <td>0</td>\n",
       "    </tr>\n",
       "    <tr>\n",
       "      <th>1981.0</th>\n",
       "      <td>0</td>\n",
       "    </tr>\n",
       "    <tr>\n",
       "      <th>1982.0</th>\n",
       "      <td>0</td>\n",
       "    </tr>\n",
       "    <tr>\n",
       "      <th>1983.0</th>\n",
       "      <td>0</td>\n",
       "    </tr>\n",
       "    <tr>\n",
       "      <th>1984.0</th>\n",
       "      <td>0</td>\n",
       "    </tr>\n",
       "    <tr>\n",
       "      <th>1985.0</th>\n",
       "      <td>1</td>\n",
       "    </tr>\n",
       "    <tr>\n",
       "      <th>1986.0</th>\n",
       "      <td>0</td>\n",
       "    </tr>\n",
       "    <tr>\n",
       "      <th>1987.0</th>\n",
       "      <td>0</td>\n",
       "    </tr>\n",
       "    <tr>\n",
       "      <th>1988.0</th>\n",
       "      <td>1</td>\n",
       "    </tr>\n",
       "    <tr>\n",
       "      <th>1989.0</th>\n",
       "      <td>0</td>\n",
       "    </tr>\n",
       "    <tr>\n",
       "      <th>1990.0</th>\n",
       "      <td>0</td>\n",
       "    </tr>\n",
       "    <tr>\n",
       "      <th>1991.0</th>\n",
       "      <td>0</td>\n",
       "    </tr>\n",
       "    <tr>\n",
       "      <th>1992.0</th>\n",
       "      <td>1</td>\n",
       "    </tr>\n",
       "    <tr>\n",
       "      <th>1993.0</th>\n",
       "      <td>0</td>\n",
       "    </tr>\n",
       "    <tr>\n",
       "      <th>1994.0</th>\n",
       "      <td>1</td>\n",
       "    </tr>\n",
       "    <tr>\n",
       "      <th>1995.0</th>\n",
       "      <td>0</td>\n",
       "    </tr>\n",
       "    <tr>\n",
       "      <th>1996.0</th>\n",
       "      <td>8</td>\n",
       "    </tr>\n",
       "    <tr>\n",
       "      <th>1997.0</th>\n",
       "      <td>17</td>\n",
       "    </tr>\n",
       "    <tr>\n",
       "      <th>1998.0</th>\n",
       "      <td>28</td>\n",
       "    </tr>\n",
       "    <tr>\n",
       "      <th>1999.0</th>\n",
       "      <td>39</td>\n",
       "    </tr>\n",
       "    <tr>\n",
       "      <th>2000.0</th>\n",
       "      <td>143</td>\n",
       "    </tr>\n",
       "    <tr>\n",
       "      <th>2001.0</th>\n",
       "      <td>326</td>\n",
       "    </tr>\n",
       "    <tr>\n",
       "      <th>2002.0</th>\n",
       "      <td>627</td>\n",
       "    </tr>\n",
       "    <tr>\n",
       "      <th>2003.0</th>\n",
       "      <td>585</td>\n",
       "    </tr>\n",
       "    <tr>\n",
       "      <th>2004.0</th>\n",
       "      <td>561</td>\n",
       "    </tr>\n",
       "    <tr>\n",
       "      <th>2005.0</th>\n",
       "      <td>655</td>\n",
       "    </tr>\n",
       "    <tr>\n",
       "      <th>2006.0</th>\n",
       "      <td>620</td>\n",
       "    </tr>\n",
       "    <tr>\n",
       "      <th>2007.0</th>\n",
       "      <td>692</td>\n",
       "    </tr>\n",
       "    <tr>\n",
       "      <th>2008.0</th>\n",
       "      <td>715</td>\n",
       "    </tr>\n",
       "    <tr>\n",
       "      <th>2009.0</th>\n",
       "      <td>651</td>\n",
       "    </tr>\n",
       "    <tr>\n",
       "      <th>2010.0</th>\n",
       "      <td>500</td>\n",
       "    </tr>\n",
       "    <tr>\n",
       "      <th>2011.0</th>\n",
       "      <td>500</td>\n",
       "    </tr>\n",
       "    <tr>\n",
       "      <th>2012.0</th>\n",
       "      <td>321</td>\n",
       "    </tr>\n",
       "    <tr>\n",
       "      <th>2013.0</th>\n",
       "      <td>273</td>\n",
       "    </tr>\n",
       "    <tr>\n",
       "      <th>2014.0</th>\n",
       "      <td>261</td>\n",
       "    </tr>\n",
       "    <tr>\n",
       "      <th>2015.0</th>\n",
       "      <td>225</td>\n",
       "    </tr>\n",
       "    <tr>\n",
       "      <th>2016.0</th>\n",
       "      <td>232</td>\n",
       "    </tr>\n",
       "  </tbody>\n",
       "</table>\n",
       "</div>"
      ],
      "text/plain": [
       "                 critic_score\n",
       "year_of_release              \n",
       "1980.0                      0\n",
       "1981.0                      0\n",
       "1982.0                      0\n",
       "1983.0                      0\n",
       "1984.0                      0\n",
       "1985.0                      1\n",
       "1986.0                      0\n",
       "1987.0                      0\n",
       "1988.0                      1\n",
       "1989.0                      0\n",
       "1990.0                      0\n",
       "1991.0                      0\n",
       "1992.0                      1\n",
       "1993.0                      0\n",
       "1994.0                      1\n",
       "1995.0                      0\n",
       "1996.0                      8\n",
       "1997.0                     17\n",
       "1998.0                     28\n",
       "1999.0                     39\n",
       "2000.0                    143\n",
       "2001.0                    326\n",
       "2002.0                    627\n",
       "2003.0                    585\n",
       "2004.0                    561\n",
       "2005.0                    655\n",
       "2006.0                    620\n",
       "2007.0                    692\n",
       "2008.0                    715\n",
       "2009.0                    651\n",
       "2010.0                    500\n",
       "2011.0                    500\n",
       "2012.0                    321\n",
       "2013.0                    273\n",
       "2014.0                    261\n",
       "2015.0                    225\n",
       "2016.0                    232"
      ]
     },
     "execution_count": 134,
     "metadata": {},
     "output_type": "execute_result"
    }
   ],
   "source": [
    "data.pivot_table(index=['year_of_release'], values=['critic_score'], aggfunc='count')"
   ]
  },
  {
   "cell_type": "markdown",
   "metadata": {},
   "source": [
    "Пропущенные значения могут означать, что игру никто не оценивал, или данные потерялись при переносе в таблицу  \n",
    "У игр до 1996 почти нет оценок, педположим, что до того момента было не так много игр, доступных общественности, поэтому не было надобности в их оценивании  \n",
    "Во всем столбце более половины значений пропущено, эти пропуски выглядят скорее техническими, невозможно точно определить причину их появления и заполнить какими-либо логичными значениями, плюс пропущенные значения - NaN, что позволяет проводить с данными в этом столбце операции, поэтому оставим пропуски в столбце critic_score без изменений"
   ]
  },
  {
   "cell_type": "markdown",
   "metadata": {},
   "source": [
    "#### Пропуски в столбце user_score"
   ]
  },
  {
   "cell_type": "code",
   "execution_count": 135,
   "metadata": {},
   "outputs": [
    {
     "data": {
      "text/plain": [
       "array(['8', nan, '8.3', '8.5', '6.6', '8.4', '8.6', '7.7', '6.3', '7.4',\n",
       "       '8.2', '9', '7.9', '8.1', '8.7', '7.1', '3.4', '5.3', '4.8', '3.2',\n",
       "       '8.9', '6.4', '7.8', '7.5', '2.6', '7.2', '9.2', '7', '7.3', '4.3',\n",
       "       '7.6', '5.7', '5', '9.1', '6.5', 'tbd', '8.8', '6.9', '9.4', '6.8',\n",
       "       '6.1', '6.7', '5.4', '4', '4.9', '4.5', '9.3', '6.2', '4.2', '6',\n",
       "       '3.7', '4.1', '5.8', '5.6', '5.5', '4.4', '4.6', '5.9', '3.9',\n",
       "       '3.1', '2.9', '5.2', '3.3', '4.7', '5.1', '3.5', '2.5', '1.9', '3',\n",
       "       '2.7', '2.2', '2', '9.5', '2.1', '3.6', '2.8', '1.8', '3.8', '0',\n",
       "       '1.6', '9.6', '2.4', '1.7', '1.1', '0.3', '1.5', '0.7', '1.2',\n",
       "       '2.3', '0.5', '1.3', '0.2', '0.6', '1.4', '0.9', '1', '9.7'],\n",
       "      dtype=object)"
      ]
     },
     "execution_count": 135,
     "metadata": {},
     "output_type": "execute_result"
    }
   ],
   "source": [
    "data['user_score'].unique()"
   ]
  },
  {
   "cell_type": "markdown",
   "metadata": {},
   "source": [
    "Пропущенные значения в этом столбце, как и в предыдущем могут означать, что игру никто не оценивал, или данные потерялись при переносе в таблицу  \n",
    "Также некорректно было бы заполнить пропуски средним, медианой или даже нулем, т.к. отсутствие рейтинга не равно нулевой оценке  \n",
    "Значения NaN можно оставить, однако присутствуют также значения tbd, посмотрим, что это за значения"
   ]
  },
  {
   "cell_type": "code",
   "execution_count": 136,
   "metadata": {},
   "outputs": [
    {
     "data": {
      "text/plain": [
       "2376"
      ]
     },
     "execution_count": 136,
     "metadata": {},
     "output_type": "execute_result"
    }
   ],
   "source": [
    "#посчитаем количество значений tbd\n",
    "len(data[data['user_score'] == 'tbd'])"
   ]
  },
  {
   "cell_type": "code",
   "execution_count": 137,
   "metadata": {
    "scrolled": false
   },
   "outputs": [
    {
     "data": {
      "text/html": [
       "<div>\n",
       "<style scoped>\n",
       "    .dataframe tbody tr th:only-of-type {\n",
       "        vertical-align: middle;\n",
       "    }\n",
       "\n",
       "    .dataframe tbody tr th {\n",
       "        vertical-align: top;\n",
       "    }\n",
       "\n",
       "    .dataframe thead th {\n",
       "        text-align: right;\n",
       "    }\n",
       "</style>\n",
       "<table border=\"1\" class=\"dataframe\">\n",
       "  <thead>\n",
       "    <tr style=\"text-align: right;\">\n",
       "      <th></th>\n",
       "      <th>name</th>\n",
       "      <th>platform</th>\n",
       "      <th>year_of_release</th>\n",
       "      <th>genre</th>\n",
       "      <th>na_sales</th>\n",
       "      <th>eu_sales</th>\n",
       "      <th>jp_sales</th>\n",
       "      <th>other_sales</th>\n",
       "      <th>critic_score</th>\n",
       "      <th>user_score</th>\n",
       "      <th>rating</th>\n",
       "    </tr>\n",
       "  </thead>\n",
       "  <tbody>\n",
       "    <tr>\n",
       "      <th>119</th>\n",
       "      <td>Zumba Fitness</td>\n",
       "      <td>Wii</td>\n",
       "      <td>2010.0</td>\n",
       "      <td>Sports</td>\n",
       "      <td>3.45</td>\n",
       "      <td>2.59</td>\n",
       "      <td>0.00</td>\n",
       "      <td>0.66</td>\n",
       "      <td>NaN</td>\n",
       "      <td>tbd</td>\n",
       "      <td>E</td>\n",
       "    </tr>\n",
       "    <tr>\n",
       "      <th>301</th>\n",
       "      <td>Namco Museum: 50th Anniversary</td>\n",
       "      <td>PS2</td>\n",
       "      <td>2005.0</td>\n",
       "      <td>Misc</td>\n",
       "      <td>2.08</td>\n",
       "      <td>1.35</td>\n",
       "      <td>0.00</td>\n",
       "      <td>0.54</td>\n",
       "      <td>61.0</td>\n",
       "      <td>tbd</td>\n",
       "      <td>E10+</td>\n",
       "    </tr>\n",
       "    <tr>\n",
       "      <th>520</th>\n",
       "      <td>Zumba Fitness 2</td>\n",
       "      <td>Wii</td>\n",
       "      <td>2011.0</td>\n",
       "      <td>Sports</td>\n",
       "      <td>1.51</td>\n",
       "      <td>1.03</td>\n",
       "      <td>0.00</td>\n",
       "      <td>0.27</td>\n",
       "      <td>NaN</td>\n",
       "      <td>tbd</td>\n",
       "      <td>T</td>\n",
       "    </tr>\n",
       "    <tr>\n",
       "      <th>645</th>\n",
       "      <td>uDraw Studio</td>\n",
       "      <td>Wii</td>\n",
       "      <td>2010.0</td>\n",
       "      <td>Misc</td>\n",
       "      <td>1.65</td>\n",
       "      <td>0.57</td>\n",
       "      <td>0.00</td>\n",
       "      <td>0.20</td>\n",
       "      <td>71.0</td>\n",
       "      <td>tbd</td>\n",
       "      <td>E</td>\n",
       "    </tr>\n",
       "    <tr>\n",
       "      <th>718</th>\n",
       "      <td>Just Dance Kids</td>\n",
       "      <td>Wii</td>\n",
       "      <td>2010.0</td>\n",
       "      <td>Misc</td>\n",
       "      <td>1.52</td>\n",
       "      <td>0.54</td>\n",
       "      <td>0.00</td>\n",
       "      <td>0.18</td>\n",
       "      <td>NaN</td>\n",
       "      <td>tbd</td>\n",
       "      <td>E</td>\n",
       "    </tr>\n",
       "    <tr>\n",
       "      <th>726</th>\n",
       "      <td>Dance Dance Revolution X2</td>\n",
       "      <td>PS2</td>\n",
       "      <td>2009.0</td>\n",
       "      <td>Simulation</td>\n",
       "      <td>1.09</td>\n",
       "      <td>0.85</td>\n",
       "      <td>0.00</td>\n",
       "      <td>0.28</td>\n",
       "      <td>NaN</td>\n",
       "      <td>tbd</td>\n",
       "      <td>E10+</td>\n",
       "    </tr>\n",
       "    <tr>\n",
       "      <th>821</th>\n",
       "      <td>The Incredibles</td>\n",
       "      <td>GBA</td>\n",
       "      <td>2004.0</td>\n",
       "      <td>Action</td>\n",
       "      <td>1.15</td>\n",
       "      <td>0.77</td>\n",
       "      <td>0.04</td>\n",
       "      <td>0.10</td>\n",
       "      <td>55.0</td>\n",
       "      <td>tbd</td>\n",
       "      <td>E</td>\n",
       "    </tr>\n",
       "    <tr>\n",
       "      <th>881</th>\n",
       "      <td>Who wants to be a millionaire</td>\n",
       "      <td>PC</td>\n",
       "      <td>1999.0</td>\n",
       "      <td>Misc</td>\n",
       "      <td>1.94</td>\n",
       "      <td>0.00</td>\n",
       "      <td>0.00</td>\n",
       "      <td>0.00</td>\n",
       "      <td>NaN</td>\n",
       "      <td>tbd</td>\n",
       "      <td>E</td>\n",
       "    </tr>\n",
       "    <tr>\n",
       "      <th>1047</th>\n",
       "      <td>Tetris Worlds</td>\n",
       "      <td>GBA</td>\n",
       "      <td>2001.0</td>\n",
       "      <td>Puzzle</td>\n",
       "      <td>1.25</td>\n",
       "      <td>0.39</td>\n",
       "      <td>0.00</td>\n",
       "      <td>0.06</td>\n",
       "      <td>65.0</td>\n",
       "      <td>tbd</td>\n",
       "      <td>E</td>\n",
       "    </tr>\n",
       "    <tr>\n",
       "      <th>1048</th>\n",
       "      <td>Imagine: Teacher</td>\n",
       "      <td>DS</td>\n",
       "      <td>2008.0</td>\n",
       "      <td>Simulation</td>\n",
       "      <td>0.70</td>\n",
       "      <td>0.82</td>\n",
       "      <td>0.00</td>\n",
       "      <td>0.19</td>\n",
       "      <td>NaN</td>\n",
       "      <td>tbd</td>\n",
       "      <td>E</td>\n",
       "    </tr>\n",
       "    <tr>\n",
       "      <th>1069</th>\n",
       "      <td>Personal Trainer: Math</td>\n",
       "      <td>DS</td>\n",
       "      <td>2007.0</td>\n",
       "      <td>Puzzle</td>\n",
       "      <td>0.48</td>\n",
       "      <td>1.12</td>\n",
       "      <td>0.00</td>\n",
       "      <td>0.08</td>\n",
       "      <td>63.0</td>\n",
       "      <td>tbd</td>\n",
       "      <td>E</td>\n",
       "    </tr>\n",
       "    <tr>\n",
       "      <th>1070</th>\n",
       "      <td>Game Party 3</td>\n",
       "      <td>Wii</td>\n",
       "      <td>2009.0</td>\n",
       "      <td>Puzzle</td>\n",
       "      <td>1.40</td>\n",
       "      <td>0.16</td>\n",
       "      <td>0.00</td>\n",
       "      <td>0.12</td>\n",
       "      <td>37.0</td>\n",
       "      <td>tbd</td>\n",
       "      <td>E</td>\n",
       "    </tr>\n",
       "    <tr>\n",
       "      <th>1089</th>\n",
       "      <td>Monsters, Inc.</td>\n",
       "      <td>GBA</td>\n",
       "      <td>2001.0</td>\n",
       "      <td>Adventure</td>\n",
       "      <td>0.59</td>\n",
       "      <td>0.95</td>\n",
       "      <td>0.03</td>\n",
       "      <td>0.10</td>\n",
       "      <td>NaN</td>\n",
       "      <td>tbd</td>\n",
       "      <td>E</td>\n",
       "    </tr>\n",
       "    <tr>\n",
       "      <th>1151</th>\n",
       "      <td>SpongeBob's Atlantis SquarePantis</td>\n",
       "      <td>DS</td>\n",
       "      <td>2007.0</td>\n",
       "      <td>Action</td>\n",
       "      <td>1.49</td>\n",
       "      <td>0.00</td>\n",
       "      <td>0.00</td>\n",
       "      <td>0.11</td>\n",
       "      <td>64.0</td>\n",
       "      <td>tbd</td>\n",
       "      <td>E</td>\n",
       "    </tr>\n",
       "    <tr>\n",
       "      <th>1199</th>\n",
       "      <td>MySims Kingdom</td>\n",
       "      <td>DS</td>\n",
       "      <td>2008.0</td>\n",
       "      <td>Simulation</td>\n",
       "      <td>0.80</td>\n",
       "      <td>0.59</td>\n",
       "      <td>0.01</td>\n",
       "      <td>0.16</td>\n",
       "      <td>58.0</td>\n",
       "      <td>tbd</td>\n",
       "      <td>E</td>\n",
       "    </tr>\n",
       "    <tr>\n",
       "      <th>1210</th>\n",
       "      <td>Moshi Monsters: Moshling Zoo</td>\n",
       "      <td>DS</td>\n",
       "      <td>2011.0</td>\n",
       "      <td>Misc</td>\n",
       "      <td>0.37</td>\n",
       "      <td>0.96</td>\n",
       "      <td>0.00</td>\n",
       "      <td>0.21</td>\n",
       "      <td>NaN</td>\n",
       "      <td>tbd</td>\n",
       "      <td>E</td>\n",
       "    </tr>\n",
       "    <tr>\n",
       "      <th>1284</th>\n",
       "      <td>Disney Sing It: Pop Hits</td>\n",
       "      <td>Wii</td>\n",
       "      <td>2009.0</td>\n",
       "      <td>Misc</td>\n",
       "      <td>1.07</td>\n",
       "      <td>0.28</td>\n",
       "      <td>0.00</td>\n",
       "      <td>0.13</td>\n",
       "      <td>NaN</td>\n",
       "      <td>tbd</td>\n",
       "      <td>E</td>\n",
       "    </tr>\n",
       "    <tr>\n",
       "      <th>1291</th>\n",
       "      <td>Imagine: Master Chef</td>\n",
       "      <td>DS</td>\n",
       "      <td>2007.0</td>\n",
       "      <td>Simulation</td>\n",
       "      <td>0.39</td>\n",
       "      <td>0.91</td>\n",
       "      <td>0.00</td>\n",
       "      <td>0.17</td>\n",
       "      <td>NaN</td>\n",
       "      <td>tbd</td>\n",
       "      <td>E</td>\n",
       "    </tr>\n",
       "    <tr>\n",
       "      <th>1292</th>\n",
       "      <td>Disney Princess</td>\n",
       "      <td>GBA</td>\n",
       "      <td>2003.0</td>\n",
       "      <td>Platform</td>\n",
       "      <td>1.04</td>\n",
       "      <td>0.37</td>\n",
       "      <td>0.00</td>\n",
       "      <td>0.06</td>\n",
       "      <td>NaN</td>\n",
       "      <td>tbd</td>\n",
       "      <td>E</td>\n",
       "    </tr>\n",
       "    <tr>\n",
       "      <th>1298</th>\n",
       "      <td>The SpongeBob SquarePants Movie</td>\n",
       "      <td>GBA</td>\n",
       "      <td>2004.0</td>\n",
       "      <td>Platform</td>\n",
       "      <td>1.02</td>\n",
       "      <td>0.38</td>\n",
       "      <td>0.00</td>\n",
       "      <td>0.06</td>\n",
       "      <td>NaN</td>\n",
       "      <td>tbd</td>\n",
       "      <td>E</td>\n",
       "    </tr>\n",
       "  </tbody>\n",
       "</table>\n",
       "</div>"
      ],
      "text/plain": [
       "                                   name platform  year_of_release       genre  \\\n",
       "119                       Zumba Fitness      Wii           2010.0      Sports   \n",
       "301      Namco Museum: 50th Anniversary      PS2           2005.0        Misc   \n",
       "520                     Zumba Fitness 2      Wii           2011.0      Sports   \n",
       "645                        uDraw Studio      Wii           2010.0        Misc   \n",
       "718                     Just Dance Kids      Wii           2010.0        Misc   \n",
       "726           Dance Dance Revolution X2      PS2           2009.0  Simulation   \n",
       "821                     The Incredibles      GBA           2004.0      Action   \n",
       "881       Who wants to be a millionaire       PC           1999.0        Misc   \n",
       "1047                      Tetris Worlds      GBA           2001.0      Puzzle   \n",
       "1048                   Imagine: Teacher       DS           2008.0  Simulation   \n",
       "1069             Personal Trainer: Math       DS           2007.0      Puzzle   \n",
       "1070                       Game Party 3      Wii           2009.0      Puzzle   \n",
       "1089                     Monsters, Inc.      GBA           2001.0   Adventure   \n",
       "1151  SpongeBob's Atlantis SquarePantis       DS           2007.0      Action   \n",
       "1199                     MySims Kingdom       DS           2008.0  Simulation   \n",
       "1210       Moshi Monsters: Moshling Zoo       DS           2011.0        Misc   \n",
       "1284           Disney Sing It: Pop Hits      Wii           2009.0        Misc   \n",
       "1291               Imagine: Master Chef       DS           2007.0  Simulation   \n",
       "1292                    Disney Princess      GBA           2003.0    Platform   \n",
       "1298    The SpongeBob SquarePants Movie      GBA           2004.0    Platform   \n",
       "\n",
       "      na_sales  eu_sales  jp_sales  other_sales  critic_score user_score  \\\n",
       "119       3.45      2.59      0.00         0.66           NaN        tbd   \n",
       "301       2.08      1.35      0.00         0.54          61.0        tbd   \n",
       "520       1.51      1.03      0.00         0.27           NaN        tbd   \n",
       "645       1.65      0.57      0.00         0.20          71.0        tbd   \n",
       "718       1.52      0.54      0.00         0.18           NaN        tbd   \n",
       "726       1.09      0.85      0.00         0.28           NaN        tbd   \n",
       "821       1.15      0.77      0.04         0.10          55.0        tbd   \n",
       "881       1.94      0.00      0.00         0.00           NaN        tbd   \n",
       "1047      1.25      0.39      0.00         0.06          65.0        tbd   \n",
       "1048      0.70      0.82      0.00         0.19           NaN        tbd   \n",
       "1069      0.48      1.12      0.00         0.08          63.0        tbd   \n",
       "1070      1.40      0.16      0.00         0.12          37.0        tbd   \n",
       "1089      0.59      0.95      0.03         0.10           NaN        tbd   \n",
       "1151      1.49      0.00      0.00         0.11          64.0        tbd   \n",
       "1199      0.80      0.59      0.01         0.16          58.0        tbd   \n",
       "1210      0.37      0.96      0.00         0.21           NaN        tbd   \n",
       "1284      1.07      0.28      0.00         0.13           NaN        tbd   \n",
       "1291      0.39      0.91      0.00         0.17           NaN        tbd   \n",
       "1292      1.04      0.37      0.00         0.06           NaN        tbd   \n",
       "1298      1.02      0.38      0.00         0.06           NaN        tbd   \n",
       "\n",
       "     rating  \n",
       "119       E  \n",
       "301    E10+  \n",
       "520       T  \n",
       "645       E  \n",
       "718       E  \n",
       "726    E10+  \n",
       "821       E  \n",
       "881       E  \n",
       "1047      E  \n",
       "1048      E  \n",
       "1069      E  \n",
       "1070      E  \n",
       "1089      E  \n",
       "1151      E  \n",
       "1199      E  \n",
       "1210      E  \n",
       "1284      E  \n",
       "1291      E  \n",
       "1292      E  \n",
       "1298      E  "
      ]
     },
     "execution_count": 137,
     "metadata": {},
     "output_type": "execute_result"
    }
   ],
   "source": [
    "data[data['user_score'] == 'tbd'].head(20)"
   ]
  },
  {
   "cell_type": "code",
   "execution_count": 138,
   "metadata": {},
   "outputs": [
    {
     "data": {
      "text/html": [
       "<div>\n",
       "<style scoped>\n",
       "    .dataframe tbody tr th:only-of-type {\n",
       "        vertical-align: middle;\n",
       "    }\n",
       "\n",
       "    .dataframe tbody tr th {\n",
       "        vertical-align: top;\n",
       "    }\n",
       "\n",
       "    .dataframe thead th {\n",
       "        text-align: right;\n",
       "    }\n",
       "</style>\n",
       "<table border=\"1\" class=\"dataframe\">\n",
       "  <thead>\n",
       "    <tr style=\"text-align: right;\">\n",
       "      <th></th>\n",
       "      <th>name</th>\n",
       "      <th>platform</th>\n",
       "      <th>year_of_release</th>\n",
       "      <th>genre</th>\n",
       "      <th>na_sales</th>\n",
       "      <th>eu_sales</th>\n",
       "      <th>jp_sales</th>\n",
       "      <th>other_sales</th>\n",
       "      <th>critic_score</th>\n",
       "      <th>user_score</th>\n",
       "      <th>rating</th>\n",
       "    </tr>\n",
       "  </thead>\n",
       "  <tbody>\n",
       "    <tr>\n",
       "      <th>16568</th>\n",
       "      <td>Luxor: Pharaoh's Challenge</td>\n",
       "      <td>DS</td>\n",
       "      <td>2007.0</td>\n",
       "      <td>Puzzle</td>\n",
       "      <td>0.00</td>\n",
       "      <td>0.01</td>\n",
       "      <td>0.00</td>\n",
       "      <td>0.0</td>\n",
       "      <td>NaN</td>\n",
       "      <td>tbd</td>\n",
       "      <td>E</td>\n",
       "    </tr>\n",
       "    <tr>\n",
       "      <th>16574</th>\n",
       "      <td>Smart Boy's Winter Wonderland</td>\n",
       "      <td>DS</td>\n",
       "      <td>2008.0</td>\n",
       "      <td>Misc</td>\n",
       "      <td>0.01</td>\n",
       "      <td>0.00</td>\n",
       "      <td>0.00</td>\n",
       "      <td>0.0</td>\n",
       "      <td>NaN</td>\n",
       "      <td>tbd</td>\n",
       "      <td>E</td>\n",
       "    </tr>\n",
       "    <tr>\n",
       "      <th>16577</th>\n",
       "      <td>Space Raiders</td>\n",
       "      <td>GC</td>\n",
       "      <td>2003.0</td>\n",
       "      <td>Shooter</td>\n",
       "      <td>0.01</td>\n",
       "      <td>0.00</td>\n",
       "      <td>0.00</td>\n",
       "      <td>0.0</td>\n",
       "      <td>40.0</td>\n",
       "      <td>tbd</td>\n",
       "      <td>T</td>\n",
       "    </tr>\n",
       "    <tr>\n",
       "      <th>16593</th>\n",
       "      <td>Winx Club: Saving Alfea</td>\n",
       "      <td>3DS</td>\n",
       "      <td>2014.0</td>\n",
       "      <td>Action</td>\n",
       "      <td>0.00</td>\n",
       "      <td>0.01</td>\n",
       "      <td>0.00</td>\n",
       "      <td>0.0</td>\n",
       "      <td>NaN</td>\n",
       "      <td>tbd</td>\n",
       "      <td>E</td>\n",
       "    </tr>\n",
       "    <tr>\n",
       "      <th>16599</th>\n",
       "      <td>Legends of Oz: Dorothy's Return</td>\n",
       "      <td>3DS</td>\n",
       "      <td>2014.0</td>\n",
       "      <td>Puzzle</td>\n",
       "      <td>0.00</td>\n",
       "      <td>0.01</td>\n",
       "      <td>0.00</td>\n",
       "      <td>0.0</td>\n",
       "      <td>NaN</td>\n",
       "      <td>tbd</td>\n",
       "      <td>E</td>\n",
       "    </tr>\n",
       "    <tr>\n",
       "      <th>16615</th>\n",
       "      <td>Balloon Pop 2</td>\n",
       "      <td>3DS</td>\n",
       "      <td>2012.0</td>\n",
       "      <td>Puzzle</td>\n",
       "      <td>0.01</td>\n",
       "      <td>0.00</td>\n",
       "      <td>0.00</td>\n",
       "      <td>0.0</td>\n",
       "      <td>NaN</td>\n",
       "      <td>tbd</td>\n",
       "      <td>E</td>\n",
       "    </tr>\n",
       "    <tr>\n",
       "      <th>16626</th>\n",
       "      <td>The Ultimate Battle of the Sexes</td>\n",
       "      <td>Wii</td>\n",
       "      <td>2010.0</td>\n",
       "      <td>Misc</td>\n",
       "      <td>0.01</td>\n",
       "      <td>0.00</td>\n",
       "      <td>0.00</td>\n",
       "      <td>0.0</td>\n",
       "      <td>NaN</td>\n",
       "      <td>tbd</td>\n",
       "      <td>T</td>\n",
       "    </tr>\n",
       "    <tr>\n",
       "      <th>16633</th>\n",
       "      <td>SBK Superbike World Championship</td>\n",
       "      <td>PSP</td>\n",
       "      <td>2008.0</td>\n",
       "      <td>Racing</td>\n",
       "      <td>0.01</td>\n",
       "      <td>0.00</td>\n",
       "      <td>0.00</td>\n",
       "      <td>0.0</td>\n",
       "      <td>NaN</td>\n",
       "      <td>tbd</td>\n",
       "      <td>E10+</td>\n",
       "    </tr>\n",
       "    <tr>\n",
       "      <th>16638</th>\n",
       "      <td>Tour de France 2014</td>\n",
       "      <td>PS3</td>\n",
       "      <td>2014.0</td>\n",
       "      <td>Sports</td>\n",
       "      <td>0.00</td>\n",
       "      <td>0.01</td>\n",
       "      <td>0.00</td>\n",
       "      <td>0.0</td>\n",
       "      <td>NaN</td>\n",
       "      <td>tbd</td>\n",
       "      <td>E</td>\n",
       "    </tr>\n",
       "    <tr>\n",
       "      <th>16647</th>\n",
       "      <td>Metal Gear Solid HD Edition</td>\n",
       "      <td>X360</td>\n",
       "      <td>2011.0</td>\n",
       "      <td>Action</td>\n",
       "      <td>0.00</td>\n",
       "      <td>0.00</td>\n",
       "      <td>0.01</td>\n",
       "      <td>0.0</td>\n",
       "      <td>NaN</td>\n",
       "      <td>tbd</td>\n",
       "      <td>M</td>\n",
       "    </tr>\n",
       "    <tr>\n",
       "      <th>16650</th>\n",
       "      <td>Agatha Christie: Peril at End House</td>\n",
       "      <td>PC</td>\n",
       "      <td>2009.0</td>\n",
       "      <td>Adventure</td>\n",
       "      <td>0.00</td>\n",
       "      <td>0.01</td>\n",
       "      <td>0.00</td>\n",
       "      <td>0.0</td>\n",
       "      <td>NaN</td>\n",
       "      <td>tbd</td>\n",
       "      <td>T</td>\n",
       "    </tr>\n",
       "    <tr>\n",
       "      <th>16655</th>\n",
       "      <td>Summer Athletics</td>\n",
       "      <td>PC</td>\n",
       "      <td>2008.0</td>\n",
       "      <td>Sports</td>\n",
       "      <td>0.00</td>\n",
       "      <td>0.01</td>\n",
       "      <td>0.00</td>\n",
       "      <td>0.0</td>\n",
       "      <td>NaN</td>\n",
       "      <td>tbd</td>\n",
       "      <td>NaN</td>\n",
       "    </tr>\n",
       "    <tr>\n",
       "      <th>16669</th>\n",
       "      <td>Super Robot Taisen: Original Generation</td>\n",
       "      <td>GBA</td>\n",
       "      <td>2002.0</td>\n",
       "      <td>Role-Playing</td>\n",
       "      <td>0.01</td>\n",
       "      <td>0.00</td>\n",
       "      <td>0.00</td>\n",
       "      <td>0.0</td>\n",
       "      <td>72.0</td>\n",
       "      <td>tbd</td>\n",
       "      <td>T</td>\n",
       "    </tr>\n",
       "    <tr>\n",
       "      <th>16672</th>\n",
       "      <td>Metal Gear Solid V: The Definitive Experience</td>\n",
       "      <td>XOne</td>\n",
       "      <td>2016.0</td>\n",
       "      <td>Action</td>\n",
       "      <td>0.01</td>\n",
       "      <td>0.00</td>\n",
       "      <td>0.00</td>\n",
       "      <td>0.0</td>\n",
       "      <td>NaN</td>\n",
       "      <td>tbd</td>\n",
       "      <td>M</td>\n",
       "    </tr>\n",
       "    <tr>\n",
       "      <th>16688</th>\n",
       "      <td>Outdoors Unleashed: Africa 3D</td>\n",
       "      <td>3DS</td>\n",
       "      <td>2011.0</td>\n",
       "      <td>Sports</td>\n",
       "      <td>0.01</td>\n",
       "      <td>0.00</td>\n",
       "      <td>0.00</td>\n",
       "      <td>0.0</td>\n",
       "      <td>NaN</td>\n",
       "      <td>tbd</td>\n",
       "      <td>T</td>\n",
       "    </tr>\n",
       "    <tr>\n",
       "      <th>16695</th>\n",
       "      <td>Planet Monsters</td>\n",
       "      <td>GBA</td>\n",
       "      <td>2001.0</td>\n",
       "      <td>Action</td>\n",
       "      <td>0.01</td>\n",
       "      <td>0.00</td>\n",
       "      <td>0.00</td>\n",
       "      <td>0.0</td>\n",
       "      <td>67.0</td>\n",
       "      <td>tbd</td>\n",
       "      <td>E</td>\n",
       "    </tr>\n",
       "    <tr>\n",
       "      <th>16697</th>\n",
       "      <td>Bust-A-Move 3000</td>\n",
       "      <td>GC</td>\n",
       "      <td>2003.0</td>\n",
       "      <td>Puzzle</td>\n",
       "      <td>0.01</td>\n",
       "      <td>0.00</td>\n",
       "      <td>0.00</td>\n",
       "      <td>0.0</td>\n",
       "      <td>53.0</td>\n",
       "      <td>tbd</td>\n",
       "      <td>E</td>\n",
       "    </tr>\n",
       "    <tr>\n",
       "      <th>16698</th>\n",
       "      <td>Mega Brain Boost</td>\n",
       "      <td>DS</td>\n",
       "      <td>2008.0</td>\n",
       "      <td>Puzzle</td>\n",
       "      <td>0.01</td>\n",
       "      <td>0.00</td>\n",
       "      <td>0.00</td>\n",
       "      <td>0.0</td>\n",
       "      <td>48.0</td>\n",
       "      <td>tbd</td>\n",
       "      <td>E</td>\n",
       "    </tr>\n",
       "    <tr>\n",
       "      <th>16704</th>\n",
       "      <td>Plushees</td>\n",
       "      <td>DS</td>\n",
       "      <td>2008.0</td>\n",
       "      <td>Simulation</td>\n",
       "      <td>0.01</td>\n",
       "      <td>0.00</td>\n",
       "      <td>0.00</td>\n",
       "      <td>0.0</td>\n",
       "      <td>NaN</td>\n",
       "      <td>tbd</td>\n",
       "      <td>E</td>\n",
       "    </tr>\n",
       "    <tr>\n",
       "      <th>16706</th>\n",
       "      <td>Men in Black II: Alien Escape</td>\n",
       "      <td>GC</td>\n",
       "      <td>2003.0</td>\n",
       "      <td>Shooter</td>\n",
       "      <td>0.01</td>\n",
       "      <td>0.00</td>\n",
       "      <td>0.00</td>\n",
       "      <td>0.0</td>\n",
       "      <td>NaN</td>\n",
       "      <td>tbd</td>\n",
       "      <td>T</td>\n",
       "    </tr>\n",
       "  </tbody>\n",
       "</table>\n",
       "</div>"
      ],
      "text/plain": [
       "                                                name platform  \\\n",
       "16568                     Luxor: Pharaoh's Challenge       DS   \n",
       "16574                  Smart Boy's Winter Wonderland       DS   \n",
       "16577                                  Space Raiders       GC   \n",
       "16593                       Winx Club: Saving Alfea       3DS   \n",
       "16599                Legends of Oz: Dorothy's Return      3DS   \n",
       "16615                                  Balloon Pop 2      3DS   \n",
       "16626               The Ultimate Battle of the Sexes      Wii   \n",
       "16633               SBK Superbike World Championship      PSP   \n",
       "16638                            Tour de France 2014      PS3   \n",
       "16647                    Metal Gear Solid HD Edition     X360   \n",
       "16650            Agatha Christie: Peril at End House       PC   \n",
       "16655                               Summer Athletics       PC   \n",
       "16669        Super Robot Taisen: Original Generation      GBA   \n",
       "16672  Metal Gear Solid V: The Definitive Experience     XOne   \n",
       "16688                  Outdoors Unleashed: Africa 3D      3DS   \n",
       "16695                                Planet Monsters      GBA   \n",
       "16697                               Bust-A-Move 3000       GC   \n",
       "16698                               Mega Brain Boost       DS   \n",
       "16704                                       Plushees       DS   \n",
       "16706                  Men in Black II: Alien Escape       GC   \n",
       "\n",
       "       year_of_release         genre  na_sales  eu_sales  jp_sales  \\\n",
       "16568           2007.0        Puzzle      0.00      0.01      0.00   \n",
       "16574           2008.0          Misc      0.01      0.00      0.00   \n",
       "16577           2003.0       Shooter      0.01      0.00      0.00   \n",
       "16593           2014.0        Action      0.00      0.01      0.00   \n",
       "16599           2014.0        Puzzle      0.00      0.01      0.00   \n",
       "16615           2012.0        Puzzle      0.01      0.00      0.00   \n",
       "16626           2010.0          Misc      0.01      0.00      0.00   \n",
       "16633           2008.0        Racing      0.01      0.00      0.00   \n",
       "16638           2014.0        Sports      0.00      0.01      0.00   \n",
       "16647           2011.0        Action      0.00      0.00      0.01   \n",
       "16650           2009.0     Adventure      0.00      0.01      0.00   \n",
       "16655           2008.0        Sports      0.00      0.01      0.00   \n",
       "16669           2002.0  Role-Playing      0.01      0.00      0.00   \n",
       "16672           2016.0        Action      0.01      0.00      0.00   \n",
       "16688           2011.0        Sports      0.01      0.00      0.00   \n",
       "16695           2001.0        Action      0.01      0.00      0.00   \n",
       "16697           2003.0        Puzzle      0.01      0.00      0.00   \n",
       "16698           2008.0        Puzzle      0.01      0.00      0.00   \n",
       "16704           2008.0    Simulation      0.01      0.00      0.00   \n",
       "16706           2003.0       Shooter      0.01      0.00      0.00   \n",
       "\n",
       "       other_sales  critic_score user_score rating  \n",
       "16568          0.0           NaN        tbd      E  \n",
       "16574          0.0           NaN        tbd      E  \n",
       "16577          0.0          40.0        tbd      T  \n",
       "16593          0.0           NaN        tbd      E  \n",
       "16599          0.0           NaN        tbd      E  \n",
       "16615          0.0           NaN        tbd      E  \n",
       "16626          0.0           NaN        tbd      T  \n",
       "16633          0.0           NaN        tbd   E10+  \n",
       "16638          0.0           NaN        tbd      E  \n",
       "16647          0.0           NaN        tbd      M  \n",
       "16650          0.0           NaN        tbd      T  \n",
       "16655          0.0           NaN        tbd    NaN  \n",
       "16669          0.0          72.0        tbd      T  \n",
       "16672          0.0           NaN        tbd      M  \n",
       "16688          0.0           NaN        tbd      T  \n",
       "16695          0.0          67.0        tbd      E  \n",
       "16697          0.0          53.0        tbd      E  \n",
       "16698          0.0          48.0        tbd      E  \n",
       "16704          0.0           NaN        tbd      E  \n",
       "16706          0.0           NaN        tbd      T  "
      ]
     },
     "execution_count": 138,
     "metadata": {},
     "output_type": "execute_result"
    }
   ],
   "source": [
    "data[data['user_score'] == 'tbd'].tail(20)"
   ]
  },
  {
   "cell_type": "markdown",
   "metadata": {},
   "source": [
    "2376 значений, не прослеживается зависимость от игры, года, жанра или рейтинга ESRB.  \n",
    "TBD - аббревиатура от английского To Be Determined (будет определено) или To Be Decided (будет решено). Используется, если какая-то информация еще не определена или решение по вопросу не принято. Акроним служит для отметки неясностей или пропусков, которые надо заполнить, в информации требований.  \n",
    "Соответственно, это игры, рейтинг по которым еще не сформировался, а значит они приравниваются к пропускам и их можно заменить на NaN.  \n",
    "Поскольку tbd - строковое значение, столбец user_score имеет строковый тип, поэтому переведем строки, которые записаны в виде числа, в числовой тип с помощью метода to_numeric() + допольнительный параметр errors переведет все остальные значения, которые не являются числами в NaN."
   ]
  },
  {
   "cell_type": "code",
   "execution_count": 139,
   "metadata": {},
   "outputs": [],
   "source": [
    "data['user_score'] = pd.to_numeric(data['user_score'], errors='coerce')"
   ]
  },
  {
   "cell_type": "code",
   "execution_count": 140,
   "metadata": {},
   "outputs": [
    {
     "data": {
      "text/plain": [
       "8981"
      ]
     },
     "execution_count": 140,
     "metadata": {},
     "output_type": "execute_result"
    }
   ],
   "source": [
    "#проверим, что количество пропусков увеличилось ровно на количество бывших значений tbd\n",
    "data['user_score'].isna().sum()"
   ]
  },
  {
   "cell_type": "code",
   "execution_count": 141,
   "metadata": {
    "scrolled": true
   },
   "outputs": [
    {
     "data": {
      "text/plain": [
       "array([8. , nan, 8.3, 8.5, 6.6, 8.4, 8.6, 7.7, 6.3, 7.4, 8.2, 9. , 7.9,\n",
       "       8.1, 8.7, 7.1, 3.4, 5.3, 4.8, 3.2, 8.9, 6.4, 7.8, 7.5, 2.6, 7.2,\n",
       "       9.2, 7. , 7.3, 4.3, 7.6, 5.7, 5. , 9.1, 6.5, 8.8, 6.9, 9.4, 6.8,\n",
       "       6.1, 6.7, 5.4, 4. , 4.9, 4.5, 9.3, 6.2, 4.2, 6. , 3.7, 4.1, 5.8,\n",
       "       5.6, 5.5, 4.4, 4.6, 5.9, 3.9, 3.1, 2.9, 5.2, 3.3, 4.7, 5.1, 3.5,\n",
       "       2.5, 1.9, 3. , 2.7, 2.2, 2. , 9.5, 2.1, 3.6, 2.8, 1.8, 3.8, 0. ,\n",
       "       1.6, 9.6, 2.4, 1.7, 1.1, 0.3, 1.5, 0.7, 1.2, 2.3, 0.5, 1.3, 0.2,\n",
       "       0.6, 1.4, 0.9, 1. , 9.7])"
      ]
     },
     "execution_count": 141,
     "metadata": {},
     "output_type": "execute_result"
    }
   ],
   "source": [
    "#проверим, что ненужные значения ушли\n",
    "data['user_score'].unique()"
   ]
  },
  {
   "cell_type": "markdown",
   "metadata": {},
   "source": [
    "#### Пропуски в столбце rating"
   ]
  },
  {
   "cell_type": "code",
   "execution_count": 142,
   "metadata": {},
   "outputs": [
    {
     "data": {
      "text/plain": [
       "6676"
      ]
     },
     "execution_count": 142,
     "metadata": {},
     "output_type": "execute_result"
    }
   ],
   "source": [
    "data['rating'].isna().sum()"
   ]
  },
  {
   "cell_type": "code",
   "execution_count": 143,
   "metadata": {},
   "outputs": [
    {
     "data": {
      "text/plain": [
       "array(['E', nan, 'M', 'T', 'E10+', 'K-A', 'AO', 'EC', 'RP'], dtype=object)"
      ]
     },
     "execution_count": 143,
     "metadata": {},
     "output_type": "execute_result"
    }
   ],
   "source": [
    "data['rating'].unique()"
   ]
  },
  {
   "cell_type": "markdown",
   "metadata": {},
   "source": [
    "Все значения соответствуют действительности, т.е. такие обозначения в рейтинге ESRB существуют, можем предположить, что пропущенным значениям этот рейтинг не присвоен или отнести это к технической ошибке, в любом случае рейтинг - неизвестен, поэтому заменим пропуски на unknown"
   ]
  },
  {
   "cell_type": "code",
   "execution_count": 144,
   "metadata": {},
   "outputs": [],
   "source": [
    "data['rating'] = data['rating'].fillna(value='unknown')"
   ]
  },
  {
   "cell_type": "code",
   "execution_count": 145,
   "metadata": {},
   "outputs": [
    {
     "data": {
      "text/plain": [
       "0"
      ]
     },
     "execution_count": 145,
     "metadata": {},
     "output_type": "execute_result"
    }
   ],
   "source": [
    "#проверим, что все пропуски заполнены\n",
    "data['rating'].isna().sum()"
   ]
  },
  {
   "cell_type": "code",
   "execution_count": 146,
   "metadata": {},
   "outputs": [],
   "source": [
    "data.reset_index(drop=True, inplace=True) #восстановим корректную нумерацию индексов"
   ]
  },
  {
   "cell_type": "markdown",
   "metadata": {},
   "source": [
    "### Преобразование данных в нужный тип"
   ]
  },
  {
   "cell_type": "code",
   "execution_count": 147,
   "metadata": {
    "scrolled": true
   },
   "outputs": [
    {
     "name": "stdout",
     "output_type": "stream",
     "text": [
      "<class 'pandas.core.frame.DataFrame'>\n",
      "RangeIndex: 16444 entries, 0 to 16443\n",
      "Data columns (total 11 columns):\n",
      " #   Column           Non-Null Count  Dtype  \n",
      "---  ------           --------------  -----  \n",
      " 0   name             16444 non-null  object \n",
      " 1   platform         16444 non-null  object \n",
      " 2   year_of_release  16444 non-null  float64\n",
      " 3   genre            16444 non-null  object \n",
      " 4   na_sales         16444 non-null  float64\n",
      " 5   eu_sales         16444 non-null  float64\n",
      " 6   jp_sales         16444 non-null  float64\n",
      " 7   other_sales      16444 non-null  float64\n",
      " 8   critic_score     7983 non-null   float64\n",
      " 9   user_score       7463 non-null   float64\n",
      " 10  rating           16444 non-null  object \n",
      "dtypes: float64(7), object(4)\n",
      "memory usage: 1.4+ MB\n"
     ]
    }
   ],
   "source": [
    "#еще раз посмотрим на типы данных в столбцах\n",
    "data.info()"
   ]
  },
  {
   "cell_type": "markdown",
   "metadata": {},
   "source": [
    "В предыдущем пункты мы уже преобразовали тип данных столбца user_score в float, осталось разобраться с годом выпуска  "
   ]
  },
  {
   "cell_type": "code",
   "execution_count": 148,
   "metadata": {},
   "outputs": [
    {
     "data": {
      "text/plain": [
       "array([2006., 1985., 2008., 2009., 1996., 1989., 1984., 2005., 1999.,\n",
       "       2007., 2010., 2013., 2004., 1990., 1988., 2002., 2001., 2011.,\n",
       "       1998., 2015., 2012., 2014., 1992., 1997., 1993., 1994., 1982.,\n",
       "       2016., 2003., 1986., 2000., 1995., 1991., 1981., 1987., 1980.,\n",
       "       1983.])"
      ]
     },
     "execution_count": 148,
     "metadata": {},
     "output_type": "execute_result"
    }
   ],
   "source": [
    "#выведем список уникальных значений столбца year_of_release\n",
    "data['year_of_release'].unique()"
   ]
  },
  {
   "cell_type": "markdown",
   "metadata": {},
   "source": [
    "Год выпуска не может быть вещественным числом, дробных значений здесь и нет, поэтому преобразуем значения в этом столбце в целое число"
   ]
  },
  {
   "cell_type": "code",
   "execution_count": 149,
   "metadata": {},
   "outputs": [],
   "source": [
    "data['year_of_release'] = data['year_of_release'].astype('int32')"
   ]
  },
  {
   "cell_type": "code",
   "execution_count": 150,
   "metadata": {},
   "outputs": [
    {
     "data": {
      "text/plain": [
       "array([2006, 1985, 2008, 2009, 1996, 1989, 1984, 2005, 1999, 2007, 2010,\n",
       "       2013, 2004, 1990, 1988, 2002, 2001, 2011, 1998, 2015, 2012, 2014,\n",
       "       1992, 1997, 1993, 1994, 1982, 2016, 2003, 1986, 2000, 1995, 1991,\n",
       "       1981, 1987, 1980, 1983], dtype=int32)"
      ]
     },
     "execution_count": 150,
     "metadata": {},
     "output_type": "execute_result"
    }
   ],
   "source": [
    "data['year_of_release'].unique()"
   ]
  },
  {
   "cell_type": "code",
   "execution_count": 151,
   "metadata": {
    "scrolled": true
   },
   "outputs": [
    {
     "name": "stdout",
     "output_type": "stream",
     "text": [
      "<class 'pandas.core.frame.DataFrame'>\n",
      "RangeIndex: 16444 entries, 0 to 16443\n",
      "Data columns (total 11 columns):\n",
      " #   Column           Non-Null Count  Dtype  \n",
      "---  ------           --------------  -----  \n",
      " 0   name             16444 non-null  object \n",
      " 1   platform         16444 non-null  object \n",
      " 2   year_of_release  16444 non-null  int32  \n",
      " 3   genre            16444 non-null  object \n",
      " 4   na_sales         16444 non-null  float64\n",
      " 5   eu_sales         16444 non-null  float64\n",
      " 6   jp_sales         16444 non-null  float64\n",
      " 7   other_sales      16444 non-null  float64\n",
      " 8   critic_score     7983 non-null   float64\n",
      " 9   user_score       7463 non-null   float64\n",
      " 10  rating           16444 non-null  object \n",
      "dtypes: float64(6), int32(1), object(4)\n",
      "memory usage: 1.3+ MB\n"
     ]
    }
   ],
   "source": [
    "#проверим, что все типы данных теперь корректны\n",
    "data.info()"
   ]
  },
  {
   "cell_type": "markdown",
   "metadata": {},
   "source": [
    "### Расчет суммарных продаж во всех регионах"
   ]
  },
  {
   "cell_type": "markdown",
   "metadata": {},
   "source": [
    "Для расчета суммарных продаж во всех регионах нужно сложить значения в столбцах NA_sales EU_sales JP_sales Other_sales и записать получившуюся сумму в новый столбец"
   ]
  },
  {
   "cell_type": "code",
   "execution_count": 152,
   "metadata": {},
   "outputs": [],
   "source": [
    "data['total_sales'] = data[['na_sales', 'eu_sales', 'jp_sales', 'other_sales']].sum(axis=1)"
   ]
  },
  {
   "cell_type": "code",
   "execution_count": 153,
   "metadata": {},
   "outputs": [
    {
     "data": {
      "text/html": [
       "<div>\n",
       "<style scoped>\n",
       "    .dataframe tbody tr th:only-of-type {\n",
       "        vertical-align: middle;\n",
       "    }\n",
       "\n",
       "    .dataframe tbody tr th {\n",
       "        vertical-align: top;\n",
       "    }\n",
       "\n",
       "    .dataframe thead th {\n",
       "        text-align: right;\n",
       "    }\n",
       "</style>\n",
       "<table border=\"1\" class=\"dataframe\">\n",
       "  <thead>\n",
       "    <tr style=\"text-align: right;\">\n",
       "      <th></th>\n",
       "      <th>name</th>\n",
       "      <th>platform</th>\n",
       "      <th>year_of_release</th>\n",
       "      <th>genre</th>\n",
       "      <th>na_sales</th>\n",
       "      <th>eu_sales</th>\n",
       "      <th>jp_sales</th>\n",
       "      <th>other_sales</th>\n",
       "      <th>critic_score</th>\n",
       "      <th>user_score</th>\n",
       "      <th>rating</th>\n",
       "      <th>total_sales</th>\n",
       "    </tr>\n",
       "  </thead>\n",
       "  <tbody>\n",
       "    <tr>\n",
       "      <th>0</th>\n",
       "      <td>Wii Sports</td>\n",
       "      <td>Wii</td>\n",
       "      <td>2006</td>\n",
       "      <td>Sports</td>\n",
       "      <td>41.36</td>\n",
       "      <td>28.96</td>\n",
       "      <td>3.77</td>\n",
       "      <td>8.45</td>\n",
       "      <td>76.0</td>\n",
       "      <td>8.0</td>\n",
       "      <td>E</td>\n",
       "      <td>82.54</td>\n",
       "    </tr>\n",
       "    <tr>\n",
       "      <th>1</th>\n",
       "      <td>Super Mario Bros.</td>\n",
       "      <td>NES</td>\n",
       "      <td>1985</td>\n",
       "      <td>Platform</td>\n",
       "      <td>29.08</td>\n",
       "      <td>3.58</td>\n",
       "      <td>6.81</td>\n",
       "      <td>0.77</td>\n",
       "      <td>NaN</td>\n",
       "      <td>NaN</td>\n",
       "      <td>unknown</td>\n",
       "      <td>40.24</td>\n",
       "    </tr>\n",
       "    <tr>\n",
       "      <th>2</th>\n",
       "      <td>Mario Kart Wii</td>\n",
       "      <td>Wii</td>\n",
       "      <td>2008</td>\n",
       "      <td>Racing</td>\n",
       "      <td>15.68</td>\n",
       "      <td>12.76</td>\n",
       "      <td>3.79</td>\n",
       "      <td>3.29</td>\n",
       "      <td>82.0</td>\n",
       "      <td>8.3</td>\n",
       "      <td>E</td>\n",
       "      <td>35.52</td>\n",
       "    </tr>\n",
       "    <tr>\n",
       "      <th>3</th>\n",
       "      <td>Wii Sports Resort</td>\n",
       "      <td>Wii</td>\n",
       "      <td>2009</td>\n",
       "      <td>Sports</td>\n",
       "      <td>15.61</td>\n",
       "      <td>10.93</td>\n",
       "      <td>3.28</td>\n",
       "      <td>2.95</td>\n",
       "      <td>80.0</td>\n",
       "      <td>8.0</td>\n",
       "      <td>E</td>\n",
       "      <td>32.77</td>\n",
       "    </tr>\n",
       "    <tr>\n",
       "      <th>4</th>\n",
       "      <td>Pokemon Red/Pokemon Blue</td>\n",
       "      <td>GB</td>\n",
       "      <td>1996</td>\n",
       "      <td>Role-Playing</td>\n",
       "      <td>11.27</td>\n",
       "      <td>8.89</td>\n",
       "      <td>10.22</td>\n",
       "      <td>1.00</td>\n",
       "      <td>NaN</td>\n",
       "      <td>NaN</td>\n",
       "      <td>unknown</td>\n",
       "      <td>31.38</td>\n",
       "    </tr>\n",
       "  </tbody>\n",
       "</table>\n",
       "</div>"
      ],
      "text/plain": [
       "                       name platform  year_of_release         genre  na_sales  \\\n",
       "0                Wii Sports      Wii             2006        Sports     41.36   \n",
       "1         Super Mario Bros.      NES             1985      Platform     29.08   \n",
       "2            Mario Kart Wii      Wii             2008        Racing     15.68   \n",
       "3         Wii Sports Resort      Wii             2009        Sports     15.61   \n",
       "4  Pokemon Red/Pokemon Blue       GB             1996  Role-Playing     11.27   \n",
       "\n",
       "   eu_sales  jp_sales  other_sales  critic_score  user_score   rating  \\\n",
       "0     28.96      3.77         8.45          76.0         8.0        E   \n",
       "1      3.58      6.81         0.77           NaN         NaN  unknown   \n",
       "2     12.76      3.79         3.29          82.0         8.3        E   \n",
       "3     10.93      3.28         2.95          80.0         8.0        E   \n",
       "4      8.89     10.22         1.00           NaN         NaN  unknown   \n",
       "\n",
       "   total_sales  \n",
       "0        82.54  \n",
       "1        40.24  \n",
       "2        35.52  \n",
       "3        32.77  \n",
       "4        31.38  "
      ]
     },
     "execution_count": 153,
     "metadata": {},
     "output_type": "execute_result"
    }
   ],
   "source": [
    "data.head()"
   ]
  },
  {
   "cell_type": "markdown",
   "metadata": {},
   "source": [
    "## Исследовательский анализ данных"
   ]
  },
  {
   "cell_type": "markdown",
   "metadata": {},
   "source": [
    "### Посмотрите, сколько игр выпускалось в разные годы. Важны ли данные за все периоды?"
   ]
  },
  {
   "cell_type": "code",
   "execution_count": 154,
   "metadata": {},
   "outputs": [
    {
     "data": {
      "text/plain": [
       "year_of_release\n",
       "1980       9\n",
       "1981      46\n",
       "1982      36\n",
       "1983      17\n",
       "1984      14\n",
       "1985      14\n",
       "1986      21\n",
       "1987      16\n",
       "1988      15\n",
       "1989      17\n",
       "1990      16\n",
       "1991      41\n",
       "1992      43\n",
       "1993      60\n",
       "1994     121\n",
       "1995     219\n",
       "1996     263\n",
       "1997     289\n",
       "1998     379\n",
       "1999     338\n",
       "2000     350\n",
       "2001     482\n",
       "2002     829\n",
       "2003     775\n",
       "2004     762\n",
       "2005     939\n",
       "2006    1006\n",
       "2007    1197\n",
       "2008    1427\n",
       "2009    1426\n",
       "2010    1255\n",
       "2011    1136\n",
       "2012     653\n",
       "2013     544\n",
       "2014     581\n",
       "2015     606\n",
       "2016     502\n",
       "Name: name, dtype: int64"
      ]
     },
     "execution_count": 154,
     "metadata": {},
     "output_type": "execute_result"
    }
   ],
   "source": [
    "#посчитаем количество игр в каждом году\n",
    "data.groupby('year_of_release')['name'].agg('count')"
   ]
  },
  {
   "cell_type": "code",
   "execution_count": 155,
   "metadata": {},
   "outputs": [
    {
     "data": {
      "image/png": "[encoded data removed]",
      "text/plain": [
       "<Figure size 1080x360 with 1 Axes>"
      ]
     },
     "metadata": {
      "needs_background": "light"
     },
     "output_type": "display_data"
    }
   ],
   "source": [
    "(data\n",
    "    .groupby('year_of_release')['name'].agg('count')\n",
    "    .plot(grid=True, style='o-', figsize=(15, 5))\n",
    ")\n",
    "plt.title('Количество игр, выпускаемых каждый год')\n",
    "plt.xlabel('Год выпуска')\n",
    "plt.ylabel('Количество игр')\n",
    "plt.show()"
   ]
  },
  {
   "cell_type": "markdown",
   "metadata": {},
   "source": [
    "Рост практически не наблюдается до 1994 года, с 1995 идет уверенный подъем, возможно, это связано с тем, что Sony выпускает Playstation и другие производители также начинают развивать свои платформы  \n",
    "Самый пик приходится на 2007 год, как раз +\\- в конце 2006 друг за другом выходят Xbox 360, Wii, PlayStation 3, для каждой из консолей наверняка выпускали эксклюзивные игры, промо и т.д. для того, чтобы повысить спрос на приставки  \n",
    "Спад количества игр начиная с 2010 года может быть обусловлен тем, что качество игр стало переходить на другой уровень, вместо нескольких простых игр стали выпускать меньше, но их разработкой занимаются гораздо дольше, улучшают графику, разнообразят геймплей и т.д.\n",
    "Нет смысла рассматривать данные за все периоды, т.к. какие-то платформы уже сняли с производства, какие-то просто устарели и есть более новая версия (например, PS - PS4), поэтому нужно узнать средний жизненный цикл платформы и исходя из этого показателя выбрать актуальный период\n",
    "Сейчас можно предположить, что рассматривать стоит от 5 до 10 лет, не больше"
   ]
  },
  {
   "cell_type": "markdown",
   "metadata": {},
   "source": [
    "### Посмотрите, как менялись продажи по платформам. Выберите платформы с наибольшими суммарными продажами и постройте распределение по годам. За какой характерный срок появляются новые и исчезают старые платформы?"
   ]
  },
  {
   "cell_type": "code",
   "execution_count": 156,
   "metadata": {
    "scrolled": true
   },
   "outputs": [
    {
     "data": {
      "text/html": [
       "<div>\n",
       "<style scoped>\n",
       "    .dataframe tbody tr th:only-of-type {\n",
       "        vertical-align: middle;\n",
       "    }\n",
       "\n",
       "    .dataframe tbody tr th {\n",
       "        vertical-align: top;\n",
       "    }\n",
       "\n",
       "    .dataframe thead th {\n",
       "        text-align: right;\n",
       "    }\n",
       "</style>\n",
       "<table border=\"1\" class=\"dataframe\">\n",
       "  <thead>\n",
       "    <tr style=\"text-align: right;\">\n",
       "      <th></th>\n",
       "      <th>total_sales</th>\n",
       "    </tr>\n",
       "    <tr>\n",
       "      <th>platform</th>\n",
       "      <th></th>\n",
       "    </tr>\n",
       "  </thead>\n",
       "  <tbody>\n",
       "    <tr>\n",
       "      <th>PS2</th>\n",
       "      <td>1233.56</td>\n",
       "    </tr>\n",
       "    <tr>\n",
       "      <th>X360</th>\n",
       "      <td>961.24</td>\n",
       "    </tr>\n",
       "    <tr>\n",
       "      <th>PS3</th>\n",
       "      <td>931.34</td>\n",
       "    </tr>\n",
       "    <tr>\n",
       "      <th>Wii</th>\n",
       "      <td>891.18</td>\n",
       "    </tr>\n",
       "    <tr>\n",
       "      <th>DS</th>\n",
       "      <td>802.78</td>\n",
       "    </tr>\n",
       "    <tr>\n",
       "      <th>PS</th>\n",
       "      <td>727.58</td>\n",
       "    </tr>\n",
       "    <tr>\n",
       "      <th>PS4</th>\n",
       "      <td>314.14</td>\n",
       "    </tr>\n",
       "    <tr>\n",
       "      <th>GBA</th>\n",
       "      <td>312.88</td>\n",
       "    </tr>\n",
       "    <tr>\n",
       "      <th>PSP</th>\n",
       "      <td>289.53</td>\n",
       "    </tr>\n",
       "    <tr>\n",
       "      <th>3DS</th>\n",
       "      <td>257.81</td>\n",
       "    </tr>\n",
       "  </tbody>\n",
       "</table>\n",
       "</div>"
      ],
      "text/plain": [
       "          total_sales\n",
       "platform             \n",
       "PS2           1233.56\n",
       "X360           961.24\n",
       "PS3            931.34\n",
       "Wii            891.18\n",
       "DS             802.78\n",
       "PS             727.58\n",
       "PS4            314.14\n",
       "GBA            312.88\n",
       "PSP            289.53\n",
       "3DS            257.81"
      ]
     },
     "execution_count": 156,
     "metadata": {},
     "output_type": "execute_result"
    }
   ],
   "source": [
    "#соберем сводную таблицу со значениями суммарных продаж по платформам и отсортируем по убыванию\n",
    "(data\n",
    "    .pivot_table(index='platform', values='total_sales', aggfunc='sum')\n",
    "    .sort_values(by='total_sales', ascending=False)\n",
    "    .head(10)\n",
    ")"
   ]
  },
  {
   "cell_type": "markdown",
   "metadata": {},
   "source": [
    "Рассмотрим жизненный цикл платформ с наибольшими суммарными продажами"
   ]
  },
  {
   "cell_type": "code",
   "execution_count": 157,
   "metadata": {},
   "outputs": [
    {
     "data": {
      "image/png": "[encoded data removed]",
      "text/plain": [
       "<Figure size 720x360 with 1 Axes>"
      ]
     },
     "metadata": {
      "needs_background": "light"
     },
     "output_type": "display_data"
    }
   ],
   "source": [
    "data[data['platform'] == 'PS2']['year_of_release'].hist(bins = 50, figsize=(10,5));\n",
    "plt.ylabel('Количество продаж');\n",
    "plt.xlabel('Год');"
   ]
  },
  {
   "cell_type": "code",
   "execution_count": 158,
   "metadata": {},
   "outputs": [
    {
     "data": {
      "image/png": "[encoded data removed]",
      "text/plain": [
       "<Figure size 720x360 with 1 Axes>"
      ]
     },
     "metadata": {
      "needs_background": "light"
     },
     "output_type": "display_data"
    }
   ],
   "source": [
    "data[data['platform'] == 'X360']['year_of_release'].hist(bins = 50, figsize=(10,5));\n",
    "plt.ylabel('Количество продаж');\n",
    "plt.xlabel('Год');"
   ]
  },
  {
   "cell_type": "code",
   "execution_count": 159,
   "metadata": {},
   "outputs": [
    {
     "data": {
      "image/png": "[encoded data removed]",
      "text/plain": [
       "<Figure size 720x360 with 1 Axes>"
      ]
     },
     "metadata": {
      "needs_background": "light"
     },
     "output_type": "display_data"
    }
   ],
   "source": [
    "data[data['platform'] == 'PS3']['year_of_release'].hist(bins = 50, figsize=(10,5));\n",
    "plt.ylabel('Количество продаж');\n",
    "plt.xlabel('Год');"
   ]
  },
  {
   "cell_type": "code",
   "execution_count": 160,
   "metadata": {},
   "outputs": [
    {
     "data": {
      "image/png": "[encoded data removed]",
      "text/plain": [
       "<Figure size 720x360 with 1 Axes>"
      ]
     },
     "metadata": {
      "needs_background": "light"
     },
     "output_type": "display_data"
    }
   ],
   "source": [
    "data[data['platform'] == 'Wii']['year_of_release'].hist(bins = 50, figsize=(10,5));\n",
    "plt.ylabel('Количество продаж');\n",
    "plt.xlabel('Год');"
   ]
  },
  {
   "cell_type": "code",
   "execution_count": 161,
   "metadata": {},
   "outputs": [
    {
     "data": {
      "image/png": "[encoded data removed]",
      "text/plain": [
       "<Figure size 720x360 with 1 Axes>"
      ]
     },
     "metadata": {
      "needs_background": "light"
     },
     "output_type": "display_data"
    }
   ],
   "source": [
    "data[data['platform'] == 'PS']['year_of_release'].hist(bins = 50, figsize=(10,5));\n",
    "plt.ylabel('Количество продаж');\n",
    "plt.xlabel('Год');"
   ]
  },
  {
   "cell_type": "code",
   "execution_count": 162,
   "metadata": {},
   "outputs": [
    {
     "data": {
      "image/png": "[encoded data removed]",
      "text/plain": [
       "<Figure size 1080x576 with 1 Axes>"
      ]
     },
     "metadata": {
      "needs_background": "light"
     },
     "output_type": "display_data"
    }
   ],
   "source": [
    "#соберем полученные данные на общий график для наглядности сравнения\n",
    "top_plarforms = ['PS2','X360','PS3','Wii','PS']\n",
    "\n",
    "for platform in top_plarforms:\n",
    "    data[data['platform'] == platform]['year_of_release'].hist(bins = 70, alpha=0.6, figsize = (15,8))\n",
    "    plt.ylabel('Количество продаж')\n",
    "    plt.xlabel('Год')"
   ]
  },
  {
   "cell_type": "markdown",
   "metadata": {},
   "source": [
    "Предположение, сделанное выше подтвердилось, жизненный цикл каждой из рассмотренных платформ составляет 5-7, не более 10 лет  \n",
    "В среднем наиболее успешный период продаж находится в пределах 7 лет, а т.к. восьмое поколение игровых систем берет свое начало в 2011 году, далее будем рассматривать данные с 2011 по 2016 гг.  "
   ]
  },
  {
   "cell_type": "markdown",
   "metadata": {},
   "source": [
    "### Возьмите данные за соответствующий актуальный период. Актуальный период определите самостоятельно в результате исследования предыдущих вопросов. Основной фактор — эти данные помогут построить прогноз на 2017 год."
   ]
  },
  {
   "cell_type": "code",
   "execution_count": 163,
   "metadata": {},
   "outputs": [],
   "source": [
    "#соберем новый датафрейм, в который войдут данные с 2011 по 2016 гг.\n",
    "relevant_data = data[data['year_of_release'] >= 2011]"
   ]
  },
  {
   "cell_type": "code",
   "execution_count": 164,
   "metadata": {},
   "outputs": [
    {
     "data": {
      "text/html": [
       "<div>\n",
       "<style scoped>\n",
       "    .dataframe tbody tr th:only-of-type {\n",
       "        vertical-align: middle;\n",
       "    }\n",
       "\n",
       "    .dataframe tbody tr th {\n",
       "        vertical-align: top;\n",
       "    }\n",
       "\n",
       "    .dataframe thead th {\n",
       "        text-align: right;\n",
       "    }\n",
       "</style>\n",
       "<table border=\"1\" class=\"dataframe\">\n",
       "  <thead>\n",
       "    <tr style=\"text-align: right;\">\n",
       "      <th></th>\n",
       "      <th>name</th>\n",
       "      <th>platform</th>\n",
       "      <th>year_of_release</th>\n",
       "      <th>genre</th>\n",
       "      <th>na_sales</th>\n",
       "      <th>eu_sales</th>\n",
       "      <th>jp_sales</th>\n",
       "      <th>other_sales</th>\n",
       "      <th>critic_score</th>\n",
       "      <th>user_score</th>\n",
       "      <th>rating</th>\n",
       "      <th>total_sales</th>\n",
       "    </tr>\n",
       "  </thead>\n",
       "  <tbody>\n",
       "    <tr>\n",
       "      <th>16</th>\n",
       "      <td>Grand Theft Auto V</td>\n",
       "      <td>PS3</td>\n",
       "      <td>2013</td>\n",
       "      <td>Action</td>\n",
       "      <td>7.02</td>\n",
       "      <td>9.09</td>\n",
       "      <td>0.98</td>\n",
       "      <td>3.96</td>\n",
       "      <td>97.0</td>\n",
       "      <td>8.2</td>\n",
       "      <td>M</td>\n",
       "      <td>21.05</td>\n",
       "    </tr>\n",
       "    <tr>\n",
       "      <th>23</th>\n",
       "      <td>Grand Theft Auto V</td>\n",
       "      <td>X360</td>\n",
       "      <td>2013</td>\n",
       "      <td>Action</td>\n",
       "      <td>9.66</td>\n",
       "      <td>5.14</td>\n",
       "      <td>0.06</td>\n",
       "      <td>1.41</td>\n",
       "      <td>97.0</td>\n",
       "      <td>8.1</td>\n",
       "      <td>M</td>\n",
       "      <td>16.27</td>\n",
       "    </tr>\n",
       "    <tr>\n",
       "      <th>29</th>\n",
       "      <td>Call of Duty: Modern Warfare 3</td>\n",
       "      <td>X360</td>\n",
       "      <td>2011</td>\n",
       "      <td>Shooter</td>\n",
       "      <td>9.04</td>\n",
       "      <td>4.24</td>\n",
       "      <td>0.13</td>\n",
       "      <td>1.32</td>\n",
       "      <td>88.0</td>\n",
       "      <td>3.4</td>\n",
       "      <td>M</td>\n",
       "      <td>14.73</td>\n",
       "    </tr>\n",
       "    <tr>\n",
       "      <th>31</th>\n",
       "      <td>Call of Duty: Black Ops 3</td>\n",
       "      <td>PS4</td>\n",
       "      <td>2015</td>\n",
       "      <td>Shooter</td>\n",
       "      <td>6.03</td>\n",
       "      <td>5.86</td>\n",
       "      <td>0.36</td>\n",
       "      <td>2.38</td>\n",
       "      <td>NaN</td>\n",
       "      <td>NaN</td>\n",
       "      <td>unknown</td>\n",
       "      <td>14.63</td>\n",
       "    </tr>\n",
       "    <tr>\n",
       "      <th>33</th>\n",
       "      <td>Pokemon X/Pokemon Y</td>\n",
       "      <td>3DS</td>\n",
       "      <td>2013</td>\n",
       "      <td>Role-Playing</td>\n",
       "      <td>5.28</td>\n",
       "      <td>4.19</td>\n",
       "      <td>4.35</td>\n",
       "      <td>0.78</td>\n",
       "      <td>NaN</td>\n",
       "      <td>NaN</td>\n",
       "      <td>unknown</td>\n",
       "      <td>14.60</td>\n",
       "    </tr>\n",
       "    <tr>\n",
       "      <th>34</th>\n",
       "      <td>Call of Duty: Black Ops II</td>\n",
       "      <td>PS3</td>\n",
       "      <td>2012</td>\n",
       "      <td>Shooter</td>\n",
       "      <td>4.99</td>\n",
       "      <td>5.73</td>\n",
       "      <td>0.65</td>\n",
       "      <td>2.42</td>\n",
       "      <td>83.0</td>\n",
       "      <td>5.3</td>\n",
       "      <td>M</td>\n",
       "      <td>13.79</td>\n",
       "    </tr>\n",
       "    <tr>\n",
       "      <th>35</th>\n",
       "      <td>Call of Duty: Black Ops II</td>\n",
       "      <td>X360</td>\n",
       "      <td>2012</td>\n",
       "      <td>Shooter</td>\n",
       "      <td>8.25</td>\n",
       "      <td>4.24</td>\n",
       "      <td>0.07</td>\n",
       "      <td>1.12</td>\n",
       "      <td>83.0</td>\n",
       "      <td>4.8</td>\n",
       "      <td>M</td>\n",
       "      <td>13.68</td>\n",
       "    </tr>\n",
       "    <tr>\n",
       "      <th>37</th>\n",
       "      <td>Call of Duty: Modern Warfare 3</td>\n",
       "      <td>PS3</td>\n",
       "      <td>2011</td>\n",
       "      <td>Shooter</td>\n",
       "      <td>5.54</td>\n",
       "      <td>5.73</td>\n",
       "      <td>0.49</td>\n",
       "      <td>1.57</td>\n",
       "      <td>88.0</td>\n",
       "      <td>3.2</td>\n",
       "      <td>M</td>\n",
       "      <td>13.33</td>\n",
       "    </tr>\n",
       "    <tr>\n",
       "      <th>40</th>\n",
       "      <td>Mario Kart 7</td>\n",
       "      <td>3DS</td>\n",
       "      <td>2011</td>\n",
       "      <td>Racing</td>\n",
       "      <td>5.03</td>\n",
       "      <td>4.02</td>\n",
       "      <td>2.69</td>\n",
       "      <td>0.91</td>\n",
       "      <td>85.0</td>\n",
       "      <td>8.2</td>\n",
       "      <td>E</td>\n",
       "      <td>12.65</td>\n",
       "    </tr>\n",
       "    <tr>\n",
       "      <th>42</th>\n",
       "      <td>Grand Theft Auto V</td>\n",
       "      <td>PS4</td>\n",
       "      <td>2014</td>\n",
       "      <td>Action</td>\n",
       "      <td>3.96</td>\n",
       "      <td>6.31</td>\n",
       "      <td>0.38</td>\n",
       "      <td>1.97</td>\n",
       "      <td>97.0</td>\n",
       "      <td>8.3</td>\n",
       "      <td>M</td>\n",
       "      <td>12.62</td>\n",
       "    </tr>\n",
       "  </tbody>\n",
       "</table>\n",
       "</div>"
      ],
      "text/plain": [
       "                              name platform  year_of_release         genre  \\\n",
       "16              Grand Theft Auto V      PS3             2013        Action   \n",
       "23              Grand Theft Auto V     X360             2013        Action   \n",
       "29  Call of Duty: Modern Warfare 3     X360             2011       Shooter   \n",
       "31       Call of Duty: Black Ops 3      PS4             2015       Shooter   \n",
       "33             Pokemon X/Pokemon Y      3DS             2013  Role-Playing   \n",
       "34      Call of Duty: Black Ops II      PS3             2012       Shooter   \n",
       "35      Call of Duty: Black Ops II     X360             2012       Shooter   \n",
       "37  Call of Duty: Modern Warfare 3      PS3             2011       Shooter   \n",
       "40                    Mario Kart 7      3DS             2011        Racing   \n",
       "42              Grand Theft Auto V      PS4             2014        Action   \n",
       "\n",
       "    na_sales  eu_sales  jp_sales  other_sales  critic_score  user_score  \\\n",
       "16      7.02      9.09      0.98         3.96          97.0         8.2   \n",
       "23      9.66      5.14      0.06         1.41          97.0         8.1   \n",
       "29      9.04      4.24      0.13         1.32          88.0         3.4   \n",
       "31      6.03      5.86      0.36         2.38           NaN         NaN   \n",
       "33      5.28      4.19      4.35         0.78           NaN         NaN   \n",
       "34      4.99      5.73      0.65         2.42          83.0         5.3   \n",
       "35      8.25      4.24      0.07         1.12          83.0         4.8   \n",
       "37      5.54      5.73      0.49         1.57          88.0         3.2   \n",
       "40      5.03      4.02      2.69         0.91          85.0         8.2   \n",
       "42      3.96      6.31      0.38         1.97          97.0         8.3   \n",
       "\n",
       "     rating  total_sales  \n",
       "16        M        21.05  \n",
       "23        M        16.27  \n",
       "29        M        14.73  \n",
       "31  unknown        14.63  \n",
       "33  unknown        14.60  \n",
       "34        M        13.79  \n",
       "35        M        13.68  \n",
       "37        M        13.33  \n",
       "40        E        12.65  \n",
       "42        M        12.62  "
      ]
     },
     "execution_count": 164,
     "metadata": {},
     "output_type": "execute_result"
    }
   ],
   "source": [
    "relevant_data.head(10)"
   ]
  },
  {
   "cell_type": "code",
   "execution_count": 165,
   "metadata": {
    "scrolled": true
   },
   "outputs": [
    {
     "name": "stdout",
     "output_type": "stream",
     "text": [
      "<class 'pandas.core.frame.DataFrame'>\n",
      "Int64Index: 4022 entries, 16 to 16443\n",
      "Data columns (total 12 columns):\n",
      " #   Column           Non-Null Count  Dtype  \n",
      "---  ------           --------------  -----  \n",
      " 0   name             4022 non-null   object \n",
      " 1   platform         4022 non-null   object \n",
      " 2   year_of_release  4022 non-null   int32  \n",
      " 3   genre            4022 non-null   object \n",
      " 4   na_sales         4022 non-null   float64\n",
      " 5   eu_sales         4022 non-null   float64\n",
      " 6   jp_sales         4022 non-null   float64\n",
      " 7   other_sales      4022 non-null   float64\n",
      " 8   critic_score     1812 non-null   float64\n",
      " 9   user_score       2032 non-null   float64\n",
      " 10  rating           4022 non-null   object \n",
      " 11  total_sales      4022 non-null   float64\n",
      "dtypes: float64(7), int32(1), object(4)\n",
      "memory usage: 392.8+ KB\n"
     ]
    }
   ],
   "source": [
    "relevant_data.info()"
   ]
  },
  {
   "cell_type": "code",
   "execution_count": 166,
   "metadata": {},
   "outputs": [],
   "source": [
    "relevant_data.reset_index(drop=True, inplace=True) #восстановим корректную нумерацию индексов"
   ]
  },
  {
   "cell_type": "code",
   "execution_count": 167,
   "metadata": {},
   "outputs": [
    {
     "name": "stdout",
     "output_type": "stream",
     "text": [
      "<class 'pandas.core.frame.DataFrame'>\n",
      "RangeIndex: 4022 entries, 0 to 4021\n",
      "Data columns (total 12 columns):\n",
      " #   Column           Non-Null Count  Dtype  \n",
      "---  ------           --------------  -----  \n",
      " 0   name             4022 non-null   object \n",
      " 1   platform         4022 non-null   object \n",
      " 2   year_of_release  4022 non-null   int32  \n",
      " 3   genre            4022 non-null   object \n",
      " 4   na_sales         4022 non-null   float64\n",
      " 5   eu_sales         4022 non-null   float64\n",
      " 6   jp_sales         4022 non-null   float64\n",
      " 7   other_sales      4022 non-null   float64\n",
      " 8   critic_score     1812 non-null   float64\n",
      " 9   user_score       2032 non-null   float64\n",
      " 10  rating           4022 non-null   object \n",
      " 11  total_sales      4022 non-null   float64\n",
      "dtypes: float64(7), int32(1), object(4)\n",
      "memory usage: 361.5+ KB\n"
     ]
    }
   ],
   "source": [
    "relevant_data.info()"
   ]
  },
  {
   "cell_type": "markdown",
   "metadata": {},
   "source": [
    "### Какие платформы лидируют по продажам, растут или падают? Выберите несколько потенциально прибыльных платформ."
   ]
  },
  {
   "cell_type": "code",
   "execution_count": 168,
   "metadata": {},
   "outputs": [
    {
     "data": {
      "text/html": [
       "<div>\n",
       "<style scoped>\n",
       "    .dataframe tbody tr th:only-of-type {\n",
       "        vertical-align: middle;\n",
       "    }\n",
       "\n",
       "    .dataframe tbody tr th {\n",
       "        vertical-align: top;\n",
       "    }\n",
       "\n",
       "    .dataframe thead th {\n",
       "        text-align: right;\n",
       "    }\n",
       "</style>\n",
       "<table border=\"1\" class=\"dataframe\">\n",
       "  <thead>\n",
       "    <tr style=\"text-align: right;\">\n",
       "      <th></th>\n",
       "      <th>total_sales</th>\n",
       "    </tr>\n",
       "    <tr>\n",
       "      <th>platform</th>\n",
       "      <th></th>\n",
       "    </tr>\n",
       "  </thead>\n",
       "  <tbody>\n",
       "    <tr>\n",
       "      <th>PS3</th>\n",
       "      <td>445.57</td>\n",
       "    </tr>\n",
       "    <tr>\n",
       "      <th>X360</th>\n",
       "      <td>380.38</td>\n",
       "    </tr>\n",
       "    <tr>\n",
       "      <th>PS4</th>\n",
       "      <td>314.14</td>\n",
       "    </tr>\n",
       "    <tr>\n",
       "      <th>3DS</th>\n",
       "      <td>257.81</td>\n",
       "    </tr>\n",
       "    <tr>\n",
       "      <th>XOne</th>\n",
       "      <td>159.32</td>\n",
       "    </tr>\n",
       "    <tr>\n",
       "      <th>PC</th>\n",
       "      <td>97.68</td>\n",
       "    </tr>\n",
       "    <tr>\n",
       "      <th>Wii</th>\n",
       "      <td>95.02</td>\n",
       "    </tr>\n",
       "    <tr>\n",
       "      <th>WiiU</th>\n",
       "      <td>82.19</td>\n",
       "    </tr>\n",
       "    <tr>\n",
       "      <th>PSV</th>\n",
       "      <td>53.81</td>\n",
       "    </tr>\n",
       "    <tr>\n",
       "      <th>DS</th>\n",
       "      <td>38.73</td>\n",
       "    </tr>\n",
       "  </tbody>\n",
       "</table>\n",
       "</div>"
      ],
      "text/plain": [
       "          total_sales\n",
       "platform             \n",
       "PS3            445.57\n",
       "X360           380.38\n",
       "PS4            314.14\n",
       "3DS            257.81\n",
       "XOne           159.32\n",
       "PC              97.68\n",
       "Wii             95.02\n",
       "WiiU            82.19\n",
       "PSV             53.81\n",
       "DS              38.73"
      ]
     },
     "execution_count": 168,
     "metadata": {},
     "output_type": "execute_result"
    }
   ],
   "source": [
    "#соберем сводную таблицу со значениями суммарных продаж по платформам и отсортируем по убыванию\n",
    "(relevant_data\n",
    "    .pivot_table(index='platform', values='total_sales', aggfunc='sum')\n",
    "    .sort_values(by='total_sales', ascending=False)\n",
    "    .head(10)\n",
    ")"
   ]
  },
  {
   "cell_type": "markdown",
   "metadata": {},
   "source": [
    "Рассмотрим жизненный цикл платформ с наибольшими суммарными продажами в актуальном датафрейме"
   ]
  },
  {
   "cell_type": "code",
   "execution_count": 169,
   "metadata": {
    "scrolled": true
   },
   "outputs": [
    {
     "data": {
      "image/png": "[encoded data removed]",
      "text/plain": [
       "<Figure size 720x360 with 1 Axes>"
      ]
     },
     "metadata": {
      "needs_background": "light"
     },
     "output_type": "display_data"
    }
   ],
   "source": [
    "relevant_data[relevant_data['platform'] == 'PS3']['year_of_release'].hist(bins = 50, figsize=(10,5));\n",
    "plt.ylabel('Количество продаж');\n",
    "plt.xlabel('Год');"
   ]
  },
  {
   "cell_type": "markdown",
   "metadata": {},
   "source": [
    "PS3 лидируют по суммарным продажам, но с каждый годом стабильно падают  \n",
    "Учитывая, что консоль вышла в 2006 году, а в 2013 выпустили PS4, это не удивительно, жизненный цикл PS3 подходит к концу"
   ]
  },
  {
   "cell_type": "code",
   "execution_count": 170,
   "metadata": {},
   "outputs": [
    {
     "data": {
      "image/png": "[encoded data removed]",
      "text/plain": [
       "<Figure size 720x360 with 1 Axes>"
      ]
     },
     "metadata": {
      "needs_background": "light"
     },
     "output_type": "display_data"
    }
   ],
   "source": [
    "relevant_data[relevant_data['platform'] == 'X360']['year_of_release'].hist(bins = 50, figsize=(10,5));\n",
    "plt.ylabel('Количество продаж');\n",
    "plt.xlabel('Год');"
   ]
  },
  {
   "cell_type": "markdown",
   "metadata": {},
   "source": [
    "X360 на втором месте по суммарным продажам, однако в большей степени за счет первого года, в 2012 по сравнению с предыдущим годом продажи упали в два раза  \n",
    "Ситуация аналогичная с PS3, X360 вышла в 2005, а в 2013 XOne, плюс жизненный цикл как раз подходит к концу"
   ]
  },
  {
   "cell_type": "code",
   "execution_count": 171,
   "metadata": {},
   "outputs": [
    {
     "data": {
      "image/png": "[encoded data removed]",
      "text/plain": [
       "<Figure size 720x360 with 1 Axes>"
      ]
     },
     "metadata": {
      "needs_background": "light"
     },
     "output_type": "display_data"
    }
   ],
   "source": [
    "relevant_data[relevant_data['platform'] == 'PS4']['year_of_release'].hist(bins = 50, figsize=(10,5));\n",
    "plt.ylabel('Количество продаж');\n",
    "plt.xlabel('Год');"
   ]
  },
  {
   "cell_type": "markdown",
   "metadata": {},
   "source": [
    "Продажи PS4 растут, причем в 2016 продано в два раза больше, чем в 2014, что в целом не удивительно, ведь в 2016 году вышло немалое количество отличных игр для PS, тот же \"Ведьмак 3: Дикая охота\" чего стоит  \n",
    "т.к. PS4 вышла в 2013 году, она еще несколько лет будет актуальна, поэтому относим ее к потенциально прибыльным"
   ]
  },
  {
   "cell_type": "code",
   "execution_count": 172,
   "metadata": {},
   "outputs": [
    {
     "data": {
      "text/plain": [
       "array([2013, 2011, 2015, 2012, 2014, 2016], dtype=int32)"
      ]
     },
     "execution_count": 172,
     "metadata": {},
     "output_type": "execute_result"
    }
   ],
   "source": [
    "relevant_data['year_of_release'].unique()"
   ]
  },
  {
   "cell_type": "code",
   "execution_count": 173,
   "metadata": {},
   "outputs": [
    {
     "data": {
      "image/png": "[encoded data removed]",
      "text/plain": [
       "<Figure size 720x360 with 1 Axes>"
      ]
     },
     "metadata": {
      "needs_background": "light"
     },
     "output_type": "display_data"
    }
   ],
   "source": [
    "relevant_data[relevant_data['platform'] == '3DS']['year_of_release'].hist(bins = 50, figsize=(10,5));\n",
    "plt.ylabel('Количество продаж');\n",
    "plt.xlabel('Год');"
   ]
  },
  {
   "cell_type": "markdown",
   "metadata": {},
   "source": [
    "Продажи 3DS на пике в 2011 году, в этом году она и вышла, далее небольшой спад, но в целом стабильно, а в 2016 упали почти в два раза по сравнению с предыдущим годом  \n",
    "В целом, жизненный цикл уже подходит к концу, плюс в 2016 анонсировали Nintendo 3DS, поэтому не будем относить 3DS к потенциально прибыльным"
   ]
  },
  {
   "cell_type": "code",
   "execution_count": 174,
   "metadata": {},
   "outputs": [
    {
     "data": {
      "image/png": "[encoded data removed]",
      "text/plain": [
       "<Figure size 720x360 with 1 Axes>"
      ]
     },
     "metadata": {
      "needs_background": "light"
     },
     "output_type": "display_data"
    }
   ],
   "source": [
    "relevant_data[relevant_data['platform'] == 'XOne']['year_of_release'].hist(bins = 50, figsize=(10,5));\n",
    "plt.ylabel('Количество продаж');\n",
    "plt.xlabel('Год');"
   ]
  },
  {
   "cell_type": "markdown",
   "metadata": {},
   "source": [
    "XOne вышла в 2013, продажи стабильно растут, жизненный цикл еще в самом расцвете, поэтому относим ее к потенциально прибильным"
   ]
  },
  {
   "cell_type": "markdown",
   "metadata": {},
   "source": [
    "**Вывод:**  \n",
    "Среди топ-5 платформ с наибольшими суммарными продажами за 2011-2016 гг.:  \n",
    "* В первой тройке лидеров суммарных продаж находятся PS3, X360 и PS4, однако только PS4 можно отнести к потенциально прибыльным\n",
    "* На 4 и 5 местах находятся 3DS и XOne соответственно, к потенциально прибыльным относится XOne"
   ]
  },
  {
   "cell_type": "markdown",
   "metadata": {},
   "source": [
    "### Постройте график «ящик с усами» по глобальным продажам игр в разбивке по платформам. Опишите результат."
   ]
  },
  {
   "cell_type": "code",
   "execution_count": 175,
   "metadata": {
    "scrolled": true
   },
   "outputs": [
    {
     "data": {
      "text/html": [
       "<div>\n",
       "<style scoped>\n",
       "    .dataframe tbody tr th:only-of-type {\n",
       "        vertical-align: middle;\n",
       "    }\n",
       "\n",
       "    .dataframe tbody tr th {\n",
       "        vertical-align: top;\n",
       "    }\n",
       "\n",
       "    .dataframe thead th {\n",
       "        text-align: right;\n",
       "    }\n",
       "</style>\n",
       "<table border=\"1\" class=\"dataframe\">\n",
       "  <thead>\n",
       "    <tr style=\"text-align: right;\">\n",
       "      <th></th>\n",
       "      <th>year_of_release</th>\n",
       "      <th>na_sales</th>\n",
       "      <th>eu_sales</th>\n",
       "      <th>jp_sales</th>\n",
       "      <th>other_sales</th>\n",
       "      <th>critic_score</th>\n",
       "      <th>user_score</th>\n",
       "      <th>total_sales</th>\n",
       "    </tr>\n",
       "  </thead>\n",
       "  <tbody>\n",
       "    <tr>\n",
       "      <th>count</th>\n",
       "      <td>4022.000000</td>\n",
       "      <td>4022.000000</td>\n",
       "      <td>4022.000000</td>\n",
       "      <td>4022.000000</td>\n",
       "      <td>4022.000000</td>\n",
       "      <td>1812.000000</td>\n",
       "      <td>2032.000000</td>\n",
       "      <td>4022.000000</td>\n",
       "    </tr>\n",
       "    <tr>\n",
       "      <th>mean</th>\n",
       "      <td>2013.092989</td>\n",
       "      <td>0.206305</td>\n",
       "      <td>0.166532</td>\n",
       "      <td>0.061077</td>\n",
       "      <td>0.051942</td>\n",
       "      <td>71.274283</td>\n",
       "      <td>6.633022</td>\n",
       "      <td>0.485855</td>\n",
       "    </tr>\n",
       "    <tr>\n",
       "      <th>std</th>\n",
       "      <td>1.776160</td>\n",
       "      <td>0.570441</td>\n",
       "      <td>0.482864</td>\n",
       "      <td>0.220248</td>\n",
       "      <td>0.155342</td>\n",
       "      <td>13.095847</td>\n",
       "      <td>1.541293</td>\n",
       "      <td>1.219503</td>\n",
       "    </tr>\n",
       "    <tr>\n",
       "      <th>min</th>\n",
       "      <td>2011.000000</td>\n",
       "      <td>0.000000</td>\n",
       "      <td>0.000000</td>\n",
       "      <td>0.000000</td>\n",
       "      <td>0.000000</td>\n",
       "      <td>13.000000</td>\n",
       "      <td>0.200000</td>\n",
       "      <td>0.010000</td>\n",
       "    </tr>\n",
       "    <tr>\n",
       "      <th>25%</th>\n",
       "      <td>2011.000000</td>\n",
       "      <td>0.000000</td>\n",
       "      <td>0.000000</td>\n",
       "      <td>0.000000</td>\n",
       "      <td>0.000000</td>\n",
       "      <td>64.000000</td>\n",
       "      <td>5.800000</td>\n",
       "      <td>0.040000</td>\n",
       "    </tr>\n",
       "    <tr>\n",
       "      <th>50%</th>\n",
       "      <td>2013.000000</td>\n",
       "      <td>0.040000</td>\n",
       "      <td>0.030000</td>\n",
       "      <td>0.000000</td>\n",
       "      <td>0.010000</td>\n",
       "      <td>74.000000</td>\n",
       "      <td>7.000000</td>\n",
       "      <td>0.130000</td>\n",
       "    </tr>\n",
       "    <tr>\n",
       "      <th>75%</th>\n",
       "      <td>2015.000000</td>\n",
       "      <td>0.170000</td>\n",
       "      <td>0.130000</td>\n",
       "      <td>0.050000</td>\n",
       "      <td>0.040000</td>\n",
       "      <td>81.000000</td>\n",
       "      <td>7.800000</td>\n",
       "      <td>0.407500</td>\n",
       "    </tr>\n",
       "    <tr>\n",
       "      <th>max</th>\n",
       "      <td>2016.000000</td>\n",
       "      <td>9.660000</td>\n",
       "      <td>9.090000</td>\n",
       "      <td>4.390000</td>\n",
       "      <td>3.960000</td>\n",
       "      <td>97.000000</td>\n",
       "      <td>9.300000</td>\n",
       "      <td>21.050000</td>\n",
       "    </tr>\n",
       "  </tbody>\n",
       "</table>\n",
       "</div>"
      ],
      "text/plain": [
       "       year_of_release     na_sales     eu_sales     jp_sales  other_sales  \\\n",
       "count      4022.000000  4022.000000  4022.000000  4022.000000  4022.000000   \n",
       "mean       2013.092989     0.206305     0.166532     0.061077     0.051942   \n",
       "std           1.776160     0.570441     0.482864     0.220248     0.155342   \n",
       "min        2011.000000     0.000000     0.000000     0.000000     0.000000   \n",
       "25%        2011.000000     0.000000     0.000000     0.000000     0.000000   \n",
       "50%        2013.000000     0.040000     0.030000     0.000000     0.010000   \n",
       "75%        2015.000000     0.170000     0.130000     0.050000     0.040000   \n",
       "max        2016.000000     9.660000     9.090000     4.390000     3.960000   \n",
       "\n",
       "       critic_score   user_score  total_sales  \n",
       "count   1812.000000  2032.000000  4022.000000  \n",
       "mean      71.274283     6.633022     0.485855  \n",
       "std       13.095847     1.541293     1.219503  \n",
       "min       13.000000     0.200000     0.010000  \n",
       "25%       64.000000     5.800000     0.040000  \n",
       "50%       74.000000     7.000000     0.130000  \n",
       "75%       81.000000     7.800000     0.407500  \n",
       "max       97.000000     9.300000    21.050000  "
      ]
     },
     "execution_count": 175,
     "metadata": {},
     "output_type": "execute_result"
    }
   ],
   "source": [
    "#посмотрим на характеристики данных\n",
    "relevant_data.describe()"
   ]
  },
  {
   "cell_type": "markdown",
   "metadata": {},
   "source": [
    "Построим диаграмму размаха по глобальным продажам игр для каждой платформы из нашего топ-5"
   ]
  },
  {
   "cell_type": "code",
   "execution_count": 176,
   "metadata": {},
   "outputs": [
    {
     "data": {
      "image/png": "[encoded data removed]",
      "text/plain": [
       "<Figure size 432x288 with 1 Axes>"
      ]
     },
     "metadata": {
      "needs_background": "light"
     },
     "output_type": "display_data"
    }
   ],
   "source": [
    "relevant_data[relevant_data['platform'] == 'PS3'].boxplot(column ='total_sales');\n",
    "plt.ylim(0, 2);"
   ]
  },
  {
   "cell_type": "code",
   "execution_count": 177,
   "metadata": {},
   "outputs": [
    {
     "data": {
      "image/png": "[encoded data removed]",
      "text/plain": [
       "<Figure size 432x288 with 1 Axes>"
      ]
     },
     "metadata": {
      "needs_background": "light"
     },
     "output_type": "display_data"
    }
   ],
   "source": [
    "relevant_data[relevant_data['platform'] == 'X360'].boxplot(column ='total_sales');\n",
    "plt.ylim(0, 2);"
   ]
  },
  {
   "cell_type": "code",
   "execution_count": 178,
   "metadata": {},
   "outputs": [
    {
     "data": {
      "image/png": "[encoded data removed]",
      "text/plain": [
       "<Figure size 432x288 with 1 Axes>"
      ]
     },
     "metadata": {
      "needs_background": "light"
     },
     "output_type": "display_data"
    }
   ],
   "source": [
    "relevant_data[relevant_data['platform'] == 'PS4'].boxplot(column ='total_sales');\n",
    "plt.ylim(0, 2);"
   ]
  },
  {
   "cell_type": "code",
   "execution_count": 179,
   "metadata": {},
   "outputs": [
    {
     "data": {
      "image/png": "[encoded data removed]",
      "text/plain": [
       "<Figure size 432x288 with 1 Axes>"
      ]
     },
     "metadata": {
      "needs_background": "light"
     },
     "output_type": "display_data"
    }
   ],
   "source": [
    "relevant_data[relevant_data['platform'] == '3DS'].boxplot(column ='total_sales');\n",
    "plt.ylim(0, 2);"
   ]
  },
  {
   "cell_type": "code",
   "execution_count": 180,
   "metadata": {
    "scrolled": false
   },
   "outputs": [
    {
     "data": {
      "image/png": "[encoded data removed]",
      "text/plain": [
       "<Figure size 432x288 with 1 Axes>"
      ]
     },
     "metadata": {
      "needs_background": "light"
     },
     "output_type": "display_data"
    }
   ],
   "source": [
    "relevant_data[relevant_data['platform'] == 'XOne'].boxplot(column ='total_sales');\n",
    "plt.ylim(0, 2);"
   ]
  },
  {
   "cell_type": "markdown",
   "metadata": {},
   "source": [
    "Соберем все эти графики на один для проведения сравнения"
   ]
  },
  {
   "cell_type": "code",
   "execution_count": 181,
   "metadata": {
    "scrolled": false
   },
   "outputs": [
    {
     "data": {
      "image/png": "[encoded data removed]",
      "text/plain": [
       "<Figure size 1080x720 with 1 Axes>"
      ]
     },
     "metadata": {
      "needs_background": "light"
     },
     "output_type": "display_data"
    }
   ],
   "source": [
    "top_plarforms = relevant_data.query(\"platform in ['PS3','X360','PS4','3DS','XOne']\")\n",
    "\n",
    "plt.figure(figsize=(15,10))\n",
    "sns.boxplot(data=top_plarforms, x='platform', y='total_sales').\\\n",
    "set(title='Продажи по платформам', xlabel='Платформы', ylabel='Продажи игр, млн.копий', ylim=(0,2))\n",
    "plt.show()"
   ]
  },
  {
   "cell_type": "markdown",
   "metadata": {},
   "source": [
    "**Вывод:**  \n",
    "Сравнение диаграмм размаха 5 платформ показывают, что выбросы присутствуют для всех платформ, больше всего - для 3DS  \n",
    "Медианы продаж PS3, PS4 и XOne находятся примерно на одном уровне, выше - у X360, а у 3DS - самая низкая  \n",
    "Верхняя граница межквартильного размаха, т.е. 75% продаж для 3DS ~ в 2 раза ниже остальных, нижняя граница межквартильного размаха, т.е. 25% продаж у всех примерно на одном уровне, у X360 чуть выше"
   ]
  },
  {
   "cell_type": "markdown",
   "metadata": {},
   "source": [
    "### Посмотрите, как влияют на продажи внутри одной популярной платформы отзывы пользователей и критиков. Постройте диаграмму рассеяния и посчитайте корреляцию между отзывами и продажами. Сформулируйте выводы."
   ]
  },
  {
   "cell_type": "code",
   "execution_count": 182,
   "metadata": {},
   "outputs": [
    {
     "data": {
      "image/png": "[encoded data removed]",
      "text/plain": [
       "<Figure size 576x216 with 1 Axes>"
      ]
     },
     "metadata": {
      "needs_background": "light"
     },
     "output_type": "display_data"
    }
   ],
   "source": [
    "#построим диаграмму рассеяния по отзывам пользователей для PS4\n",
    "relevant_data[relevant_data['platform'] == 'PS4'].plot(x='user_score',y ='total_sales', kind='scatter', alpha=1, figsize=(8,3));"
   ]
  },
  {
   "cell_type": "code",
   "execution_count": 183,
   "metadata": {},
   "outputs": [
    {
     "data": {
      "text/plain": [
       "-0.031957110204556376"
      ]
     },
     "execution_count": 183,
     "metadata": {},
     "output_type": "execute_result"
    }
   ],
   "source": [
    "#посчитаем корреляцию между отзывами пользователей и продажами для PS4\n",
    "relevant_data[relevant_data['platform'] == 'PS4']['user_score'].corr(relevant_data[relevant_data['platform'] == 'PS4']['total_sales'])"
   ]
  },
  {
   "cell_type": "code",
   "execution_count": 184,
   "metadata": {},
   "outputs": [
    {
     "data": {
      "image/png": "[encoded data removed]",
      "text/plain": [
       "<Figure size 576x216 with 1 Axes>"
      ]
     },
     "metadata": {
      "needs_background": "light"
     },
     "output_type": "display_data"
    }
   ],
   "source": [
    "#построим диаграмму рассеяния по отзывам критиков для PS4\n",
    "relevant_data[relevant_data['platform'] == 'PS4'].plot(x='critic_score',y ='total_sales', kind='scatter', alpha=1, figsize=(8,3));"
   ]
  },
  {
   "cell_type": "code",
   "execution_count": 185,
   "metadata": {},
   "outputs": [
    {
     "data": {
      "text/plain": [
       "0.40656790206178095"
      ]
     },
     "execution_count": 185,
     "metadata": {},
     "output_type": "execute_result"
    }
   ],
   "source": [
    "#посчитаем корреляцию между отзывами критиков и продажами для PS4\n",
    "relevant_data[relevant_data['platform'] == 'PS4']['critic_score'].corr(relevant_data[relevant_data['platform'] == 'PS4']['total_sales'])"
   ]
  },
  {
   "cell_type": "markdown",
   "metadata": {},
   "source": [
    "**Вывод:**  \n",
    "Корреляция между оценками пользователей и объемом продаж почти отсвутствует, однако на диаграмме видно, что более высокие оценки все же вызывают немного больше продаж  \n",
    "Корреляция между оценками критиков и объемом продаж небольшая, но заметно выше, чем у пользователей, т.е. мнение критиков больше влияет на продажи "
   ]
  },
  {
   "cell_type": "markdown",
   "metadata": {},
   "source": [
    "### Соотнесите выводы с продажами игр на других платформах."
   ]
  },
  {
   "cell_type": "markdown",
   "metadata": {},
   "source": [
    "Для того, чтобы проверить, верны ли выводы по одной платформе, проведем аналогичные вычисления сразу для всего топ-5 платформ"
   ]
  },
  {
   "cell_type": "code",
   "execution_count": 186,
   "metadata": {},
   "outputs": [
    {
     "data": {
      "text/plain": [
       "[0.014089348308019396,\n",
       " 0.03891817072910255,\n",
       " -0.031957110204556376,\n",
       " 0.22207843643390882,\n",
       " -0.06892505328279414]"
      ]
     },
     "execution_count": 186,
     "metadata": {},
     "output_type": "execute_result"
    },
    {
     "data": {
      "image/png": "[encoded data removed]",
      "text/plain": [
       "<Figure size 432x288 with 1 Axes>"
      ]
     },
     "metadata": {
      "needs_background": "light"
     },
     "output_type": "display_data"
    },
    {
     "data": {
      "image/png": "[encoded data removed]",
      "text/plain": [
       "<Figure size 432x288 with 1 Axes>"
      ]
     },
     "metadata": {
      "needs_background": "light"
     },
     "output_type": "display_data"
    },
    {
     "data": {
      "image/png": "[encoded data removed]",
      "text/plain": [
       "<Figure size 432x288 with 1 Axes>"
      ]
     },
     "metadata": {
      "needs_background": "light"
     },
     "output_type": "display_data"
    },
    {
     "data": {
      "image/png": "[encoded data removed]",
      "text/plain": [
       "<Figure size 432x288 with 1 Axes>"
      ]
     },
     "metadata": {
      "needs_background": "light"
     },
     "output_type": "display_data"
    },
    {
     "data": {
      "image/png": "[encoded data removed]",
      "text/plain": [
       "<Figure size 432x288 with 1 Axes>"
      ]
     },
     "metadata": {
      "needs_background": "light"
     },
     "output_type": "display_data"
    }
   ],
   "source": [
    "#произведем вычисления для отзывов пользователей\n",
    "top_platforms = ['PS3','X360','PS4','3DS','XOne'] #создадим список интересующих платформ\n",
    "user_correlation = [] #сюда запишем получившиеся корреляции после выполнения цикла\n",
    "#заведем цикл, который выведет на экран все диаграммы рассеяния, посчитает корреляцию и добавит ее в список выше\n",
    "for platform in top_platforms:\n",
    "    relevant_data[relevant_data['platform'] == platform].plot(x='user_score',y ='total_sales', kind='scatter', alpha=1) \n",
    "    user_correlation.append(relevant_data[relevant_data['platform'] == platform]['user_score'].corr(relevant_data[relevant_data['platform'] == platform]['total_sales']))\n",
    "user_correlation"
   ]
  },
  {
   "cell_type": "code",
   "execution_count": 187,
   "metadata": {},
   "outputs": [
    {
     "data": {
      "text/plain": [
       "[0.38011114718290767,\n",
       " 0.3912533245484558,\n",
       " 0.40656790206178095,\n",
       " 0.3487397305984834,\n",
       " 0.4169983280084017]"
      ]
     },
     "execution_count": 187,
     "metadata": {},
     "output_type": "execute_result"
    },
    {
     "data": {
      "image/png": "[encoded data removed]",
      "text/plain": [
       "<Figure size 432x288 with 1 Axes>"
      ]
     },
     "metadata": {
      "needs_background": "light"
     },
     "output_type": "display_data"
    },
    {
     "data": {
      "image/png": "[encoded data removed]",
      "text/plain": [
       "<Figure size 432x288 with 1 Axes>"
      ]
     },
     "metadata": {
      "needs_background": "light"
     },
     "output_type": "display_data"
    },
    {
     "data": {
      "image/png": "[encoded data removed]",
      "text/plain": [
       "<Figure size 432x288 with 1 Axes>"
      ]
     },
     "metadata": {
      "needs_background": "light"
     },
     "output_type": "display_data"
    },
    {
     "data": {
      "image/png": "[encoded data removed]",
      "text/plain": [
       "<Figure size 432x288 with 1 Axes>"
      ]
     },
     "metadata": {
      "needs_background": "light"
     },
     "output_type": "display_data"
    },
    {
     "data": {
      "image/png": "[encoded data removed]",
      "text/plain": [
       "<Figure size 432x288 with 1 Axes>"
      ]
     },
     "metadata": {
      "needs_background": "light"
     },
     "output_type": "display_data"
    }
   ],
   "source": [
    "#произведем аналогичные вычисления для отзывов критиков\n",
    "critic_correlation = [] #сюда запишем получившиеся корреляции после выполнения цикла\n",
    "#заведем цикл, который выведет на экран все диаграммы рассеяния, посчитает корреляцию и добавит ее в список выше\n",
    "for platform in top_platforms:\n",
    "    relevant_data[relevant_data['platform'] == platform].plot(x='critic_score',y ='total_sales', kind='scatter', alpha=1) \n",
    "    critic_correlation.append(relevant_data[relevant_data['platform'] == platform]['critic_score'].corr(relevant_data[relevant_data['platform'] == platform]['total_sales']))\n",
    "critic_correlation"
   ]
  },
  {
   "cell_type": "markdown",
   "metadata": {},
   "source": [
    "Вычисления по топ-5 платформ подтвердили выводы, сделанные по одной:  \n",
    "* корреляция между оценками пользователей и объемом продаж почти отсвутствует, но более высокие оценки вызывают немного больше продаж\n",
    "* мнение критиков больше влияет на продажи, корреляция между оценками критиков и объемом продаж небольшая, но заметно выше, чем у пользователей"
   ]
  },
  {
   "cell_type": "markdown",
   "metadata": {},
   "source": [
    "### Посмотрите на общее распределение игр по жанрам. Что можно сказать о самых прибыльных жанрах? Выделяются ли жанры с высокими и низкими продажами?"
   ]
  },
  {
   "cell_type": "code",
   "execution_count": 188,
   "metadata": {
    "scrolled": true
   },
   "outputs": [
    {
     "data": {
      "text/html": [
       "<div>\n",
       "<style scoped>\n",
       "    .dataframe tbody tr th:only-of-type {\n",
       "        vertical-align: middle;\n",
       "    }\n",
       "\n",
       "    .dataframe tbody tr th {\n",
       "        vertical-align: top;\n",
       "    }\n",
       "\n",
       "    .dataframe thead th {\n",
       "        text-align: right;\n",
       "    }\n",
       "</style>\n",
       "<table border=\"1\" class=\"dataframe\">\n",
       "  <thead>\n",
       "    <tr style=\"text-align: right;\">\n",
       "      <th></th>\n",
       "      <th>total_sales</th>\n",
       "    </tr>\n",
       "    <tr>\n",
       "      <th>genre</th>\n",
       "      <th></th>\n",
       "    </tr>\n",
       "  </thead>\n",
       "  <tbody>\n",
       "    <tr>\n",
       "      <th>Action</th>\n",
       "      <td>557.80</td>\n",
       "    </tr>\n",
       "    <tr>\n",
       "      <th>Shooter</th>\n",
       "      <td>402.91</td>\n",
       "    </tr>\n",
       "    <tr>\n",
       "      <th>Role-Playing</th>\n",
       "      <td>245.63</td>\n",
       "    </tr>\n",
       "    <tr>\n",
       "      <th>Sports</th>\n",
       "      <td>237.15</td>\n",
       "    </tr>\n",
       "    <tr>\n",
       "      <th>Misc</th>\n",
       "      <td>139.42</td>\n",
       "    </tr>\n",
       "    <tr>\n",
       "      <th>Platform</th>\n",
       "      <td>88.68</td>\n",
       "    </tr>\n",
       "    <tr>\n",
       "      <th>Racing</th>\n",
       "      <td>88.31</td>\n",
       "    </tr>\n",
       "    <tr>\n",
       "      <th>Fighting</th>\n",
       "      <td>66.90</td>\n",
       "    </tr>\n",
       "    <tr>\n",
       "      <th>Simulation</th>\n",
       "      <td>50.26</td>\n",
       "    </tr>\n",
       "    <tr>\n",
       "      <th>Adventure</th>\n",
       "      <td>45.04</td>\n",
       "    </tr>\n",
       "    <tr>\n",
       "      <th>Strategy</th>\n",
       "      <td>22.16</td>\n",
       "    </tr>\n",
       "    <tr>\n",
       "      <th>Puzzle</th>\n",
       "      <td>9.85</td>\n",
       "    </tr>\n",
       "  </tbody>\n",
       "</table>\n",
       "</div>"
      ],
      "text/plain": [
       "              total_sales\n",
       "genre                    \n",
       "Action             557.80\n",
       "Shooter            402.91\n",
       "Role-Playing       245.63\n",
       "Sports             237.15\n",
       "Misc               139.42\n",
       "Platform            88.68\n",
       "Racing              88.31\n",
       "Fighting            66.90\n",
       "Simulation          50.26\n",
       "Adventure           45.04\n",
       "Strategy            22.16\n",
       "Puzzle               9.85"
      ]
     },
     "execution_count": 188,
     "metadata": {},
     "output_type": "execute_result"
    }
   ],
   "source": [
    "#соберем сводную таблицу продаж игр по жанрам и отсортируем ее по убыванию \n",
    "(relevant_data\n",
    "    .pivot_table(index = 'genre', values = 'total_sales', aggfunc = 'sum')\n",
    "    .sort_values(by = 'total_sales', ascending = False)\n",
    ")"
   ]
  },
  {
   "cell_type": "markdown",
   "metadata": {},
   "source": [
    "По сумме общих продаж лидируют Action и Shooter, причем их продажи в два раза превышают следующие позиции, а начиная с 5 места разница увеличивается до 5 раз и более\n",
    "Жанры с самыми низкими продажами - Strategy и Puzzle, причем Puzzle по уровню продаж в 55 раз меньше, чем самый продаваемый Action\n",
    "Проверим соотношение медианных и средних значений"
   ]
  },
  {
   "cell_type": "code",
   "execution_count": 189,
   "metadata": {},
   "outputs": [
    {
     "data": {
      "text/html": [
       "<div>\n",
       "<style scoped>\n",
       "    .dataframe tbody tr th:only-of-type {\n",
       "        vertical-align: middle;\n",
       "    }\n",
       "\n",
       "    .dataframe tbody tr th {\n",
       "        vertical-align: top;\n",
       "    }\n",
       "\n",
       "    .dataframe thead th {\n",
       "        text-align: right;\n",
       "    }\n",
       "</style>\n",
       "<table border=\"1\" class=\"dataframe\">\n",
       "  <thead>\n",
       "    <tr style=\"text-align: right;\">\n",
       "      <th></th>\n",
       "      <th>total_sales</th>\n",
       "    </tr>\n",
       "    <tr>\n",
       "      <th>genre</th>\n",
       "      <th></th>\n",
       "    </tr>\n",
       "  </thead>\n",
       "  <tbody>\n",
       "    <tr>\n",
       "      <th>Shooter</th>\n",
       "      <td>0.410</td>\n",
       "    </tr>\n",
       "    <tr>\n",
       "      <th>Sports</th>\n",
       "      <td>0.200</td>\n",
       "    </tr>\n",
       "    <tr>\n",
       "      <th>Platform</th>\n",
       "      <td>0.185</td>\n",
       "    </tr>\n",
       "    <tr>\n",
       "      <th>Fighting</th>\n",
       "      <td>0.180</td>\n",
       "    </tr>\n",
       "    <tr>\n",
       "      <th>Racing</th>\n",
       "      <td>0.160</td>\n",
       "    </tr>\n",
       "    <tr>\n",
       "      <th>Role-Playing</th>\n",
       "      <td>0.150</td>\n",
       "    </tr>\n",
       "    <tr>\n",
       "      <th>Action</th>\n",
       "      <td>0.130</td>\n",
       "    </tr>\n",
       "    <tr>\n",
       "      <th>Misc</th>\n",
       "      <td>0.130</td>\n",
       "    </tr>\n",
       "    <tr>\n",
       "      <th>Simulation</th>\n",
       "      <td>0.110</td>\n",
       "    </tr>\n",
       "    <tr>\n",
       "      <th>Strategy</th>\n",
       "      <td>0.080</td>\n",
       "    </tr>\n",
       "    <tr>\n",
       "      <th>Puzzle</th>\n",
       "      <td>0.050</td>\n",
       "    </tr>\n",
       "    <tr>\n",
       "      <th>Adventure</th>\n",
       "      <td>0.030</td>\n",
       "    </tr>\n",
       "  </tbody>\n",
       "</table>\n",
       "</div>"
      ],
      "text/plain": [
       "              total_sales\n",
       "genre                    \n",
       "Shooter             0.410\n",
       "Sports              0.200\n",
       "Platform            0.185\n",
       "Fighting            0.180\n",
       "Racing              0.160\n",
       "Role-Playing        0.150\n",
       "Action              0.130\n",
       "Misc                0.130\n",
       "Simulation          0.110\n",
       "Strategy            0.080\n",
       "Puzzle              0.050\n",
       "Adventure           0.030"
      ]
     },
     "execution_count": 189,
     "metadata": {},
     "output_type": "execute_result"
    }
   ],
   "source": [
    "(relevant_data\n",
    "    .pivot_table(index = 'genre', values = 'total_sales', aggfunc = 'median')\n",
    "    .sort_values(by = 'total_sales', ascending = False)\n",
    ")"
   ]
  },
  {
   "cell_type": "code",
   "execution_count": 190,
   "metadata": {},
   "outputs": [
    {
     "data": {
      "text/html": [
       "<div>\n",
       "<style scoped>\n",
       "    .dataframe tbody tr th:only-of-type {\n",
       "        vertical-align: middle;\n",
       "    }\n",
       "\n",
       "    .dataframe tbody tr th {\n",
       "        vertical-align: top;\n",
       "    }\n",
       "\n",
       "    .dataframe thead th {\n",
       "        text-align: right;\n",
       "    }\n",
       "</style>\n",
       "<table border=\"1\" class=\"dataframe\">\n",
       "  <thead>\n",
       "    <tr style=\"text-align: right;\">\n",
       "      <th></th>\n",
       "      <th>total_sales</th>\n",
       "    </tr>\n",
       "    <tr>\n",
       "      <th>genre</th>\n",
       "      <th></th>\n",
       "    </tr>\n",
       "  </thead>\n",
       "  <tbody>\n",
       "    <tr>\n",
       "      <th>Shooter</th>\n",
       "      <td>1.224650</td>\n",
       "    </tr>\n",
       "    <tr>\n",
       "      <th>Platform</th>\n",
       "      <td>0.726885</td>\n",
       "    </tr>\n",
       "    <tr>\n",
       "      <th>Sports</th>\n",
       "      <td>0.609640</td>\n",
       "    </tr>\n",
       "    <tr>\n",
       "      <th>Role-Playing</th>\n",
       "      <td>0.528237</td>\n",
       "    </tr>\n",
       "    <tr>\n",
       "      <th>Racing</th>\n",
       "      <td>0.490611</td>\n",
       "    </tr>\n",
       "    <tr>\n",
       "      <th>Action</th>\n",
       "      <td>0.439559</td>\n",
       "    </tr>\n",
       "    <tr>\n",
       "      <th>Fighting</th>\n",
       "      <td>0.420755</td>\n",
       "    </tr>\n",
       "    <tr>\n",
       "      <th>Misc</th>\n",
       "      <td>0.371787</td>\n",
       "    </tr>\n",
       "    <tr>\n",
       "      <th>Simulation</th>\n",
       "      <td>0.369559</td>\n",
       "    </tr>\n",
       "    <tr>\n",
       "      <th>Strategy</th>\n",
       "      <td>0.189402</td>\n",
       "    </tr>\n",
       "    <tr>\n",
       "      <th>Puzzle</th>\n",
       "      <td>0.138732</td>\n",
       "    </tr>\n",
       "    <tr>\n",
       "      <th>Adventure</th>\n",
       "      <td>0.109854</td>\n",
       "    </tr>\n",
       "  </tbody>\n",
       "</table>\n",
       "</div>"
      ],
      "text/plain": [
       "              total_sales\n",
       "genre                    \n",
       "Shooter          1.224650\n",
       "Platform         0.726885\n",
       "Sports           0.609640\n",
       "Role-Playing     0.528237\n",
       "Racing           0.490611\n",
       "Action           0.439559\n",
       "Fighting         0.420755\n",
       "Misc             0.371787\n",
       "Simulation       0.369559\n",
       "Strategy         0.189402\n",
       "Puzzle           0.138732\n",
       "Adventure        0.109854"
      ]
     },
     "execution_count": 190,
     "metadata": {},
     "output_type": "execute_result"
    }
   ],
   "source": [
    "(relevant_data\n",
    "    .pivot_table(index = 'genre', values = 'total_sales', aggfunc = 'mean')\n",
    "    .sort_values(by = 'total_sales', ascending = False)\n",
    ")"
   ]
  },
  {
   "cell_type": "markdown",
   "metadata": {},
   "source": [
    "Значения среднего и медианы отличаются, однако рейтинг остается тем же, значит, выбросы примерно одинаковые и по данным значениям можно делать вывод"
   ]
  },
  {
   "cell_type": "code",
   "execution_count": 191,
   "metadata": {},
   "outputs": [
    {
     "data": {
      "image/png": "[encoded data removed]",
      "text/plain": [
       "<Figure size 1080x360 with 1 Axes>"
      ]
     },
     "metadata": {
      "needs_background": "light"
     },
     "output_type": "display_data"
    }
   ],
   "source": [
    "#отразим на графике топ 5 жанров со средними высокими продажами\n",
    "(relevant_data\n",
    "    .pivot_table(index = 'genre', values = 'total_sales', aggfunc = 'mean')\n",
    "    .sort_values(by = 'total_sales', ascending = False)\n",
    "    .head()\n",
    "    .plot(grid=True, style='o-', figsize=(15, 5))\n",
    ")\n",
    "plt.title('Среднее распределение самых продаваемых игр по жанрам')\n",
    "plt.xlabel('Жанр')\n",
    "plt.ylabel('Среднее количество продаж')\n",
    "plt.show()"
   ]
  },
  {
   "cell_type": "code",
   "execution_count": 192,
   "metadata": {},
   "outputs": [
    {
     "data": {
      "image/png": "[encoded data removed]",
      "text/plain": [
       "<Figure size 1080x360 with 1 Axes>"
      ]
     },
     "metadata": {
      "needs_background": "light"
     },
     "output_type": "display_data"
    }
   ],
   "source": [
    "#отразим на графике обратный топ 5 - жанры со средними низкими продажами\n",
    "(relevant_data\n",
    "    .pivot_table(index = 'genre', values = 'total_sales', aggfunc = 'mean')\n",
    "    .sort_values(by = 'total_sales', ascending = True)\n",
    "    .head()\n",
    "    .plot(grid=True, style='o-', figsize=(15, 5))\n",
    ")\n",
    "plt.title('Среднее распределение менее продаваемых игр по жанрам')\n",
    "plt.xlabel('Жанр')\n",
    "plt.ylabel('Среднее количество продаж')\n",
    "plt.show()"
   ]
  },
  {
   "cell_type": "markdown",
   "metadata": {},
   "source": [
    "**Вывод:**  \n",
    "Несмотря на то, что по общим продажам лидируют игры в жанре Action, на первом месте по средним продажам находятся игры в жанре Shooter, причем среднее значение их продаж более чем в два раза превышает значения по жанрам Platform и Sports, которые занимают 2 и 3 места, соответственно  \n",
    "Жанры с самыми низкими средними продажами - Adventure и Puzzle  \n",
    "Между жанрами с высокими и низкими продажами резкая разница, т.е. жанры с высокими и низкими продажами сильно выделяются"
   ]
  },
  {
   "cell_type": "markdown",
   "metadata": {},
   "source": [
    "## Портрет пользователя каждого региона"
   ]
  },
  {
   "cell_type": "markdown",
   "metadata": {},
   "source": [
    "### Определите для пользователя каждого региона (NA, EU, JP): Самые популярные платформы (топ-5). Опишите различия в долях продаж.\n"
   ]
  },
  {
   "cell_type": "code",
   "execution_count": 193,
   "metadata": {},
   "outputs": [
    {
     "data": {
      "text/html": [
       "<div>\n",
       "<style scoped>\n",
       "    .dataframe tbody tr th:only-of-type {\n",
       "        vertical-align: middle;\n",
       "    }\n",
       "\n",
       "    .dataframe tbody tr th {\n",
       "        vertical-align: top;\n",
       "    }\n",
       "\n",
       "    .dataframe thead th {\n",
       "        text-align: right;\n",
       "    }\n",
       "</style>\n",
       "<table border=\"1\" class=\"dataframe\">\n",
       "  <thead>\n",
       "    <tr style=\"text-align: right;\">\n",
       "      <th></th>\n",
       "      <th>year_of_release</th>\n",
       "      <th>na_sales</th>\n",
       "      <th>eu_sales</th>\n",
       "      <th>jp_sales</th>\n",
       "      <th>other_sales</th>\n",
       "      <th>critic_score</th>\n",
       "      <th>user_score</th>\n",
       "      <th>total_sales</th>\n",
       "    </tr>\n",
       "    <tr>\n",
       "      <th>platform</th>\n",
       "      <th></th>\n",
       "      <th></th>\n",
       "      <th></th>\n",
       "      <th></th>\n",
       "      <th></th>\n",
       "      <th></th>\n",
       "      <th></th>\n",
       "      <th></th>\n",
       "    </tr>\n",
       "  </thead>\n",
       "  <tbody>\n",
       "    <tr>\n",
       "      <th>X360</th>\n",
       "      <td>1002128</td>\n",
       "      <td>226.80</td>\n",
       "      <td>117.10</td>\n",
       "      <td>3.35</td>\n",
       "      <td>33.13</td>\n",
       "      <td>20670.0</td>\n",
       "      <td>2304.7</td>\n",
       "      <td>380.38</td>\n",
       "    </tr>\n",
       "    <tr>\n",
       "      <th>PS3</th>\n",
       "      <td>1424994</td>\n",
       "      <td>168.26</td>\n",
       "      <td>163.10</td>\n",
       "      <td>49.39</td>\n",
       "      <td>64.82</td>\n",
       "      <td>24820.0</td>\n",
       "      <td>2757.4</td>\n",
       "      <td>445.57</td>\n",
       "    </tr>\n",
       "    <tr>\n",
       "      <th>PS4</th>\n",
       "      <td>789937</td>\n",
       "      <td>108.74</td>\n",
       "      <td>141.09</td>\n",
       "      <td>15.96</td>\n",
       "      <td>48.35</td>\n",
       "      <td>18167.0</td>\n",
       "      <td>1734.3</td>\n",
       "      <td>314.14</td>\n",
       "    </tr>\n",
       "    <tr>\n",
       "      <th>XOne</th>\n",
       "      <td>497693</td>\n",
       "      <td>93.12</td>\n",
       "      <td>51.59</td>\n",
       "      <td>0.34</td>\n",
       "      <td>14.27</td>\n",
       "      <td>12392.0</td>\n",
       "      <td>1186.9</td>\n",
       "      <td>159.32</td>\n",
       "    </tr>\n",
       "    <tr>\n",
       "      <th>3DS</th>\n",
       "      <td>1030721</td>\n",
       "      <td>82.65</td>\n",
       "      <td>61.27</td>\n",
       "      <td>100.62</td>\n",
       "      <td>13.27</td>\n",
       "      <td>11148.0</td>\n",
       "      <td>1171.7</td>\n",
       "      <td>257.81</td>\n",
       "    </tr>\n",
       "  </tbody>\n",
       "</table>\n",
       "</div>"
      ],
      "text/plain": [
       "          year_of_release  na_sales  eu_sales  jp_sales  other_sales  \\\n",
       "platform                                                               \n",
       "X360              1002128    226.80    117.10      3.35        33.13   \n",
       "PS3               1424994    168.26    163.10     49.39        64.82   \n",
       "PS4                789937    108.74    141.09     15.96        48.35   \n",
       "XOne               497693     93.12     51.59      0.34        14.27   \n",
       "3DS               1030721     82.65     61.27    100.62        13.27   \n",
       "\n",
       "          critic_score  user_score  total_sales  \n",
       "platform                                         \n",
       "X360           20670.0      2304.7       380.38  \n",
       "PS3            24820.0      2757.4       445.57  \n",
       "PS4            18167.0      1734.3       314.14  \n",
       "XOne           12392.0      1186.9       159.32  \n",
       "3DS            11148.0      1171.7       257.81  "
      ]
     },
     "execution_count": 193,
     "metadata": {},
     "output_type": "execute_result"
    }
   ],
   "source": [
    "#соберем топ-5 платформ для Северной Америки\n",
    "(relevant_data\n",
    "    .groupby('platform').agg('sum')\n",
    "    .sort_values(by = 'na_sales', ascending = False)\n",
    "    .head()\n",
    ")"
   ]
  },
  {
   "cell_type": "markdown",
   "metadata": {},
   "source": [
    "Топ-5 по продажам в Северной Америке:\n",
    "1. X360\n",
    "2. PS3\n",
    "3. PS4\n",
    "4. XOne\n",
    "5. 3DS"
   ]
  },
  {
   "cell_type": "code",
   "execution_count": 194,
   "metadata": {},
   "outputs": [
    {
     "data": {
      "text/html": [
       "<div>\n",
       "<style scoped>\n",
       "    .dataframe tbody tr th:only-of-type {\n",
       "        vertical-align: middle;\n",
       "    }\n",
       "\n",
       "    .dataframe tbody tr th {\n",
       "        vertical-align: top;\n",
       "    }\n",
       "\n",
       "    .dataframe thead th {\n",
       "        text-align: right;\n",
       "    }\n",
       "</style>\n",
       "<table border=\"1\" class=\"dataframe\">\n",
       "  <thead>\n",
       "    <tr style=\"text-align: right;\">\n",
       "      <th></th>\n",
       "      <th>year_of_release</th>\n",
       "      <th>na_sales</th>\n",
       "      <th>eu_sales</th>\n",
       "      <th>jp_sales</th>\n",
       "      <th>other_sales</th>\n",
       "      <th>critic_score</th>\n",
       "      <th>user_score</th>\n",
       "      <th>total_sales</th>\n",
       "    </tr>\n",
       "    <tr>\n",
       "      <th>platform</th>\n",
       "      <th></th>\n",
       "      <th></th>\n",
       "      <th></th>\n",
       "      <th></th>\n",
       "      <th></th>\n",
       "      <th></th>\n",
       "      <th></th>\n",
       "      <th></th>\n",
       "    </tr>\n",
       "  </thead>\n",
       "  <tbody>\n",
       "    <tr>\n",
       "      <th>PS3</th>\n",
       "      <td>1424994</td>\n",
       "      <td>168.26</td>\n",
       "      <td>163.10</td>\n",
       "      <td>49.39</td>\n",
       "      <td>64.82</td>\n",
       "      <td>24820.0</td>\n",
       "      <td>2757.4</td>\n",
       "      <td>445.57</td>\n",
       "    </tr>\n",
       "    <tr>\n",
       "      <th>PS4</th>\n",
       "      <td>789937</td>\n",
       "      <td>108.74</td>\n",
       "      <td>141.09</td>\n",
       "      <td>15.96</td>\n",
       "      <td>48.35</td>\n",
       "      <td>18167.0</td>\n",
       "      <td>1734.3</td>\n",
       "      <td>314.14</td>\n",
       "    </tr>\n",
       "    <tr>\n",
       "      <th>X360</th>\n",
       "      <td>1002128</td>\n",
       "      <td>226.80</td>\n",
       "      <td>117.10</td>\n",
       "      <td>3.35</td>\n",
       "      <td>33.13</td>\n",
       "      <td>20670.0</td>\n",
       "      <td>2304.7</td>\n",
       "      <td>380.38</td>\n",
       "    </tr>\n",
       "    <tr>\n",
       "      <th>3DS</th>\n",
       "      <td>1030721</td>\n",
       "      <td>82.65</td>\n",
       "      <td>61.27</td>\n",
       "      <td>100.62</td>\n",
       "      <td>13.27</td>\n",
       "      <td>11148.0</td>\n",
       "      <td>1171.7</td>\n",
       "      <td>257.81</td>\n",
       "    </tr>\n",
       "    <tr>\n",
       "      <th>PC</th>\n",
       "      <td>783027</td>\n",
       "      <td>29.88</td>\n",
       "      <td>56.70</td>\n",
       "      <td>0.00</td>\n",
       "      <td>11.10</td>\n",
       "      <td>21632.0</td>\n",
       "      <td>1980.7</td>\n",
       "      <td>97.68</td>\n",
       "    </tr>\n",
       "  </tbody>\n",
       "</table>\n",
       "</div>"
      ],
      "text/plain": [
       "          year_of_release  na_sales  eu_sales  jp_sales  other_sales  \\\n",
       "platform                                                               \n",
       "PS3               1424994    168.26    163.10     49.39        64.82   \n",
       "PS4                789937    108.74    141.09     15.96        48.35   \n",
       "X360              1002128    226.80    117.10      3.35        33.13   \n",
       "3DS               1030721     82.65     61.27    100.62        13.27   \n",
       "PC                 783027     29.88     56.70      0.00        11.10   \n",
       "\n",
       "          critic_score  user_score  total_sales  \n",
       "platform                                         \n",
       "PS3            24820.0      2757.4       445.57  \n",
       "PS4            18167.0      1734.3       314.14  \n",
       "X360           20670.0      2304.7       380.38  \n",
       "3DS            11148.0      1171.7       257.81  \n",
       "PC             21632.0      1980.7        97.68  "
      ]
     },
     "execution_count": 194,
     "metadata": {},
     "output_type": "execute_result"
    }
   ],
   "source": [
    "#топ-5 платформ для Европы\n",
    "(relevant_data\n",
    "    .groupby('platform').agg('sum')\n",
    "    .sort_values(by = 'eu_sales', ascending = False)\n",
    "    .head()\n",
    ")"
   ]
  },
  {
   "cell_type": "markdown",
   "metadata": {},
   "source": [
    "Топ-5 по продажам в Европе:\n",
    "1. PS3\n",
    "2. PS4\n",
    "3. X360\n",
    "4. 3DS\n",
    "5. PC"
   ]
  },
  {
   "cell_type": "code",
   "execution_count": 195,
   "metadata": {},
   "outputs": [
    {
     "data": {
      "text/html": [
       "<div>\n",
       "<style scoped>\n",
       "    .dataframe tbody tr th:only-of-type {\n",
       "        vertical-align: middle;\n",
       "    }\n",
       "\n",
       "    .dataframe tbody tr th {\n",
       "        vertical-align: top;\n",
       "    }\n",
       "\n",
       "    .dataframe thead th {\n",
       "        text-align: right;\n",
       "    }\n",
       "</style>\n",
       "<table border=\"1\" class=\"dataframe\">\n",
       "  <thead>\n",
       "    <tr style=\"text-align: right;\">\n",
       "      <th></th>\n",
       "      <th>year_of_release</th>\n",
       "      <th>na_sales</th>\n",
       "      <th>eu_sales</th>\n",
       "      <th>jp_sales</th>\n",
       "      <th>other_sales</th>\n",
       "      <th>critic_score</th>\n",
       "      <th>user_score</th>\n",
       "      <th>total_sales</th>\n",
       "    </tr>\n",
       "    <tr>\n",
       "      <th>platform</th>\n",
       "      <th></th>\n",
       "      <th></th>\n",
       "      <th></th>\n",
       "      <th></th>\n",
       "      <th></th>\n",
       "      <th></th>\n",
       "      <th></th>\n",
       "      <th></th>\n",
       "    </tr>\n",
       "  </thead>\n",
       "  <tbody>\n",
       "    <tr>\n",
       "      <th>3DS</th>\n",
       "      <td>1030721</td>\n",
       "      <td>82.65</td>\n",
       "      <td>61.27</td>\n",
       "      <td>100.62</td>\n",
       "      <td>13.27</td>\n",
       "      <td>11148.0</td>\n",
       "      <td>1171.7</td>\n",
       "      <td>257.81</td>\n",
       "    </tr>\n",
       "    <tr>\n",
       "      <th>PS3</th>\n",
       "      <td>1424994</td>\n",
       "      <td>168.26</td>\n",
       "      <td>163.10</td>\n",
       "      <td>49.39</td>\n",
       "      <td>64.82</td>\n",
       "      <td>24820.0</td>\n",
       "      <td>2757.4</td>\n",
       "      <td>445.57</td>\n",
       "    </tr>\n",
       "    <tr>\n",
       "      <th>PSP</th>\n",
       "      <td>627688</td>\n",
       "      <td>2.19</td>\n",
       "      <td>1.77</td>\n",
       "      <td>24.04</td>\n",
       "      <td>1.01</td>\n",
       "      <td>984.0</td>\n",
       "      <td>107.6</td>\n",
       "      <td>29.01</td>\n",
       "    </tr>\n",
       "    <tr>\n",
       "      <th>PSV</th>\n",
       "      <td>864063</td>\n",
       "      <td>12.47</td>\n",
       "      <td>13.07</td>\n",
       "      <td>21.84</td>\n",
       "      <td>6.43</td>\n",
       "      <td>8417.0</td>\n",
       "      <td>1041.5</td>\n",
       "      <td>53.81</td>\n",
       "    </tr>\n",
       "    <tr>\n",
       "      <th>PS4</th>\n",
       "      <td>789937</td>\n",
       "      <td>108.74</td>\n",
       "      <td>141.09</td>\n",
       "      <td>15.96</td>\n",
       "      <td>48.35</td>\n",
       "      <td>18167.0</td>\n",
       "      <td>1734.3</td>\n",
       "      <td>314.14</td>\n",
       "    </tr>\n",
       "  </tbody>\n",
       "</table>\n",
       "</div>"
      ],
      "text/plain": [
       "          year_of_release  na_sales  eu_sales  jp_sales  other_sales  \\\n",
       "platform                                                               \n",
       "3DS               1030721     82.65     61.27    100.62        13.27   \n",
       "PS3               1424994    168.26    163.10     49.39        64.82   \n",
       "PSP                627688      2.19      1.77     24.04         1.01   \n",
       "PSV                864063     12.47     13.07     21.84         6.43   \n",
       "PS4                789937    108.74    141.09     15.96        48.35   \n",
       "\n",
       "          critic_score  user_score  total_sales  \n",
       "platform                                         \n",
       "3DS            11148.0      1171.7       257.81  \n",
       "PS3            24820.0      2757.4       445.57  \n",
       "PSP              984.0       107.6        29.01  \n",
       "PSV             8417.0      1041.5        53.81  \n",
       "PS4            18167.0      1734.3       314.14  "
      ]
     },
     "execution_count": 195,
     "metadata": {},
     "output_type": "execute_result"
    }
   ],
   "source": [
    "#топ-5 платформ для Японии\n",
    "(relevant_data\n",
    "    .groupby('platform').agg('sum')\n",
    "    .sort_values(by = 'jp_sales', ascending = False)\n",
    "    .head()\n",
    ")"
   ]
  },
  {
   "cell_type": "markdown",
   "metadata": {},
   "source": [
    "Топ-5 по продажам в Японии:\n",
    "1. 3DS\n",
    "2. PS3\n",
    "3. PSP\n",
    "4. PSV\n",
    "5. PS4"
   ]
  },
  {
   "cell_type": "markdown",
   "metadata": {},
   "source": [
    "Для сравнения долей продаж от общих отсортируем в этом же ключе платформы по общим продажам и сохраним в переменную"
   ]
  },
  {
   "cell_type": "code",
   "execution_count": 196,
   "metadata": {},
   "outputs": [
    {
     "data": {
      "text/html": [
       "<div>\n",
       "<style scoped>\n",
       "    .dataframe tbody tr th:only-of-type {\n",
       "        vertical-align: middle;\n",
       "    }\n",
       "\n",
       "    .dataframe tbody tr th {\n",
       "        vertical-align: top;\n",
       "    }\n",
       "\n",
       "    .dataframe thead th {\n",
       "        text-align: right;\n",
       "    }\n",
       "</style>\n",
       "<table border=\"1\" class=\"dataframe\">\n",
       "  <thead>\n",
       "    <tr style=\"text-align: right;\">\n",
       "      <th></th>\n",
       "      <th>year_of_release</th>\n",
       "      <th>na_sales</th>\n",
       "      <th>eu_sales</th>\n",
       "      <th>jp_sales</th>\n",
       "      <th>other_sales</th>\n",
       "      <th>critic_score</th>\n",
       "      <th>user_score</th>\n",
       "      <th>total_sales</th>\n",
       "    </tr>\n",
       "    <tr>\n",
       "      <th>platform</th>\n",
       "      <th></th>\n",
       "      <th></th>\n",
       "      <th></th>\n",
       "      <th></th>\n",
       "      <th></th>\n",
       "      <th></th>\n",
       "      <th></th>\n",
       "      <th></th>\n",
       "    </tr>\n",
       "  </thead>\n",
       "  <tbody>\n",
       "    <tr>\n",
       "      <th>PS3</th>\n",
       "      <td>1424994</td>\n",
       "      <td>168.26</td>\n",
       "      <td>163.10</td>\n",
       "      <td>49.39</td>\n",
       "      <td>64.82</td>\n",
       "      <td>24820.0</td>\n",
       "      <td>2757.4</td>\n",
       "      <td>445.57</td>\n",
       "    </tr>\n",
       "    <tr>\n",
       "      <th>X360</th>\n",
       "      <td>1002128</td>\n",
       "      <td>226.80</td>\n",
       "      <td>117.10</td>\n",
       "      <td>3.35</td>\n",
       "      <td>33.13</td>\n",
       "      <td>20670.0</td>\n",
       "      <td>2304.7</td>\n",
       "      <td>380.38</td>\n",
       "    </tr>\n",
       "    <tr>\n",
       "      <th>PS4</th>\n",
       "      <td>789937</td>\n",
       "      <td>108.74</td>\n",
       "      <td>141.09</td>\n",
       "      <td>15.96</td>\n",
       "      <td>48.35</td>\n",
       "      <td>18167.0</td>\n",
       "      <td>1734.3</td>\n",
       "      <td>314.14</td>\n",
       "    </tr>\n",
       "    <tr>\n",
       "      <th>3DS</th>\n",
       "      <td>1030721</td>\n",
       "      <td>82.65</td>\n",
       "      <td>61.27</td>\n",
       "      <td>100.62</td>\n",
       "      <td>13.27</td>\n",
       "      <td>11148.0</td>\n",
       "      <td>1171.7</td>\n",
       "      <td>257.81</td>\n",
       "    </tr>\n",
       "    <tr>\n",
       "      <th>XOne</th>\n",
       "      <td>497693</td>\n",
       "      <td>93.12</td>\n",
       "      <td>51.59</td>\n",
       "      <td>0.34</td>\n",
       "      <td>14.27</td>\n",
       "      <td>12392.0</td>\n",
       "      <td>1186.9</td>\n",
       "      <td>159.32</td>\n",
       "    </tr>\n",
       "  </tbody>\n",
       "</table>\n",
       "</div>"
      ],
      "text/plain": [
       "          year_of_release  na_sales  eu_sales  jp_sales  other_sales  \\\n",
       "platform                                                               \n",
       "PS3               1424994    168.26    163.10     49.39        64.82   \n",
       "X360              1002128    226.80    117.10      3.35        33.13   \n",
       "PS4                789937    108.74    141.09     15.96        48.35   \n",
       "3DS               1030721     82.65     61.27    100.62        13.27   \n",
       "XOne               497693     93.12     51.59      0.34        14.27   \n",
       "\n",
       "          critic_score  user_score  total_sales  \n",
       "platform                                         \n",
       "PS3            24820.0      2757.4       445.57  \n",
       "X360           20670.0      2304.7       380.38  \n",
       "PS4            18167.0      1734.3       314.14  \n",
       "3DS            11148.0      1171.7       257.81  \n",
       "XOne           12392.0      1186.9       159.32  "
      ]
     },
     "execution_count": 196,
     "metadata": {},
     "output_type": "execute_result"
    }
   ],
   "source": [
    "total_sales_platforms = (relevant_data\n",
    "                    .groupby('platform').agg('sum')\n",
    "                    .sort_values(by = 'total_sales', ascending = False)\n",
    "                )\n",
    "total_sales_platforms.head()"
   ]
  },
  {
   "cell_type": "code",
   "execution_count": 197,
   "metadata": {},
   "outputs": [
    {
     "name": "stdout",
     "output_type": "stream",
     "text": [
      "na_sales\n"
     ]
    },
    {
     "data": {
      "image/png": "[encoded data removed]",
      "text/plain": [
       "<Figure size 432x288 with 1 Axes>"
      ]
     },
     "metadata": {},
     "output_type": "display_data"
    },
    {
     "name": "stdout",
     "output_type": "stream",
     "text": [
      "eu_sales\n"
     ]
    },
    {
     "data": {
      "image/png": "[encoded data removed]",
      "text/plain": [
       "<Figure size 432x288 with 1 Axes>"
      ]
     },
     "metadata": {},
     "output_type": "display_data"
    },
    {
     "name": "stdout",
     "output_type": "stream",
     "text": [
      "jp_sales\n"
     ]
    },
    {
     "data": {
      "image/png": "[encoded data removed]",
      "text/plain": [
       "<Figure size 432x288 with 1 Axes>"
      ]
     },
     "metadata": {},
     "output_type": "display_data"
    }
   ],
   "source": [
    "regions = ['na_sales','eu_sales', 'jp_sales'] #создадим список регионов\n",
    "\n",
    "platforms = list(relevant_data['platform'].unique()) #создадим список платформ\n",
    "\n",
    "#создадим цикл, который посчитает долю продаж каждого региона и построит диаграмму-пирог\n",
    "for region in regions:\n",
    "    segment = total_sales_platforms[region]/total_sales_platforms['total_sales']\n",
    "    print(region)\n",
    "    plt.pie(segment, labels=platforms)\n",
    "    plt.show()"
   ]
  },
  {
   "cell_type": "markdown",
   "metadata": {},
   "source": [
    "Если у Америки и Европы распределение продаж платформ немного отличается по долям, но в целом весьма схоже, то распределние долей в Японии сильно отличается от обоих, например: почти 1/3 занимает PSP, а в Америке и Европе она на последнем месте  \n",
    "Судя по статистике, в отличии от американцев и европецев, японцы предпочитают портативные консоли"
   ]
  },
  {
   "cell_type": "markdown",
   "metadata": {},
   "source": [
    "### Определите для пользователя каждого региона (NA, EU, JP): Самые популярные жанры (топ-5). Поясните разницу.\n"
   ]
  },
  {
   "cell_type": "code",
   "execution_count": 198,
   "metadata": {
    "scrolled": false
   },
   "outputs": [
    {
     "data": {
      "text/html": [
       "<div>\n",
       "<style scoped>\n",
       "    .dataframe tbody tr th:only-of-type {\n",
       "        vertical-align: middle;\n",
       "    }\n",
       "\n",
       "    .dataframe tbody tr th {\n",
       "        vertical-align: top;\n",
       "    }\n",
       "\n",
       "    .dataframe thead th {\n",
       "        text-align: right;\n",
       "    }\n",
       "</style>\n",
       "<table border=\"1\" class=\"dataframe\">\n",
       "  <thead>\n",
       "    <tr style=\"text-align: right;\">\n",
       "      <th></th>\n",
       "      <th>year_of_release</th>\n",
       "      <th>na_sales</th>\n",
       "      <th>eu_sales</th>\n",
       "      <th>jp_sales</th>\n",
       "      <th>other_sales</th>\n",
       "      <th>critic_score</th>\n",
       "      <th>user_score</th>\n",
       "      <th>total_sales</th>\n",
       "    </tr>\n",
       "    <tr>\n",
       "      <th>genre</th>\n",
       "      <th></th>\n",
       "      <th></th>\n",
       "      <th></th>\n",
       "      <th></th>\n",
       "      <th></th>\n",
       "      <th></th>\n",
       "      <th></th>\n",
       "      <th></th>\n",
       "    </tr>\n",
       "  </thead>\n",
       "  <tbody>\n",
       "    <tr>\n",
       "      <th>Action</th>\n",
       "      <td>2554984</td>\n",
       "      <td>230.92</td>\n",
       "      <td>199.12</td>\n",
       "      <td>63.62</td>\n",
       "      <td>64.14</td>\n",
       "      <td>40471.0</td>\n",
       "      <td>4499.2</td>\n",
       "      <td>557.80</td>\n",
       "    </tr>\n",
       "    <tr>\n",
       "      <th>Shooter</th>\n",
       "      <td>662297</td>\n",
       "      <td>194.43</td>\n",
       "      <td>148.02</td>\n",
       "      <td>11.92</td>\n",
       "      <td>48.54</td>\n",
       "      <td>18120.0</td>\n",
       "      <td>1744.9</td>\n",
       "      <td>402.91</td>\n",
       "    </tr>\n",
       "    <tr>\n",
       "      <th>Sports</th>\n",
       "      <td>783077</td>\n",
       "      <td>108.70</td>\n",
       "      <td>88.48</td>\n",
       "      <td>11.09</td>\n",
       "      <td>28.88</td>\n",
       "      <td>13609.0</td>\n",
       "      <td>1390.1</td>\n",
       "      <td>237.15</td>\n",
       "    </tr>\n",
       "    <tr>\n",
       "      <th>Role-Playing</th>\n",
       "      <td>936184</td>\n",
       "      <td>83.78</td>\n",
       "      <td>62.30</td>\n",
       "      <td>79.87</td>\n",
       "      <td>19.68</td>\n",
       "      <td>14571.0</td>\n",
       "      <td>1524.8</td>\n",
       "      <td>245.63</td>\n",
       "    </tr>\n",
       "    <tr>\n",
       "      <th>Misc</th>\n",
       "      <td>754688</td>\n",
       "      <td>69.69</td>\n",
       "      <td>39.72</td>\n",
       "      <td>17.60</td>\n",
       "      <td>12.41</td>\n",
       "      <td>6663.0</td>\n",
       "      <td>683.8</td>\n",
       "      <td>139.42</td>\n",
       "    </tr>\n",
       "  </tbody>\n",
       "</table>\n",
       "</div>"
      ],
      "text/plain": [
       "              year_of_release  na_sales  eu_sales  jp_sales  other_sales  \\\n",
       "genre                                                                      \n",
       "Action                2554984    230.92    199.12     63.62        64.14   \n",
       "Shooter                662297    194.43    148.02     11.92        48.54   \n",
       "Sports                 783077    108.70     88.48     11.09        28.88   \n",
       "Role-Playing           936184     83.78     62.30     79.87        19.68   \n",
       "Misc                   754688     69.69     39.72     17.60        12.41   \n",
       "\n",
       "              critic_score  user_score  total_sales  \n",
       "genre                                                \n",
       "Action             40471.0      4499.2       557.80  \n",
       "Shooter            18120.0      1744.9       402.91  \n",
       "Sports             13609.0      1390.1       237.15  \n",
       "Role-Playing       14571.0      1524.8       245.63  \n",
       "Misc                6663.0       683.8       139.42  "
      ]
     },
     "execution_count": 198,
     "metadata": {},
     "output_type": "execute_result"
    }
   ],
   "source": [
    "#соберем топ-5 жанров для Северной Америки\n",
    "(relevant_data\n",
    "    .groupby('genre').agg('sum')\n",
    "    .sort_values(by = 'na_sales', ascending = False)\n",
    "    .head()\n",
    ")"
   ]
  },
  {
   "cell_type": "markdown",
   "metadata": {},
   "source": [
    "Топ-5 жанров в Северной Америке:\n",
    "1. Action\n",
    "2. Shooter\n",
    "3. Sports\n",
    "4. Role-Playing\n",
    "5. Misc"
   ]
  },
  {
   "cell_type": "code",
   "execution_count": 199,
   "metadata": {},
   "outputs": [
    {
     "data": {
      "text/html": [
       "<div>\n",
       "<style scoped>\n",
       "    .dataframe tbody tr th:only-of-type {\n",
       "        vertical-align: middle;\n",
       "    }\n",
       "\n",
       "    .dataframe tbody tr th {\n",
       "        vertical-align: top;\n",
       "    }\n",
       "\n",
       "    .dataframe thead th {\n",
       "        text-align: right;\n",
       "    }\n",
       "</style>\n",
       "<table border=\"1\" class=\"dataframe\">\n",
       "  <thead>\n",
       "    <tr style=\"text-align: right;\">\n",
       "      <th></th>\n",
       "      <th>year_of_release</th>\n",
       "      <th>na_sales</th>\n",
       "      <th>eu_sales</th>\n",
       "      <th>jp_sales</th>\n",
       "      <th>other_sales</th>\n",
       "      <th>critic_score</th>\n",
       "      <th>user_score</th>\n",
       "      <th>total_sales</th>\n",
       "    </tr>\n",
       "    <tr>\n",
       "      <th>genre</th>\n",
       "      <th></th>\n",
       "      <th></th>\n",
       "      <th></th>\n",
       "      <th></th>\n",
       "      <th></th>\n",
       "      <th></th>\n",
       "      <th></th>\n",
       "      <th></th>\n",
       "    </tr>\n",
       "  </thead>\n",
       "  <tbody>\n",
       "    <tr>\n",
       "      <th>Action</th>\n",
       "      <td>2554984</td>\n",
       "      <td>230.92</td>\n",
       "      <td>199.12</td>\n",
       "      <td>63.62</td>\n",
       "      <td>64.14</td>\n",
       "      <td>40471.0</td>\n",
       "      <td>4499.2</td>\n",
       "      <td>557.80</td>\n",
       "    </tr>\n",
       "    <tr>\n",
       "      <th>Shooter</th>\n",
       "      <td>662297</td>\n",
       "      <td>194.43</td>\n",
       "      <td>148.02</td>\n",
       "      <td>11.92</td>\n",
       "      <td>48.54</td>\n",
       "      <td>18120.0</td>\n",
       "      <td>1744.9</td>\n",
       "      <td>402.91</td>\n",
       "    </tr>\n",
       "    <tr>\n",
       "      <th>Sports</th>\n",
       "      <td>783077</td>\n",
       "      <td>108.70</td>\n",
       "      <td>88.48</td>\n",
       "      <td>11.09</td>\n",
       "      <td>28.88</td>\n",
       "      <td>13609.0</td>\n",
       "      <td>1390.1</td>\n",
       "      <td>237.15</td>\n",
       "    </tr>\n",
       "    <tr>\n",
       "      <th>Role-Playing</th>\n",
       "      <td>936184</td>\n",
       "      <td>83.78</td>\n",
       "      <td>62.30</td>\n",
       "      <td>79.87</td>\n",
       "      <td>19.68</td>\n",
       "      <td>14571.0</td>\n",
       "      <td>1524.8</td>\n",
       "      <td>245.63</td>\n",
       "    </tr>\n",
       "    <tr>\n",
       "      <th>Racing</th>\n",
       "      <td>362315</td>\n",
       "      <td>31.98</td>\n",
       "      <td>40.58</td>\n",
       "      <td>5.64</td>\n",
       "      <td>10.11</td>\n",
       "      <td>7943.0</td>\n",
       "      <td>727.2</td>\n",
       "      <td>88.31</td>\n",
       "    </tr>\n",
       "  </tbody>\n",
       "</table>\n",
       "</div>"
      ],
      "text/plain": [
       "              year_of_release  na_sales  eu_sales  jp_sales  other_sales  \\\n",
       "genre                                                                      \n",
       "Action                2554984    230.92    199.12     63.62        64.14   \n",
       "Shooter                662297    194.43    148.02     11.92        48.54   \n",
       "Sports                 783077    108.70     88.48     11.09        28.88   \n",
       "Role-Playing           936184     83.78     62.30     79.87        19.68   \n",
       "Racing                 362315     31.98     40.58      5.64        10.11   \n",
       "\n",
       "              critic_score  user_score  total_sales  \n",
       "genre                                                \n",
       "Action             40471.0      4499.2       557.80  \n",
       "Shooter            18120.0      1744.9       402.91  \n",
       "Sports             13609.0      1390.1       237.15  \n",
       "Role-Playing       14571.0      1524.8       245.63  \n",
       "Racing              7943.0       727.2        88.31  "
      ]
     },
     "execution_count": 199,
     "metadata": {},
     "output_type": "execute_result"
    }
   ],
   "source": [
    "#соберем топ-5 жанров для Европы\n",
    "(relevant_data\n",
    "    .groupby('genre').agg('sum')\n",
    "    .sort_values(by = 'eu_sales', ascending = False)\n",
    "    .head()\n",
    ")"
   ]
  },
  {
   "cell_type": "markdown",
   "metadata": {},
   "source": [
    "Топ-5 жанров в Европе:\n",
    "1. Action\n",
    "2. Shooter\n",
    "3. Sports\n",
    "4. Role-Playing\n",
    "5. Racing"
   ]
  },
  {
   "cell_type": "code",
   "execution_count": 200,
   "metadata": {},
   "outputs": [
    {
     "data": {
      "text/html": [
       "<div>\n",
       "<style scoped>\n",
       "    .dataframe tbody tr th:only-of-type {\n",
       "        vertical-align: middle;\n",
       "    }\n",
       "\n",
       "    .dataframe tbody tr th {\n",
       "        vertical-align: top;\n",
       "    }\n",
       "\n",
       "    .dataframe thead th {\n",
       "        text-align: right;\n",
       "    }\n",
       "</style>\n",
       "<table border=\"1\" class=\"dataframe\">\n",
       "  <thead>\n",
       "    <tr style=\"text-align: right;\">\n",
       "      <th></th>\n",
       "      <th>year_of_release</th>\n",
       "      <th>na_sales</th>\n",
       "      <th>eu_sales</th>\n",
       "      <th>jp_sales</th>\n",
       "      <th>other_sales</th>\n",
       "      <th>critic_score</th>\n",
       "      <th>user_score</th>\n",
       "      <th>total_sales</th>\n",
       "    </tr>\n",
       "    <tr>\n",
       "      <th>genre</th>\n",
       "      <th></th>\n",
       "      <th></th>\n",
       "      <th></th>\n",
       "      <th></th>\n",
       "      <th></th>\n",
       "      <th></th>\n",
       "      <th></th>\n",
       "      <th></th>\n",
       "    </tr>\n",
       "  </thead>\n",
       "  <tbody>\n",
       "    <tr>\n",
       "      <th>Role-Playing</th>\n",
       "      <td>936184</td>\n",
       "      <td>83.78</td>\n",
       "      <td>62.30</td>\n",
       "      <td>79.87</td>\n",
       "      <td>19.68</td>\n",
       "      <td>14571.0</td>\n",
       "      <td>1524.8</td>\n",
       "      <td>245.63</td>\n",
       "    </tr>\n",
       "    <tr>\n",
       "      <th>Action</th>\n",
       "      <td>2554984</td>\n",
       "      <td>230.92</td>\n",
       "      <td>199.12</td>\n",
       "      <td>63.62</td>\n",
       "      <td>64.14</td>\n",
       "      <td>40471.0</td>\n",
       "      <td>4499.2</td>\n",
       "      <td>557.80</td>\n",
       "    </tr>\n",
       "    <tr>\n",
       "      <th>Misc</th>\n",
       "      <td>754688</td>\n",
       "      <td>69.69</td>\n",
       "      <td>39.72</td>\n",
       "      <td>17.60</td>\n",
       "      <td>12.41</td>\n",
       "      <td>6663.0</td>\n",
       "      <td>683.8</td>\n",
       "      <td>139.42</td>\n",
       "    </tr>\n",
       "    <tr>\n",
       "      <th>Fighting</th>\n",
       "      <td>320051</td>\n",
       "      <td>31.63</td>\n",
       "      <td>16.24</td>\n",
       "      <td>12.38</td>\n",
       "      <td>6.65</td>\n",
       "      <td>7052.0</td>\n",
       "      <td>728.2</td>\n",
       "      <td>66.90</td>\n",
       "    </tr>\n",
       "    <tr>\n",
       "      <th>Platform</th>\n",
       "      <td>245582</td>\n",
       "      <td>38.28</td>\n",
       "      <td>30.07</td>\n",
       "      <td>12.13</td>\n",
       "      <td>8.20</td>\n",
       "      <td>6146.0</td>\n",
       "      <td>627.0</td>\n",
       "      <td>88.68</td>\n",
       "    </tr>\n",
       "  </tbody>\n",
       "</table>\n",
       "</div>"
      ],
      "text/plain": [
       "              year_of_release  na_sales  eu_sales  jp_sales  other_sales  \\\n",
       "genre                                                                      \n",
       "Role-Playing           936184     83.78     62.30     79.87        19.68   \n",
       "Action                2554984    230.92    199.12     63.62        64.14   \n",
       "Misc                   754688     69.69     39.72     17.60        12.41   \n",
       "Fighting               320051     31.63     16.24     12.38         6.65   \n",
       "Platform               245582     38.28     30.07     12.13         8.20   \n",
       "\n",
       "              critic_score  user_score  total_sales  \n",
       "genre                                                \n",
       "Role-Playing       14571.0      1524.8       245.63  \n",
       "Action             40471.0      4499.2       557.80  \n",
       "Misc                6663.0       683.8       139.42  \n",
       "Fighting            7052.0       728.2        66.90  \n",
       "Platform            6146.0       627.0        88.68  "
      ]
     },
     "execution_count": 200,
     "metadata": {},
     "output_type": "execute_result"
    }
   ],
   "source": [
    "#соберем топ-5 жанров для Японии\n",
    "(relevant_data\n",
    "    .groupby('genre').agg('sum')\n",
    "    .sort_values(by = 'jp_sales', ascending = False)\n",
    "    .head()\n",
    ")"
   ]
  },
  {
   "cell_type": "markdown",
   "metadata": {},
   "source": [
    "Топ-5 жанров в Японии:\n",
    "1. Role-Playing\n",
    "2. Action\n",
    "3. Misc\n",
    "4. Fighting\n",
    "5. Platform"
   ]
  },
  {
   "cell_type": "markdown",
   "metadata": {},
   "source": [
    "Топ-5 самых популярных жанров в Северной Америке и Европе практически идентичны: совпадают по 4 пунктам  \n",
    "Как и в случае с самыми популярными платформами, данные по Японии заметно отличаются  \n",
    "У американцев и европейцев на первом месте игры в жанре экшн, японцы отдают предпочтение ролевым"
   ]
  },
  {
   "cell_type": "markdown",
   "metadata": {},
   "source": [
    "### Определите для пользователя каждого региона (NA, EU, JP): Влияет ли рейтинг ESRB на продажи в отдельном регионе?\n"
   ]
  },
  {
   "cell_type": "markdown",
   "metadata": {},
   "source": [
    "Согласно рейтингу ESRB аббревиатуры обозначают следующее:  \n",
    "* M - Для взрослых\n",
    "* E - Для всех\n",
    "* E10+ - Для всех от 10 лет и старше\n",
    "* T - Подросткам\n",
    "* RP - Рейтинг ожидается\n",
    "* EC - Для детей младшего возраста"
   ]
  },
  {
   "cell_type": "code",
   "execution_count": 201,
   "metadata": {},
   "outputs": [
    {
     "data": {
      "text/html": [
       "<div>\n",
       "<style scoped>\n",
       "    .dataframe tbody tr th:only-of-type {\n",
       "        vertical-align: middle;\n",
       "    }\n",
       "\n",
       "    .dataframe tbody tr th {\n",
       "        vertical-align: top;\n",
       "    }\n",
       "\n",
       "    .dataframe thead th {\n",
       "        text-align: right;\n",
       "    }\n",
       "</style>\n",
       "<table border=\"1\" class=\"dataframe\">\n",
       "  <thead>\n",
       "    <tr style=\"text-align: right;\">\n",
       "      <th></th>\n",
       "      <th>year_of_release</th>\n",
       "      <th>na_sales</th>\n",
       "      <th>eu_sales</th>\n",
       "      <th>jp_sales</th>\n",
       "      <th>other_sales</th>\n",
       "      <th>critic_score</th>\n",
       "      <th>user_score</th>\n",
       "      <th>total_sales</th>\n",
       "    </tr>\n",
       "    <tr>\n",
       "      <th>rating</th>\n",
       "      <th></th>\n",
       "      <th></th>\n",
       "      <th></th>\n",
       "      <th></th>\n",
       "      <th></th>\n",
       "      <th></th>\n",
       "      <th></th>\n",
       "      <th></th>\n",
       "    </tr>\n",
       "  </thead>\n",
       "  <tbody>\n",
       "    <tr>\n",
       "      <th>M</th>\n",
       "      <td>1252201</td>\n",
       "      <td>308.45</td>\n",
       "      <td>250.26</td>\n",
       "      <td>26.14</td>\n",
       "      <td>81.96</td>\n",
       "      <td>41283.0</td>\n",
       "      <td>4111.6</td>\n",
       "      <td>666.81</td>\n",
       "    </tr>\n",
       "    <tr>\n",
       "      <th>E</th>\n",
       "      <td>1243933</td>\n",
       "      <td>170.17</td>\n",
       "      <td>141.73</td>\n",
       "      <td>36.68</td>\n",
       "      <td>40.86</td>\n",
       "      <td>26797.0</td>\n",
       "      <td>2689.3</td>\n",
       "      <td>389.44</td>\n",
       "    </tr>\n",
       "    <tr>\n",
       "      <th>unknown</th>\n",
       "      <td>3438524</td>\n",
       "      <td>123.69</td>\n",
       "      <td>116.61</td>\n",
       "      <td>138.21</td>\n",
       "      <td>33.97</td>\n",
       "      <td>3831.0</td>\n",
       "      <td>445.7</td>\n",
       "      <td>412.48</td>\n",
       "    </tr>\n",
       "    <tr>\n",
       "      <th>E10+</th>\n",
       "      <td>917910</td>\n",
       "      <td>117.72</td>\n",
       "      <td>78.00</td>\n",
       "      <td>11.23</td>\n",
       "      <td>23.91</td>\n",
       "      <td>22456.0</td>\n",
       "      <td>2387.4</td>\n",
       "      <td>230.86</td>\n",
       "    </tr>\n",
       "    <tr>\n",
       "      <th>T</th>\n",
       "      <td>1240070</td>\n",
       "      <td>109.31</td>\n",
       "      <td>83.16</td>\n",
       "      <td>33.39</td>\n",
       "      <td>28.17</td>\n",
       "      <td>34719.0</td>\n",
       "      <td>3837.5</td>\n",
       "      <td>254.03</td>\n",
       "    </tr>\n",
       "    <tr>\n",
       "      <th>EC</th>\n",
       "      <td>2011</td>\n",
       "      <td>0.42</td>\n",
       "      <td>0.00</td>\n",
       "      <td>0.00</td>\n",
       "      <td>0.03</td>\n",
       "      <td>0.0</td>\n",
       "      <td>0.0</td>\n",
       "      <td>0.45</td>\n",
       "    </tr>\n",
       "    <tr>\n",
       "      <th>RP</th>\n",
       "      <td>2011</td>\n",
       "      <td>0.00</td>\n",
       "      <td>0.03</td>\n",
       "      <td>0.00</td>\n",
       "      <td>0.01</td>\n",
       "      <td>63.0</td>\n",
       "      <td>6.8</td>\n",
       "      <td>0.04</td>\n",
       "    </tr>\n",
       "  </tbody>\n",
       "</table>\n",
       "</div>"
      ],
      "text/plain": [
       "         year_of_release  na_sales  eu_sales  jp_sales  other_sales  \\\n",
       "rating                                                                \n",
       "M                1252201    308.45    250.26     26.14        81.96   \n",
       "E                1243933    170.17    141.73     36.68        40.86   \n",
       "unknown          3438524    123.69    116.61    138.21        33.97   \n",
       "E10+              917910    117.72     78.00     11.23        23.91   \n",
       "T                1240070    109.31     83.16     33.39        28.17   \n",
       "EC                  2011      0.42      0.00      0.00         0.03   \n",
       "RP                  2011      0.00      0.03      0.00         0.01   \n",
       "\n",
       "         critic_score  user_score  total_sales  \n",
       "rating                                          \n",
       "M             41283.0      4111.6       666.81  \n",
       "E             26797.0      2689.3       389.44  \n",
       "unknown        3831.0       445.7       412.48  \n",
       "E10+          22456.0      2387.4       230.86  \n",
       "T             34719.0      3837.5       254.03  \n",
       "EC                0.0         0.0         0.45  \n",
       "RP               63.0         6.8         0.04  "
      ]
     },
     "execution_count": 201,
     "metadata": {},
     "output_type": "execute_result"
    }
   ],
   "source": [
    "#соберем топ-5 по рейтингу ESRB для Северной Америки\n",
    "(relevant_data\n",
    "    .groupby('rating').agg('sum')\n",
    "    .sort_values(by = 'na_sales', ascending = False)\n",
    "    .head(10)\n",
    ")"
   ]
  },
  {
   "cell_type": "markdown",
   "metadata": {},
   "source": [
    "В Северной Америке самыми продаваемыми являются игры с рейтингом для взрослых, на втором месте - для всех  \n",
    "В целом, чем уже возрастная группа, тем меньше рейтинг"
   ]
  },
  {
   "cell_type": "code",
   "execution_count": 202,
   "metadata": {},
   "outputs": [
    {
     "data": {
      "text/html": [
       "<div>\n",
       "<style scoped>\n",
       "    .dataframe tbody tr th:only-of-type {\n",
       "        vertical-align: middle;\n",
       "    }\n",
       "\n",
       "    .dataframe tbody tr th {\n",
       "        vertical-align: top;\n",
       "    }\n",
       "\n",
       "    .dataframe thead th {\n",
       "        text-align: right;\n",
       "    }\n",
       "</style>\n",
       "<table border=\"1\" class=\"dataframe\">\n",
       "  <thead>\n",
       "    <tr style=\"text-align: right;\">\n",
       "      <th></th>\n",
       "      <th>year_of_release</th>\n",
       "      <th>na_sales</th>\n",
       "      <th>eu_sales</th>\n",
       "      <th>jp_sales</th>\n",
       "      <th>other_sales</th>\n",
       "      <th>critic_score</th>\n",
       "      <th>user_score</th>\n",
       "      <th>total_sales</th>\n",
       "    </tr>\n",
       "    <tr>\n",
       "      <th>rating</th>\n",
       "      <th></th>\n",
       "      <th></th>\n",
       "      <th></th>\n",
       "      <th></th>\n",
       "      <th></th>\n",
       "      <th></th>\n",
       "      <th></th>\n",
       "      <th></th>\n",
       "    </tr>\n",
       "  </thead>\n",
       "  <tbody>\n",
       "    <tr>\n",
       "      <th>M</th>\n",
       "      <td>1252201</td>\n",
       "      <td>308.45</td>\n",
       "      <td>250.26</td>\n",
       "      <td>26.14</td>\n",
       "      <td>81.96</td>\n",
       "      <td>41283.0</td>\n",
       "      <td>4111.6</td>\n",
       "      <td>666.81</td>\n",
       "    </tr>\n",
       "    <tr>\n",
       "      <th>E</th>\n",
       "      <td>1243933</td>\n",
       "      <td>170.17</td>\n",
       "      <td>141.73</td>\n",
       "      <td>36.68</td>\n",
       "      <td>40.86</td>\n",
       "      <td>26797.0</td>\n",
       "      <td>2689.3</td>\n",
       "      <td>389.44</td>\n",
       "    </tr>\n",
       "    <tr>\n",
       "      <th>unknown</th>\n",
       "      <td>3438524</td>\n",
       "      <td>123.69</td>\n",
       "      <td>116.61</td>\n",
       "      <td>138.21</td>\n",
       "      <td>33.97</td>\n",
       "      <td>3831.0</td>\n",
       "      <td>445.7</td>\n",
       "      <td>412.48</td>\n",
       "    </tr>\n",
       "    <tr>\n",
       "      <th>T</th>\n",
       "      <td>1240070</td>\n",
       "      <td>109.31</td>\n",
       "      <td>83.16</td>\n",
       "      <td>33.39</td>\n",
       "      <td>28.17</td>\n",
       "      <td>34719.0</td>\n",
       "      <td>3837.5</td>\n",
       "      <td>254.03</td>\n",
       "    </tr>\n",
       "    <tr>\n",
       "      <th>E10+</th>\n",
       "      <td>917910</td>\n",
       "      <td>117.72</td>\n",
       "      <td>78.00</td>\n",
       "      <td>11.23</td>\n",
       "      <td>23.91</td>\n",
       "      <td>22456.0</td>\n",
       "      <td>2387.4</td>\n",
       "      <td>230.86</td>\n",
       "    </tr>\n",
       "    <tr>\n",
       "      <th>RP</th>\n",
       "      <td>2011</td>\n",
       "      <td>0.00</td>\n",
       "      <td>0.03</td>\n",
       "      <td>0.00</td>\n",
       "      <td>0.01</td>\n",
       "      <td>63.0</td>\n",
       "      <td>6.8</td>\n",
       "      <td>0.04</td>\n",
       "    </tr>\n",
       "    <tr>\n",
       "      <th>EC</th>\n",
       "      <td>2011</td>\n",
       "      <td>0.42</td>\n",
       "      <td>0.00</td>\n",
       "      <td>0.00</td>\n",
       "      <td>0.03</td>\n",
       "      <td>0.0</td>\n",
       "      <td>0.0</td>\n",
       "      <td>0.45</td>\n",
       "    </tr>\n",
       "  </tbody>\n",
       "</table>\n",
       "</div>"
      ],
      "text/plain": [
       "         year_of_release  na_sales  eu_sales  jp_sales  other_sales  \\\n",
       "rating                                                                \n",
       "M                1252201    308.45    250.26     26.14        81.96   \n",
       "E                1243933    170.17    141.73     36.68        40.86   \n",
       "unknown          3438524    123.69    116.61    138.21        33.97   \n",
       "T                1240070    109.31     83.16     33.39        28.17   \n",
       "E10+              917910    117.72     78.00     11.23        23.91   \n",
       "RP                  2011      0.00      0.03      0.00         0.01   \n",
       "EC                  2011      0.42      0.00      0.00         0.03   \n",
       "\n",
       "         critic_score  user_score  total_sales  \n",
       "rating                                          \n",
       "M             41283.0      4111.6       666.81  \n",
       "E             26797.0      2689.3       389.44  \n",
       "unknown        3831.0       445.7       412.48  \n",
       "T             34719.0      3837.5       254.03  \n",
       "E10+          22456.0      2387.4       230.86  \n",
       "RP               63.0         6.8         0.04  \n",
       "EC                0.0         0.0         0.45  "
      ]
     },
     "execution_count": 202,
     "metadata": {},
     "output_type": "execute_result"
    }
   ],
   "source": [
    "#соберем топ-5 по рейтингу ESRB для Европы\n",
    "(relevant_data\n",
    "    .groupby('rating').agg('sum')\n",
    "    .sort_values(by = 'eu_sales', ascending = False)\n",
    "    .head(10)\n",
    ")"
   ]
  },
  {
   "cell_type": "markdown",
   "metadata": {},
   "source": [
    "В Европе аналогичная ситуация как и в Северной Америке: также самыми продаваемыми являются игры с рейтингом для взрослых, на втором месте - для всех, чем уже возрастная группа, тем меньше рейтинг"
   ]
  },
  {
   "cell_type": "code",
   "execution_count": 203,
   "metadata": {},
   "outputs": [
    {
     "data": {
      "text/html": [
       "<div>\n",
       "<style scoped>\n",
       "    .dataframe tbody tr th:only-of-type {\n",
       "        vertical-align: middle;\n",
       "    }\n",
       "\n",
       "    .dataframe tbody tr th {\n",
       "        vertical-align: top;\n",
       "    }\n",
       "\n",
       "    .dataframe thead th {\n",
       "        text-align: right;\n",
       "    }\n",
       "</style>\n",
       "<table border=\"1\" class=\"dataframe\">\n",
       "  <thead>\n",
       "    <tr style=\"text-align: right;\">\n",
       "      <th></th>\n",
       "      <th>year_of_release</th>\n",
       "      <th>na_sales</th>\n",
       "      <th>eu_sales</th>\n",
       "      <th>jp_sales</th>\n",
       "      <th>other_sales</th>\n",
       "      <th>critic_score</th>\n",
       "      <th>user_score</th>\n",
       "      <th>total_sales</th>\n",
       "    </tr>\n",
       "    <tr>\n",
       "      <th>rating</th>\n",
       "      <th></th>\n",
       "      <th></th>\n",
       "      <th></th>\n",
       "      <th></th>\n",
       "      <th></th>\n",
       "      <th></th>\n",
       "      <th></th>\n",
       "      <th></th>\n",
       "    </tr>\n",
       "  </thead>\n",
       "  <tbody>\n",
       "    <tr>\n",
       "      <th>unknown</th>\n",
       "      <td>3438524</td>\n",
       "      <td>123.69</td>\n",
       "      <td>116.61</td>\n",
       "      <td>138.21</td>\n",
       "      <td>33.97</td>\n",
       "      <td>3831.0</td>\n",
       "      <td>445.7</td>\n",
       "      <td>412.48</td>\n",
       "    </tr>\n",
       "    <tr>\n",
       "      <th>E</th>\n",
       "      <td>1243933</td>\n",
       "      <td>170.17</td>\n",
       "      <td>141.73</td>\n",
       "      <td>36.68</td>\n",
       "      <td>40.86</td>\n",
       "      <td>26797.0</td>\n",
       "      <td>2689.3</td>\n",
       "      <td>389.44</td>\n",
       "    </tr>\n",
       "    <tr>\n",
       "      <th>T</th>\n",
       "      <td>1240070</td>\n",
       "      <td>109.31</td>\n",
       "      <td>83.16</td>\n",
       "      <td>33.39</td>\n",
       "      <td>28.17</td>\n",
       "      <td>34719.0</td>\n",
       "      <td>3837.5</td>\n",
       "      <td>254.03</td>\n",
       "    </tr>\n",
       "    <tr>\n",
       "      <th>M</th>\n",
       "      <td>1252201</td>\n",
       "      <td>308.45</td>\n",
       "      <td>250.26</td>\n",
       "      <td>26.14</td>\n",
       "      <td>81.96</td>\n",
       "      <td>41283.0</td>\n",
       "      <td>4111.6</td>\n",
       "      <td>666.81</td>\n",
       "    </tr>\n",
       "    <tr>\n",
       "      <th>E10+</th>\n",
       "      <td>917910</td>\n",
       "      <td>117.72</td>\n",
       "      <td>78.00</td>\n",
       "      <td>11.23</td>\n",
       "      <td>23.91</td>\n",
       "      <td>22456.0</td>\n",
       "      <td>2387.4</td>\n",
       "      <td>230.86</td>\n",
       "    </tr>\n",
       "    <tr>\n",
       "      <th>EC</th>\n",
       "      <td>2011</td>\n",
       "      <td>0.42</td>\n",
       "      <td>0.00</td>\n",
       "      <td>0.00</td>\n",
       "      <td>0.03</td>\n",
       "      <td>0.0</td>\n",
       "      <td>0.0</td>\n",
       "      <td>0.45</td>\n",
       "    </tr>\n",
       "    <tr>\n",
       "      <th>RP</th>\n",
       "      <td>2011</td>\n",
       "      <td>0.00</td>\n",
       "      <td>0.03</td>\n",
       "      <td>0.00</td>\n",
       "      <td>0.01</td>\n",
       "      <td>63.0</td>\n",
       "      <td>6.8</td>\n",
       "      <td>0.04</td>\n",
       "    </tr>\n",
       "  </tbody>\n",
       "</table>\n",
       "</div>"
      ],
      "text/plain": [
       "         year_of_release  na_sales  eu_sales  jp_sales  other_sales  \\\n",
       "rating                                                                \n",
       "unknown          3438524    123.69    116.61    138.21        33.97   \n",
       "E                1243933    170.17    141.73     36.68        40.86   \n",
       "T                1240070    109.31     83.16     33.39        28.17   \n",
       "M                1252201    308.45    250.26     26.14        81.96   \n",
       "E10+              917910    117.72     78.00     11.23        23.91   \n",
       "EC                  2011      0.42      0.00      0.00         0.03   \n",
       "RP                  2011      0.00      0.03      0.00         0.01   \n",
       "\n",
       "         critic_score  user_score  total_sales  \n",
       "rating                                          \n",
       "unknown        3831.0       445.7       412.48  \n",
       "E             26797.0      2689.3       389.44  \n",
       "T             34719.0      3837.5       254.03  \n",
       "M             41283.0      4111.6       666.81  \n",
       "E10+          22456.0      2387.4       230.86  \n",
       "EC                0.0         0.0         0.45  \n",
       "RP               63.0         6.8         0.04  "
      ]
     },
     "execution_count": 203,
     "metadata": {},
     "output_type": "execute_result"
    }
   ],
   "source": [
    "#соберем топ-5 по рейтингу ESRB для Японии\n",
    "(relevant_data\n",
    "    .groupby('rating').agg('sum')\n",
    "    .sort_values(by = 'jp_sales', ascending = False)\n",
    "    .head(10)\n",
    ")"
   ]
  },
  {
   "cell_type": "markdown",
   "metadata": {},
   "source": [
    "В Японии преобладают продажи игр для всех, но в целом также наблюдается тенденция снижения рейтинга при сужении группы"
   ]
  },
  {
   "cell_type": "markdown",
   "metadata": {},
   "source": [
    "## Проверка гипотез  \n",
    "\n",
    "Задайте самостоятельно пороговое значение alpha.  \n",
    "Поясните:  \n",
    "Как вы сформулировали нулевую и альтернативную гипотезы;  \n",
    "Какой критерий применили для проверки гипотез и почему.  \n"
   ]
  },
  {
   "cell_type": "markdown",
   "metadata": {},
   "source": [
    "### Гипотеза 1: Средние пользовательские рейтинги платформ Xbox One и PC одинаковые"
   ]
  },
  {
   "cell_type": "markdown",
   "metadata": {},
   "source": [
    "Сформулируем гипотезы:  \n",
    "* H0 - пользовательские рейтинги платформ Xbox One и PC одинаковые\n",
    "* H1 - пользовательские рейтинги платформ Xbox One и PC разные"
   ]
  },
  {
   "cell_type": "markdown",
   "metadata": {},
   "source": [
    "Обозначим переменные, в которых будут собраны данные отдельно по Xbox One и PC:"
   ]
  },
  {
   "cell_type": "code",
   "execution_count": 204,
   "metadata": {},
   "outputs": [
    {
     "data": {
      "text/html": [
       "<div>\n",
       "<style scoped>\n",
       "    .dataframe tbody tr th:only-of-type {\n",
       "        vertical-align: middle;\n",
       "    }\n",
       "\n",
       "    .dataframe tbody tr th {\n",
       "        vertical-align: top;\n",
       "    }\n",
       "\n",
       "    .dataframe thead th {\n",
       "        text-align: right;\n",
       "    }\n",
       "</style>\n",
       "<table border=\"1\" class=\"dataframe\">\n",
       "  <thead>\n",
       "    <tr style=\"text-align: right;\">\n",
       "      <th></th>\n",
       "      <th>name</th>\n",
       "      <th>platform</th>\n",
       "      <th>year_of_release</th>\n",
       "      <th>genre</th>\n",
       "      <th>na_sales</th>\n",
       "      <th>eu_sales</th>\n",
       "      <th>jp_sales</th>\n",
       "      <th>other_sales</th>\n",
       "      <th>critic_score</th>\n",
       "      <th>user_score</th>\n",
       "      <th>rating</th>\n",
       "      <th>total_sales</th>\n",
       "    </tr>\n",
       "  </thead>\n",
       "  <tbody>\n",
       "    <tr>\n",
       "      <th>44</th>\n",
       "      <td>Grand Theft Auto V</td>\n",
       "      <td>XOne</td>\n",
       "      <td>2014</td>\n",
       "      <td>Action</td>\n",
       "      <td>2.81</td>\n",
       "      <td>2.19</td>\n",
       "      <td>0.00</td>\n",
       "      <td>0.47</td>\n",
       "      <td>97.0</td>\n",
       "      <td>7.9</td>\n",
       "      <td>M</td>\n",
       "      <td>5.47</td>\n",
       "    </tr>\n",
       "    <tr>\n",
       "      <th>47</th>\n",
       "      <td>Call of Duty: Advanced Warfare</td>\n",
       "      <td>XOne</td>\n",
       "      <td>2014</td>\n",
       "      <td>Shooter</td>\n",
       "      <td>3.22</td>\n",
       "      <td>1.55</td>\n",
       "      <td>0.01</td>\n",
       "      <td>0.48</td>\n",
       "      <td>81.0</td>\n",
       "      <td>5.4</td>\n",
       "      <td>M</td>\n",
       "      <td>5.26</td>\n",
       "    </tr>\n",
       "    <tr>\n",
       "      <th>59</th>\n",
       "      <td>Halo 5: Guardians</td>\n",
       "      <td>XOne</td>\n",
       "      <td>2015</td>\n",
       "      <td>Shooter</td>\n",
       "      <td>2.78</td>\n",
       "      <td>1.27</td>\n",
       "      <td>0.03</td>\n",
       "      <td>0.41</td>\n",
       "      <td>84.0</td>\n",
       "      <td>6.4</td>\n",
       "      <td>T</td>\n",
       "      <td>4.49</td>\n",
       "    </tr>\n",
       "    <tr>\n",
       "      <th>70</th>\n",
       "      <td>Fallout 4</td>\n",
       "      <td>XOne</td>\n",
       "      <td>2015</td>\n",
       "      <td>Role-Playing</td>\n",
       "      <td>2.51</td>\n",
       "      <td>1.32</td>\n",
       "      <td>0.01</td>\n",
       "      <td>0.38</td>\n",
       "      <td>88.0</td>\n",
       "      <td>6.2</td>\n",
       "      <td>M</td>\n",
       "      <td>4.22</td>\n",
       "    </tr>\n",
       "    <tr>\n",
       "      <th>92</th>\n",
       "      <td>Assassin's Creed: Unity</td>\n",
       "      <td>XOne</td>\n",
       "      <td>2014</td>\n",
       "      <td>Action</td>\n",
       "      <td>2.27</td>\n",
       "      <td>0.90</td>\n",
       "      <td>0.00</td>\n",
       "      <td>0.33</td>\n",
       "      <td>72.0</td>\n",
       "      <td>4.1</td>\n",
       "      <td>M</td>\n",
       "      <td>3.50</td>\n",
       "    </tr>\n",
       "  </tbody>\n",
       "</table>\n",
       "</div>"
      ],
      "text/plain": [
       "                              name platform  year_of_release         genre  \\\n",
       "44              Grand Theft Auto V     XOne             2014        Action   \n",
       "47  Call of Duty: Advanced Warfare     XOne             2014       Shooter   \n",
       "59               Halo 5: Guardians     XOne             2015       Shooter   \n",
       "70                       Fallout 4     XOne             2015  Role-Playing   \n",
       "92         Assassin's Creed: Unity     XOne             2014        Action   \n",
       "\n",
       "    na_sales  eu_sales  jp_sales  other_sales  critic_score  user_score  \\\n",
       "44      2.81      2.19      0.00         0.47          97.0         7.9   \n",
       "47      3.22      1.55      0.01         0.48          81.0         5.4   \n",
       "59      2.78      1.27      0.03         0.41          84.0         6.4   \n",
       "70      2.51      1.32      0.01         0.38          88.0         6.2   \n",
       "92      2.27      0.90      0.00         0.33          72.0         4.1   \n",
       "\n",
       "   rating  total_sales  \n",
       "44      M         5.47  \n",
       "47      M         5.26  \n",
       "59      T         4.49  \n",
       "70      M         4.22  \n",
       "92      M         3.50  "
      ]
     },
     "execution_count": 204,
     "metadata": {},
     "output_type": "execute_result"
    }
   ],
   "source": [
    "#создадим переменную, в которой будет информация только по XOne + добавим условие по оценке пользователей >=0, чтобы не учитывались NaN\n",
    "xbox_pl = relevant_data[(relevant_data['platform'] == 'XOne') & (relevant_data['user_score'] >= 0)]\n",
    "xbox_pl.head()"
   ]
  },
  {
   "cell_type": "code",
   "execution_count": 205,
   "metadata": {},
   "outputs": [
    {
     "data": {
      "text/html": [
       "<div>\n",
       "<style scoped>\n",
       "    .dataframe tbody tr th:only-of-type {\n",
       "        vertical-align: middle;\n",
       "    }\n",
       "\n",
       "    .dataframe tbody tr th {\n",
       "        vertical-align: top;\n",
       "    }\n",
       "\n",
       "    .dataframe thead th {\n",
       "        text-align: right;\n",
       "    }\n",
       "</style>\n",
       "<table border=\"1\" class=\"dataframe\">\n",
       "  <thead>\n",
       "    <tr style=\"text-align: right;\">\n",
       "      <th></th>\n",
       "      <th>name</th>\n",
       "      <th>platform</th>\n",
       "      <th>year_of_release</th>\n",
       "      <th>genre</th>\n",
       "      <th>na_sales</th>\n",
       "      <th>eu_sales</th>\n",
       "      <th>jp_sales</th>\n",
       "      <th>other_sales</th>\n",
       "      <th>critic_score</th>\n",
       "      <th>user_score</th>\n",
       "      <th>rating</th>\n",
       "      <th>total_sales</th>\n",
       "    </tr>\n",
       "  </thead>\n",
       "  <tbody>\n",
       "    <tr>\n",
       "      <th>52</th>\n",
       "      <td>Diablo III</td>\n",
       "      <td>PC</td>\n",
       "      <td>2012</td>\n",
       "      <td>Role-Playing</td>\n",
       "      <td>2.44</td>\n",
       "      <td>2.16</td>\n",
       "      <td>0.0</td>\n",
       "      <td>0.54</td>\n",
       "      <td>88.0</td>\n",
       "      <td>4.0</td>\n",
       "      <td>M</td>\n",
       "      <td>5.14</td>\n",
       "    </tr>\n",
       "    <tr>\n",
       "      <th>82</th>\n",
       "      <td>The Elder Scrolls V: Skyrim</td>\n",
       "      <td>PC</td>\n",
       "      <td>2011</td>\n",
       "      <td>Role-Playing</td>\n",
       "      <td>1.16</td>\n",
       "      <td>2.12</td>\n",
       "      <td>0.0</td>\n",
       "      <td>0.60</td>\n",
       "      <td>94.0</td>\n",
       "      <td>8.1</td>\n",
       "      <td>M</td>\n",
       "      <td>3.88</td>\n",
       "    </tr>\n",
       "    <tr>\n",
       "      <th>115</th>\n",
       "      <td>The Sims 4</td>\n",
       "      <td>PC</td>\n",
       "      <td>2014</td>\n",
       "      <td>Simulation</td>\n",
       "      <td>1.00</td>\n",
       "      <td>1.82</td>\n",
       "      <td>0.0</td>\n",
       "      <td>0.23</td>\n",
       "      <td>70.0</td>\n",
       "      <td>3.9</td>\n",
       "      <td>T</td>\n",
       "      <td>3.05</td>\n",
       "    </tr>\n",
       "    <tr>\n",
       "      <th>121</th>\n",
       "      <td>Star Wars: The Old Republic</td>\n",
       "      <td>PC</td>\n",
       "      <td>2011</td>\n",
       "      <td>Role-Playing</td>\n",
       "      <td>1.58</td>\n",
       "      <td>1.01</td>\n",
       "      <td>0.0</td>\n",
       "      <td>0.38</td>\n",
       "      <td>85.0</td>\n",
       "      <td>5.9</td>\n",
       "      <td>T</td>\n",
       "      <td>2.97</td>\n",
       "    </tr>\n",
       "    <tr>\n",
       "      <th>134</th>\n",
       "      <td>Battlefield 3</td>\n",
       "      <td>PC</td>\n",
       "      <td>2011</td>\n",
       "      <td>Shooter</td>\n",
       "      <td>0.89</td>\n",
       "      <td>1.43</td>\n",
       "      <td>0.0</td>\n",
       "      <td>0.46</td>\n",
       "      <td>89.0</td>\n",
       "      <td>7.5</td>\n",
       "      <td>M</td>\n",
       "      <td>2.78</td>\n",
       "    </tr>\n",
       "  </tbody>\n",
       "</table>\n",
       "</div>"
      ],
      "text/plain": [
       "                            name platform  year_of_release         genre  \\\n",
       "52                    Diablo III       PC             2012  Role-Playing   \n",
       "82   The Elder Scrolls V: Skyrim       PC             2011  Role-Playing   \n",
       "115                   The Sims 4       PC             2014    Simulation   \n",
       "121  Star Wars: The Old Republic       PC             2011  Role-Playing   \n",
       "134                Battlefield 3       PC             2011       Shooter   \n",
       "\n",
       "     na_sales  eu_sales  jp_sales  other_sales  critic_score  user_score  \\\n",
       "52       2.44      2.16       0.0         0.54          88.0         4.0   \n",
       "82       1.16      2.12       0.0         0.60          94.0         8.1   \n",
       "115      1.00      1.82       0.0         0.23          70.0         3.9   \n",
       "121      1.58      1.01       0.0         0.38          85.0         5.9   \n",
       "134      0.89      1.43       0.0         0.46          89.0         7.5   \n",
       "\n",
       "    rating  total_sales  \n",
       "52       M         5.14  \n",
       "82       M         3.88  \n",
       "115      T         3.05  \n",
       "121      T         2.97  \n",
       "134      M         2.78  "
      ]
     },
     "execution_count": 205,
     "metadata": {},
     "output_type": "execute_result"
    }
   ],
   "source": [
    "#произведем аналогичную операцию для PC\n",
    "pc_pl = relevant_data[(relevant_data['platform'] == 'PC') & (relevant_data['user_score'] >= 0)]\n",
    "pc_pl.head()"
   ]
  },
  {
   "cell_type": "code",
   "execution_count": 206,
   "metadata": {},
   "outputs": [
    {
     "name": "stdout",
     "output_type": "stream",
     "text": [
      "p-значение: 0.6267602271422398\n",
      "Не получилось отвергнуть нулевую гипотезу\n"
     ]
    }
   ],
   "source": [
    "alpha = .05\n",
    "\n",
    "results = st.ttest_ind(\n",
    "    xbox_pl['user_score'], \n",
    "    pc_pl['user_score'])\n",
    "\n",
    "print('p-значение:', results.pvalue)\n",
    "\n",
    "if results.pvalue < alpha:\n",
    "    print(\"Отвергаем нулевую гипотезу\")\n",
    "else:\n",
    "    print(\"Не получилось отвергнуть нулевую гипотезу\") "
   ]
  },
  {
   "cell_type": "markdown",
   "metadata": {},
   "source": [
    "Результат проверки гипотезы о равенстве среднего двух генеральных совокупностей по взятым из них выборкам показал, что мы **не отвергаем** гипотезу H0: пользовательские рейтинги платформ Xbox One и PC одинаковые"
   ]
  },
  {
   "cell_type": "markdown",
   "metadata": {},
   "source": [
    "### Гипотеза 2: Средние пользовательские рейтинги жанров Action (англ. «действие», экшен-игры) и Sports (англ. «спортивные соревнования») разные."
   ]
  },
  {
   "cell_type": "markdown",
   "metadata": {},
   "source": [
    "Сформулируем гипотезы:  \n",
    "* Н0 - средние пользовательские рейтинги жанров Action и Sports одинаковые \n",
    "* Н1 - средние пользовательские рейтинги жанров Action и Sports разные"
   ]
  },
  {
   "cell_type": "code",
   "execution_count": 207,
   "metadata": {},
   "outputs": [],
   "source": [
    "action_g = relevant_data[(relevant_data['genre'] == 'Action') & (relevant_data['user_score'] >= 0)]\n",
    "sports_g = relevant_data[(relevant_data['genre'] == 'Sports') & (relevant_data['user_score'] >= 0)]"
   ]
  },
  {
   "cell_type": "code",
   "execution_count": 208,
   "metadata": {},
   "outputs": [
    {
     "name": "stdout",
     "output_type": "stream",
     "text": [
      "p-значение: 5.1974550252152054e-24\n",
      "Отвергаем нулевую гипотезу\n"
     ]
    }
   ],
   "source": [
    "alpha = .05\n",
    "\n",
    "results = st.ttest_ind(\n",
    "    action_g['user_score'], \n",
    "    sports_g['user_score'])\n",
    "\n",
    "print('p-значение:', results.pvalue)\n",
    "\n",
    "if results.pvalue < alpha:\n",
    "    print(\"Отвергаем нулевую гипотезу\")\n",
    "else:\n",
    "    print(\"Не получилось отвергнуть нулевую гипотезу\") "
   ]
  },
  {
   "cell_type": "markdown",
   "metadata": {},
   "source": [
    "Результат проверки гипотезы о равенстве среднего двух генеральных совокупностей по взятым из них выборкам показал, что мы **отвергаем** гипотезу H0: средние пользовательские рейтинги жанров Action и Sports одинаковые"
   ]
  },
  {
   "cell_type": "markdown",
   "metadata": {},
   "source": [
    "## Общий вывод"
   ]
  },
  {
   "cell_type": "markdown",
   "metadata": {},
   "source": [
    "* Из данных за 1980-2016 гг для прогнозирования прибыльности на 2017 стоит рассматривать тенденции не более последних 7 лет  \n",
    "* В получившейся выборке потенциально прибыльным являются PS4 и XOne  \n",
    "* Поскольку жизненный цикл платформы в среднем составляет около 7 лет, стоит рассматривать как прибыльные платформы, существующие на рынке около 3-4 лет и меньше  \n",
    "* Корреляция между оценками пользователей и объемом продаж (около 0,035 в среднем) сильно ниже, чем между оценками критиков и объемом продаж (около 0,389 в среднем), т.е. стоит учитывать мнение критиков при прогнозировании   \n",
    "* Жанры с самыми низкими продажами - Strategy и Puzzle, причем Puzzle по уровню продаж в 55 раз меньше, чем самый продаваемый Action  \n",
    "* Несмотря на то, что по общим продажам лидируют игры в жанре Action, на первом месте по средним продажам находятся игры в жанре Shooter, причем среднее значение их продаж более чем в два раза превышает значения по жанрам Platform и Sports, которые занимают 2 и 3 места, соответственно\n",
    "* Жанры с самыми низкими средними продажами - Adventure и Puzzle\n",
    "* Топ-5 популярных платформ в Северной Америке и Европе почти одинаковы, а статистика в Японии сильно отличается, аналогичная ситуация и по жанрам, соответственно, статистику для данных регионов стоит рассматривать отдельно  \n",
    "* По рейтингу ESRB чем уже возрастная группа, тем ниже рейтинг  \n",
    "* Средние пользовательские рейтинги платформ Xbox One и PC одинаковые, а средние пользовательские рейтинги жанров Action и Sports разные  \n"
   ]
  },
  {
   "cell_type": "code",
   "execution_count": null,
   "metadata": {},
   "outputs": [],
   "source": []
  }
 ],
 "metadata": {
  "ExecuteTimeLog": [
   {
    "duration": 4,
    "start_time": "2022-12-12T17:52:38.254Z"
   },
   {
    "duration": 1370,
    "start_time": "2022-12-12T17:56:56.382Z"
   },
   {
    "duration": 3,
    "start_time": "2022-12-12T17:57:01.888Z"
   },
   {
    "duration": 107,
    "start_time": "2022-12-12T18:42:13.131Z"
   },
   {
    "duration": 21,
    "start_time": "2022-12-12T18:42:21.660Z"
   },
   {
    "duration": 55,
    "start_time": "2022-12-12T18:45:11.068Z"
   },
   {
    "duration": 15,
    "start_time": "2022-12-12T18:45:13.748Z"
   },
   {
    "duration": 93,
    "start_time": "2022-12-12T18:53:04.952Z"
   },
   {
    "duration": 3,
    "start_time": "2022-12-12T18:53:12.937Z"
   },
   {
    "duration": 13,
    "start_time": "2022-12-12T18:53:20.384Z"
   },
   {
    "duration": 28,
    "start_time": "2022-12-12T18:53:40.294Z"
   },
   {
    "duration": 17,
    "start_time": "2022-12-12T18:56:15.133Z"
   },
   {
    "duration": 8,
    "start_time": "2022-12-12T18:56:23.469Z"
   },
   {
    "duration": 10,
    "start_time": "2022-12-12T18:56:47.463Z"
   },
   {
    "duration": 5,
    "start_time": "2022-12-12T19:16:53.383Z"
   },
   {
    "duration": 13,
    "start_time": "2022-12-12T19:17:07.983Z"
   },
   {
    "duration": 3,
    "start_time": "2022-12-12T19:17:20.630Z"
   },
   {
    "duration": 13,
    "start_time": "2022-12-12T19:17:23.523Z"
   },
   {
    "duration": 13,
    "start_time": "2022-12-12T19:18:41.197Z"
   },
   {
    "duration": 14,
    "start_time": "2022-12-12T19:24:23.689Z"
   },
   {
    "duration": 14,
    "start_time": "2022-12-12T19:24:35.305Z"
   },
   {
    "duration": 5,
    "start_time": "2022-12-12T19:25:47.578Z"
   },
   {
    "duration": 7,
    "start_time": "2022-12-12T19:26:01.133Z"
   },
   {
    "duration": 7,
    "start_time": "2022-12-12T19:26:10.162Z"
   },
   {
    "duration": 4,
    "start_time": "2022-12-12T19:26:15.337Z"
   },
   {
    "duration": 54,
    "start_time": "2022-12-12T19:26:15.343Z"
   },
   {
    "duration": 15,
    "start_time": "2022-12-12T19:26:15.399Z"
   },
   {
    "duration": 15,
    "start_time": "2022-12-12T19:26:15.416Z"
   },
   {
    "duration": 26,
    "start_time": "2022-12-12T19:26:15.433Z"
   },
   {
    "duration": 3,
    "start_time": "2022-12-12T19:26:15.461Z"
   },
   {
    "duration": 36,
    "start_time": "2022-12-12T19:26:15.466Z"
   },
   {
    "duration": 7,
    "start_time": "2022-12-12T19:26:15.503Z"
   },
   {
    "duration": 6,
    "start_time": "2022-12-12T19:26:15.511Z"
   },
   {
    "duration": 6,
    "start_time": "2022-12-12T19:26:15.520Z"
   },
   {
    "duration": 15,
    "start_time": "2022-12-12T19:26:15.527Z"
   },
   {
    "duration": 9,
    "start_time": "2022-12-12T19:27:01.795Z"
   },
   {
    "duration": 2,
    "start_time": "2022-12-12T19:27:15.768Z"
   },
   {
    "duration": 54,
    "start_time": "2022-12-12T19:27:15.774Z"
   },
   {
    "duration": 14,
    "start_time": "2022-12-12T19:27:15.830Z"
   },
   {
    "duration": 14,
    "start_time": "2022-12-12T19:27:15.845Z"
   },
   {
    "duration": 38,
    "start_time": "2022-12-12T19:27:15.860Z"
   },
   {
    "duration": 3,
    "start_time": "2022-12-12T19:27:15.900Z"
   },
   {
    "duration": 16,
    "start_time": "2022-12-12T19:27:15.904Z"
   },
   {
    "duration": 8,
    "start_time": "2022-12-12T19:27:15.921Z"
   },
   {
    "duration": 5,
    "start_time": "2022-12-12T19:27:15.931Z"
   },
   {
    "duration": 9,
    "start_time": "2022-12-12T19:27:15.938Z"
   },
   {
    "duration": 14,
    "start_time": "2022-12-12T19:27:15.949Z"
   },
   {
    "duration": 5,
    "start_time": "2022-12-12T19:28:02.492Z"
   },
   {
    "duration": 11,
    "start_time": "2022-12-12T19:29:55.318Z"
   },
   {
    "duration": 10,
    "start_time": "2022-12-12T19:35:00.809Z"
   },
   {
    "duration": 14,
    "start_time": "2022-12-12T19:36:59.605Z"
   },
   {
    "duration": 4,
    "start_time": "2022-12-12T19:43:07.903Z"
   },
   {
    "duration": 8,
    "start_time": "2022-12-12T19:43:49.716Z"
   },
   {
    "duration": 4,
    "start_time": "2022-12-12T19:43:54.362Z"
   },
   {
    "duration": 19,
    "start_time": "2022-12-12T19:46:23.663Z"
   },
   {
    "duration": 7,
    "start_time": "2022-12-12T19:51:12.069Z"
   },
   {
    "duration": 4,
    "start_time": "2022-12-12T19:51:18.749Z"
   },
   {
    "duration": 8,
    "start_time": "2022-12-12T19:52:31.613Z"
   },
   {
    "duration": 5,
    "start_time": "2022-12-12T19:55:17.051Z"
   },
   {
    "duration": 7,
    "start_time": "2022-12-12T19:57:35.032Z"
   },
   {
    "duration": 12,
    "start_time": "2022-12-12T20:31:41.243Z"
   },
   {
    "duration": 4,
    "start_time": "2022-12-12T20:36:41.839Z"
   },
   {
    "duration": 5,
    "start_time": "2022-12-12T20:49:34.857Z"
   },
   {
    "duration": 136,
    "start_time": "2022-12-12T20:50:37.117Z"
   },
   {
    "duration": 266,
    "start_time": "2022-12-12T20:51:05.975Z"
   },
   {
    "duration": 6,
    "start_time": "2022-12-12T20:56:19.272Z"
   },
   {
    "duration": 16,
    "start_time": "2022-12-12T20:56:54.521Z"
   },
   {
    "duration": 19,
    "start_time": "2022-12-12T20:57:11.587Z"
   },
   {
    "duration": 11,
    "start_time": "2022-12-12T20:59:26.777Z"
   },
   {
    "duration": 8,
    "start_time": "2022-12-12T21:00:04.593Z"
   },
   {
    "duration": 19,
    "start_time": "2022-12-12T21:00:51.634Z"
   },
   {
    "duration": 20,
    "start_time": "2022-12-12T21:02:12.139Z"
   },
   {
    "duration": 6,
    "start_time": "2022-12-12T21:09:52.605Z"
   },
   {
    "duration": 4,
    "start_time": "2022-12-12T21:10:13.723Z"
   },
   {
    "duration": 5,
    "start_time": "2022-12-12T21:11:31.485Z"
   },
   {
    "duration": 5,
    "start_time": "2022-12-12T21:11:46.725Z"
   },
   {
    "duration": 9,
    "start_time": "2022-12-12T21:11:57.173Z"
   },
   {
    "duration": 5,
    "start_time": "2022-12-12T21:12:17.287Z"
   },
   {
    "duration": 5,
    "start_time": "2022-12-12T21:12:19.689Z"
   },
   {
    "duration": 5,
    "start_time": "2022-12-12T21:12:21.739Z"
   },
   {
    "duration": 2,
    "start_time": "2022-12-12T21:12:36.308Z"
   },
   {
    "duration": 56,
    "start_time": "2022-12-12T21:12:36.313Z"
   },
   {
    "duration": 13,
    "start_time": "2022-12-12T21:12:36.371Z"
   },
   {
    "duration": 14,
    "start_time": "2022-12-12T21:12:36.386Z"
   },
   {
    "duration": 25,
    "start_time": "2022-12-12T21:12:36.402Z"
   },
   {
    "duration": 2,
    "start_time": "2022-12-12T21:12:36.429Z"
   },
   {
    "duration": 15,
    "start_time": "2022-12-12T21:12:36.433Z"
   },
   {
    "duration": 11,
    "start_time": "2022-12-12T21:12:36.450Z"
   },
   {
    "duration": 36,
    "start_time": "2022-12-12T21:12:36.462Z"
   },
   {
    "duration": 4,
    "start_time": "2022-12-12T21:12:36.500Z"
   },
   {
    "duration": 9,
    "start_time": "2022-12-12T21:12:36.506Z"
   },
   {
    "duration": 4,
    "start_time": "2022-12-12T21:12:36.517Z"
   },
   {
    "duration": 22,
    "start_time": "2022-12-12T21:12:36.523Z"
   },
   {
    "duration": 7,
    "start_time": "2022-12-12T21:12:36.546Z"
   },
   {
    "duration": 4,
    "start_time": "2022-12-12T21:12:36.554Z"
   },
   {
    "duration": 10,
    "start_time": "2022-12-12T21:12:36.559Z"
   },
   {
    "duration": 4,
    "start_time": "2022-12-12T21:12:36.598Z"
   },
   {
    "duration": 15,
    "start_time": "2022-12-12T21:12:36.603Z"
   },
   {
    "duration": 4,
    "start_time": "2022-12-12T21:12:36.619Z"
   },
   {
    "duration": 8,
    "start_time": "2022-12-12T21:12:36.624Z"
   },
   {
    "duration": 21,
    "start_time": "2022-12-12T21:12:36.633Z"
   },
   {
    "duration": 43,
    "start_time": "2022-12-12T21:12:36.655Z"
   },
   {
    "duration": 2,
    "start_time": "2022-12-12T21:12:36.700Z"
   },
   {
    "duration": 9,
    "start_time": "2022-12-12T21:12:36.703Z"
   },
   {
    "duration": 8,
    "start_time": "2022-12-12T21:12:36.714Z"
   },
   {
    "duration": 9,
    "start_time": "2022-12-12T21:12:36.723Z"
   },
   {
    "duration": 7,
    "start_time": "2022-12-12T21:12:36.733Z"
   },
   {
    "duration": 8,
    "start_time": "2022-12-12T21:12:36.742Z"
   },
   {
    "duration": 9,
    "start_time": "2022-12-12T21:12:36.752Z"
   },
   {
    "duration": 10,
    "start_time": "2022-12-12T21:12:36.762Z"
   },
   {
    "duration": 5,
    "start_time": "2022-12-12T21:12:53.915Z"
   },
   {
    "duration": 4,
    "start_time": "2022-12-12T21:12:55.857Z"
   },
   {
    "duration": 5,
    "start_time": "2022-12-12T21:12:58.132Z"
   },
   {
    "duration": 4,
    "start_time": "2022-12-12T21:16:25.193Z"
   },
   {
    "duration": 5,
    "start_time": "2022-12-12T21:16:27.679Z"
   },
   {
    "duration": 6,
    "start_time": "2022-12-12T21:16:32.519Z"
   },
   {
    "duration": 5,
    "start_time": "2022-12-12T21:32:47.851Z"
   },
   {
    "duration": 5,
    "start_time": "2022-12-12T21:32:59.355Z"
   },
   {
    "duration": 43,
    "start_time": "2022-12-12T21:38:28.576Z"
   },
   {
    "duration": 44,
    "start_time": "2022-12-12T21:38:34.045Z"
   },
   {
    "duration": 9,
    "start_time": "2022-12-12T21:38:45.889Z"
   },
   {
    "duration": 4,
    "start_time": "2022-12-12T21:39:18.101Z"
   },
   {
    "duration": 5,
    "start_time": "2022-12-12T21:39:23.679Z"
   },
   {
    "duration": 5,
    "start_time": "2022-12-12T21:39:29.067Z"
   },
   {
    "duration": 4,
    "start_time": "2022-12-12T21:39:41.411Z"
   },
   {
    "duration": 5,
    "start_time": "2022-12-12T21:40:05.064Z"
   },
   {
    "duration": 13,
    "start_time": "2022-12-12T21:40:33.963Z"
   },
   {
    "duration": 34,
    "start_time": "2022-12-12T21:41:34.757Z"
   },
   {
    "duration": 12,
    "start_time": "2022-12-12T21:43:33.676Z"
   },
   {
    "duration": 3,
    "start_time": "2022-12-12T21:45:34.969Z"
   },
   {
    "duration": 4,
    "start_time": "2022-12-12T21:45:37.513Z"
   },
   {
    "duration": 5,
    "start_time": "2022-12-12T21:45:45.607Z"
   },
   {
    "duration": 5,
    "start_time": "2022-12-12T21:48:19.859Z"
   },
   {
    "duration": 3,
    "start_time": "2022-12-12T21:48:23.162Z"
   },
   {
    "duration": 13,
    "start_time": "2022-12-12T21:48:39.163Z"
   },
   {
    "duration": 13,
    "start_time": "2022-12-12T21:53:17.985Z"
   },
   {
    "duration": 4,
    "start_time": "2022-12-12T21:53:41.751Z"
   },
   {
    "duration": 13,
    "start_time": "2022-12-12T21:53:47.805Z"
   },
   {
    "duration": 2,
    "start_time": "2022-12-12T21:55:40.611Z"
   },
   {
    "duration": 53,
    "start_time": "2022-12-12T21:55:40.617Z"
   },
   {
    "duration": 14,
    "start_time": "2022-12-12T21:55:40.671Z"
   },
   {
    "duration": 19,
    "start_time": "2022-12-12T21:55:40.687Z"
   },
   {
    "duration": 26,
    "start_time": "2022-12-12T21:55:40.708Z"
   },
   {
    "duration": 3,
    "start_time": "2022-12-12T21:55:40.735Z"
   },
   {
    "duration": 14,
    "start_time": "2022-12-12T21:55:40.739Z"
   },
   {
    "duration": 13,
    "start_time": "2022-12-12T21:55:40.755Z"
   },
   {
    "duration": 37,
    "start_time": "2022-12-12T21:55:40.769Z"
   },
   {
    "duration": 5,
    "start_time": "2022-12-12T21:55:40.808Z"
   },
   {
    "duration": 7,
    "start_time": "2022-12-12T21:55:40.815Z"
   },
   {
    "duration": 3,
    "start_time": "2022-12-12T21:55:40.824Z"
   },
   {
    "duration": 23,
    "start_time": "2022-12-12T21:55:40.829Z"
   },
   {
    "duration": 6,
    "start_time": "2022-12-12T21:55:40.853Z"
   },
   {
    "duration": 6,
    "start_time": "2022-12-12T21:55:40.861Z"
   },
   {
    "duration": 35,
    "start_time": "2022-12-12T21:55:40.869Z"
   },
   {
    "duration": 6,
    "start_time": "2022-12-12T21:55:40.906Z"
   },
   {
    "duration": 14,
    "start_time": "2022-12-12T21:55:40.913Z"
   },
   {
    "duration": 3,
    "start_time": "2022-12-12T21:55:40.928Z"
   },
   {
    "duration": 6,
    "start_time": "2022-12-12T21:55:40.933Z"
   },
   {
    "duration": 21,
    "start_time": "2022-12-12T21:55:40.941Z"
   },
   {
    "duration": 38,
    "start_time": "2022-12-12T21:55:40.963Z"
   },
   {
    "duration": 2,
    "start_time": "2022-12-12T21:55:41.002Z"
   },
   {
    "duration": 9,
    "start_time": "2022-12-12T21:55:41.006Z"
   },
   {
    "duration": 9,
    "start_time": "2022-12-12T21:55:41.016Z"
   },
   {
    "duration": 6,
    "start_time": "2022-12-12T21:55:41.026Z"
   },
   {
    "duration": 7,
    "start_time": "2022-12-12T21:55:41.033Z"
   },
   {
    "duration": 5,
    "start_time": "2022-12-12T21:55:41.041Z"
   },
   {
    "duration": 6,
    "start_time": "2022-12-12T21:55:41.049Z"
   },
   {
    "duration": 12,
    "start_time": "2022-12-12T21:55:41.056Z"
   },
   {
    "duration": 28,
    "start_time": "2022-12-12T21:55:41.070Z"
   },
   {
    "duration": 4,
    "start_time": "2022-12-12T21:55:41.099Z"
   },
   {
    "duration": 6,
    "start_time": "2022-12-12T21:55:41.104Z"
   },
   {
    "duration": 6,
    "start_time": "2022-12-12T21:55:41.111Z"
   },
   {
    "duration": 12,
    "start_time": "2022-12-12T21:55:41.118Z"
   },
   {
    "duration": 0,
    "start_time": "2022-12-12T21:55:41.131Z"
   },
   {
    "duration": 0,
    "start_time": "2022-12-12T21:55:41.132Z"
   },
   {
    "duration": 0,
    "start_time": "2022-12-12T21:55:41.133Z"
   },
   {
    "duration": 75,
    "start_time": "2022-12-13T08:12:15.982Z"
   },
   {
    "duration": 1266,
    "start_time": "2022-12-13T08:12:26.443Z"
   },
   {
    "duration": 186,
    "start_time": "2022-12-13T08:12:27.711Z"
   },
   {
    "duration": 25,
    "start_time": "2022-12-13T08:12:27.898Z"
   },
   {
    "duration": 70,
    "start_time": "2022-12-13T08:12:27.925Z"
   },
   {
    "duration": 80,
    "start_time": "2022-12-13T08:12:27.997Z"
   },
   {
    "duration": 4,
    "start_time": "2022-12-13T08:12:28.078Z"
   },
   {
    "duration": 65,
    "start_time": "2022-12-13T08:12:28.084Z"
   },
   {
    "duration": 50,
    "start_time": "2022-12-13T08:12:28.151Z"
   },
   {
    "duration": 56,
    "start_time": "2022-12-13T08:12:28.203Z"
   },
   {
    "duration": 6,
    "start_time": "2022-12-13T08:12:28.262Z"
   },
   {
    "duration": 16,
    "start_time": "2022-12-13T08:12:28.271Z"
   },
   {
    "duration": 6,
    "start_time": "2022-12-13T08:12:28.290Z"
   },
   {
    "duration": 25,
    "start_time": "2022-12-13T08:12:28.298Z"
   },
   {
    "duration": 9,
    "start_time": "2022-12-13T08:12:28.325Z"
   },
   {
    "duration": 4,
    "start_time": "2022-12-13T08:12:28.336Z"
   },
   {
    "duration": 37,
    "start_time": "2022-12-13T08:12:28.342Z"
   },
   {
    "duration": 10,
    "start_time": "2022-12-13T08:12:28.383Z"
   },
   {
    "duration": 24,
    "start_time": "2022-12-13T08:12:28.395Z"
   },
   {
    "duration": 6,
    "start_time": "2022-12-13T08:12:28.421Z"
   },
   {
    "duration": 11,
    "start_time": "2022-12-13T08:12:28.429Z"
   },
   {
    "duration": 63,
    "start_time": "2022-12-13T08:12:28.442Z"
   },
   {
    "duration": 38,
    "start_time": "2022-12-13T08:12:28.507Z"
   },
   {
    "duration": 4,
    "start_time": "2022-12-13T08:12:28.547Z"
   },
   {
    "duration": 25,
    "start_time": "2022-12-13T08:12:28.553Z"
   },
   {
    "duration": 7,
    "start_time": "2022-12-13T08:12:28.580Z"
   },
   {
    "duration": 14,
    "start_time": "2022-12-13T08:12:28.589Z"
   },
   {
    "duration": 11,
    "start_time": "2022-12-13T08:12:28.605Z"
   },
   {
    "duration": 13,
    "start_time": "2022-12-13T08:12:28.619Z"
   },
   {
    "duration": 10,
    "start_time": "2022-12-13T08:12:28.635Z"
   },
   {
    "duration": 15,
    "start_time": "2022-12-13T08:12:28.647Z"
   },
   {
    "duration": 35,
    "start_time": "2022-12-13T08:12:28.664Z"
   },
   {
    "duration": 7,
    "start_time": "2022-12-13T08:12:28.701Z"
   },
   {
    "duration": 13,
    "start_time": "2022-12-13T08:12:28.709Z"
   },
   {
    "duration": 8,
    "start_time": "2022-12-13T08:12:28.724Z"
   },
   {
    "duration": 10,
    "start_time": "2022-12-13T08:12:28.734Z"
   },
   {
    "duration": 100,
    "start_time": "2022-12-13T08:12:28.746Z"
   },
   {
    "duration": 0,
    "start_time": "2022-12-13T08:12:28.849Z"
   },
   {
    "duration": 0,
    "start_time": "2022-12-13T08:12:28.850Z"
   },
   {
    "duration": 0,
    "start_time": "2022-12-13T08:12:28.852Z"
   },
   {
    "duration": 7,
    "start_time": "2022-12-13T08:12:40.114Z"
   },
   {
    "duration": 5,
    "start_time": "2022-12-13T08:12:45.208Z"
   },
   {
    "duration": 5,
    "start_time": "2022-12-13T08:12:48.171Z"
   },
   {
    "duration": 5,
    "start_time": "2022-12-13T08:12:57.021Z"
   },
   {
    "duration": 12,
    "start_time": "2022-12-13T08:14:20.233Z"
   },
   {
    "duration": 4,
    "start_time": "2022-12-13T08:14:38.876Z"
   },
   {
    "duration": 12,
    "start_time": "2022-12-13T08:14:42.847Z"
   },
   {
    "duration": 4,
    "start_time": "2022-12-13T08:14:51.829Z"
   },
   {
    "duration": 54,
    "start_time": "2022-12-13T08:14:51.834Z"
   },
   {
    "duration": 15,
    "start_time": "2022-12-13T08:14:51.890Z"
   },
   {
    "duration": 29,
    "start_time": "2022-12-13T08:14:51.906Z"
   },
   {
    "duration": 28,
    "start_time": "2022-12-13T08:14:51.937Z"
   },
   {
    "duration": 3,
    "start_time": "2022-12-13T08:14:51.978Z"
   },
   {
    "duration": 17,
    "start_time": "2022-12-13T08:14:51.983Z"
   },
   {
    "duration": 14,
    "start_time": "2022-12-13T08:14:52.002Z"
   },
   {
    "duration": 13,
    "start_time": "2022-12-13T08:14:52.018Z"
   },
   {
    "duration": 8,
    "start_time": "2022-12-13T08:14:52.033Z"
   },
   {
    "duration": 8,
    "start_time": "2022-12-13T08:14:52.043Z"
   },
   {
    "duration": 10,
    "start_time": "2022-12-13T08:14:52.053Z"
   },
   {
    "duration": 20,
    "start_time": "2022-12-13T08:14:52.078Z"
   },
   {
    "duration": 6,
    "start_time": "2022-12-13T08:14:52.099Z"
   },
   {
    "duration": 11,
    "start_time": "2022-12-13T08:14:52.107Z"
   },
   {
    "duration": 16,
    "start_time": "2022-12-13T08:14:52.120Z"
   },
   {
    "duration": 9,
    "start_time": "2022-12-13T08:14:52.137Z"
   },
   {
    "duration": 26,
    "start_time": "2022-12-13T08:14:52.147Z"
   },
   {
    "duration": 5,
    "start_time": "2022-12-13T08:14:52.178Z"
   },
   {
    "duration": 11,
    "start_time": "2022-12-13T08:14:52.185Z"
   },
   {
    "duration": 27,
    "start_time": "2022-12-13T08:14:52.197Z"
   },
   {
    "duration": 21,
    "start_time": "2022-12-13T08:14:52.226Z"
   },
   {
    "duration": 30,
    "start_time": "2022-12-13T08:14:52.249Z"
   },
   {
    "duration": 4,
    "start_time": "2022-12-13T08:14:52.281Z"
   },
   {
    "duration": 7,
    "start_time": "2022-12-13T08:14:52.287Z"
   },
   {
    "duration": 9,
    "start_time": "2022-12-13T08:14:52.296Z"
   },
   {
    "duration": 8,
    "start_time": "2022-12-13T08:14:52.307Z"
   },
   {
    "duration": 10,
    "start_time": "2022-12-13T08:14:52.317Z"
   },
   {
    "duration": 5,
    "start_time": "2022-12-13T08:14:52.332Z"
   },
   {
    "duration": 17,
    "start_time": "2022-12-13T08:14:52.339Z"
   },
   {
    "duration": 19,
    "start_time": "2022-12-13T08:14:52.377Z"
   },
   {
    "duration": 5,
    "start_time": "2022-12-13T08:14:52.398Z"
   },
   {
    "duration": 5,
    "start_time": "2022-12-13T08:14:52.405Z"
   },
   {
    "duration": 14,
    "start_time": "2022-12-13T08:14:52.412Z"
   },
   {
    "duration": 11,
    "start_time": "2022-12-13T08:14:52.427Z"
   },
   {
    "duration": 11,
    "start_time": "2022-12-13T08:14:52.440Z"
   },
   {
    "duration": 14,
    "start_time": "2022-12-13T08:14:52.453Z"
   },
   {
    "duration": 5,
    "start_time": "2022-12-13T08:14:52.477Z"
   },
   {
    "duration": 20,
    "start_time": "2022-12-13T08:14:52.483Z"
   },
   {
    "duration": 13,
    "start_time": "2022-12-13T08:15:16.638Z"
   },
   {
    "duration": 4,
    "start_time": "2022-12-13T08:50:31.277Z"
   },
   {
    "duration": 3,
    "start_time": "2022-12-13T08:50:38.405Z"
   },
   {
    "duration": 54,
    "start_time": "2022-12-13T08:50:38.410Z"
   },
   {
    "duration": 17,
    "start_time": "2022-12-13T08:50:38.466Z"
   },
   {
    "duration": 18,
    "start_time": "2022-12-13T08:50:38.484Z"
   },
   {
    "duration": 28,
    "start_time": "2022-12-13T08:50:38.505Z"
   },
   {
    "duration": 3,
    "start_time": "2022-12-13T08:50:38.535Z"
   },
   {
    "duration": 39,
    "start_time": "2022-12-13T08:50:38.540Z"
   },
   {
    "duration": 21,
    "start_time": "2022-12-13T08:50:38.581Z"
   },
   {
    "duration": 16,
    "start_time": "2022-12-13T08:50:38.604Z"
   },
   {
    "duration": 6,
    "start_time": "2022-12-13T08:50:38.622Z"
   },
   {
    "duration": 8,
    "start_time": "2022-12-13T08:50:38.630Z"
   },
   {
    "duration": 8,
    "start_time": "2022-12-13T08:50:38.640Z"
   },
   {
    "duration": 29,
    "start_time": "2022-12-13T08:50:38.649Z"
   },
   {
    "duration": 7,
    "start_time": "2022-12-13T08:50:38.679Z"
   },
   {
    "duration": 12,
    "start_time": "2022-12-13T08:50:38.689Z"
   },
   {
    "duration": 12,
    "start_time": "2022-12-13T08:50:38.703Z"
   },
   {
    "duration": 7,
    "start_time": "2022-12-13T08:50:38.717Z"
   },
   {
    "duration": 17,
    "start_time": "2022-12-13T08:50:38.725Z"
   },
   {
    "duration": 5,
    "start_time": "2022-12-13T08:50:38.744Z"
   },
   {
    "duration": 7,
    "start_time": "2022-12-13T08:50:38.777Z"
   },
   {
    "duration": 23,
    "start_time": "2022-12-13T08:50:38.785Z"
   },
   {
    "duration": 21,
    "start_time": "2022-12-13T08:50:38.810Z"
   },
   {
    "duration": 7,
    "start_time": "2022-12-13T08:50:38.834Z"
   },
   {
    "duration": 10,
    "start_time": "2022-12-13T08:50:38.843Z"
   },
   {
    "duration": 4,
    "start_time": "2022-12-13T08:50:38.878Z"
   },
   {
    "duration": 9,
    "start_time": "2022-12-13T08:50:38.884Z"
   },
   {
    "duration": 14,
    "start_time": "2022-12-13T08:50:38.895Z"
   },
   {
    "duration": 8,
    "start_time": "2022-12-13T08:50:38.911Z"
   },
   {
    "duration": 9,
    "start_time": "2022-12-13T08:50:38.920Z"
   },
   {
    "duration": 8,
    "start_time": "2022-12-13T08:50:38.931Z"
   },
   {
    "duration": 10,
    "start_time": "2022-12-13T08:50:38.941Z"
   },
   {
    "duration": 47,
    "start_time": "2022-12-13T08:50:38.956Z"
   },
   {
    "duration": 9,
    "start_time": "2022-12-13T08:50:39.005Z"
   },
   {
    "duration": 6,
    "start_time": "2022-12-13T08:50:39.015Z"
   },
   {
    "duration": 8,
    "start_time": "2022-12-13T08:50:39.023Z"
   },
   {
    "duration": 7,
    "start_time": "2022-12-13T08:50:39.033Z"
   },
   {
    "duration": 8,
    "start_time": "2022-12-13T08:50:39.041Z"
   },
   {
    "duration": 13,
    "start_time": "2022-12-13T08:50:39.050Z"
   },
   {
    "duration": 5,
    "start_time": "2022-12-13T08:50:39.065Z"
   },
   {
    "duration": 16,
    "start_time": "2022-12-13T08:50:39.071Z"
   },
   {
    "duration": 6,
    "start_time": "2022-12-13T08:53:29.077Z"
   },
   {
    "duration": 5,
    "start_time": "2022-12-13T08:54:01.576Z"
   },
   {
    "duration": 12,
    "start_time": "2022-12-13T08:55:38.636Z"
   },
   {
    "duration": 2,
    "start_time": "2022-12-13T08:56:01.698Z"
   },
   {
    "duration": 68,
    "start_time": "2022-12-13T08:56:01.703Z"
   },
   {
    "duration": 17,
    "start_time": "2022-12-13T08:56:01.773Z"
   },
   {
    "duration": 38,
    "start_time": "2022-12-13T08:56:01.792Z"
   },
   {
    "duration": 27,
    "start_time": "2022-12-13T08:56:01.831Z"
   },
   {
    "duration": 3,
    "start_time": "2022-12-13T08:56:01.860Z"
   },
   {
    "duration": 24,
    "start_time": "2022-12-13T08:56:01.864Z"
   },
   {
    "duration": 13,
    "start_time": "2022-12-13T08:56:01.890Z"
   },
   {
    "duration": 20,
    "start_time": "2022-12-13T08:56:01.904Z"
   },
   {
    "duration": 12,
    "start_time": "2022-12-13T08:56:01.925Z"
   },
   {
    "duration": 21,
    "start_time": "2022-12-13T08:56:01.939Z"
   },
   {
    "duration": 15,
    "start_time": "2022-12-13T08:56:01.962Z"
   },
   {
    "duration": 30,
    "start_time": "2022-12-13T08:56:01.979Z"
   },
   {
    "duration": 6,
    "start_time": "2022-12-13T08:56:02.010Z"
   },
   {
    "duration": 15,
    "start_time": "2022-12-13T08:56:02.018Z"
   },
   {
    "duration": 29,
    "start_time": "2022-12-13T08:56:02.035Z"
   },
   {
    "duration": 17,
    "start_time": "2022-12-13T08:56:02.066Z"
   },
   {
    "duration": 34,
    "start_time": "2022-12-13T08:56:02.084Z"
   },
   {
    "duration": 5,
    "start_time": "2022-12-13T08:56:02.119Z"
   },
   {
    "duration": 24,
    "start_time": "2022-12-13T08:56:02.126Z"
   },
   {
    "duration": 27,
    "start_time": "2022-12-13T08:56:02.151Z"
   },
   {
    "duration": 29,
    "start_time": "2022-12-13T08:56:02.179Z"
   },
   {
    "duration": 41,
    "start_time": "2022-12-13T08:56:02.210Z"
   },
   {
    "duration": 19,
    "start_time": "2022-12-13T08:56:02.253Z"
   },
   {
    "duration": 10,
    "start_time": "2022-12-13T08:56:02.274Z"
   },
   {
    "duration": 16,
    "start_time": "2022-12-13T08:56:02.286Z"
   },
   {
    "duration": 14,
    "start_time": "2022-12-13T08:56:02.304Z"
   },
   {
    "duration": 21,
    "start_time": "2022-12-13T08:56:02.319Z"
   },
   {
    "duration": 33,
    "start_time": "2022-12-13T08:56:02.343Z"
   },
   {
    "duration": 19,
    "start_time": "2022-12-13T08:56:02.378Z"
   },
   {
    "duration": 5,
    "start_time": "2022-12-13T08:56:02.399Z"
   },
   {
    "duration": 23,
    "start_time": "2022-12-13T08:56:02.406Z"
   },
   {
    "duration": 21,
    "start_time": "2022-12-13T08:56:02.431Z"
   },
   {
    "duration": 30,
    "start_time": "2022-12-13T08:56:02.454Z"
   },
   {
    "duration": 11,
    "start_time": "2022-12-13T08:56:02.485Z"
   },
   {
    "duration": 29,
    "start_time": "2022-12-13T08:56:02.497Z"
   },
   {
    "duration": 3,
    "start_time": "2022-12-13T13:04:20.768Z"
   },
   {
    "duration": 8,
    "start_time": "2022-12-13T13:05:54.632Z"
   },
   {
    "duration": 162,
    "start_time": "2022-12-13T13:11:00.573Z"
   },
   {
    "duration": 181,
    "start_time": "2022-12-13T13:13:25.217Z"
   },
   {
    "duration": 179,
    "start_time": "2022-12-13T13:14:27.813Z"
   },
   {
    "duration": 6,
    "start_time": "2022-12-13T13:15:56.145Z"
   },
   {
    "duration": 19,
    "start_time": "2022-12-13T13:17:20.437Z"
   },
   {
    "duration": 21,
    "start_time": "2022-12-13T13:21:59.852Z"
   },
   {
    "duration": 17,
    "start_time": "2022-12-13T13:23:00.323Z"
   },
   {
    "duration": 18,
    "start_time": "2022-12-13T13:40:09.269Z"
   },
   {
    "duration": 18,
    "start_time": "2022-12-13T13:41:06.962Z"
   },
   {
    "duration": 20,
    "start_time": "2022-12-13T13:41:47.871Z"
   },
   {
    "duration": 17,
    "start_time": "2022-12-13T13:42:01.848Z"
   },
   {
    "duration": 171,
    "start_time": "2022-12-13T13:42:35.960Z"
   },
   {
    "duration": 21,
    "start_time": "2022-12-13T13:43:40.158Z"
   },
   {
    "duration": 13,
    "start_time": "2022-12-13T13:46:11.687Z"
   },
   {
    "duration": 22,
    "start_time": "2022-12-13T13:47:42.967Z"
   },
   {
    "duration": 13,
    "start_time": "2022-12-13T13:48:05.938Z"
   },
   {
    "duration": 13,
    "start_time": "2022-12-13T13:48:20.801Z"
   },
   {
    "duration": 191,
    "start_time": "2022-12-13T13:52:51.172Z"
   },
   {
    "duration": 177,
    "start_time": "2022-12-13T13:53:12.828Z"
   },
   {
    "duration": 177,
    "start_time": "2022-12-13T13:53:36.209Z"
   },
   {
    "duration": 192,
    "start_time": "2022-12-13T13:53:42.577Z"
   },
   {
    "duration": 216,
    "start_time": "2022-12-13T13:53:49.007Z"
   },
   {
    "duration": 264,
    "start_time": "2022-12-13T13:54:15.331Z"
   },
   {
    "duration": 172,
    "start_time": "2022-12-13T13:54:47.234Z"
   },
   {
    "duration": 165,
    "start_time": "2022-12-13T13:56:58.037Z"
   },
   {
    "duration": 166,
    "start_time": "2022-12-13T13:57:24.745Z"
   },
   {
    "duration": 167,
    "start_time": "2022-12-13T13:57:40.677Z"
   },
   {
    "duration": 161,
    "start_time": "2022-12-13T13:57:58.484Z"
   },
   {
    "duration": 167,
    "start_time": "2022-12-13T13:58:52.167Z"
   },
   {
    "duration": 16,
    "start_time": "2022-12-13T14:00:17.781Z"
   },
   {
    "duration": 14,
    "start_time": "2022-12-13T14:00:33.585Z"
   },
   {
    "duration": 17,
    "start_time": "2022-12-13T14:01:04.545Z"
   },
   {
    "duration": 196,
    "start_time": "2022-12-13T14:02:00.872Z"
   },
   {
    "duration": 186,
    "start_time": "2022-12-13T14:02:40.536Z"
   },
   {
    "duration": 76,
    "start_time": "2022-12-13T14:12:38.693Z"
   },
   {
    "duration": 3,
    "start_time": "2022-12-13T14:19:34.571Z"
   },
   {
    "duration": 58,
    "start_time": "2022-12-13T14:19:34.576Z"
   },
   {
    "duration": 17,
    "start_time": "2022-12-13T14:19:34.636Z"
   },
   {
    "duration": 42,
    "start_time": "2022-12-13T14:19:34.655Z"
   },
   {
    "duration": 32,
    "start_time": "2022-12-13T14:19:34.700Z"
   },
   {
    "duration": 4,
    "start_time": "2022-12-13T14:19:34.734Z"
   },
   {
    "duration": 42,
    "start_time": "2022-12-13T14:19:34.740Z"
   },
   {
    "duration": 25,
    "start_time": "2022-12-13T14:19:34.783Z"
   },
   {
    "duration": 50,
    "start_time": "2022-12-13T14:19:34.809Z"
   },
   {
    "duration": 17,
    "start_time": "2022-12-13T14:19:34.861Z"
   },
   {
    "duration": 21,
    "start_time": "2022-12-13T14:19:34.881Z"
   },
   {
    "duration": 18,
    "start_time": "2022-12-13T14:19:34.903Z"
   },
   {
    "duration": 50,
    "start_time": "2022-12-13T14:19:34.923Z"
   },
   {
    "duration": 8,
    "start_time": "2022-12-13T14:19:34.974Z"
   },
   {
    "duration": 20,
    "start_time": "2022-12-13T14:19:34.983Z"
   },
   {
    "duration": 27,
    "start_time": "2022-12-13T14:19:35.005Z"
   },
   {
    "duration": 26,
    "start_time": "2022-12-13T14:19:35.033Z"
   },
   {
    "duration": 29,
    "start_time": "2022-12-13T14:19:35.061Z"
   },
   {
    "duration": 20,
    "start_time": "2022-12-13T14:19:35.092Z"
   },
   {
    "duration": 17,
    "start_time": "2022-12-13T14:19:35.114Z"
   },
   {
    "duration": 32,
    "start_time": "2022-12-13T14:19:35.132Z"
   },
   {
    "duration": 46,
    "start_time": "2022-12-13T14:19:35.166Z"
   },
   {
    "duration": 24,
    "start_time": "2022-12-13T14:19:35.213Z"
   },
   {
    "duration": 16,
    "start_time": "2022-12-13T14:19:35.239Z"
   },
   {
    "duration": 36,
    "start_time": "2022-12-13T14:19:35.256Z"
   },
   {
    "duration": 28,
    "start_time": "2022-12-13T14:19:35.294Z"
   },
   {
    "duration": 21,
    "start_time": "2022-12-13T14:19:35.324Z"
   },
   {
    "duration": 35,
    "start_time": "2022-12-13T14:19:35.347Z"
   },
   {
    "duration": 40,
    "start_time": "2022-12-13T14:19:35.387Z"
   },
   {
    "duration": 24,
    "start_time": "2022-12-13T14:19:35.429Z"
   },
   {
    "duration": 50,
    "start_time": "2022-12-13T14:19:35.455Z"
   },
   {
    "duration": 12,
    "start_time": "2022-12-13T14:19:35.507Z"
   },
   {
    "duration": 22,
    "start_time": "2022-12-13T14:19:35.522Z"
   },
   {
    "duration": 20,
    "start_time": "2022-12-13T14:19:35.546Z"
   },
   {
    "duration": 34,
    "start_time": "2022-12-13T14:19:35.568Z"
   },
   {
    "duration": 31,
    "start_time": "2022-12-13T14:19:35.604Z"
   },
   {
    "duration": 41,
    "start_time": "2022-12-13T14:19:35.637Z"
   },
   {
    "duration": 25,
    "start_time": "2022-12-13T14:19:35.680Z"
   },
   {
    "duration": 200,
    "start_time": "2022-12-13T14:19:35.707Z"
   },
   {
    "duration": 21,
    "start_time": "2022-12-13T14:19:35.909Z"
   },
   {
    "duration": 217,
    "start_time": "2022-12-13T14:19:35.933Z"
   },
   {
    "duration": 338,
    "start_time": "2022-12-13T14:19:36.152Z"
   },
   {
    "duration": 199,
    "start_time": "2022-12-13T14:19:36.491Z"
   },
   {
    "duration": 190,
    "start_time": "2022-12-13T14:19:36.692Z"
   },
   {
    "duration": 201,
    "start_time": "2022-12-13T14:19:36.884Z"
   },
   {
    "duration": 85,
    "start_time": "2022-12-13T14:19:37.087Z"
   },
   {
    "duration": 2,
    "start_time": "2022-12-13T14:19:52.565Z"
   },
   {
    "duration": 16,
    "start_time": "2022-12-13T14:22:51.250Z"
   },
   {
    "duration": 1203,
    "start_time": "2022-12-13T17:44:26.073Z"
   },
   {
    "duration": 188,
    "start_time": "2022-12-13T17:44:27.279Z"
   },
   {
    "duration": 21,
    "start_time": "2022-12-13T17:44:27.469Z"
   },
   {
    "duration": 14,
    "start_time": "2022-12-13T17:44:27.492Z"
   },
   {
    "duration": 29,
    "start_time": "2022-12-13T17:44:27.507Z"
   },
   {
    "duration": 3,
    "start_time": "2022-12-13T17:44:27.538Z"
   },
   {
    "duration": 17,
    "start_time": "2022-12-13T17:44:27.542Z"
   },
   {
    "duration": 12,
    "start_time": "2022-12-13T17:44:27.561Z"
   },
   {
    "duration": 13,
    "start_time": "2022-12-13T17:44:27.575Z"
   },
   {
    "duration": 23,
    "start_time": "2022-12-13T17:44:27.591Z"
   },
   {
    "duration": 9,
    "start_time": "2022-12-13T17:44:27.615Z"
   },
   {
    "duration": 5,
    "start_time": "2022-12-13T17:44:27.626Z"
   },
   {
    "duration": 24,
    "start_time": "2022-12-13T17:44:27.632Z"
   },
   {
    "duration": 7,
    "start_time": "2022-12-13T17:44:27.657Z"
   },
   {
    "duration": 9,
    "start_time": "2022-12-13T17:44:27.665Z"
   },
   {
    "duration": 17,
    "start_time": "2022-12-13T17:44:27.676Z"
   },
   {
    "duration": 20,
    "start_time": "2022-12-13T17:44:27.694Z"
   },
   {
    "duration": 15,
    "start_time": "2022-12-13T17:44:27.715Z"
   },
   {
    "duration": 4,
    "start_time": "2022-12-13T17:44:27.732Z"
   },
   {
    "duration": 10,
    "start_time": "2022-12-13T17:44:27.738Z"
   },
   {
    "duration": 25,
    "start_time": "2022-12-13T17:44:27.750Z"
   },
   {
    "duration": 40,
    "start_time": "2022-12-13T17:44:27.777Z"
   },
   {
    "duration": 10,
    "start_time": "2022-12-13T17:44:27.818Z"
   },
   {
    "duration": 7,
    "start_time": "2022-12-13T17:44:27.830Z"
   },
   {
    "duration": 11,
    "start_time": "2022-12-13T17:44:27.838Z"
   },
   {
    "duration": 6,
    "start_time": "2022-12-13T17:44:27.850Z"
   },
   {
    "duration": 8,
    "start_time": "2022-12-13T17:44:27.858Z"
   },
   {
    "duration": 5,
    "start_time": "2022-12-13T17:44:27.869Z"
   },
   {
    "duration": 8,
    "start_time": "2022-12-13T17:44:27.876Z"
   },
   {
    "duration": 7,
    "start_time": "2022-12-13T17:44:27.885Z"
   },
   {
    "duration": 26,
    "start_time": "2022-12-13T17:44:27.894Z"
   },
   {
    "duration": 5,
    "start_time": "2022-12-13T17:44:27.921Z"
   },
   {
    "duration": 6,
    "start_time": "2022-12-13T17:44:27.928Z"
   },
   {
    "duration": 6,
    "start_time": "2022-12-13T17:44:27.936Z"
   },
   {
    "duration": 14,
    "start_time": "2022-12-13T17:44:27.943Z"
   },
   {
    "duration": 5,
    "start_time": "2022-12-13T17:44:27.958Z"
   },
   {
    "duration": 47,
    "start_time": "2022-12-13T17:44:27.965Z"
   },
   {
    "duration": 7,
    "start_time": "2022-12-13T17:44:28.014Z"
   },
   {
    "duration": 191,
    "start_time": "2022-12-13T17:44:28.023Z"
   },
   {
    "duration": 15,
    "start_time": "2022-12-13T17:44:28.216Z"
   },
   {
    "duration": 182,
    "start_time": "2022-12-13T17:44:28.233Z"
   },
   {
    "duration": 194,
    "start_time": "2022-12-13T17:44:28.416Z"
   },
   {
    "duration": 173,
    "start_time": "2022-12-13T17:44:28.612Z"
   },
   {
    "duration": 190,
    "start_time": "2022-12-13T17:44:28.787Z"
   },
   {
    "duration": 180,
    "start_time": "2022-12-13T17:44:28.979Z"
   },
   {
    "duration": 14,
    "start_time": "2022-12-13T17:44:29.160Z"
   },
   {
    "duration": 2,
    "start_time": "2022-12-13T17:44:29.176Z"
   },
   {
    "duration": 5,
    "start_time": "2022-12-13T17:48:16.774Z"
   },
   {
    "duration": 17,
    "start_time": "2022-12-13T17:48:26.110Z"
   },
   {
    "duration": 12,
    "start_time": "2022-12-13T18:21:15.865Z"
   },
   {
    "duration": 5,
    "start_time": "2022-12-13T18:22:32.919Z"
   },
   {
    "duration": 12,
    "start_time": "2022-12-13T18:22:35.913Z"
   },
   {
    "duration": 5,
    "start_time": "2022-12-13T18:22:49.705Z"
   },
   {
    "duration": 13,
    "start_time": "2022-12-13T18:22:52.158Z"
   },
   {
    "duration": 13,
    "start_time": "2022-12-13T18:36:02.081Z"
   },
   {
    "duration": 4,
    "start_time": "2022-12-13T18:42:24.129Z"
   },
   {
    "duration": 4,
    "start_time": "2022-12-13T18:42:27.899Z"
   },
   {
    "duration": 17,
    "start_time": "2022-12-13T18:42:29.866Z"
   },
   {
    "duration": 12,
    "start_time": "2022-12-13T18:42:35.532Z"
   },
   {
    "duration": 3,
    "start_time": "2022-12-13T18:43:05.004Z"
   },
   {
    "duration": 16,
    "start_time": "2022-12-13T18:43:14.200Z"
   },
   {
    "duration": 11,
    "start_time": "2022-12-13T18:43:24.395Z"
   },
   {
    "duration": 19,
    "start_time": "2022-12-13T18:43:49.097Z"
   },
   {
    "duration": 168,
    "start_time": "2022-12-13T18:51:02.725Z"
   },
   {
    "duration": 181,
    "start_time": "2022-12-13T18:51:29.078Z"
   },
   {
    "duration": 194,
    "start_time": "2022-12-13T18:52:06.905Z"
   },
   {
    "duration": 274,
    "start_time": "2022-12-13T18:52:19.554Z"
   },
   {
    "duration": 189,
    "start_time": "2022-12-13T18:52:39.267Z"
   },
   {
    "duration": 154,
    "start_time": "2022-12-13T18:53:12.128Z"
   },
   {
    "duration": 255,
    "start_time": "2022-12-13T18:53:20.238Z"
   },
   {
    "duration": 185,
    "start_time": "2022-12-13T18:53:41.785Z"
   },
   {
    "duration": 193,
    "start_time": "2022-12-13T18:54:01.704Z"
   },
   {
    "duration": 191,
    "start_time": "2022-12-13T18:54:28.085Z"
   },
   {
    "duration": 174,
    "start_time": "2022-12-13T18:54:41.060Z"
   },
   {
    "duration": 185,
    "start_time": "2022-12-13T18:57:18.215Z"
   },
   {
    "duration": 265,
    "start_time": "2022-12-13T18:57:28.114Z"
   },
   {
    "duration": 180,
    "start_time": "2022-12-13T18:57:41.777Z"
   },
   {
    "duration": 192,
    "start_time": "2022-12-13T18:57:47.558Z"
   },
   {
    "duration": 199,
    "start_time": "2022-12-13T18:57:53.542Z"
   },
   {
    "duration": 89,
    "start_time": "2022-12-13T18:58:32.193Z"
   },
   {
    "duration": 4,
    "start_time": "2022-12-13T18:58:37.049Z"
   },
   {
    "duration": 206,
    "start_time": "2022-12-13T19:08:47.950Z"
   },
   {
    "duration": 206,
    "start_time": "2022-12-13T19:10:07.853Z"
   },
   {
    "duration": 156,
    "start_time": "2022-12-13T19:24:11.380Z"
   },
   {
    "duration": 145,
    "start_time": "2022-12-13T19:24:44.149Z"
   },
   {
    "duration": 214,
    "start_time": "2022-12-13T19:25:31.505Z"
   },
   {
    "duration": 178,
    "start_time": "2022-12-13T19:32:53.200Z"
   },
   {
    "duration": 304,
    "start_time": "2022-12-13T19:32:59.053Z"
   },
   {
    "duration": 203,
    "start_time": "2022-12-13T19:44:24.396Z"
   },
   {
    "duration": 202,
    "start_time": "2022-12-13T19:48:35.435Z"
   },
   {
    "duration": 213,
    "start_time": "2022-12-13T19:48:43.855Z"
   },
   {
    "duration": 8610,
    "start_time": "2022-12-13T19:52:44.452Z"
   },
   {
    "duration": 8204,
    "start_time": "2022-12-13T19:56:34.017Z"
   },
   {
    "duration": 8453,
    "start_time": "2022-12-13T19:57:57.499Z"
   },
   {
    "duration": 13,
    "start_time": "2022-12-13T20:00:25.933Z"
   },
   {
    "duration": 602,
    "start_time": "2022-12-13T20:04:36.445Z"
   },
   {
    "duration": 528,
    "start_time": "2022-12-13T20:06:56.366Z"
   },
   {
    "duration": 71,
    "start_time": "2022-12-13T20:07:39.311Z"
   },
   {
    "duration": 121,
    "start_time": "2022-12-13T20:07:44.987Z"
   },
   {
    "duration": 106,
    "start_time": "2022-12-13T20:08:37.426Z"
   },
   {
    "duration": 100,
    "start_time": "2022-12-13T20:09:03.026Z"
   },
   {
    "duration": 108,
    "start_time": "2022-12-13T20:14:03.157Z"
   },
   {
    "duration": 108,
    "start_time": "2022-12-13T20:14:21.729Z"
   },
   {
    "duration": 106,
    "start_time": "2022-12-13T20:14:46.343Z"
   },
   {
    "duration": 105,
    "start_time": "2022-12-13T20:15:15.861Z"
   },
   {
    "duration": 115,
    "start_time": "2022-12-13T20:36:17.838Z"
   },
   {
    "duration": 141,
    "start_time": "2022-12-13T20:36:24.674Z"
   },
   {
    "duration": 100,
    "start_time": "2022-12-13T20:36:30.645Z"
   },
   {
    "duration": 3,
    "start_time": "2022-12-13T20:46:27.215Z"
   },
   {
    "duration": 9,
    "start_time": "2022-12-13T20:54:33.431Z"
   },
   {
    "duration": 39,
    "start_time": "2022-12-13T20:55:32.434Z"
   },
   {
    "duration": 30,
    "start_time": "2022-12-13T20:55:52.177Z"
   },
   {
    "duration": 145,
    "start_time": "2022-12-13T21:18:30.869Z"
   },
   {
    "duration": 147,
    "start_time": "2022-12-13T21:18:50.685Z"
   },
   {
    "duration": 71,
    "start_time": "2022-12-13T21:24:01.738Z"
   },
   {
    "duration": 9,
    "start_time": "2022-12-13T21:24:46.537Z"
   },
   {
    "duration": 1421,
    "start_time": "2022-12-13T21:24:53.068Z"
   },
   {
    "duration": 7,
    "start_time": "2022-12-13T21:25:09.563Z"
   },
   {
    "duration": 346,
    "start_time": "2022-12-13T21:25:31.919Z"
   },
   {
    "duration": 127,
    "start_time": "2022-12-13T21:25:38.316Z"
   },
   {
    "duration": 135,
    "start_time": "2022-12-13T21:25:45.354Z"
   },
   {
    "duration": 130,
    "start_time": "2022-12-13T21:26:31.132Z"
   },
   {
    "duration": 10,
    "start_time": "2022-12-13T21:26:50.210Z"
   },
   {
    "duration": 119,
    "start_time": "2022-12-13T21:39:11.880Z"
   },
   {
    "duration": 627,
    "start_time": "2022-12-13T21:39:23.689Z"
   },
   {
    "duration": 676,
    "start_time": "2022-12-13T21:42:49.823Z"
   },
   {
    "duration": 676,
    "start_time": "2022-12-13T21:46:03.037Z"
   },
   {
    "duration": 8,
    "start_time": "2022-12-13T21:54:51.320Z"
   },
   {
    "duration": 10,
    "start_time": "2022-12-13T21:56:30.624Z"
   },
   {
    "duration": 19,
    "start_time": "2022-12-13T21:56:44.108Z"
   },
   {
    "duration": 11,
    "start_time": "2022-12-13T21:57:11.807Z"
   },
   {
    "duration": 10,
    "start_time": "2022-12-13T21:58:46.753Z"
   },
   {
    "duration": 14,
    "start_time": "2022-12-13T21:59:21.623Z"
   },
   {
    "duration": 5,
    "start_time": "2022-12-13T22:00:22.315Z"
   },
   {
    "duration": 12,
    "start_time": "2022-12-13T22:00:46.211Z"
   },
   {
    "duration": 14,
    "start_time": "2022-12-13T22:01:23.264Z"
   },
   {
    "duration": 18,
    "start_time": "2022-12-13T22:01:50.253Z"
   },
   {
    "duration": 15,
    "start_time": "2022-12-13T22:02:17.006Z"
   },
   {
    "duration": 161,
    "start_time": "2022-12-13T22:04:05.502Z"
   },
   {
    "duration": 168,
    "start_time": "2022-12-13T22:04:30.240Z"
   },
   {
    "duration": 183,
    "start_time": "2022-12-13T22:04:48.560Z"
   },
   {
    "duration": 164,
    "start_time": "2022-12-13T22:04:57.996Z"
   },
   {
    "duration": 161,
    "start_time": "2022-12-13T22:05:27.365Z"
   },
   {
    "duration": 154,
    "start_time": "2022-12-13T22:05:32.482Z"
   },
   {
    "duration": 161,
    "start_time": "2022-12-13T22:06:10.465Z"
   },
   {
    "duration": 184,
    "start_time": "2022-12-13T22:06:54.570Z"
   },
   {
    "duration": 164,
    "start_time": "2022-12-13T22:07:29.993Z"
   },
   {
    "duration": 1446,
    "start_time": "2022-12-14T06:55:31.700Z"
   },
   {
    "duration": 108,
    "start_time": "2022-12-14T06:55:33.148Z"
   },
   {
    "duration": 26,
    "start_time": "2022-12-14T06:55:33.259Z"
   },
   {
    "duration": 17,
    "start_time": "2022-12-14T06:55:33.289Z"
   },
   {
    "duration": 75,
    "start_time": "2022-12-14T06:55:33.308Z"
   },
   {
    "duration": 5,
    "start_time": "2022-12-14T06:55:33.385Z"
   },
   {
    "duration": 28,
    "start_time": "2022-12-14T06:55:33.393Z"
   },
   {
    "duration": 32,
    "start_time": "2022-12-14T06:55:33.423Z"
   },
   {
    "duration": 33,
    "start_time": "2022-12-14T06:55:33.459Z"
   },
   {
    "duration": 7,
    "start_time": "2022-12-14T06:55:33.498Z"
   },
   {
    "duration": 17,
    "start_time": "2022-12-14T06:55:33.508Z"
   },
   {
    "duration": 32,
    "start_time": "2022-12-14T06:55:33.528Z"
   },
   {
    "duration": 43,
    "start_time": "2022-12-14T06:55:33.564Z"
   },
   {
    "duration": 13,
    "start_time": "2022-12-14T06:55:33.611Z"
   },
   {
    "duration": 29,
    "start_time": "2022-12-14T06:55:33.628Z"
   },
   {
    "duration": 18,
    "start_time": "2022-12-14T06:55:33.659Z"
   },
   {
    "duration": 11,
    "start_time": "2022-12-14T06:55:33.679Z"
   },
   {
    "duration": 30,
    "start_time": "2022-12-14T06:55:33.693Z"
   },
   {
    "duration": 8,
    "start_time": "2022-12-14T06:55:33.725Z"
   },
   {
    "duration": 11,
    "start_time": "2022-12-14T06:55:33.759Z"
   },
   {
    "duration": 29,
    "start_time": "2022-12-14T06:55:33.772Z"
   },
   {
    "duration": 68,
    "start_time": "2022-12-14T06:55:33.804Z"
   },
   {
    "duration": 14,
    "start_time": "2022-12-14T06:55:33.874Z"
   },
   {
    "duration": 9,
    "start_time": "2022-12-14T06:55:33.890Z"
   },
   {
    "duration": 8,
    "start_time": "2022-12-14T06:55:33.901Z"
   },
   {
    "duration": 14,
    "start_time": "2022-12-14T06:55:33.911Z"
   },
   {
    "duration": 31,
    "start_time": "2022-12-14T06:55:33.928Z"
   },
   {
    "duration": 6,
    "start_time": "2022-12-14T06:55:33.965Z"
   },
   {
    "duration": 11,
    "start_time": "2022-12-14T06:55:33.973Z"
   },
   {
    "duration": 6,
    "start_time": "2022-12-14T06:55:33.987Z"
   },
   {
    "duration": 28,
    "start_time": "2022-12-14T06:55:33.995Z"
   },
   {
    "duration": 6,
    "start_time": "2022-12-14T06:55:34.026Z"
   },
   {
    "duration": 6,
    "start_time": "2022-12-14T06:55:34.056Z"
   },
   {
    "duration": 10,
    "start_time": "2022-12-14T06:55:34.065Z"
   },
   {
    "duration": 20,
    "start_time": "2022-12-14T06:55:34.076Z"
   },
   {
    "duration": 8,
    "start_time": "2022-12-14T06:55:34.099Z"
   },
   {
    "duration": 48,
    "start_time": "2022-12-14T06:55:34.109Z"
   },
   {
    "duration": 8,
    "start_time": "2022-12-14T06:55:34.161Z"
   },
   {
    "duration": 244,
    "start_time": "2022-12-14T06:55:34.171Z"
   },
   {
    "duration": 25,
    "start_time": "2022-12-14T06:55:34.417Z"
   },
   {
    "duration": 316,
    "start_time": "2022-12-14T06:55:34.444Z"
   },
   {
    "duration": 286,
    "start_time": "2022-12-14T06:55:34.763Z"
   },
   {
    "duration": 228,
    "start_time": "2022-12-14T06:55:35.051Z"
   },
   {
    "duration": 244,
    "start_time": "2022-12-14T06:55:35.282Z"
   },
   {
    "duration": 255,
    "start_time": "2022-12-14T06:55:35.528Z"
   },
   {
    "duration": 6,
    "start_time": "2022-12-14T06:55:35.785Z"
   },
   {
    "duration": 21,
    "start_time": "2022-12-14T06:55:35.793Z"
   },
   {
    "duration": 20,
    "start_time": "2022-12-14T06:55:35.816Z"
   },
   {
    "duration": 10,
    "start_time": "2022-12-14T06:55:35.865Z"
   },
   {
    "duration": 18,
    "start_time": "2022-12-14T06:55:35.877Z"
   },
   {
    "duration": 18,
    "start_time": "2022-12-14T06:55:35.897Z"
   },
   {
    "duration": 250,
    "start_time": "2022-12-14T06:55:35.917Z"
   },
   {
    "duration": 249,
    "start_time": "2022-12-14T06:55:36.169Z"
   },
   {
    "duration": 307,
    "start_time": "2022-12-14T06:55:36.420Z"
   },
   {
    "duration": 6,
    "start_time": "2022-12-14T06:55:36.729Z"
   },
   {
    "duration": 396,
    "start_time": "2022-12-14T06:55:36.737Z"
   },
   {
    "duration": 256,
    "start_time": "2022-12-14T06:55:37.135Z"
   },
   {
    "duration": 3,
    "start_time": "2022-12-14T06:55:37.394Z"
   },
   {
    "duration": 147,
    "start_time": "2022-12-14T06:55:37.399Z"
   },
   {
    "duration": 148,
    "start_time": "2022-12-14T06:55:37.548Z"
   },
   {
    "duration": 143,
    "start_time": "2022-12-14T06:55:37.698Z"
   },
   {
    "duration": 142,
    "start_time": "2022-12-14T06:55:37.842Z"
   },
   {
    "duration": 158,
    "start_time": "2022-12-14T06:55:37.986Z"
   },
   {
    "duration": 186,
    "start_time": "2022-12-14T06:55:38.146Z"
   },
   {
    "duration": 21,
    "start_time": "2022-12-14T06:55:38.334Z"
   },
   {
    "duration": 189,
    "start_time": "2022-12-14T06:55:38.357Z"
   },
   {
    "duration": 20,
    "start_time": "2022-12-14T06:55:38.547Z"
   },
   {
    "duration": 875,
    "start_time": "2022-12-14T06:55:38.569Z"
   },
   {
    "duration": 1046,
    "start_time": "2022-12-14T06:55:39.455Z"
   },
   {
    "duration": 18,
    "start_time": "2022-12-14T06:55:40.503Z"
   },
   {
    "duration": 211,
    "start_time": "2022-12-14T06:55:40.524Z"
   },
   {
    "duration": 241,
    "start_time": "2022-12-14T06:55:40.737Z"
   },
   {
    "duration": 123,
    "start_time": "2022-12-14T06:56:55.588Z"
   },
   {
    "duration": 62,
    "start_time": "2022-12-14T06:57:15.728Z"
   },
   {
    "duration": 3,
    "start_time": "2022-12-14T06:57:18.595Z"
   },
   {
    "duration": 72,
    "start_time": "2022-12-14T06:57:18.601Z"
   },
   {
    "duration": 27,
    "start_time": "2022-12-14T06:57:18.676Z"
   },
   {
    "duration": 49,
    "start_time": "2022-12-14T06:57:18.706Z"
   },
   {
    "duration": 46,
    "start_time": "2022-12-14T06:57:18.759Z"
   },
   {
    "duration": 5,
    "start_time": "2022-12-14T06:57:18.808Z"
   },
   {
    "duration": 53,
    "start_time": "2022-12-14T06:57:18.815Z"
   },
   {
    "duration": 24,
    "start_time": "2022-12-14T06:57:18.870Z"
   },
   {
    "duration": 22,
    "start_time": "2022-12-14T06:57:18.897Z"
   },
   {
    "duration": 36,
    "start_time": "2022-12-14T06:57:18.921Z"
   },
   {
    "duration": 14,
    "start_time": "2022-12-14T06:57:18.961Z"
   },
   {
    "duration": 10,
    "start_time": "2022-12-14T06:57:18.977Z"
   },
   {
    "duration": 47,
    "start_time": "2022-12-14T06:57:18.990Z"
   },
   {
    "duration": 9,
    "start_time": "2022-12-14T06:57:19.056Z"
   },
   {
    "duration": 10,
    "start_time": "2022-12-14T06:57:19.067Z"
   },
   {
    "duration": 23,
    "start_time": "2022-12-14T06:57:19.080Z"
   },
   {
    "duration": 14,
    "start_time": "2022-12-14T06:57:19.105Z"
   },
   {
    "duration": 41,
    "start_time": "2022-12-14T06:57:19.121Z"
   },
   {
    "duration": 6,
    "start_time": "2022-12-14T06:57:19.165Z"
   },
   {
    "duration": 19,
    "start_time": "2022-12-14T06:57:19.173Z"
   },
   {
    "duration": 36,
    "start_time": "2022-12-14T06:57:19.195Z"
   },
   {
    "duration": 47,
    "start_time": "2022-12-14T06:57:19.234Z"
   },
   {
    "duration": 16,
    "start_time": "2022-12-14T06:57:19.286Z"
   },
   {
    "duration": 18,
    "start_time": "2022-12-14T06:57:19.304Z"
   },
   {
    "duration": 11,
    "start_time": "2022-12-14T06:57:19.324Z"
   },
   {
    "duration": 24,
    "start_time": "2022-12-14T06:57:19.338Z"
   },
   {
    "duration": 20,
    "start_time": "2022-12-14T06:57:19.364Z"
   },
   {
    "duration": 13,
    "start_time": "2022-12-14T06:57:19.387Z"
   },
   {
    "duration": 16,
    "start_time": "2022-12-14T06:57:19.404Z"
   },
   {
    "duration": 9,
    "start_time": "2022-12-14T06:57:19.422Z"
   },
   {
    "duration": 40,
    "start_time": "2022-12-14T06:57:19.434Z"
   },
   {
    "duration": 8,
    "start_time": "2022-12-14T06:57:19.476Z"
   },
   {
    "duration": 26,
    "start_time": "2022-12-14T06:57:19.486Z"
   },
   {
    "duration": 15,
    "start_time": "2022-12-14T06:57:19.514Z"
   },
   {
    "duration": 26,
    "start_time": "2022-12-14T06:57:19.531Z"
   },
   {
    "duration": 6,
    "start_time": "2022-12-14T06:57:19.558Z"
   },
   {
    "duration": 38,
    "start_time": "2022-12-14T06:57:19.566Z"
   },
   {
    "duration": 23,
    "start_time": "2022-12-14T06:57:19.606Z"
   },
   {
    "duration": 234,
    "start_time": "2022-12-14T06:57:19.631Z"
   },
   {
    "duration": 16,
    "start_time": "2022-12-14T06:57:19.867Z"
   },
   {
    "duration": 227,
    "start_time": "2022-12-14T06:57:19.886Z"
   },
   {
    "duration": 293,
    "start_time": "2022-12-14T06:57:20.115Z"
   },
   {
    "duration": 227,
    "start_time": "2022-12-14T06:57:20.410Z"
   },
   {
    "duration": 349,
    "start_time": "2022-12-14T06:57:20.639Z"
   },
   {
    "duration": 222,
    "start_time": "2022-12-14T06:57:20.990Z"
   },
   {
    "duration": 6,
    "start_time": "2022-12-14T06:57:21.214Z"
   },
   {
    "duration": 54,
    "start_time": "2022-12-14T06:57:21.222Z"
   },
   {
    "duration": 19,
    "start_time": "2022-12-14T06:57:21.279Z"
   },
   {
    "duration": 4,
    "start_time": "2022-12-14T06:57:21.300Z"
   },
   {
    "duration": 20,
    "start_time": "2022-12-14T06:57:21.307Z"
   },
   {
    "duration": 30,
    "start_time": "2022-12-14T06:57:21.330Z"
   },
   {
    "duration": 228,
    "start_time": "2022-12-14T06:57:21.362Z"
   },
   {
    "duration": 237,
    "start_time": "2022-12-14T06:57:21.592Z"
   },
   {
    "duration": 240,
    "start_time": "2022-12-14T06:57:21.831Z"
   },
   {
    "duration": 5,
    "start_time": "2022-12-14T06:57:22.073Z"
   },
   {
    "duration": 227,
    "start_time": "2022-12-14T06:57:22.079Z"
   },
   {
    "duration": 242,
    "start_time": "2022-12-14T06:57:22.308Z"
   },
   {
    "duration": 3,
    "start_time": "2022-12-14T06:57:22.557Z"
   },
   {
    "duration": 149,
    "start_time": "2022-12-14T06:57:22.562Z"
   },
   {
    "duration": 133,
    "start_time": "2022-12-14T06:57:22.713Z"
   },
   {
    "duration": 142,
    "start_time": "2022-12-14T06:57:22.848Z"
   },
   {
    "duration": 253,
    "start_time": "2022-12-14T06:57:22.992Z"
   },
   {
    "duration": 141,
    "start_time": "2022-12-14T06:57:23.247Z"
   },
   {
    "duration": 276,
    "start_time": "2022-12-14T06:57:23.391Z"
   },
   {
    "duration": 211,
    "start_time": "2022-12-14T06:57:23.670Z"
   },
   {
    "duration": 10,
    "start_time": "2022-12-14T06:57:23.883Z"
   },
   {
    "duration": 248,
    "start_time": "2022-12-14T06:57:23.895Z"
   },
   {
    "duration": 20,
    "start_time": "2022-12-14T06:57:24.145Z"
   },
   {
    "duration": 1111,
    "start_time": "2022-12-14T06:57:24.168Z"
   },
   {
    "duration": 820,
    "start_time": "2022-12-14T06:57:25.281Z"
   },
   {
    "duration": 20,
    "start_time": "2022-12-14T06:57:26.103Z"
   },
   {
    "duration": 332,
    "start_time": "2022-12-14T06:57:26.125Z"
   },
   {
    "duration": 216,
    "start_time": "2022-12-14T06:57:26.459Z"
   },
   {
    "duration": 17,
    "start_time": "2022-12-14T07:57:47.200Z"
   },
   {
    "duration": 34,
    "start_time": "2022-12-14T07:57:51.835Z"
   },
   {
    "duration": 16,
    "start_time": "2022-12-14T08:02:36.896Z"
   },
   {
    "duration": 230,
    "start_time": "2022-12-14T08:09:35.130Z"
   },
   {
    "duration": 268,
    "start_time": "2022-12-14T08:12:13.503Z"
   },
   {
    "duration": 237,
    "start_time": "2022-12-14T08:13:46.657Z"
   },
   {
    "duration": 181,
    "start_time": "2022-12-14T08:14:33.580Z"
   },
   {
    "duration": 120,
    "start_time": "2022-12-14T08:14:40.898Z"
   },
   {
    "duration": 134,
    "start_time": "2022-12-14T08:14:51.743Z"
   },
   {
    "duration": 144,
    "start_time": "2022-12-14T08:29:23.852Z"
   },
   {
    "duration": 17,
    "start_time": "2022-12-14T08:29:39.403Z"
   },
   {
    "duration": 15,
    "start_time": "2022-12-14T08:30:20.903Z"
   },
   {
    "duration": 16,
    "start_time": "2022-12-14T08:32:06.976Z"
   },
   {
    "duration": 23,
    "start_time": "2022-12-14T08:32:42.745Z"
   },
   {
    "duration": 21,
    "start_time": "2022-12-14T08:33:09.313Z"
   },
   {
    "duration": 15,
    "start_time": "2022-12-14T08:33:53.874Z"
   },
   {
    "duration": 18,
    "start_time": "2022-12-14T08:35:02.097Z"
   },
   {
    "duration": 15,
    "start_time": "2022-12-14T08:36:16.559Z"
   },
   {
    "duration": 18,
    "start_time": "2022-12-14T08:37:54.495Z"
   },
   {
    "duration": 107,
    "start_time": "2022-12-14T08:39:13.793Z"
   },
   {
    "duration": 138,
    "start_time": "2022-12-14T08:39:21.168Z"
   },
   {
    "duration": 257,
    "start_time": "2022-12-14T08:40:54.313Z"
   },
   {
    "duration": 168,
    "start_time": "2022-12-14T08:41:03.742Z"
   },
   {
    "duration": 132,
    "start_time": "2022-12-14T08:42:40.241Z"
   },
   {
    "duration": 130,
    "start_time": "2022-12-14T08:45:20.798Z"
   },
   {
    "duration": 125,
    "start_time": "2022-12-14T09:04:53.254Z"
   },
   {
    "duration": 121,
    "start_time": "2022-12-14T09:05:20.141Z"
   },
   {
    "duration": 117,
    "start_time": "2022-12-14T09:05:36.644Z"
   },
   {
    "duration": 118,
    "start_time": "2022-12-14T09:05:40.689Z"
   },
   {
    "duration": 118,
    "start_time": "2022-12-14T09:05:44.070Z"
   },
   {
    "duration": 131,
    "start_time": "2022-12-14T09:05:58.968Z"
   },
   {
    "duration": 123,
    "start_time": "2022-12-14T09:06:15.520Z"
   },
   {
    "duration": 240,
    "start_time": "2022-12-14T09:13:13.408Z"
   },
   {
    "duration": 4,
    "start_time": "2022-12-14T09:27:32.928Z"
   },
   {
    "duration": 78,
    "start_time": "2022-12-14T09:27:32.935Z"
   },
   {
    "duration": 18,
    "start_time": "2022-12-14T09:27:33.015Z"
   },
   {
    "duration": 27,
    "start_time": "2022-12-14T09:27:33.035Z"
   },
   {
    "duration": 139,
    "start_time": "2022-12-14T09:27:33.069Z"
   },
   {
    "duration": 4,
    "start_time": "2022-12-14T09:27:33.210Z"
   },
   {
    "duration": 51,
    "start_time": "2022-12-14T09:27:33.216Z"
   },
   {
    "duration": 11,
    "start_time": "2022-12-14T09:27:33.271Z"
   },
   {
    "duration": 17,
    "start_time": "2022-12-14T09:27:33.284Z"
   },
   {
    "duration": 8,
    "start_time": "2022-12-14T09:27:33.303Z"
   },
   {
    "duration": 13,
    "start_time": "2022-12-14T09:27:33.313Z"
   },
   {
    "duration": 7,
    "start_time": "2022-12-14T09:27:33.327Z"
   },
   {
    "duration": 42,
    "start_time": "2022-12-14T09:27:33.336Z"
   },
   {
    "duration": 7,
    "start_time": "2022-12-14T09:27:33.380Z"
   },
   {
    "duration": 4,
    "start_time": "2022-12-14T09:27:33.389Z"
   },
   {
    "duration": 12,
    "start_time": "2022-12-14T09:27:33.395Z"
   },
   {
    "duration": 6,
    "start_time": "2022-12-14T09:27:33.408Z"
   },
   {
    "duration": 55,
    "start_time": "2022-12-14T09:27:33.416Z"
   },
   {
    "duration": 6,
    "start_time": "2022-12-14T09:27:33.473Z"
   },
   {
    "duration": 14,
    "start_time": "2022-12-14T09:27:33.480Z"
   },
   {
    "duration": 30,
    "start_time": "2022-12-14T09:27:33.495Z"
   },
   {
    "duration": 50,
    "start_time": "2022-12-14T09:27:33.527Z"
   },
   {
    "duration": 8,
    "start_time": "2022-12-14T09:27:33.579Z"
   },
   {
    "duration": 5,
    "start_time": "2022-12-14T09:27:33.591Z"
   },
   {
    "duration": 9,
    "start_time": "2022-12-14T09:27:33.598Z"
   },
   {
    "duration": 9,
    "start_time": "2022-12-14T09:27:33.609Z"
   },
   {
    "duration": 15,
    "start_time": "2022-12-14T09:27:33.619Z"
   },
   {
    "duration": 10,
    "start_time": "2022-12-14T09:27:33.658Z"
   },
   {
    "duration": 15,
    "start_time": "2022-12-14T09:27:33.670Z"
   },
   {
    "duration": 13,
    "start_time": "2022-12-14T09:27:33.688Z"
   },
   {
    "duration": 21,
    "start_time": "2022-12-14T09:27:33.704Z"
   },
   {
    "duration": 13,
    "start_time": "2022-12-14T09:27:33.727Z"
   },
   {
    "duration": 17,
    "start_time": "2022-12-14T09:27:33.743Z"
   },
   {
    "duration": 12,
    "start_time": "2022-12-14T09:27:33.764Z"
   },
   {
    "duration": 21,
    "start_time": "2022-12-14T09:27:33.778Z"
   },
   {
    "duration": 12,
    "start_time": "2022-12-14T09:27:33.802Z"
   },
   {
    "duration": 27,
    "start_time": "2022-12-14T09:27:33.815Z"
   },
   {
    "duration": 10,
    "start_time": "2022-12-14T09:27:33.844Z"
   },
   {
    "duration": 203,
    "start_time": "2022-12-14T09:27:33.855Z"
   },
   {
    "duration": 20,
    "start_time": "2022-12-14T09:27:34.062Z"
   },
   {
    "duration": 222,
    "start_time": "2022-12-14T09:27:34.084Z"
   },
   {
    "duration": 271,
    "start_time": "2022-12-14T09:27:34.308Z"
   },
   {
    "duration": 309,
    "start_time": "2022-12-14T09:27:34.581Z"
   },
   {
    "duration": 230,
    "start_time": "2022-12-14T09:27:34.892Z"
   },
   {
    "duration": 216,
    "start_time": "2022-12-14T09:27:35.124Z"
   },
   {
    "duration": 5,
    "start_time": "2022-12-14T09:27:35.342Z"
   },
   {
    "duration": 24,
    "start_time": "2022-12-14T09:27:35.355Z"
   },
   {
    "duration": 27,
    "start_time": "2022-12-14T09:27:35.380Z"
   },
   {
    "duration": 7,
    "start_time": "2022-12-14T09:27:35.409Z"
   },
   {
    "duration": 25,
    "start_time": "2022-12-14T09:27:35.418Z"
   },
   {
    "duration": 25,
    "start_time": "2022-12-14T09:27:35.445Z"
   },
   {
    "duration": 210,
    "start_time": "2022-12-14T09:27:35.472Z"
   },
   {
    "duration": 225,
    "start_time": "2022-12-14T09:27:35.683Z"
   },
   {
    "duration": 242,
    "start_time": "2022-12-14T09:27:35.910Z"
   },
   {
    "duration": 12,
    "start_time": "2022-12-14T09:27:36.153Z"
   },
   {
    "duration": 241,
    "start_time": "2022-12-14T09:27:36.167Z"
   },
   {
    "duration": 230,
    "start_time": "2022-12-14T09:27:36.410Z"
   },
   {
    "duration": 41,
    "start_time": "2022-12-14T09:27:36.642Z"
   },
   {
    "duration": 301,
    "start_time": "2022-12-14T09:27:36.684Z"
   },
   {
    "duration": 137,
    "start_time": "2022-12-14T09:27:36.987Z"
   },
   {
    "duration": 149,
    "start_time": "2022-12-14T09:27:37.126Z"
   },
   {
    "duration": 132,
    "start_time": "2022-12-14T09:27:37.277Z"
   },
   {
    "duration": 129,
    "start_time": "2022-12-14T09:27:37.411Z"
   },
   {
    "duration": 284,
    "start_time": "2022-12-14T09:27:37.542Z"
   },
   {
    "duration": 180,
    "start_time": "2022-12-14T09:27:37.828Z"
   },
   {
    "duration": 9,
    "start_time": "2022-12-14T09:27:38.010Z"
   },
   {
    "duration": 193,
    "start_time": "2022-12-14T09:27:38.021Z"
   },
   {
    "duration": 11,
    "start_time": "2022-12-14T09:27:38.216Z"
   },
   {
    "duration": 814,
    "start_time": "2022-12-14T09:27:38.233Z"
   },
   {
    "duration": 957,
    "start_time": "2022-12-14T09:27:39.049Z"
   },
   {
    "duration": 16,
    "start_time": "2022-12-14T09:27:40.008Z"
   },
   {
    "duration": 212,
    "start_time": "2022-12-14T09:27:40.026Z"
   },
   {
    "duration": 204,
    "start_time": "2022-12-14T09:27:40.240Z"
   },
   {
    "duration": 1475,
    "start_time": "2022-12-14T14:12:18.388Z"
   },
   {
    "duration": 104,
    "start_time": "2022-12-14T14:12:19.865Z"
   },
   {
    "duration": 21,
    "start_time": "2022-12-14T14:12:19.971Z"
   },
   {
    "duration": 15,
    "start_time": "2022-12-14T14:12:19.994Z"
   },
   {
    "duration": 33,
    "start_time": "2022-12-14T14:12:20.011Z"
   },
   {
    "duration": 3,
    "start_time": "2022-12-14T14:12:20.046Z"
   },
   {
    "duration": 23,
    "start_time": "2022-12-14T14:12:20.051Z"
   },
   {
    "duration": 22,
    "start_time": "2022-12-14T14:12:20.076Z"
   },
   {
    "duration": 25,
    "start_time": "2022-12-14T14:12:20.100Z"
   },
   {
    "duration": 4,
    "start_time": "2022-12-14T14:12:20.129Z"
   },
   {
    "duration": 13,
    "start_time": "2022-12-14T14:12:20.135Z"
   },
   {
    "duration": 9,
    "start_time": "2022-12-14T14:12:20.150Z"
   },
   {
    "duration": 42,
    "start_time": "2022-12-14T14:12:20.160Z"
   },
   {
    "duration": 11,
    "start_time": "2022-12-14T14:12:20.204Z"
   },
   {
    "duration": 16,
    "start_time": "2022-12-14T14:12:20.217Z"
   },
   {
    "duration": 18,
    "start_time": "2022-12-14T14:12:20.234Z"
   },
   {
    "duration": 14,
    "start_time": "2022-12-14T14:12:20.253Z"
   },
   {
    "duration": 26,
    "start_time": "2022-12-14T14:12:20.269Z"
   },
   {
    "duration": 11,
    "start_time": "2022-12-14T14:12:20.297Z"
   },
   {
    "duration": 17,
    "start_time": "2022-12-14T14:12:20.310Z"
   },
   {
    "duration": 35,
    "start_time": "2022-12-14T14:12:20.329Z"
   },
   {
    "duration": 28,
    "start_time": "2022-12-14T14:12:20.365Z"
   },
   {
    "duration": 25,
    "start_time": "2022-12-14T14:12:20.395Z"
   },
   {
    "duration": 9,
    "start_time": "2022-12-14T14:12:20.422Z"
   },
   {
    "duration": 22,
    "start_time": "2022-12-14T14:12:20.432Z"
   },
   {
    "duration": 22,
    "start_time": "2022-12-14T14:12:20.456Z"
   },
   {
    "duration": 12,
    "start_time": "2022-12-14T14:12:20.479Z"
   },
   {
    "duration": 18,
    "start_time": "2022-12-14T14:12:20.495Z"
   },
   {
    "duration": 11,
    "start_time": "2022-12-14T14:12:20.515Z"
   },
   {
    "duration": 16,
    "start_time": "2022-12-14T14:12:20.527Z"
   },
   {
    "duration": 27,
    "start_time": "2022-12-14T14:12:20.544Z"
   },
   {
    "duration": 18,
    "start_time": "2022-12-14T14:12:20.573Z"
   },
   {
    "duration": 17,
    "start_time": "2022-12-14T14:12:20.592Z"
   },
   {
    "duration": 19,
    "start_time": "2022-12-14T14:12:20.611Z"
   },
   {
    "duration": 32,
    "start_time": "2022-12-14T14:12:20.631Z"
   },
   {
    "duration": 14,
    "start_time": "2022-12-14T14:12:20.665Z"
   },
   {
    "duration": 38,
    "start_time": "2022-12-14T14:12:20.681Z"
   },
   {
    "duration": 18,
    "start_time": "2022-12-14T14:12:20.721Z"
   },
   {
    "duration": 206,
    "start_time": "2022-12-14T14:12:20.741Z"
   },
   {
    "duration": 15,
    "start_time": "2022-12-14T14:12:20.949Z"
   },
   {
    "duration": 210,
    "start_time": "2022-12-14T14:12:20.966Z"
   },
   {
    "duration": 222,
    "start_time": "2022-12-14T14:12:21.178Z"
   },
   {
    "duration": 203,
    "start_time": "2022-12-14T14:12:21.401Z"
   },
   {
    "duration": 213,
    "start_time": "2022-12-14T14:12:21.607Z"
   },
   {
    "duration": 206,
    "start_time": "2022-12-14T14:12:21.822Z"
   },
   {
    "duration": 5,
    "start_time": "2022-12-14T14:12:22.029Z"
   },
   {
    "duration": 50,
    "start_time": "2022-12-14T14:12:22.035Z"
   },
   {
    "duration": 27,
    "start_time": "2022-12-14T14:12:22.087Z"
   },
   {
    "duration": 28,
    "start_time": "2022-12-14T14:12:22.116Z"
   },
   {
    "duration": 40,
    "start_time": "2022-12-14T14:12:22.146Z"
   },
   {
    "duration": 45,
    "start_time": "2022-12-14T14:12:22.188Z"
   },
   {
    "duration": 216,
    "start_time": "2022-12-14T14:12:22.234Z"
   },
   {
    "duration": 215,
    "start_time": "2022-12-14T14:12:22.452Z"
   },
   {
    "duration": 220,
    "start_time": "2022-12-14T14:12:22.669Z"
   },
   {
    "duration": 4,
    "start_time": "2022-12-14T14:12:22.891Z"
   },
   {
    "duration": 315,
    "start_time": "2022-12-14T14:12:22.896Z"
   },
   {
    "duration": 202,
    "start_time": "2022-12-14T14:12:23.212Z"
   },
   {
    "duration": 33,
    "start_time": "2022-12-14T14:12:23.416Z"
   },
   {
    "duration": 128,
    "start_time": "2022-12-14T14:12:23.450Z"
   },
   {
    "duration": 121,
    "start_time": "2022-12-14T14:12:23.580Z"
   },
   {
    "duration": 119,
    "start_time": "2022-12-14T14:12:23.703Z"
   },
   {
    "duration": 123,
    "start_time": "2022-12-14T14:12:23.824Z"
   },
   {
    "duration": 120,
    "start_time": "2022-12-14T14:12:23.948Z"
   },
   {
    "duration": 241,
    "start_time": "2022-12-14T14:12:24.069Z"
   },
   {
    "duration": 150,
    "start_time": "2022-12-14T14:12:24.312Z"
   },
   {
    "duration": 7,
    "start_time": "2022-12-14T14:12:24.464Z"
   },
   {
    "duration": 158,
    "start_time": "2022-12-14T14:12:24.473Z"
   },
   {
    "duration": 7,
    "start_time": "2022-12-14T14:12:24.632Z"
   },
   {
    "duration": 798,
    "start_time": "2022-12-14T14:12:24.641Z"
   },
   {
    "duration": 752,
    "start_time": "2022-12-14T14:12:25.440Z"
   },
   {
    "duration": 21,
    "start_time": "2022-12-14T14:12:26.194Z"
   },
   {
    "duration": 207,
    "start_time": "2022-12-14T14:12:26.218Z"
   },
   {
    "duration": 232,
    "start_time": "2022-12-14T14:12:26.427Z"
   },
   {
    "duration": 25,
    "start_time": "2022-12-14T14:25:49.570Z"
   },
   {
    "duration": 17,
    "start_time": "2022-12-14T14:26:20.944Z"
   },
   {
    "duration": 17,
    "start_time": "2022-12-14T14:26:49.753Z"
   },
   {
    "duration": 6,
    "start_time": "2022-12-14T15:13:09.975Z"
   },
   {
    "duration": 6,
    "start_time": "2022-12-14T15:13:22.418Z"
   },
   {
    "duration": 3,
    "start_time": "2022-12-14T15:13:34.184Z"
   },
   {
    "duration": 58,
    "start_time": "2022-12-14T15:13:34.190Z"
   },
   {
    "duration": 18,
    "start_time": "2022-12-14T15:13:34.249Z"
   },
   {
    "duration": 14,
    "start_time": "2022-12-14T15:13:34.269Z"
   },
   {
    "duration": 53,
    "start_time": "2022-12-14T15:13:34.286Z"
   },
   {
    "duration": 3,
    "start_time": "2022-12-14T15:13:34.341Z"
   },
   {
    "duration": 19,
    "start_time": "2022-12-14T15:13:34.346Z"
   },
   {
    "duration": 11,
    "start_time": "2022-12-14T15:13:34.367Z"
   },
   {
    "duration": 44,
    "start_time": "2022-12-14T15:13:34.380Z"
   },
   {
    "duration": 4,
    "start_time": "2022-12-14T15:13:34.426Z"
   },
   {
    "duration": 11,
    "start_time": "2022-12-14T15:13:34.432Z"
   },
   {
    "duration": 4,
    "start_time": "2022-12-14T15:13:34.445Z"
   },
   {
    "duration": 24,
    "start_time": "2022-12-14T15:13:34.451Z"
   },
   {
    "duration": 43,
    "start_time": "2022-12-14T15:13:34.477Z"
   },
   {
    "duration": 5,
    "start_time": "2022-12-14T15:13:34.521Z"
   },
   {
    "duration": 12,
    "start_time": "2022-12-14T15:13:34.528Z"
   },
   {
    "duration": 5,
    "start_time": "2022-12-14T15:13:34.542Z"
   },
   {
    "duration": 16,
    "start_time": "2022-12-14T15:13:34.549Z"
   },
   {
    "duration": 5,
    "start_time": "2022-12-14T15:13:34.567Z"
   },
   {
    "duration": 6,
    "start_time": "2022-12-14T15:13:34.611Z"
   },
   {
    "duration": 26,
    "start_time": "2022-12-14T15:13:34.619Z"
   },
   {
    "duration": 23,
    "start_time": "2022-12-14T15:13:34.648Z"
   },
   {
    "duration": 7,
    "start_time": "2022-12-14T15:13:34.673Z"
   },
   {
    "duration": 5,
    "start_time": "2022-12-14T15:13:34.712Z"
   },
   {
    "duration": 7,
    "start_time": "2022-12-14T15:13:34.719Z"
   },
   {
    "duration": 7,
    "start_time": "2022-12-14T15:13:34.728Z"
   },
   {
    "duration": 8,
    "start_time": "2022-12-14T15:13:34.737Z"
   },
   {
    "duration": 8,
    "start_time": "2022-12-14T15:13:34.746Z"
   },
   {
    "duration": 5,
    "start_time": "2022-12-14T15:13:34.756Z"
   },
   {
    "duration": 7,
    "start_time": "2022-12-14T15:13:34.763Z"
   },
   {
    "duration": 47,
    "start_time": "2022-12-14T15:13:34.772Z"
   },
   {
    "duration": 6,
    "start_time": "2022-12-14T15:13:34.823Z"
   },
   {
    "duration": 10,
    "start_time": "2022-12-14T15:13:34.831Z"
   },
   {
    "duration": 9,
    "start_time": "2022-12-14T15:13:34.843Z"
   },
   {
    "duration": 30,
    "start_time": "2022-12-14T15:13:34.854Z"
   },
   {
    "duration": 6,
    "start_time": "2022-12-14T15:13:34.886Z"
   },
   {
    "duration": 33,
    "start_time": "2022-12-14T15:13:34.893Z"
   },
   {
    "duration": 11,
    "start_time": "2022-12-14T15:13:34.930Z"
   },
   {
    "duration": 202,
    "start_time": "2022-12-14T15:13:34.943Z"
   },
   {
    "duration": 17,
    "start_time": "2022-12-14T15:13:35.148Z"
   },
   {
    "duration": 231,
    "start_time": "2022-12-14T15:13:35.171Z"
   },
   {
    "duration": 222,
    "start_time": "2022-12-14T15:13:35.404Z"
   },
   {
    "duration": 199,
    "start_time": "2022-12-14T15:13:35.628Z"
   },
   {
    "duration": 314,
    "start_time": "2022-12-14T15:13:35.829Z"
   },
   {
    "duration": 212,
    "start_time": "2022-12-14T15:13:36.144Z"
   },
   {
    "duration": 8,
    "start_time": "2022-12-14T15:13:36.358Z"
   },
   {
    "duration": 32,
    "start_time": "2022-12-14T15:13:36.368Z"
   },
   {
    "duration": 21,
    "start_time": "2022-12-14T15:13:36.402Z"
   },
   {
    "duration": 9,
    "start_time": "2022-12-14T15:13:36.426Z"
   },
   {
    "duration": 28,
    "start_time": "2022-12-14T15:13:36.438Z"
   },
   {
    "duration": 19,
    "start_time": "2022-12-14T15:13:36.468Z"
   },
   {
    "duration": 246,
    "start_time": "2022-12-14T15:13:36.489Z"
   },
   {
    "duration": 218,
    "start_time": "2022-12-14T15:13:36.736Z"
   },
   {
    "duration": 234,
    "start_time": "2022-12-14T15:13:36.956Z"
   },
   {
    "duration": 5,
    "start_time": "2022-12-14T15:13:37.191Z"
   },
   {
    "duration": 210,
    "start_time": "2022-12-14T15:13:37.197Z"
   },
   {
    "duration": 203,
    "start_time": "2022-12-14T15:13:37.412Z"
   },
   {
    "duration": 32,
    "start_time": "2022-12-14T15:13:37.616Z"
   },
   {
    "duration": 125,
    "start_time": "2022-12-14T15:13:37.649Z"
   },
   {
    "duration": 117,
    "start_time": "2022-12-14T15:13:37.775Z"
   },
   {
    "duration": 120,
    "start_time": "2022-12-14T15:13:37.893Z"
   },
   {
    "duration": 203,
    "start_time": "2022-12-14T15:13:38.015Z"
   },
   {
    "duration": 117,
    "start_time": "2022-12-14T15:13:38.220Z"
   },
   {
    "duration": 228,
    "start_time": "2022-12-14T15:13:38.339Z"
   },
   {
    "duration": 150,
    "start_time": "2022-12-14T15:13:38.569Z"
   },
   {
    "duration": 7,
    "start_time": "2022-12-14T15:13:38.721Z"
   },
   {
    "duration": 159,
    "start_time": "2022-12-14T15:13:38.729Z"
   },
   {
    "duration": 7,
    "start_time": "2022-12-14T15:13:38.889Z"
   },
   {
    "duration": 719,
    "start_time": "2022-12-14T15:13:38.898Z"
   },
   {
    "duration": 760,
    "start_time": "2022-12-14T15:13:39.620Z"
   },
   {
    "duration": 14,
    "start_time": "2022-12-14T15:13:40.381Z"
   },
   {
    "duration": 261,
    "start_time": "2022-12-14T15:13:40.397Z"
   },
   {
    "duration": 186,
    "start_time": "2022-12-14T15:13:40.660Z"
   },
   {
    "duration": 16,
    "start_time": "2022-12-14T15:13:40.847Z"
   },
   {
    "duration": 21,
    "start_time": "2022-12-14T15:13:40.865Z"
   },
   {
    "duration": 14,
    "start_time": "2022-12-14T15:13:40.888Z"
   },
   {
    "duration": 7,
    "start_time": "2022-12-14T15:14:42.242Z"
   },
   {
    "duration": 5,
    "start_time": "2022-12-14T15:16:26.954Z"
   },
   {
    "duration": 16,
    "start_time": "2022-12-14T15:17:47.394Z"
   },
   {
    "duration": 16,
    "start_time": "2022-12-14T15:17:54.100Z"
   },
   {
    "duration": 17,
    "start_time": "2022-12-14T15:18:15.116Z"
   },
   {
    "duration": 18,
    "start_time": "2022-12-14T15:19:06.513Z"
   },
   {
    "duration": 23,
    "start_time": "2022-12-14T15:20:00.152Z"
   },
   {
    "duration": 23,
    "start_time": "2022-12-14T15:20:08.274Z"
   },
   {
    "duration": 5,
    "start_time": "2022-12-14T15:20:10.678Z"
   },
   {
    "duration": 3,
    "start_time": "2022-12-14T15:20:17.271Z"
   },
   {
    "duration": 55,
    "start_time": "2022-12-14T15:20:17.276Z"
   },
   {
    "duration": 17,
    "start_time": "2022-12-14T15:20:17.333Z"
   },
   {
    "duration": 16,
    "start_time": "2022-12-14T15:20:17.352Z"
   },
   {
    "duration": 60,
    "start_time": "2022-12-14T15:20:17.370Z"
   },
   {
    "duration": 4,
    "start_time": "2022-12-14T15:20:17.431Z"
   },
   {
    "duration": 24,
    "start_time": "2022-12-14T15:20:17.436Z"
   },
   {
    "duration": 12,
    "start_time": "2022-12-14T15:20:17.461Z"
   },
   {
    "duration": 42,
    "start_time": "2022-12-14T15:20:17.474Z"
   },
   {
    "duration": 6,
    "start_time": "2022-12-14T15:20:17.518Z"
   },
   {
    "duration": 10,
    "start_time": "2022-12-14T15:20:17.527Z"
   },
   {
    "duration": 9,
    "start_time": "2022-12-14T15:20:17.539Z"
   },
   {
    "duration": 23,
    "start_time": "2022-12-14T15:20:17.550Z"
   },
   {
    "duration": 43,
    "start_time": "2022-12-14T15:20:17.574Z"
   },
   {
    "duration": 5,
    "start_time": "2022-12-14T15:20:17.618Z"
   },
   {
    "duration": 15,
    "start_time": "2022-12-14T15:20:17.624Z"
   },
   {
    "duration": 6,
    "start_time": "2022-12-14T15:20:17.641Z"
   },
   {
    "duration": 18,
    "start_time": "2022-12-14T15:20:17.648Z"
   },
   {
    "duration": 6,
    "start_time": "2022-12-14T15:20:17.712Z"
   },
   {
    "duration": 8,
    "start_time": "2022-12-14T15:20:17.719Z"
   },
   {
    "duration": 30,
    "start_time": "2022-12-14T15:20:17.729Z"
   },
   {
    "duration": 22,
    "start_time": "2022-12-14T15:20:17.761Z"
   },
   {
    "duration": 30,
    "start_time": "2022-12-14T15:20:17.785Z"
   },
   {
    "duration": 15,
    "start_time": "2022-12-14T15:20:17.816Z"
   },
   {
    "duration": 17,
    "start_time": "2022-12-14T15:20:17.832Z"
   },
   {
    "duration": 24,
    "start_time": "2022-12-14T15:20:17.851Z"
   },
   {
    "duration": 15,
    "start_time": "2022-12-14T15:20:17.876Z"
   },
   {
    "duration": 22,
    "start_time": "2022-12-14T15:20:17.892Z"
   },
   {
    "duration": 18,
    "start_time": "2022-12-14T15:20:17.919Z"
   },
   {
    "duration": 15,
    "start_time": "2022-12-14T15:20:17.939Z"
   },
   {
    "duration": 41,
    "start_time": "2022-12-14T15:20:17.956Z"
   },
   {
    "duration": 12,
    "start_time": "2022-12-14T15:20:17.999Z"
   },
   {
    "duration": 17,
    "start_time": "2022-12-14T15:20:18.013Z"
   },
   {
    "duration": 28,
    "start_time": "2022-12-14T15:20:18.032Z"
   },
   {
    "duration": 26,
    "start_time": "2022-12-14T15:20:18.061Z"
   },
   {
    "duration": 11,
    "start_time": "2022-12-14T15:20:18.089Z"
   },
   {
    "duration": 21,
    "start_time": "2022-12-14T15:20:18.102Z"
   },
   {
    "duration": 19,
    "start_time": "2022-12-14T15:20:18.126Z"
   },
   {
    "duration": 182,
    "start_time": "2022-12-14T15:20:18.147Z"
   },
   {
    "duration": 16,
    "start_time": "2022-12-14T15:20:18.331Z"
   },
   {
    "duration": 201,
    "start_time": "2022-12-14T15:20:18.349Z"
   },
   {
    "duration": 213,
    "start_time": "2022-12-14T15:20:18.552Z"
   },
   {
    "duration": 185,
    "start_time": "2022-12-14T15:20:18.767Z"
   },
   {
    "duration": 229,
    "start_time": "2022-12-14T15:20:18.954Z"
   },
   {
    "duration": 219,
    "start_time": "2022-12-14T15:20:19.184Z"
   },
   {
    "duration": 10,
    "start_time": "2022-12-14T15:20:19.405Z"
   },
   {
    "duration": 24,
    "start_time": "2022-12-14T15:20:19.416Z"
   },
   {
    "duration": 15,
    "start_time": "2022-12-14T15:20:19.442Z"
   },
   {
    "duration": 4,
    "start_time": "2022-12-14T15:20:19.458Z"
   },
   {
    "duration": 13,
    "start_time": "2022-12-14T15:20:19.463Z"
   },
   {
    "duration": 21,
    "start_time": "2022-12-14T15:20:19.478Z"
   },
   {
    "duration": 174,
    "start_time": "2022-12-14T15:20:19.511Z"
   },
   {
    "duration": 197,
    "start_time": "2022-12-14T15:20:19.687Z"
   },
   {
    "duration": 217,
    "start_time": "2022-12-14T15:20:19.886Z"
   },
   {
    "duration": 9,
    "start_time": "2022-12-14T15:20:20.105Z"
   },
   {
    "duration": 293,
    "start_time": "2022-12-14T15:20:20.115Z"
   },
   {
    "duration": 200,
    "start_time": "2022-12-14T15:20:20.412Z"
   },
   {
    "duration": 33,
    "start_time": "2022-12-14T15:20:20.613Z"
   },
   {
    "duration": 117,
    "start_time": "2022-12-14T15:20:20.647Z"
   },
   {
    "duration": 117,
    "start_time": "2022-12-14T15:20:20.765Z"
   },
   {
    "duration": 116,
    "start_time": "2022-12-14T15:20:20.883Z"
   },
   {
    "duration": 114,
    "start_time": "2022-12-14T15:20:21.001Z"
   },
   {
    "duration": 124,
    "start_time": "2022-12-14T15:20:21.117Z"
   },
   {
    "duration": 217,
    "start_time": "2022-12-14T15:20:21.243Z"
   },
   {
    "duration": 141,
    "start_time": "2022-12-14T15:20:21.462Z"
   },
   {
    "duration": 9,
    "start_time": "2022-12-14T15:20:21.605Z"
   },
   {
    "duration": 138,
    "start_time": "2022-12-14T15:20:21.616Z"
   },
   {
    "duration": 7,
    "start_time": "2022-12-14T15:20:21.755Z"
   },
   {
    "duration": 729,
    "start_time": "2022-12-14T15:20:21.764Z"
   },
   {
    "duration": 720,
    "start_time": "2022-12-14T15:20:22.494Z"
   },
   {
    "duration": 16,
    "start_time": "2022-12-14T15:20:23.216Z"
   },
   {
    "duration": 180,
    "start_time": "2022-12-14T15:20:23.234Z"
   },
   {
    "duration": 191,
    "start_time": "2022-12-14T15:20:23.416Z"
   },
   {
    "duration": 20,
    "start_time": "2022-12-14T15:20:23.609Z"
   },
   {
    "duration": 16,
    "start_time": "2022-12-14T15:20:23.631Z"
   },
   {
    "duration": 17,
    "start_time": "2022-12-14T15:20:23.649Z"
   },
   {
    "duration": 9,
    "start_time": "2022-12-14T15:20:23.668Z"
   },
   {
    "duration": 17,
    "start_time": "2022-12-14T15:25:58.462Z"
   },
   {
    "duration": 17,
    "start_time": "2022-12-14T15:26:22.520Z"
   },
   {
    "duration": 6,
    "start_time": "2022-12-14T15:26:25.694Z"
   },
   {
    "duration": 18,
    "start_time": "2022-12-14T15:32:42.125Z"
   },
   {
    "duration": 2,
    "start_time": "2022-12-14T15:35:54.551Z"
   },
   {
    "duration": 23,
    "start_time": "2022-12-14T15:35:56.588Z"
   },
   {
    "duration": 17,
    "start_time": "2022-12-14T15:35:59.356Z"
   },
   {
    "duration": 6,
    "start_time": "2022-12-14T15:36:01.417Z"
   },
   {
    "duration": 3,
    "start_time": "2022-12-14T15:36:05.278Z"
   },
   {
    "duration": 57,
    "start_time": "2022-12-14T15:36:05.283Z"
   },
   {
    "duration": 16,
    "start_time": "2022-12-14T15:36:05.342Z"
   },
   {
    "duration": 28,
    "start_time": "2022-12-14T15:36:05.360Z"
   },
   {
    "duration": 37,
    "start_time": "2022-12-14T15:36:05.390Z"
   },
   {
    "duration": 3,
    "start_time": "2022-12-14T15:36:05.428Z"
   },
   {
    "duration": 19,
    "start_time": "2022-12-14T15:36:05.433Z"
   },
   {
    "duration": 21,
    "start_time": "2022-12-14T15:36:05.454Z"
   },
   {
    "duration": 36,
    "start_time": "2022-12-14T15:36:05.477Z"
   },
   {
    "duration": 5,
    "start_time": "2022-12-14T15:36:05.515Z"
   },
   {
    "duration": 9,
    "start_time": "2022-12-14T15:36:05.521Z"
   },
   {
    "duration": 6,
    "start_time": "2022-12-14T15:36:05.532Z"
   },
   {
    "duration": 40,
    "start_time": "2022-12-14T15:36:05.540Z"
   },
   {
    "duration": 6,
    "start_time": "2022-12-14T15:36:05.581Z"
   },
   {
    "duration": 26,
    "start_time": "2022-12-14T15:36:05.589Z"
   },
   {
    "duration": 24,
    "start_time": "2022-12-14T15:36:05.617Z"
   },
   {
    "duration": 20,
    "start_time": "2022-12-14T15:36:05.643Z"
   },
   {
    "duration": 22,
    "start_time": "2022-12-14T15:36:05.665Z"
   },
   {
    "duration": 11,
    "start_time": "2022-12-14T15:36:05.689Z"
   },
   {
    "duration": 8,
    "start_time": "2022-12-14T15:36:05.702Z"
   },
   {
    "duration": 22,
    "start_time": "2022-12-14T15:36:05.711Z"
   },
   {
    "duration": 25,
    "start_time": "2022-12-14T15:36:05.735Z"
   },
   {
    "duration": 11,
    "start_time": "2022-12-14T15:36:05.761Z"
   },
   {
    "duration": 11,
    "start_time": "2022-12-14T15:36:05.775Z"
   },
   {
    "duration": 10,
    "start_time": "2022-12-14T15:36:05.787Z"
   },
   {
    "duration": 20,
    "start_time": "2022-12-14T15:36:05.798Z"
   },
   {
    "duration": 17,
    "start_time": "2022-12-14T15:36:05.819Z"
   },
   {
    "duration": 6,
    "start_time": "2022-12-14T15:36:05.838Z"
   },
   {
    "duration": 9,
    "start_time": "2022-12-14T15:36:05.846Z"
   },
   {
    "duration": 3,
    "start_time": "2022-12-14T15:36:05.857Z"
   },
   {
    "duration": 21,
    "start_time": "2022-12-14T15:36:05.862Z"
   },
   {
    "duration": 5,
    "start_time": "2022-12-14T15:36:05.885Z"
   },
   {
    "duration": 4,
    "start_time": "2022-12-14T15:36:05.913Z"
   },
   {
    "duration": 6,
    "start_time": "2022-12-14T15:36:05.919Z"
   },
   {
    "duration": 15,
    "start_time": "2022-12-14T15:36:05.926Z"
   },
   {
    "duration": 5,
    "start_time": "2022-12-14T15:36:05.943Z"
   },
   {
    "duration": 18,
    "start_time": "2022-12-14T15:36:05.950Z"
   },
   {
    "duration": 13,
    "start_time": "2022-12-14T15:36:05.970Z"
   },
   {
    "duration": 204,
    "start_time": "2022-12-14T15:36:06.013Z"
   },
   {
    "duration": 16,
    "start_time": "2022-12-14T15:36:06.220Z"
   },
   {
    "duration": 217,
    "start_time": "2022-12-14T15:36:06.238Z"
   },
   {
    "duration": 281,
    "start_time": "2022-12-14T15:36:06.457Z"
   },
   {
    "duration": 220,
    "start_time": "2022-12-14T15:36:06.740Z"
   },
   {
    "duration": 315,
    "start_time": "2022-12-14T15:36:06.962Z"
   },
   {
    "duration": 203,
    "start_time": "2022-12-14T15:36:07.280Z"
   },
   {
    "duration": 5,
    "start_time": "2022-12-14T15:36:07.485Z"
   },
   {
    "duration": 27,
    "start_time": "2022-12-14T15:36:07.491Z"
   },
   {
    "duration": 17,
    "start_time": "2022-12-14T15:36:07.519Z"
   },
   {
    "duration": 5,
    "start_time": "2022-12-14T15:36:07.537Z"
   },
   {
    "duration": 13,
    "start_time": "2022-12-14T15:36:07.544Z"
   },
   {
    "duration": 14,
    "start_time": "2022-12-14T15:36:07.558Z"
   },
   {
    "duration": 200,
    "start_time": "2022-12-14T15:36:07.573Z"
   },
   {
    "duration": 196,
    "start_time": "2022-12-14T15:36:07.774Z"
   },
   {
    "duration": 219,
    "start_time": "2022-12-14T15:36:07.971Z"
   },
   {
    "duration": 5,
    "start_time": "2022-12-14T15:36:08.192Z"
   },
   {
    "duration": 218,
    "start_time": "2022-12-14T15:36:08.198Z"
   },
   {
    "duration": 211,
    "start_time": "2022-12-14T15:36:08.418Z"
   },
   {
    "duration": 36,
    "start_time": "2022-12-14T15:36:08.631Z"
   },
   {
    "duration": 131,
    "start_time": "2022-12-14T15:36:08.669Z"
   },
   {
    "duration": 117,
    "start_time": "2022-12-14T15:36:08.802Z"
   },
   {
    "duration": 123,
    "start_time": "2022-12-14T15:36:08.921Z"
   },
   {
    "duration": 215,
    "start_time": "2022-12-14T15:36:09.045Z"
   },
   {
    "duration": 134,
    "start_time": "2022-12-14T15:36:09.262Z"
   },
   {
    "duration": 255,
    "start_time": "2022-12-14T15:36:09.397Z"
   },
   {
    "duration": 160,
    "start_time": "2022-12-14T15:36:09.654Z"
   },
   {
    "duration": 8,
    "start_time": "2022-12-14T15:36:09.816Z"
   },
   {
    "duration": 162,
    "start_time": "2022-12-14T15:36:09.826Z"
   },
   {
    "duration": 8,
    "start_time": "2022-12-14T15:36:09.989Z"
   },
   {
    "duration": 719,
    "start_time": "2022-12-14T15:36:10.012Z"
   },
   {
    "duration": 724,
    "start_time": "2022-12-14T15:36:10.733Z"
   },
   {
    "duration": 14,
    "start_time": "2022-12-14T15:36:11.458Z"
   },
   {
    "duration": 272,
    "start_time": "2022-12-14T15:36:11.474Z"
   },
   {
    "duration": 185,
    "start_time": "2022-12-14T15:36:11.748Z"
   },
   {
    "duration": 2,
    "start_time": "2022-12-14T15:36:11.934Z"
   },
   {
    "duration": 21,
    "start_time": "2022-12-14T15:36:11.938Z"
   },
   {
    "duration": 32,
    "start_time": "2022-12-14T15:36:11.961Z"
   },
   {
    "duration": 6,
    "start_time": "2022-12-14T15:36:11.995Z"
   },
   {
    "duration": 47,
    "start_time": "2022-12-14T17:41:39.254Z"
   },
   {
    "duration": 1383,
    "start_time": "2022-12-14T17:41:46.120Z"
   },
   {
    "duration": 197,
    "start_time": "2022-12-14T17:41:47.505Z"
   },
   {
    "duration": 19,
    "start_time": "2022-12-14T17:41:47.704Z"
   },
   {
    "duration": 41,
    "start_time": "2022-12-14T17:41:47.725Z"
   },
   {
    "duration": 364,
    "start_time": "2022-12-14T17:41:47.768Z"
   },
   {
    "duration": 19,
    "start_time": "2022-12-14T17:41:48.134Z"
   },
   {
    "duration": 34,
    "start_time": "2022-12-14T17:41:48.155Z"
   },
   {
    "duration": 59,
    "start_time": "2022-12-14T17:41:48.191Z"
   },
   {
    "duration": 48,
    "start_time": "2022-12-14T17:41:48.252Z"
   },
   {
    "duration": 23,
    "start_time": "2022-12-14T17:41:48.303Z"
   },
   {
    "duration": 65,
    "start_time": "2022-12-14T17:41:48.328Z"
   },
   {
    "duration": 29,
    "start_time": "2022-12-14T17:41:48.395Z"
   },
   {
    "duration": 80,
    "start_time": "2022-12-14T17:41:48.425Z"
   },
   {
    "duration": 19,
    "start_time": "2022-12-14T17:41:48.507Z"
   },
   {
    "duration": 48,
    "start_time": "2022-12-14T17:41:48.528Z"
   },
   {
    "duration": 27,
    "start_time": "2022-12-14T17:41:48.578Z"
   },
   {
    "duration": 52,
    "start_time": "2022-12-14T17:41:48.607Z"
   },
   {
    "duration": 40,
    "start_time": "2022-12-14T17:41:48.661Z"
   },
   {
    "duration": 43,
    "start_time": "2022-12-14T17:41:48.703Z"
   },
   {
    "duration": 61,
    "start_time": "2022-12-14T17:41:48.748Z"
   },
   {
    "duration": 27,
    "start_time": "2022-12-14T17:41:48.811Z"
   },
   {
    "duration": 22,
    "start_time": "2022-12-14T17:41:48.840Z"
   },
   {
    "duration": 10,
    "start_time": "2022-12-14T17:41:48.864Z"
   },
   {
    "duration": 18,
    "start_time": "2022-12-14T17:41:48.876Z"
   },
   {
    "duration": 9,
    "start_time": "2022-12-14T17:41:48.895Z"
   },
   {
    "duration": 6,
    "start_time": "2022-12-14T17:41:48.906Z"
   },
   {
    "duration": 12,
    "start_time": "2022-12-14T17:41:48.914Z"
   },
   {
    "duration": 29,
    "start_time": "2022-12-14T17:41:48.931Z"
   },
   {
    "duration": 15,
    "start_time": "2022-12-14T17:41:48.962Z"
   },
   {
    "duration": 11,
    "start_time": "2022-12-14T17:41:48.979Z"
   },
   {
    "duration": 14,
    "start_time": "2022-12-14T17:41:48.992Z"
   },
   {
    "duration": 8,
    "start_time": "2022-12-14T17:41:49.008Z"
   },
   {
    "duration": 6,
    "start_time": "2022-12-14T17:41:49.018Z"
   },
   {
    "duration": 20,
    "start_time": "2022-12-14T17:41:49.026Z"
   },
   {
    "duration": 25,
    "start_time": "2022-12-14T17:41:49.048Z"
   },
   {
    "duration": 6,
    "start_time": "2022-12-14T17:41:49.076Z"
   },
   {
    "duration": 28,
    "start_time": "2022-12-14T17:41:49.083Z"
   },
   {
    "duration": 15,
    "start_time": "2022-12-14T17:41:49.113Z"
   },
   {
    "duration": 248,
    "start_time": "2022-12-14T17:41:49.129Z"
   },
   {
    "duration": 19,
    "start_time": "2022-12-14T17:41:49.378Z"
   },
   {
    "duration": 194,
    "start_time": "2022-12-14T17:41:49.398Z"
   },
   {
    "duration": 207,
    "start_time": "2022-12-14T17:41:49.594Z"
   },
   {
    "duration": 196,
    "start_time": "2022-12-14T17:41:49.803Z"
   },
   {
    "duration": 300,
    "start_time": "2022-12-14T17:41:50.001Z"
   },
   {
    "duration": 187,
    "start_time": "2022-12-14T17:41:50.303Z"
   },
   {
    "duration": 4,
    "start_time": "2022-12-14T17:41:50.492Z"
   },
   {
    "duration": 24,
    "start_time": "2022-12-14T17:41:50.497Z"
   },
   {
    "duration": 29,
    "start_time": "2022-12-14T17:41:50.526Z"
   },
   {
    "duration": 4,
    "start_time": "2022-12-14T17:41:50.557Z"
   },
   {
    "duration": 15,
    "start_time": "2022-12-14T17:41:50.563Z"
   },
   {
    "duration": 12,
    "start_time": "2022-12-14T17:41:50.579Z"
   },
   {
    "duration": 197,
    "start_time": "2022-12-14T17:41:50.593Z"
   },
   {
    "duration": 208,
    "start_time": "2022-12-14T17:41:50.792Z"
   },
   {
    "duration": 216,
    "start_time": "2022-12-14T17:41:51.002Z"
   },
   {
    "duration": 7,
    "start_time": "2022-12-14T17:41:51.220Z"
   },
   {
    "duration": 300,
    "start_time": "2022-12-14T17:41:51.229Z"
   },
   {
    "duration": 229,
    "start_time": "2022-12-14T17:41:51.532Z"
   },
   {
    "duration": 30,
    "start_time": "2022-12-14T17:41:51.763Z"
   },
   {
    "duration": 127,
    "start_time": "2022-12-14T17:41:51.795Z"
   },
   {
    "duration": 119,
    "start_time": "2022-12-14T17:41:51.925Z"
   },
   {
    "duration": 118,
    "start_time": "2022-12-14T17:41:52.046Z"
   },
   {
    "duration": 123,
    "start_time": "2022-12-14T17:41:52.166Z"
   },
   {
    "duration": 121,
    "start_time": "2022-12-14T17:41:52.291Z"
   },
   {
    "duration": 230,
    "start_time": "2022-12-14T17:41:52.414Z"
   },
   {
    "duration": 153,
    "start_time": "2022-12-14T17:41:52.646Z"
   },
   {
    "duration": 8,
    "start_time": "2022-12-14T17:41:52.801Z"
   },
   {
    "duration": 152,
    "start_time": "2022-12-14T17:41:52.810Z"
   },
   {
    "duration": 7,
    "start_time": "2022-12-14T17:41:52.963Z"
   },
   {
    "duration": 781,
    "start_time": "2022-12-14T17:41:52.972Z"
   },
   {
    "duration": 708,
    "start_time": "2022-12-14T17:41:53.754Z"
   },
   {
    "duration": 14,
    "start_time": "2022-12-14T17:41:54.463Z"
   },
   {
    "duration": 176,
    "start_time": "2022-12-14T17:41:54.479Z"
   },
   {
    "duration": 165,
    "start_time": "2022-12-14T17:41:54.656Z"
   },
   {
    "duration": 21,
    "start_time": "2022-12-14T17:41:54.823Z"
   },
   {
    "duration": 28,
    "start_time": "2022-12-14T17:41:54.846Z"
   },
   {
    "duration": 71,
    "start_time": "2022-12-14T17:41:54.875Z"
   },
   {
    "duration": 21,
    "start_time": "2022-12-14T17:42:05.553Z"
   },
   {
    "duration": 6,
    "start_time": "2022-12-14T17:42:14.976Z"
   },
   {
    "duration": 5,
    "start_time": "2022-12-14T17:42:50.866Z"
   },
   {
    "duration": 5,
    "start_time": "2022-12-14T17:44:48.754Z"
   },
   {
    "duration": 15,
    "start_time": "2022-12-14T17:45:30.231Z"
   },
   {
    "duration": 15,
    "start_time": "2022-12-14T17:45:37.773Z"
   },
   {
    "duration": 6,
    "start_time": "2022-12-14T17:45:46.383Z"
   },
   {
    "duration": 5,
    "start_time": "2022-12-14T17:46:47.645Z"
   },
   {
    "duration": 6,
    "start_time": "2022-12-14T17:47:13.940Z"
   },
   {
    "duration": 6,
    "start_time": "2022-12-14T17:48:24.953Z"
   },
   {
    "duration": 5,
    "start_time": "2022-12-14T17:48:27.291Z"
   },
   {
    "duration": 6,
    "start_time": "2022-12-14T17:52:01.573Z"
   },
   {
    "duration": 6,
    "start_time": "2022-12-14T17:53:28.781Z"
   },
   {
    "duration": 18,
    "start_time": "2022-12-14T18:21:59.043Z"
   },
   {
    "duration": 18,
    "start_time": "2022-12-14T18:37:09.963Z"
   },
   {
    "duration": 20,
    "start_time": "2022-12-14T18:37:49.002Z"
   },
   {
    "duration": 74,
    "start_time": "2022-12-14T18:39:31.201Z"
   },
   {
    "duration": 19,
    "start_time": "2022-12-14T18:39:36.418Z"
   },
   {
    "duration": 16,
    "start_time": "2022-12-14T18:39:49.786Z"
   },
   {
    "duration": 620,
    "start_time": "2022-12-14T18:40:42.968Z"
   },
   {
    "duration": 682,
    "start_time": "2022-12-14T18:43:23.901Z"
   },
   {
    "duration": 157,
    "start_time": "2022-12-14T18:43:55.114Z"
   },
   {
    "duration": 20,
    "start_time": "2022-12-14T18:44:06.468Z"
   },
   {
    "duration": 2,
    "start_time": "2022-12-14T18:46:28.938Z"
   },
   {
    "duration": 19,
    "start_time": "2022-12-14T18:46:52.424Z"
   },
   {
    "duration": 16,
    "start_time": "2022-12-14T18:47:09.438Z"
   },
   {
    "duration": 7,
    "start_time": "2022-12-14T19:37:40.211Z"
   },
   {
    "duration": 18,
    "start_time": "2022-12-14T19:37:50.408Z"
   },
   {
    "duration": 72,
    "start_time": "2022-12-14T19:39:57.814Z"
   },
   {
    "duration": 18,
    "start_time": "2022-12-14T19:40:08.054Z"
   },
   {
    "duration": 352,
    "start_time": "2022-12-14T19:43:57.405Z"
   },
   {
    "duration": 338,
    "start_time": "2022-12-14T20:17:26.267Z"
   },
   {
    "duration": 21,
    "start_time": "2022-12-14T20:20:11.642Z"
   },
   {
    "duration": 16,
    "start_time": "2022-12-14T20:21:58.501Z"
   },
   {
    "duration": 16,
    "start_time": "2022-12-14T20:23:49.668Z"
   },
   {
    "duration": 16,
    "start_time": "2022-12-14T20:29:01.062Z"
   },
   {
    "duration": 21,
    "start_time": "2022-12-14T20:29:14.991Z"
   },
   {
    "duration": 16,
    "start_time": "2022-12-14T20:30:22.159Z"
   },
   {
    "duration": 15,
    "start_time": "2022-12-14T20:30:49.617Z"
   },
   {
    "duration": 16,
    "start_time": "2022-12-14T20:31:10.291Z"
   },
   {
    "duration": 1105,
    "start_time": "2022-12-14T20:31:18.753Z"
   },
   {
    "duration": 22,
    "start_time": "2022-12-14T20:43:40.934Z"
   },
   {
    "duration": 118,
    "start_time": "2022-12-14T20:45:25.757Z"
   },
   {
    "duration": 17,
    "start_time": "2022-12-14T20:45:53.455Z"
   },
   {
    "duration": 18,
    "start_time": "2022-12-14T20:46:04.093Z"
   },
   {
    "duration": 20,
    "start_time": "2022-12-14T20:49:53.850Z"
   },
   {
    "duration": 20,
    "start_time": "2022-12-14T20:50:44.329Z"
   },
   {
    "duration": 74,
    "start_time": "2022-12-14T20:52:08.802Z"
   },
   {
    "duration": 3,
    "start_time": "2022-12-14T20:54:12.569Z"
   },
   {
    "duration": 63,
    "start_time": "2022-12-14T20:54:12.574Z"
   },
   {
    "duration": 16,
    "start_time": "2022-12-14T20:54:12.639Z"
   },
   {
    "duration": 15,
    "start_time": "2022-12-14T20:54:12.656Z"
   },
   {
    "duration": 27,
    "start_time": "2022-12-14T20:54:12.673Z"
   },
   {
    "duration": 3,
    "start_time": "2022-12-14T20:54:12.702Z"
   },
   {
    "duration": 23,
    "start_time": "2022-12-14T20:54:12.727Z"
   },
   {
    "duration": 11,
    "start_time": "2022-12-14T20:54:12.752Z"
   },
   {
    "duration": 15,
    "start_time": "2022-12-14T20:54:12.765Z"
   },
   {
    "duration": 4,
    "start_time": "2022-12-14T20:54:12.782Z"
   },
   {
    "duration": 38,
    "start_time": "2022-12-14T20:54:12.789Z"
   },
   {
    "duration": 4,
    "start_time": "2022-12-14T20:54:12.836Z"
   },
   {
    "duration": 23,
    "start_time": "2022-12-14T20:54:12.845Z"
   },
   {
    "duration": 5,
    "start_time": "2022-12-14T20:54:12.870Z"
   },
   {
    "duration": 6,
    "start_time": "2022-12-14T20:54:12.877Z"
   },
   {
    "duration": 10,
    "start_time": "2022-12-14T20:54:12.884Z"
   },
   {
    "duration": 36,
    "start_time": "2022-12-14T20:54:12.896Z"
   },
   {
    "duration": 17,
    "start_time": "2022-12-14T20:54:12.937Z"
   },
   {
    "duration": 6,
    "start_time": "2022-12-14T20:54:12.956Z"
   },
   {
    "duration": 10,
    "start_time": "2022-12-14T20:54:12.963Z"
   },
   {
    "duration": 29,
    "start_time": "2022-12-14T20:54:12.975Z"
   },
   {
    "duration": 55,
    "start_time": "2022-12-14T20:54:13.006Z"
   },
   {
    "duration": 12,
    "start_time": "2022-12-14T20:54:13.063Z"
   },
   {
    "duration": 7,
    "start_time": "2022-12-14T20:54:13.077Z"
   },
   {
    "duration": 6,
    "start_time": "2022-12-14T20:54:13.086Z"
   },
   {
    "duration": 9,
    "start_time": "2022-12-14T20:54:13.093Z"
   },
   {
    "duration": 8,
    "start_time": "2022-12-14T20:54:13.103Z"
   },
   {
    "duration": 6,
    "start_time": "2022-12-14T20:54:13.113Z"
   },
   {
    "duration": 14,
    "start_time": "2022-12-14T20:54:13.125Z"
   },
   {
    "duration": 4,
    "start_time": "2022-12-14T20:54:13.141Z"
   },
   {
    "duration": 14,
    "start_time": "2022-12-14T20:54:13.147Z"
   },
   {
    "duration": 4,
    "start_time": "2022-12-14T20:54:13.163Z"
   },
   {
    "duration": 7,
    "start_time": "2022-12-14T20:54:13.169Z"
   },
   {
    "duration": 5,
    "start_time": "2022-12-14T20:54:13.178Z"
   },
   {
    "duration": 17,
    "start_time": "2022-12-14T20:54:13.185Z"
   },
   {
    "duration": 39,
    "start_time": "2022-12-14T20:54:13.204Z"
   },
   {
    "duration": 16,
    "start_time": "2022-12-14T20:54:13.245Z"
   },
   {
    "duration": 6,
    "start_time": "2022-12-14T20:54:13.263Z"
   },
   {
    "duration": 154,
    "start_time": "2022-12-14T20:54:13.271Z"
   },
   {
    "duration": 18,
    "start_time": "2022-12-14T20:54:13.427Z"
   },
   {
    "duration": 194,
    "start_time": "2022-12-14T20:54:13.446Z"
   },
   {
    "duration": 202,
    "start_time": "2022-12-14T20:54:13.642Z"
   },
   {
    "duration": 197,
    "start_time": "2022-12-14T20:54:13.846Z"
   },
   {
    "duration": 196,
    "start_time": "2022-12-14T20:54:14.045Z"
   },
   {
    "duration": 197,
    "start_time": "2022-12-14T20:54:14.243Z"
   },
   {
    "duration": 9,
    "start_time": "2022-12-14T20:54:14.442Z"
   },
   {
    "duration": 16,
    "start_time": "2022-12-14T20:54:14.453Z"
   },
   {
    "duration": 18,
    "start_time": "2022-12-14T20:54:14.471Z"
   },
   {
    "duration": 5,
    "start_time": "2022-12-14T20:54:14.491Z"
   },
   {
    "duration": 13,
    "start_time": "2022-12-14T20:54:14.497Z"
   },
   {
    "duration": 16,
    "start_time": "2022-12-14T20:54:14.511Z"
   },
   {
    "duration": 190,
    "start_time": "2022-12-14T20:54:14.528Z"
   },
   {
    "duration": 220,
    "start_time": "2022-12-14T20:54:14.719Z"
   },
   {
    "duration": 217,
    "start_time": "2022-12-14T20:54:14.941Z"
   },
   {
    "duration": 5,
    "start_time": "2022-12-14T20:54:15.161Z"
   },
   {
    "duration": 246,
    "start_time": "2022-12-14T20:54:15.168Z"
   },
   {
    "duration": 195,
    "start_time": "2022-12-14T20:54:15.415Z"
   },
   {
    "duration": 41,
    "start_time": "2022-12-14T20:54:15.612Z"
   },
   {
    "duration": 291,
    "start_time": "2022-12-14T20:54:15.655Z"
   },
   {
    "duration": 132,
    "start_time": "2022-12-14T20:54:15.948Z"
   },
   {
    "duration": 118,
    "start_time": "2022-12-14T20:54:16.082Z"
   },
   {
    "duration": 115,
    "start_time": "2022-12-14T20:54:16.202Z"
   },
   {
    "duration": 115,
    "start_time": "2022-12-14T20:54:16.326Z"
   },
   {
    "duration": 220,
    "start_time": "2022-12-14T20:54:16.442Z"
   },
   {
    "duration": 194,
    "start_time": "2022-12-14T20:54:16.664Z"
   },
   {
    "duration": 7,
    "start_time": "2022-12-14T20:54:16.860Z"
   },
   {
    "duration": 148,
    "start_time": "2022-12-14T20:54:16.868Z"
   },
   {
    "duration": 22,
    "start_time": "2022-12-14T20:54:17.018Z"
   },
   {
    "duration": 817,
    "start_time": "2022-12-14T20:54:17.042Z"
   },
   {
    "duration": 851,
    "start_time": "2022-12-14T20:54:17.860Z"
   },
   {
    "duration": 30,
    "start_time": "2022-12-14T20:54:18.712Z"
   },
   {
    "duration": 172,
    "start_time": "2022-12-14T20:54:18.744Z"
   },
   {
    "duration": 189,
    "start_time": "2022-12-14T20:54:18.917Z"
   },
   {
    "duration": 3,
    "start_time": "2022-12-14T20:54:19.108Z"
   },
   {
    "duration": 52,
    "start_time": "2022-12-14T20:54:19.112Z"
   },
   {
    "duration": 19,
    "start_time": "2022-12-14T20:54:19.166Z"
   },
   {
    "duration": 20,
    "start_time": "2022-12-14T20:54:19.187Z"
   },
   {
    "duration": 22,
    "start_time": "2022-12-14T20:54:19.209Z"
   },
   {
    "duration": 360,
    "start_time": "2022-12-14T20:54:19.238Z"
   },
   {
    "duration": 31,
    "start_time": "2022-12-14T20:54:19.600Z"
   },
   {
    "duration": 17,
    "start_time": "2022-12-14T20:54:19.633Z"
   },
   {
    "duration": 38,
    "start_time": "2022-12-14T20:54:19.651Z"
   },
   {
    "duration": 16,
    "start_time": "2022-12-14T20:54:19.694Z"
   },
   {
    "duration": 31,
    "start_time": "2022-12-14T20:54:19.711Z"
   },
   {
    "duration": 17,
    "start_time": "2022-12-14T20:54:19.744Z"
   },
   {
    "duration": 19,
    "start_time": "2022-12-14T20:54:19.763Z"
   },
   {
    "duration": 41,
    "start_time": "2022-12-14T20:54:19.784Z"
   },
   {
    "duration": 11,
    "start_time": "2022-12-14T20:54:19.831Z"
   },
   {
    "duration": 25,
    "start_time": "2022-12-14T20:54:19.844Z"
   },
   {
    "duration": 10,
    "start_time": "2022-12-14T20:54:19.871Z"
   },
   {
    "duration": 3,
    "start_time": "2022-12-14T21:28:30.953Z"
   },
   {
    "duration": 86,
    "start_time": "2022-12-14T21:28:30.959Z"
   },
   {
    "duration": 30,
    "start_time": "2022-12-14T21:28:31.048Z"
   },
   {
    "duration": 101,
    "start_time": "2022-12-14T21:28:31.080Z"
   },
   {
    "duration": 60,
    "start_time": "2022-12-14T21:28:31.183Z"
   },
   {
    "duration": 16,
    "start_time": "2022-12-14T21:28:31.245Z"
   },
   {
    "duration": 75,
    "start_time": "2022-12-14T21:28:31.263Z"
   },
   {
    "duration": 56,
    "start_time": "2022-12-14T21:28:31.339Z"
   },
   {
    "duration": 43,
    "start_time": "2022-12-14T21:28:31.397Z"
   },
   {
    "duration": 40,
    "start_time": "2022-12-14T21:28:31.442Z"
   },
   {
    "duration": 15,
    "start_time": "2022-12-14T21:28:31.485Z"
   },
   {
    "duration": 45,
    "start_time": "2022-12-14T21:28:31.502Z"
   },
   {
    "duration": 58,
    "start_time": "2022-12-14T21:28:31.549Z"
   },
   {
    "duration": 26,
    "start_time": "2022-12-14T21:28:31.611Z"
   },
   {
    "duration": 21,
    "start_time": "2022-12-14T21:28:31.639Z"
   },
   {
    "duration": 28,
    "start_time": "2022-12-14T21:28:31.662Z"
   },
   {
    "duration": 37,
    "start_time": "2022-12-14T21:28:31.693Z"
   },
   {
    "duration": 35,
    "start_time": "2022-12-14T21:28:31.731Z"
   },
   {
    "duration": 12,
    "start_time": "2022-12-14T21:28:31.767Z"
   },
   {
    "duration": 29,
    "start_time": "2022-12-14T21:28:31.782Z"
   },
   {
    "duration": 28,
    "start_time": "2022-12-14T21:28:31.813Z"
   },
   {
    "duration": 46,
    "start_time": "2022-12-14T21:28:31.843Z"
   },
   {
    "duration": 13,
    "start_time": "2022-12-14T21:28:31.892Z"
   },
   {
    "duration": 9,
    "start_time": "2022-12-14T21:28:31.907Z"
   },
   {
    "duration": 15,
    "start_time": "2022-12-14T21:28:31.918Z"
   },
   {
    "duration": 9,
    "start_time": "2022-12-14T21:28:31.936Z"
   },
   {
    "duration": 7,
    "start_time": "2022-12-14T21:28:31.947Z"
   },
   {
    "duration": 10,
    "start_time": "2022-12-14T21:28:31.956Z"
   },
   {
    "duration": 6,
    "start_time": "2022-12-14T21:28:31.971Z"
   },
   {
    "duration": 8,
    "start_time": "2022-12-14T21:28:31.979Z"
   },
   {
    "duration": 39,
    "start_time": "2022-12-14T21:28:31.989Z"
   },
   {
    "duration": 4,
    "start_time": "2022-12-14T21:28:32.030Z"
   },
   {
    "duration": 28,
    "start_time": "2022-12-14T21:28:32.036Z"
   },
   {
    "duration": 31,
    "start_time": "2022-12-14T21:28:32.066Z"
   },
   {
    "duration": 25,
    "start_time": "2022-12-14T21:28:32.098Z"
   },
   {
    "duration": 7,
    "start_time": "2022-12-14T21:28:32.125Z"
   },
   {
    "duration": 27,
    "start_time": "2022-12-14T21:28:32.134Z"
   },
   {
    "duration": 12,
    "start_time": "2022-12-14T21:28:32.163Z"
   },
   {
    "duration": 193,
    "start_time": "2022-12-14T21:28:32.177Z"
   },
   {
    "duration": 17,
    "start_time": "2022-12-14T21:28:32.373Z"
   },
   {
    "duration": 215,
    "start_time": "2022-12-14T21:28:32.392Z"
   },
   {
    "duration": 209,
    "start_time": "2022-12-14T21:28:32.609Z"
   },
   {
    "duration": 201,
    "start_time": "2022-12-14T21:28:32.819Z"
   },
   {
    "duration": 330,
    "start_time": "2022-12-14T21:28:33.026Z"
   },
   {
    "duration": 200,
    "start_time": "2022-12-14T21:28:33.357Z"
   },
   {
    "duration": 5,
    "start_time": "2022-12-14T21:28:33.559Z"
   },
   {
    "duration": 26,
    "start_time": "2022-12-14T21:28:33.565Z"
   },
   {
    "duration": 20,
    "start_time": "2022-12-14T21:28:33.593Z"
   },
   {
    "duration": 3,
    "start_time": "2022-12-14T21:28:33.614Z"
   },
   {
    "duration": 20,
    "start_time": "2022-12-14T21:28:33.619Z"
   },
   {
    "duration": 15,
    "start_time": "2022-12-14T21:28:33.640Z"
   },
   {
    "duration": 237,
    "start_time": "2022-12-14T21:28:33.657Z"
   },
   {
    "duration": 212,
    "start_time": "2022-12-14T21:28:33.896Z"
   },
   {
    "duration": 223,
    "start_time": "2022-12-14T21:28:34.110Z"
   },
   {
    "duration": 4,
    "start_time": "2022-12-14T21:28:34.335Z"
   },
   {
    "duration": 214,
    "start_time": "2022-12-14T21:28:34.340Z"
   },
   {
    "duration": 195,
    "start_time": "2022-12-14T21:28:34.555Z"
   },
   {
    "duration": 38,
    "start_time": "2022-12-14T21:28:34.751Z"
   },
   {
    "duration": 126,
    "start_time": "2022-12-14T21:28:34.790Z"
   },
   {
    "duration": 126,
    "start_time": "2022-12-14T21:28:34.917Z"
   },
   {
    "duration": 115,
    "start_time": "2022-12-14T21:28:35.045Z"
   },
   {
    "duration": 250,
    "start_time": "2022-12-14T21:28:35.162Z"
   },
   {
    "duration": 156,
    "start_time": "2022-12-14T21:28:35.414Z"
   },
   {
    "duration": 257,
    "start_time": "2022-12-14T21:28:35.572Z"
   },
   {
    "duration": 145,
    "start_time": "2022-12-14T21:28:35.830Z"
   },
   {
    "duration": 8,
    "start_time": "2022-12-14T21:28:35.977Z"
   },
   {
    "duration": 160,
    "start_time": "2022-12-14T21:28:35.987Z"
   },
   {
    "duration": 8,
    "start_time": "2022-12-14T21:28:36.149Z"
   },
   {
    "duration": 678,
    "start_time": "2022-12-14T21:28:36.158Z"
   },
   {
    "duration": 708,
    "start_time": "2022-12-14T21:28:36.838Z"
   },
   {
    "duration": 15,
    "start_time": "2022-12-14T21:28:37.548Z"
   },
   {
    "duration": 175,
    "start_time": "2022-12-14T21:28:37.564Z"
   },
   {
    "duration": 328,
    "start_time": "2022-12-14T21:28:37.741Z"
   },
   {
    "duration": 17,
    "start_time": "2022-12-14T21:28:38.071Z"
   },
   {
    "duration": 20,
    "start_time": "2022-12-14T21:28:38.090Z"
   },
   {
    "duration": 28,
    "start_time": "2022-12-14T21:28:38.126Z"
   },
   {
    "duration": 18,
    "start_time": "2022-12-14T21:28:38.157Z"
   },
   {
    "duration": 374,
    "start_time": "2022-12-14T21:28:38.176Z"
   },
   {
    "duration": 19,
    "start_time": "2022-12-14T21:28:38.552Z"
   },
   {
    "duration": 17,
    "start_time": "2022-12-14T21:28:38.573Z"
   },
   {
    "duration": 48,
    "start_time": "2022-12-14T21:28:38.592Z"
   },
   {
    "duration": 17,
    "start_time": "2022-12-14T21:28:38.642Z"
   },
   {
    "duration": 18,
    "start_time": "2022-12-14T21:28:38.664Z"
   },
   {
    "duration": 18,
    "start_time": "2022-12-14T21:28:38.684Z"
   },
   {
    "duration": 37,
    "start_time": "2022-12-14T21:28:38.704Z"
   },
   {
    "duration": 23,
    "start_time": "2022-12-14T21:28:38.742Z"
   },
   {
    "duration": 6,
    "start_time": "2022-12-14T21:28:38.767Z"
   },
   {
    "duration": 9,
    "start_time": "2022-12-14T21:28:38.774Z"
   },
   {
    "duration": 7,
    "start_time": "2022-12-14T21:28:38.785Z"
   },
   {
    "duration": 48,
    "start_time": "2022-12-15T09:49:39.109Z"
   },
   {
    "duration": 69,
    "start_time": "2022-12-15T10:43:18.548Z"
   },
   {
    "duration": 44,
    "start_time": "2022-12-15T10:43:30.361Z"
   },
   {
    "duration": 69,
    "start_time": "2022-12-15T10:43:51.051Z"
   },
   {
    "duration": 3087,
    "start_time": "2022-12-15T10:44:49.963Z"
   },
   {
    "duration": 1391,
    "start_time": "2022-12-15T10:45:13.287Z"
   },
   {
    "duration": 101,
    "start_time": "2022-12-15T10:46:02.638Z"
   },
   {
    "duration": 3,
    "start_time": "2022-12-15T10:46:08.334Z"
   },
   {
    "duration": 211,
    "start_time": "2022-12-15T10:46:08.339Z"
   },
   {
    "duration": 26,
    "start_time": "2022-12-15T10:46:08.552Z"
   },
   {
    "duration": 17,
    "start_time": "2022-12-15T10:46:08.580Z"
   },
   {
    "duration": 57,
    "start_time": "2022-12-15T10:46:08.599Z"
   },
   {
    "duration": 4,
    "start_time": "2022-12-15T10:46:08.658Z"
   },
   {
    "duration": 26,
    "start_time": "2022-12-15T10:46:08.664Z"
   },
   {
    "duration": 44,
    "start_time": "2022-12-15T10:46:08.693Z"
   },
   {
    "duration": 2303,
    "start_time": "2022-12-15T10:46:08.740Z"
   },
   {
    "duration": 2,
    "start_time": "2022-12-15T10:46:11.046Z"
   },
   {
    "duration": 955,
    "start_time": "2022-12-15T10:46:11.050Z"
   },
   {
    "duration": 17,
    "start_time": "2022-12-15T10:46:12.007Z"
   },
   {
    "duration": 14,
    "start_time": "2022-12-15T10:46:12.026Z"
   },
   {
    "duration": 9,
    "start_time": "2022-12-15T10:46:12.042Z"
   },
   {
    "duration": 6,
    "start_time": "2022-12-15T10:46:12.053Z"
   },
   {
    "duration": 23,
    "start_time": "2022-12-15T10:46:12.061Z"
   },
   {
    "duration": 7,
    "start_time": "2022-12-15T10:46:12.086Z"
   },
   {
    "duration": 8,
    "start_time": "2022-12-15T10:46:12.095Z"
   },
   {
    "duration": 11,
    "start_time": "2022-12-15T10:46:12.138Z"
   },
   {
    "duration": 6,
    "start_time": "2022-12-15T10:46:12.151Z"
   },
   {
    "duration": 20,
    "start_time": "2022-12-15T10:46:12.158Z"
   },
   {
    "duration": 7,
    "start_time": "2022-12-15T10:46:12.180Z"
   },
   {
    "duration": 8,
    "start_time": "2022-12-15T10:46:12.189Z"
   },
   {
    "duration": 23,
    "start_time": "2022-12-15T10:46:12.238Z"
   },
   {
    "duration": 27,
    "start_time": "2022-12-15T10:46:12.263Z"
   },
   {
    "duration": 14,
    "start_time": "2022-12-15T10:46:12.291Z"
   },
   {
    "duration": 27,
    "start_time": "2022-12-15T10:46:12.307Z"
   },
   {
    "duration": 9,
    "start_time": "2022-12-15T10:46:12.337Z"
   },
   {
    "duration": 8,
    "start_time": "2022-12-15T10:46:12.348Z"
   },
   {
    "duration": 15,
    "start_time": "2022-12-15T10:46:12.357Z"
   },
   {
    "duration": 5,
    "start_time": "2022-12-15T10:46:12.374Z"
   },
   {
    "duration": 8,
    "start_time": "2022-12-15T10:46:12.381Z"
   },
   {
    "duration": 7,
    "start_time": "2022-12-15T10:46:12.391Z"
   },
   {
    "duration": 43,
    "start_time": "2022-12-15T10:46:12.399Z"
   },
   {
    "duration": 4,
    "start_time": "2022-12-15T10:46:12.444Z"
   },
   {
    "duration": 8,
    "start_time": "2022-12-15T10:46:12.450Z"
   },
   {
    "duration": 7,
    "start_time": "2022-12-15T10:46:12.460Z"
   },
   {
    "duration": 18,
    "start_time": "2022-12-15T10:46:12.469Z"
   },
   {
    "duration": 5,
    "start_time": "2022-12-15T10:46:12.489Z"
   },
   {
    "duration": 49,
    "start_time": "2022-12-15T10:46:12.496Z"
   },
   {
    "duration": 9,
    "start_time": "2022-12-15T10:46:12.548Z"
   },
   {
    "duration": 325,
    "start_time": "2022-12-15T10:46:12.559Z"
   },
   {
    "duration": 18,
    "start_time": "2022-12-15T10:46:12.887Z"
   },
   {
    "duration": 220,
    "start_time": "2022-12-15T10:46:12.907Z"
   },
   {
    "duration": 252,
    "start_time": "2022-12-15T10:46:13.128Z"
   },
   {
    "duration": 257,
    "start_time": "2022-12-15T10:46:13.382Z"
   },
   {
    "duration": 227,
    "start_time": "2022-12-15T10:46:13.641Z"
   },
   {
    "duration": 226,
    "start_time": "2022-12-15T10:46:13.870Z"
   },
   {
    "duration": 5,
    "start_time": "2022-12-15T10:46:14.097Z"
   },
   {
    "duration": 35,
    "start_time": "2022-12-15T10:46:14.104Z"
   },
   {
    "duration": 24,
    "start_time": "2022-12-15T10:46:14.142Z"
   },
   {
    "duration": 8,
    "start_time": "2022-12-15T10:46:14.168Z"
   },
   {
    "duration": 22,
    "start_time": "2022-12-15T10:46:14.179Z"
   },
   {
    "duration": 38,
    "start_time": "2022-12-15T10:46:14.203Z"
   },
   {
    "duration": 301,
    "start_time": "2022-12-15T10:46:14.244Z"
   },
   {
    "duration": 213,
    "start_time": "2022-12-15T10:46:14.546Z"
   },
   {
    "duration": 212,
    "start_time": "2022-12-15T10:46:14.761Z"
   },
   {
    "duration": 4,
    "start_time": "2022-12-15T10:46:14.975Z"
   },
   {
    "duration": 209,
    "start_time": "2022-12-15T10:46:14.981Z"
   },
   {
    "duration": 205,
    "start_time": "2022-12-15T10:46:15.192Z"
   },
   {
    "duration": 41,
    "start_time": "2022-12-15T10:46:15.399Z"
   },
   {
    "duration": 124,
    "start_time": "2022-12-15T10:46:15.442Z"
   },
   {
    "duration": 123,
    "start_time": "2022-12-15T10:46:15.567Z"
   },
   {
    "duration": 142,
    "start_time": "2022-12-15T10:46:15.691Z"
   },
   {
    "duration": 128,
    "start_time": "2022-12-15T10:46:15.836Z"
   },
   {
    "duration": 119,
    "start_time": "2022-12-15T10:46:15.966Z"
   },
   {
    "duration": 320,
    "start_time": "2022-12-15T10:46:16.087Z"
   },
   {
    "duration": 148,
    "start_time": "2022-12-15T10:46:16.408Z"
   },
   {
    "duration": 8,
    "start_time": "2022-12-15T10:46:16.560Z"
   },
   {
    "duration": 158,
    "start_time": "2022-12-15T10:46:16.570Z"
   },
   {
    "duration": 13,
    "start_time": "2022-12-15T10:46:16.730Z"
   },
   {
    "duration": 683,
    "start_time": "2022-12-15T10:46:16.745Z"
   },
   {
    "duration": 778,
    "start_time": "2022-12-15T10:46:17.430Z"
   },
   {
    "duration": 14,
    "start_time": "2022-12-15T10:46:18.211Z"
   },
   {
    "duration": 176,
    "start_time": "2022-12-15T10:46:18.238Z"
   },
   {
    "duration": 202,
    "start_time": "2022-12-15T10:46:18.416Z"
   },
   {
    "duration": 26,
    "start_time": "2022-12-15T10:46:18.620Z"
   },
   {
    "duration": 18,
    "start_time": "2022-12-15T10:46:18.648Z"
   },
   {
    "duration": 24,
    "start_time": "2022-12-15T10:46:18.668Z"
   },
   {
    "duration": 45,
    "start_time": "2022-12-15T10:46:18.694Z"
   },
   {
    "duration": 662,
    "start_time": "2022-12-15T10:46:18.741Z"
   },
   {
    "duration": 34,
    "start_time": "2022-12-15T10:46:19.405Z"
   },
   {
    "duration": 26,
    "start_time": "2022-12-15T10:46:19.441Z"
   },
   {
    "duration": 17,
    "start_time": "2022-12-15T10:46:19.469Z"
   },
   {
    "duration": 19,
    "start_time": "2022-12-15T10:46:19.488Z"
   },
   {
    "duration": 23,
    "start_time": "2022-12-15T10:46:19.539Z"
   },
   {
    "duration": 18,
    "start_time": "2022-12-15T10:46:19.563Z"
   },
   {
    "duration": 17,
    "start_time": "2022-12-15T10:46:19.583Z"
   },
   {
    "duration": 48,
    "start_time": "2022-12-15T10:46:19.602Z"
   },
   {
    "duration": 8,
    "start_time": "2022-12-15T10:46:19.652Z"
   },
   {
    "duration": 7,
    "start_time": "2022-12-15T10:46:19.662Z"
   },
   {
    "duration": 8,
    "start_time": "2022-12-15T10:46:19.671Z"
   },
   {
    "duration": 74,
    "start_time": "2022-12-15T10:58:47.609Z"
   },
   {
    "duration": 4,
    "start_time": "2022-12-15T11:01:33.309Z"
   },
   {
    "duration": 6,
    "start_time": "2022-12-15T11:02:08.735Z"
   },
   {
    "duration": 13,
    "start_time": "2022-12-15T11:02:12.010Z"
   },
   {
    "duration": 8,
    "start_time": "2022-12-15T11:04:04.192Z"
   },
   {
    "duration": 21,
    "start_time": "2022-12-15T11:04:08.384Z"
   },
   {
    "duration": 703,
    "start_time": "2022-12-15T11:07:08.978Z"
   },
   {
    "duration": 717,
    "start_time": "2022-12-15T11:07:43.545Z"
   },
   {
    "duration": 653,
    "start_time": "2022-12-15T11:09:45.411Z"
   },
   {
    "duration": 14,
    "start_time": "2022-12-15T11:47:18.665Z"
   },
   {
    "duration": 194,
    "start_time": "2022-12-15T11:48:10.048Z"
   },
   {
    "duration": 230,
    "start_time": "2022-12-15T11:48:41.523Z"
   },
   {
    "duration": 260,
    "start_time": "2022-12-15T11:48:58.073Z"
   },
   {
    "duration": 20,
    "start_time": "2022-12-15T12:25:58.524Z"
   },
   {
    "duration": 180,
    "start_time": "2022-12-15T12:33:00.379Z"
   },
   {
    "duration": 3,
    "start_time": "2022-12-15T12:40:47.500Z"
   },
   {
    "duration": 55,
    "start_time": "2022-12-15T12:40:47.510Z"
   },
   {
    "duration": 16,
    "start_time": "2022-12-15T12:40:47.567Z"
   },
   {
    "duration": 39,
    "start_time": "2022-12-15T12:40:47.585Z"
   },
   {
    "duration": 34,
    "start_time": "2022-12-15T12:40:47.626Z"
   },
   {
    "duration": 3,
    "start_time": "2022-12-15T12:40:47.662Z"
   },
   {
    "duration": 23,
    "start_time": "2022-12-15T12:40:47.667Z"
   },
   {
    "duration": 13,
    "start_time": "2022-12-15T12:40:47.691Z"
   },
   {
    "duration": 2393,
    "start_time": "2022-12-15T12:40:47.706Z"
   },
   {
    "duration": 3,
    "start_time": "2022-12-15T12:40:50.102Z"
   },
   {
    "duration": 987,
    "start_time": "2022-12-15T12:40:50.106Z"
   },
   {
    "duration": 16,
    "start_time": "2022-12-15T12:40:51.094Z"
   },
   {
    "duration": 9,
    "start_time": "2022-12-15T12:40:51.112Z"
   },
   {
    "duration": 21,
    "start_time": "2022-12-15T12:40:51.122Z"
   },
   {
    "duration": 27,
    "start_time": "2022-12-15T12:40:51.146Z"
   },
   {
    "duration": 34,
    "start_time": "2022-12-15T12:40:51.175Z"
   },
   {
    "duration": 6,
    "start_time": "2022-12-15T12:40:51.211Z"
   },
   {
    "duration": 11,
    "start_time": "2022-12-15T12:40:51.219Z"
   },
   {
    "duration": 18,
    "start_time": "2022-12-15T12:40:51.231Z"
   },
   {
    "duration": 12,
    "start_time": "2022-12-15T12:40:51.251Z"
   },
   {
    "duration": 29,
    "start_time": "2022-12-15T12:40:51.265Z"
   },
   {
    "duration": 5,
    "start_time": "2022-12-15T12:40:51.296Z"
   },
   {
    "duration": 12,
    "start_time": "2022-12-15T12:40:51.303Z"
   },
   {
    "duration": 29,
    "start_time": "2022-12-15T12:40:51.317Z"
   },
   {
    "duration": 30,
    "start_time": "2022-12-15T12:40:51.347Z"
   },
   {
    "duration": 10,
    "start_time": "2022-12-15T12:40:51.379Z"
   },
   {
    "duration": 10,
    "start_time": "2022-12-15T12:40:51.391Z"
   },
   {
    "duration": 14,
    "start_time": "2022-12-15T12:40:51.403Z"
   },
   {
    "duration": 32,
    "start_time": "2022-12-15T12:40:51.419Z"
   },
   {
    "duration": 14,
    "start_time": "2022-12-15T12:40:51.453Z"
   },
   {
    "duration": 11,
    "start_time": "2022-12-15T12:40:51.468Z"
   },
   {
    "duration": 9,
    "start_time": "2022-12-15T12:40:51.481Z"
   },
   {
    "duration": 8,
    "start_time": "2022-12-15T12:40:51.492Z"
   },
   {
    "duration": 17,
    "start_time": "2022-12-15T12:40:51.501Z"
   },
   {
    "duration": 8,
    "start_time": "2022-12-15T12:40:51.520Z"
   },
   {
    "duration": 6,
    "start_time": "2022-12-15T12:40:51.529Z"
   },
   {
    "duration": 10,
    "start_time": "2022-12-15T12:40:51.536Z"
   },
   {
    "duration": 16,
    "start_time": "2022-12-15T12:40:51.547Z"
   },
   {
    "duration": 5,
    "start_time": "2022-12-15T12:40:51.565Z"
   },
   {
    "duration": 16,
    "start_time": "2022-12-15T12:40:51.572Z"
   },
   {
    "duration": 13,
    "start_time": "2022-12-15T12:40:51.590Z"
   },
   {
    "duration": 179,
    "start_time": "2022-12-15T12:40:51.608Z"
   },
   {
    "duration": 17,
    "start_time": "2022-12-15T12:40:51.789Z"
   },
   {
    "duration": 214,
    "start_time": "2022-12-15T12:40:51.808Z"
   },
   {
    "duration": 227,
    "start_time": "2022-12-15T12:40:52.024Z"
   },
   {
    "duration": 193,
    "start_time": "2022-12-15T12:40:52.252Z"
   },
   {
    "duration": 215,
    "start_time": "2022-12-15T12:40:52.447Z"
   },
   {
    "duration": 208,
    "start_time": "2022-12-15T12:40:52.664Z"
   },
   {
    "duration": 719,
    "start_time": "2022-12-15T12:40:52.874Z"
   },
   {
    "duration": 5,
    "start_time": "2022-12-15T12:40:53.595Z"
   },
   {
    "duration": 35,
    "start_time": "2022-12-15T12:40:53.602Z"
   },
   {
    "duration": 19,
    "start_time": "2022-12-15T12:40:53.639Z"
   },
   {
    "duration": 8,
    "start_time": "2022-12-15T12:40:53.661Z"
   },
   {
    "duration": 24,
    "start_time": "2022-12-15T12:40:53.671Z"
   },
   {
    "duration": 28,
    "start_time": "2022-12-15T12:40:53.697Z"
   },
   {
    "duration": 203,
    "start_time": "2022-12-15T12:40:53.727Z"
   },
   {
    "duration": 209,
    "start_time": "2022-12-15T12:40:53.931Z"
   },
   {
    "duration": 231,
    "start_time": "2022-12-15T12:40:54.142Z"
   },
   {
    "duration": 4,
    "start_time": "2022-12-15T12:40:54.375Z"
   },
   {
    "duration": 215,
    "start_time": "2022-12-15T12:40:54.382Z"
   },
   {
    "duration": 195,
    "start_time": "2022-12-15T12:40:54.599Z"
   },
   {
    "duration": 45,
    "start_time": "2022-12-15T12:40:54.796Z"
   },
   {
    "duration": 115,
    "start_time": "2022-12-15T12:40:54.843Z"
   },
   {
    "duration": 117,
    "start_time": "2022-12-15T12:40:54.959Z"
   },
   {
    "duration": 124,
    "start_time": "2022-12-15T12:40:55.078Z"
   },
   {
    "duration": 113,
    "start_time": "2022-12-15T12:40:55.204Z"
   },
   {
    "duration": 235,
    "start_time": "2022-12-15T12:40:55.319Z"
   },
   {
    "duration": 223,
    "start_time": "2022-12-15T12:40:55.556Z"
   },
   {
    "duration": 159,
    "start_time": "2022-12-15T12:40:55.782Z"
   },
   {
    "duration": 8,
    "start_time": "2022-12-15T12:40:55.942Z"
   },
   {
    "duration": 153,
    "start_time": "2022-12-15T12:40:55.952Z"
   },
   {
    "duration": 7,
    "start_time": "2022-12-15T12:40:56.107Z"
   },
   {
    "duration": 866,
    "start_time": "2022-12-15T12:40:56.115Z"
   },
   {
    "duration": 1509,
    "start_time": "2022-12-15T12:40:57.037Z"
   },
   {
    "duration": 15,
    "start_time": "2022-12-15T12:40:58.548Z"
   },
   {
    "duration": 26,
    "start_time": "2022-12-15T12:40:58.564Z"
   },
   {
    "duration": 15,
    "start_time": "2022-12-15T12:40:58.638Z"
   },
   {
    "duration": 212,
    "start_time": "2022-12-15T12:40:58.654Z"
   },
   {
    "duration": 326,
    "start_time": "2022-12-15T12:40:58.869Z"
   },
   {
    "duration": 18,
    "start_time": "2022-12-15T12:40:59.197Z"
   },
   {
    "duration": 33,
    "start_time": "2022-12-15T12:40:59.217Z"
   },
   {
    "duration": 16,
    "start_time": "2022-12-15T12:40:59.251Z"
   },
   {
    "duration": 17,
    "start_time": "2022-12-15T12:40:59.269Z"
   },
   {
    "duration": 385,
    "start_time": "2022-12-15T12:40:59.287Z"
   },
   {
    "duration": 16,
    "start_time": "2022-12-15T12:40:59.674Z"
   },
   {
    "duration": 16,
    "start_time": "2022-12-15T12:40:59.692Z"
   },
   {
    "duration": 34,
    "start_time": "2022-12-15T12:40:59.710Z"
   },
   {
    "duration": 19,
    "start_time": "2022-12-15T12:40:59.746Z"
   },
   {
    "duration": 18,
    "start_time": "2022-12-15T12:40:59.766Z"
   },
   {
    "duration": 18,
    "start_time": "2022-12-15T12:40:59.786Z"
   },
   {
    "duration": 49,
    "start_time": "2022-12-15T12:40:59.805Z"
   },
   {
    "duration": 23,
    "start_time": "2022-12-15T12:40:59.855Z"
   },
   {
    "duration": 15,
    "start_time": "2022-12-15T12:40:59.880Z"
   },
   {
    "duration": 22,
    "start_time": "2022-12-15T12:40:59.897Z"
   },
   {
    "duration": 11,
    "start_time": "2022-12-15T12:40:59.921Z"
   }
  ],
  "kernelspec": {
   "display_name": "Python 3 (ipykernel)",
   "language": "python",
   "name": "python3"
  },
  "language_info": {
   "codemirror_mode": {
    "name": "ipython",
    "version": 3
   },
   "file_extension": ".py",
   "mimetype": "text/x-python",
   "name": "python",
   "nbconvert_exporter": "python",
   "pygments_lexer": "ipython3",
   "version": "3.9.13"
  },
  "toc": {
   "base_numbering": 1,
   "nav_menu": {},
   "number_sections": true,
   "sideBar": true,
   "skip_h1_title": true,
   "title_cell": "Table of Contents",
   "title_sidebar": "Contents",
   "toc_cell": false,
   "toc_position": {
    "height": "calc(100% - 180px)",
    "left": "10px",
    "top": "150px",
    "width": "205.521px"
   },
   "toc_section_display": true,
   "toc_window_display": true
  }
 },
 "nbformat": 4,
 "nbformat_minor": 2
}
