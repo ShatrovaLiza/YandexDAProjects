{
 "cells": [
  {
   "cell_type": "markdown",
   "metadata": {},
   "source": [
    "# Анализ поведения пользователей мобильного приложения"
   ]
  },
  {
   "cell_type": "markdown",
   "metadata": {},
   "source": [
    "# Описание проекта\n",
    "Дизайнеры мобильного приложения в стартапе, который продает продукты питания, захотели поменять шрифты во всём приложении. Для нивелирования рисков того, что пользователям не понравится такое изменение, договорились принять решение по результатам A/A/B-теста. Пользователей разбили на 3 группы: 2 контрольные со старыми шрифтами и одну экспериментальную — с новыми. \n",
    "\n",
    "Цель - разобраться, как ведут себя пользователи мобильного приложения.  \n",
    "\n",
    "Задачи:\n",
    "1. изучить воронку продаж:  \n",
    "  * узнать, как пользователи доходят до покупки; \n",
    "  * сколько пользователей доходит до покупки, а сколько — «застревает» на предыдущих шагах и на каких именно;\n",
    "2. иссследовать результаты A/A/B-эксперимента: выяснить, какой шрифт лучше.\n"
   ]
  },
  {
   "cell_type": "markdown",
   "metadata": {},
   "source": [
    "# Описание данных  \n",
    "Каждая запись в логе — это действие пользователя, или событие.\n",
    "* EventName — название события;\n",
    "* DeviceIDHash — уникальный идентификатор пользователя;\n",
    "* EventTimestamp — время события;\n",
    "* ExpId — номер эксперимента: 246 и 247 — контрольные группы, а 248 — экспериментальная."
   ]
  },
  {
   "cell_type": "markdown",
   "metadata": {},
   "source": [
    "## Загрузка файла с данными и изучение общей информации\n",
    "Путь к файлу: /datasets/logs_exp.csv. Скачать датасет"
   ]
  },
  {
   "cell_type": "code",
   "execution_count": 1,
   "metadata": {},
   "outputs": [],
   "source": [
    "# импортируем все необходимые библиотеки\n",
    "import pandas as pd\n",
    "import numpy as np\n",
    "import datetime as dt\n",
    "import math as mth\n",
    "import seaborn as sns\n",
    "import matplotlib.pyplot as plt\n",
    "from scipy import stats as st\n",
    "import plotly.express as px\n",
    "from plotly import graph_objects as go"
   ]
  },
  {
   "cell_type": "code",
   "execution_count": 2,
   "metadata": {},
   "outputs": [],
   "source": [
    "# прочитаем файл и загрузим данные в переменную\n",
    "logs = pd.read_csv('/datasets/logs_exp.csv', sep = '\\t')"
   ]
  },
  {
   "cell_type": "code",
   "execution_count": 3,
   "metadata": {},
   "outputs": [
    {
     "data": {
      "text/html": [
       "<div>\n",
       "<style scoped>\n",
       "    .dataframe tbody tr th:only-of-type {\n",
       "        vertical-align: middle;\n",
       "    }\n",
       "\n",
       "    .dataframe tbody tr th {\n",
       "        vertical-align: top;\n",
       "    }\n",
       "\n",
       "    .dataframe thead th {\n",
       "        text-align: right;\n",
       "    }\n",
       "</style>\n",
       "<table border=\"1\" class=\"dataframe\">\n",
       "  <thead>\n",
       "    <tr style=\"text-align: right;\">\n",
       "      <th></th>\n",
       "      <th>EventName</th>\n",
       "      <th>DeviceIDHash</th>\n",
       "      <th>EventTimestamp</th>\n",
       "      <th>ExpId</th>\n",
       "    </tr>\n",
       "  </thead>\n",
       "  <tbody>\n",
       "    <tr>\n",
       "      <th>0</th>\n",
       "      <td>MainScreenAppear</td>\n",
       "      <td>4575588528974610257</td>\n",
       "      <td>1564029816</td>\n",
       "      <td>246</td>\n",
       "    </tr>\n",
       "    <tr>\n",
       "      <th>1</th>\n",
       "      <td>MainScreenAppear</td>\n",
       "      <td>7416695313311560658</td>\n",
       "      <td>1564053102</td>\n",
       "      <td>246</td>\n",
       "    </tr>\n",
       "    <tr>\n",
       "      <th>2</th>\n",
       "      <td>PaymentScreenSuccessful</td>\n",
       "      <td>3518123091307005509</td>\n",
       "      <td>1564054127</td>\n",
       "      <td>248</td>\n",
       "    </tr>\n",
       "    <tr>\n",
       "      <th>3</th>\n",
       "      <td>CartScreenAppear</td>\n",
       "      <td>3518123091307005509</td>\n",
       "      <td>1564054127</td>\n",
       "      <td>248</td>\n",
       "    </tr>\n",
       "    <tr>\n",
       "      <th>4</th>\n",
       "      <td>PaymentScreenSuccessful</td>\n",
       "      <td>6217807653094995999</td>\n",
       "      <td>1564055322</td>\n",
       "      <td>248</td>\n",
       "    </tr>\n",
       "  </tbody>\n",
       "</table>\n",
       "</div>"
      ],
      "text/plain": [
       "                 EventName         DeviceIDHash  EventTimestamp  ExpId\n",
       "0         MainScreenAppear  4575588528974610257      1564029816    246\n",
       "1         MainScreenAppear  7416695313311560658      1564053102    246\n",
       "2  PaymentScreenSuccessful  3518123091307005509      1564054127    248\n",
       "3         CartScreenAppear  3518123091307005509      1564054127    248\n",
       "4  PaymentScreenSuccessful  6217807653094995999      1564055322    248"
      ]
     },
     "execution_count": 3,
     "metadata": {},
     "output_type": "execute_result"
    }
   ],
   "source": [
    "# посмотрим на первые 5 строк датафрейма\n",
    "logs.head()"
   ]
  },
  {
   "cell_type": "code",
   "execution_count": 4,
   "metadata": {
    "scrolled": false
   },
   "outputs": [
    {
     "name": "stdout",
     "output_type": "stream",
     "text": [
      "<class 'pandas.core.frame.DataFrame'>\n",
      "RangeIndex: 244126 entries, 0 to 244125\n",
      "Data columns (total 4 columns):\n",
      " #   Column          Non-Null Count   Dtype \n",
      "---  ------          --------------   ----- \n",
      " 0   EventName       244126 non-null  object\n",
      " 1   DeviceIDHash    244126 non-null  int64 \n",
      " 2   EventTimestamp  244126 non-null  int64 \n",
      " 3   ExpId           244126 non-null  int64 \n",
      "dtypes: int64(3), object(1)\n",
      "memory usage: 7.5+ MB\n"
     ]
    }
   ],
   "source": [
    "#посмотрим общую информацию\n",
    "logs.info()"
   ]
  },
  {
   "cell_type": "code",
   "execution_count": 5,
   "metadata": {},
   "outputs": [
    {
     "data": {
      "text/plain": [
       "(244126, 4)"
      ]
     },
     "execution_count": 5,
     "metadata": {},
     "output_type": "execute_result"
    }
   ],
   "source": [
    "logs.shape"
   ]
  },
  {
   "cell_type": "markdown",
   "metadata": {},
   "source": [
    "В датафрейме 4 столбца, всего 244126 строк, пропуски отсутствуют  \n",
    "Нужно привести названия столбцов к удобному виду и тип данных в столбце EventTimestamp к дате, а также проверить наличие дубликатов"
   ]
  },
  {
   "cell_type": "markdown",
   "metadata": {},
   "source": [
    "## Предобработка данных"
   ]
  },
  {
   "cell_type": "markdown",
   "metadata": {},
   "source": [
    "### Переименование столбцов"
   ]
  },
  {
   "cell_type": "code",
   "execution_count": 6,
   "metadata": {},
   "outputs": [],
   "source": [
    "# переименуем столбцы\n",
    "logs.rename(\n",
    "    columns={\n",
    "        'EventName':'event_name',\n",
    "        'DeviceIDHash':'user_id',\n",
    "        'EventTimestamp':'dt',\n",
    "        'ExpId':'group'},\n",
    "    inplace=True\n",
    ")"
   ]
  },
  {
   "cell_type": "code",
   "execution_count": 7,
   "metadata": {},
   "outputs": [
    {
     "data": {
      "text/html": [
       "<div>\n",
       "<style scoped>\n",
       "    .dataframe tbody tr th:only-of-type {\n",
       "        vertical-align: middle;\n",
       "    }\n",
       "\n",
       "    .dataframe tbody tr th {\n",
       "        vertical-align: top;\n",
       "    }\n",
       "\n",
       "    .dataframe thead th {\n",
       "        text-align: right;\n",
       "    }\n",
       "</style>\n",
       "<table border=\"1\" class=\"dataframe\">\n",
       "  <thead>\n",
       "    <tr style=\"text-align: right;\">\n",
       "      <th></th>\n",
       "      <th>event_name</th>\n",
       "      <th>user_id</th>\n",
       "      <th>dt</th>\n",
       "      <th>group</th>\n",
       "    </tr>\n",
       "  </thead>\n",
       "  <tbody>\n",
       "    <tr>\n",
       "      <th>0</th>\n",
       "      <td>MainScreenAppear</td>\n",
       "      <td>4575588528974610257</td>\n",
       "      <td>1564029816</td>\n",
       "      <td>246</td>\n",
       "    </tr>\n",
       "    <tr>\n",
       "      <th>1</th>\n",
       "      <td>MainScreenAppear</td>\n",
       "      <td>7416695313311560658</td>\n",
       "      <td>1564053102</td>\n",
       "      <td>246</td>\n",
       "    </tr>\n",
       "    <tr>\n",
       "      <th>2</th>\n",
       "      <td>PaymentScreenSuccessful</td>\n",
       "      <td>3518123091307005509</td>\n",
       "      <td>1564054127</td>\n",
       "      <td>248</td>\n",
       "    </tr>\n",
       "    <tr>\n",
       "      <th>3</th>\n",
       "      <td>CartScreenAppear</td>\n",
       "      <td>3518123091307005509</td>\n",
       "      <td>1564054127</td>\n",
       "      <td>248</td>\n",
       "    </tr>\n",
       "    <tr>\n",
       "      <th>4</th>\n",
       "      <td>PaymentScreenSuccessful</td>\n",
       "      <td>6217807653094995999</td>\n",
       "      <td>1564055322</td>\n",
       "      <td>248</td>\n",
       "    </tr>\n",
       "  </tbody>\n",
       "</table>\n",
       "</div>"
      ],
      "text/plain": [
       "                event_name              user_id          dt  group\n",
       "0         MainScreenAppear  4575588528974610257  1564029816    246\n",
       "1         MainScreenAppear  7416695313311560658  1564053102    246\n",
       "2  PaymentScreenSuccessful  3518123091307005509  1564054127    248\n",
       "3         CartScreenAppear  3518123091307005509  1564054127    248\n",
       "4  PaymentScreenSuccessful  6217807653094995999  1564055322    248"
      ]
     },
     "execution_count": 7,
     "metadata": {},
     "output_type": "execute_result"
    }
   ],
   "source": [
    "# проверим корректность замены\n",
    "logs.head()"
   ]
  },
  {
   "cell_type": "markdown",
   "metadata": {},
   "source": [
    "### Проверка пропусков, дубликатов и типов данных"
   ]
  },
  {
   "cell_type": "code",
   "execution_count": 8,
   "metadata": {},
   "outputs": [
    {
     "data": {
      "text/plain": [
       "event_name    0\n",
       "user_id       0\n",
       "dt            0\n",
       "group         0\n",
       "dtype: int64"
      ]
     },
     "execution_count": 8,
     "metadata": {},
     "output_type": "execute_result"
    }
   ],
   "source": [
    "# проверим наличие пропусков\n",
    "logs.isna().sum()"
   ]
  },
  {
   "cell_type": "code",
   "execution_count": 9,
   "metadata": {},
   "outputs": [
    {
     "data": {
      "text/plain": [
       "413"
      ]
     },
     "execution_count": 9,
     "metadata": {},
     "output_type": "execute_result"
    }
   ],
   "source": [
    "# проверим наличие дубликатов\n",
    "logs.duplicated().sum()"
   ]
  },
  {
   "cell_type": "code",
   "execution_count": 10,
   "metadata": {},
   "outputs": [
    {
     "data": {
      "text/plain": [
       "0.17"
      ]
     },
     "execution_count": 10,
     "metadata": {},
     "output_type": "execute_result"
    }
   ],
   "source": [
    "# проверим, какую долю дубликаты составляют от общего числа\n",
    "round(logs.duplicated().sum() / len(logs) * 100, 2)"
   ]
  },
  {
   "cell_type": "markdown",
   "metadata": {},
   "source": [
    "В датафрейме 413 дубликатов, что составляет всего 0,17% от общего количества, поэтому спокойно можем удалить дубликаты"
   ]
  },
  {
   "cell_type": "code",
   "execution_count": 11,
   "metadata": {},
   "outputs": [],
   "source": [
    "logs = logs.drop_duplicates().reset_index(drop=True)"
   ]
  },
  {
   "cell_type": "code",
   "execution_count": 12,
   "metadata": {},
   "outputs": [
    {
     "data": {
      "text/plain": [
       "0"
      ]
     },
     "execution_count": 12,
     "metadata": {},
     "output_type": "execute_result"
    }
   ],
   "source": [
    "# проверим, что дубликаты удалены \n",
    "logs.duplicated().sum()"
   ]
  },
  {
   "cell_type": "code",
   "execution_count": 13,
   "metadata": {},
   "outputs": [],
   "source": [
    "# заменим тип данных в столбце event_time\n",
    "logs['dt'] = pd.to_datetime(logs['dt'], unit='s')"
   ]
  },
  {
   "cell_type": "code",
   "execution_count": 14,
   "metadata": {
    "scrolled": true
   },
   "outputs": [
    {
     "name": "stdout",
     "output_type": "stream",
     "text": [
      "<class 'pandas.core.frame.DataFrame'>\n",
      "RangeIndex: 243713 entries, 0 to 243712\n",
      "Data columns (total 4 columns):\n",
      " #   Column      Non-Null Count   Dtype         \n",
      "---  ------      --------------   -----         \n",
      " 0   event_name  243713 non-null  object        \n",
      " 1   user_id     243713 non-null  int64         \n",
      " 2   dt          243713 non-null  datetime64[ns]\n",
      " 3   group       243713 non-null  int64         \n",
      "dtypes: datetime64[ns](1), int64(2), object(1)\n",
      "memory usage: 7.4+ MB\n"
     ]
    }
   ],
   "source": [
    "# проверим, что тип данных изменился\n",
    "logs.info()"
   ]
  },
  {
   "cell_type": "markdown",
   "metadata": {},
   "source": [
    "### Добавление столбца с датами"
   ]
  },
  {
   "cell_type": "markdown",
   "metadata": {},
   "source": [
    "Столбец dt мы уже превратили в столбец даты и времени, добавим отдельный столбец только с датами"
   ]
  },
  {
   "cell_type": "code",
   "execution_count": 15,
   "metadata": {},
   "outputs": [],
   "source": [
    "logs['date'] = pd.to_datetime(logs['dt']).dt.date.astype('datetime64')"
   ]
  },
  {
   "cell_type": "code",
   "execution_count": 16,
   "metadata": {
    "scrolled": true
   },
   "outputs": [
    {
     "data": {
      "text/html": [
       "<div>\n",
       "<style scoped>\n",
       "    .dataframe tbody tr th:only-of-type {\n",
       "        vertical-align: middle;\n",
       "    }\n",
       "\n",
       "    .dataframe tbody tr th {\n",
       "        vertical-align: top;\n",
       "    }\n",
       "\n",
       "    .dataframe thead th {\n",
       "        text-align: right;\n",
       "    }\n",
       "</style>\n",
       "<table border=\"1\" class=\"dataframe\">\n",
       "  <thead>\n",
       "    <tr style=\"text-align: right;\">\n",
       "      <th></th>\n",
       "      <th>event_name</th>\n",
       "      <th>user_id</th>\n",
       "      <th>dt</th>\n",
       "      <th>group</th>\n",
       "      <th>date</th>\n",
       "    </tr>\n",
       "  </thead>\n",
       "  <tbody>\n",
       "    <tr>\n",
       "      <th>0</th>\n",
       "      <td>MainScreenAppear</td>\n",
       "      <td>4575588528974610257</td>\n",
       "      <td>2019-07-25 04:43:36</td>\n",
       "      <td>246</td>\n",
       "      <td>2019-07-25</td>\n",
       "    </tr>\n",
       "    <tr>\n",
       "      <th>1</th>\n",
       "      <td>MainScreenAppear</td>\n",
       "      <td>7416695313311560658</td>\n",
       "      <td>2019-07-25 11:11:42</td>\n",
       "      <td>246</td>\n",
       "      <td>2019-07-25</td>\n",
       "    </tr>\n",
       "    <tr>\n",
       "      <th>2</th>\n",
       "      <td>PaymentScreenSuccessful</td>\n",
       "      <td>3518123091307005509</td>\n",
       "      <td>2019-07-25 11:28:47</td>\n",
       "      <td>248</td>\n",
       "      <td>2019-07-25</td>\n",
       "    </tr>\n",
       "    <tr>\n",
       "      <th>3</th>\n",
       "      <td>CartScreenAppear</td>\n",
       "      <td>3518123091307005509</td>\n",
       "      <td>2019-07-25 11:28:47</td>\n",
       "      <td>248</td>\n",
       "      <td>2019-07-25</td>\n",
       "    </tr>\n",
       "    <tr>\n",
       "      <th>4</th>\n",
       "      <td>PaymentScreenSuccessful</td>\n",
       "      <td>6217807653094995999</td>\n",
       "      <td>2019-07-25 11:48:42</td>\n",
       "      <td>248</td>\n",
       "      <td>2019-07-25</td>\n",
       "    </tr>\n",
       "  </tbody>\n",
       "</table>\n",
       "</div>"
      ],
      "text/plain": [
       "                event_name              user_id                  dt  group  \\\n",
       "0         MainScreenAppear  4575588528974610257 2019-07-25 04:43:36    246   \n",
       "1         MainScreenAppear  7416695313311560658 2019-07-25 11:11:42    246   \n",
       "2  PaymentScreenSuccessful  3518123091307005509 2019-07-25 11:28:47    248   \n",
       "3         CartScreenAppear  3518123091307005509 2019-07-25 11:28:47    248   \n",
       "4  PaymentScreenSuccessful  6217807653094995999 2019-07-25 11:48:42    248   \n",
       "\n",
       "        date  \n",
       "0 2019-07-25  \n",
       "1 2019-07-25  \n",
       "2 2019-07-25  \n",
       "3 2019-07-25  \n",
       "4 2019-07-25  "
      ]
     },
     "execution_count": 16,
     "metadata": {},
     "output_type": "execute_result"
    }
   ],
   "source": [
    "# проверим, что все корректно отображается\n",
    "logs.head()"
   ]
  },
  {
   "cell_type": "markdown",
   "metadata": {},
   "source": [
    "### Вывод по шагу 2:\n",
    "\n",
    "Предобработка данных завершена:\n",
    "* пропуски в данных отсутствуют;\n",
    "* дубликаты составляют всего 0,17%, их удалили;\n",
    "* наименования столбцов приведены к удобному виду;\n",
    "* добавлен столбец с датой."
   ]
  },
  {
   "cell_type": "markdown",
   "metadata": {},
   "source": [
    "## Изучение и проверка данных"
   ]
  },
  {
   "cell_type": "markdown",
   "metadata": {},
   "source": [
    "### Сколько всего событий в логе?"
   ]
  },
  {
   "cell_type": "code",
   "execution_count": 17,
   "metadata": {},
   "outputs": [
    {
     "data": {
      "text/plain": [
       "243713"
      ]
     },
     "execution_count": 17,
     "metadata": {},
     "output_type": "execute_result"
    }
   ],
   "source": [
    "len(logs[\"event_name\"])"
   ]
  },
  {
   "cell_type": "markdown",
   "metadata": {},
   "source": [
    "Всего в логе 243 713 события"
   ]
  },
  {
   "cell_type": "markdown",
   "metadata": {},
   "source": [
    "### Сколько всего пользователей в логе?"
   ]
  },
  {
   "cell_type": "code",
   "execution_count": 18,
   "metadata": {},
   "outputs": [
    {
     "data": {
      "text/plain": [
       "7551"
      ]
     },
     "execution_count": 18,
     "metadata": {},
     "output_type": "execute_result"
    }
   ],
   "source": [
    "logs['user_id'].nunique()"
   ]
  },
  {
   "cell_type": "markdown",
   "metadata": {},
   "source": [
    "В логе всего 7 551 пользователей"
   ]
  },
  {
   "cell_type": "markdown",
   "metadata": {},
   "source": [
    "### Сколько в среднем событий приходится на пользователя?"
   ]
  },
  {
   "cell_type": "code",
   "execution_count": 19,
   "metadata": {},
   "outputs": [
    {
     "data": {
      "text/plain": [
       "32.27559263673685"
      ]
     },
     "execution_count": 19,
     "metadata": {},
     "output_type": "execute_result"
    }
   ],
   "source": [
    "logs.groupby('user_id')['event_name'].count().mean()"
   ]
  },
  {
   "cell_type": "markdown",
   "metadata": {},
   "source": [
    "В среднем на пользователя приходится 32 события"
   ]
  },
  {
   "cell_type": "code",
   "execution_count": 20,
   "metadata": {
    "scrolled": true
   },
   "outputs": [
    {
     "data": {
      "text/html": [
       "<div>\n",
       "<style scoped>\n",
       "    .dataframe tbody tr th:only-of-type {\n",
       "        vertical-align: middle;\n",
       "    }\n",
       "\n",
       "    .dataframe tbody tr th {\n",
       "        vertical-align: top;\n",
       "    }\n",
       "\n",
       "    .dataframe thead th {\n",
       "        text-align: right;\n",
       "    }\n",
       "</style>\n",
       "<table border=\"1\" class=\"dataframe\">\n",
       "  <thead>\n",
       "    <tr style=\"text-align: right;\">\n",
       "      <th></th>\n",
       "      <th>user_id</th>\n",
       "      <th>group</th>\n",
       "    </tr>\n",
       "  </thead>\n",
       "  <tbody>\n",
       "    <tr>\n",
       "      <th>count</th>\n",
       "      <td>2.437130e+05</td>\n",
       "      <td>243713.000000</td>\n",
       "    </tr>\n",
       "    <tr>\n",
       "      <th>mean</th>\n",
       "      <td>4.627963e+18</td>\n",
       "      <td>247.022161</td>\n",
       "    </tr>\n",
       "    <tr>\n",
       "      <th>std</th>\n",
       "      <td>2.642723e+18</td>\n",
       "      <td>0.824420</td>\n",
       "    </tr>\n",
       "    <tr>\n",
       "      <th>min</th>\n",
       "      <td>6.888747e+15</td>\n",
       "      <td>246.000000</td>\n",
       "    </tr>\n",
       "    <tr>\n",
       "      <th>25%</th>\n",
       "      <td>2.372212e+18</td>\n",
       "      <td>246.000000</td>\n",
       "    </tr>\n",
       "    <tr>\n",
       "      <th>50%</th>\n",
       "      <td>4.623192e+18</td>\n",
       "      <td>247.000000</td>\n",
       "    </tr>\n",
       "    <tr>\n",
       "      <th>75%</th>\n",
       "      <td>6.932517e+18</td>\n",
       "      <td>248.000000</td>\n",
       "    </tr>\n",
       "    <tr>\n",
       "      <th>max</th>\n",
       "      <td>9.222603e+18</td>\n",
       "      <td>248.000000</td>\n",
       "    </tr>\n",
       "  </tbody>\n",
       "</table>\n",
       "</div>"
      ],
      "text/plain": [
       "            user_id          group\n",
       "count  2.437130e+05  243713.000000\n",
       "mean   4.627963e+18     247.022161\n",
       "std    2.642723e+18       0.824420\n",
       "min    6.888747e+15     246.000000\n",
       "25%    2.372212e+18     246.000000\n",
       "50%    4.623192e+18     247.000000\n",
       "75%    6.932517e+18     248.000000\n",
       "max    9.222603e+18     248.000000"
      ]
     },
     "execution_count": 20,
     "metadata": {},
     "output_type": "execute_result"
    }
   ],
   "source": [
    "logs.describe()"
   ]
  },
  {
   "cell_type": "code",
   "execution_count": 21,
   "metadata": {},
   "outputs": [
    {
     "data": {
      "image/png": "[encoded data removed]",
      "text/plain": [
       "<Figure size 1008x432 with 1 Axes>"
      ]
     },
     "metadata": {
      "needs_background": "light"
     },
     "output_type": "display_data"
    }
   ],
   "source": [
    "# построим гистограмму среднего количества событий на пользователя\n",
    "fig,ax = plt.subplots(nrows = 1, ncols = 1, figsize = (14,6))\n",
    "user_event = logs.groupby('event_name').agg({'group':'count','user_id':'nunique'})\n",
    "user_event['mean_user']= user_event['group']/user_event['user_id']\n",
    "user_event['mean_user'].plot(kind='bar', ax=ax)\n",
    "\n",
    "ax.set_title('Среднее количество событий на пользователя')\n",
    "ax.set_xlabel('Наименование события')\n",
    "ax.set_ylabel('Среднее количество');"
   ]
  },
  {
   "cell_type": "markdown",
   "metadata": {},
   "source": [
    "Самое большое среднее количество событий в MainScreenAppear - 16, меньше всего в Tutorail - 1  \n",
    "Вероятно, обучение почти никто не проходит"
   ]
  },
  {
   "cell_type": "markdown",
   "metadata": {},
   "source": [
    "### Проверка периода собранных данных\n",
    "Необходимо ответить на следующие вопросы:\n",
    "* Данными за какой период вы располагаете? Найдите максимальную и минимальную дату \n",
    "* Постройте гистограмму по дате и времени \n",
    "* Можно ли быть уверенным, что у вас одинаково полные данные за весь период? Технически в логи новых дней по некоторым пользователям могут «доезжать» события из прошлого — это может «перекашивать данные». Определите, с какого момента данные полные и отбросьте более старые. Данными за какой период времени вы располагаете на самом деле?\n",
    "* Много ли событий и пользователей вы потеряли, отбросив старые данные?"
   ]
  },
  {
   "cell_type": "code",
   "execution_count": 22,
   "metadata": {},
   "outputs": [
    {
     "data": {
      "text/plain": [
       "(Timestamp('2019-07-25 00:00:00'), Timestamp('2019-08-07 00:00:00'))"
      ]
     },
     "execution_count": 22,
     "metadata": {},
     "output_type": "execute_result"
    }
   ],
   "source": [
    "# найдем максимальную и минимальную дату\n",
    "logs['date'].min(), logs['date'].max()"
   ]
  },
  {
   "cell_type": "markdown",
   "metadata": {},
   "source": [
    "В датафрейме присутствуют данные с 25.07.2019 по 07.08.2019"
   ]
  },
  {
   "cell_type": "code",
   "execution_count": 23,
   "metadata": {},
   "outputs": [
    {
     "data": {
      "image/png": "[encoded data removed]",
      "text/plain": [
       "<Figure size 1080x360 with 1 Axes>"
      ]
     },
     "metadata": {
      "needs_background": "light"
     },
     "output_type": "display_data"
    }
   ],
   "source": [
    "# построим гистограмму по дате и времени\n",
    "logs['dt'].hist(figsize=(15,5), bins=200)\n",
    "plt.xlabel('Дата')\n",
    "plt.ylabel('Количество событий')\n",
    "plt.title('Распределение количества событий во времени')\n",
    "plt.show()"
   ]
  },
  {
   "cell_type": "markdown",
   "metadata": {},
   "source": [
    "Судя по графику, у нас неодинаково полные данные за весь период, полные данные начинаются с 01.08.2019, т.е. правильно будет смотреть на данные с 01.08.2019 по 07.08.2019, а остальные можно отбросить"
   ]
  },
  {
   "cell_type": "code",
   "execution_count": 24,
   "metadata": {},
   "outputs": [],
   "source": [
    "# соберем в новую переменную данные с 01.08.2019\n",
    "data = logs.query('date >= \"2019-08-01\"')"
   ]
  },
  {
   "cell_type": "code",
   "execution_count": 25,
   "metadata": {},
   "outputs": [
    {
     "data": {
      "text/plain": [
       "(Timestamp('2019-08-01 00:00:00'), Timestamp('2019-08-07 00:00:00'))"
      ]
     },
     "execution_count": 25,
     "metadata": {},
     "output_type": "execute_result"
    }
   ],
   "source": [
    "# проверим, что остались только нужные данные\n",
    "data['date'].min(), data['date'].max()"
   ]
  },
  {
   "cell_type": "markdown",
   "metadata": {},
   "source": [
    "Стоит проверить, много ли событий и пользователей мы потеряли, отбросив старые данные"
   ]
  },
  {
   "cell_type": "code",
   "execution_count": 26,
   "metadata": {},
   "outputs": [
    {
     "name": "stdout",
     "output_type": "stream",
     "text": [
      "Количество событий в логе до удаления: 243713\n",
      "Количество событий в логе после удаления: 240887\n",
      "Потери составили: 1.16%\n"
     ]
    }
   ],
   "source": [
    "# проверим потери по количеству событий\n",
    "print(f'Количество событий в логе до удаления: {len(logs[\"event_name\"])}')\n",
    "print(f'Количество событий в логе после удаления: {len(data[\"event_name\"])}')\n",
    "print('Потери составили: {0:.2%}'.format(((len(logs) - len(data)) / len(logs))))"
   ]
  },
  {
   "cell_type": "code",
   "execution_count": 27,
   "metadata": {},
   "outputs": [
    {
     "name": "stdout",
     "output_type": "stream",
     "text": [
      "Количество пользователей в логе до удаления: 7551\n",
      "Количество пользователей в логе после после удаления: 7534\n",
      "Потери составили: 0.23%\n"
     ]
    }
   ],
   "source": [
    "# проверим потери по количеству пользователей\n",
    "print(f'Количество пользователей в логе до удаления: {logs[\"user_id\"].nunique()}')\n",
    "print(f'Количество пользователей в логе после после удаления: {data[\"user_id\"].nunique()}')\n",
    "print('Потери составили: {0:.2%}'.format(((logs['user_id'].nunique() - data['user_id'].nunique()) / logs['user_id'].nunique())))"
   ]
  },
  {
   "cell_type": "markdown",
   "metadata": {},
   "source": [
    "Мы потеряли незначительное количество событий (1,16%) и пользователей (0,23%), соответственно, дальнейший анализ можем проводить на отфильтрованных данных"
   ]
  },
  {
   "cell_type": "markdown",
   "metadata": {},
   "source": [
    "### Проверка корректности распределения пользователей по группам"
   ]
  },
  {
   "cell_type": "code",
   "execution_count": 28,
   "metadata": {},
   "outputs": [
    {
     "data": {
      "text/plain": [
       "group\n",
       "246    2484\n",
       "247    2513\n",
       "248    2537\n",
       "Name: user_id, dtype: int64"
      ]
     },
     "execution_count": 28,
     "metadata": {},
     "output_type": "execute_result"
    }
   ],
   "source": [
    "# сгруппируем по группам\n",
    "data.groupby('group')['user_id'].nunique()"
   ]
  },
  {
   "cell_type": "markdown",
   "metadata": {},
   "source": [
    "Присутствуют пользователи из всех трех групп, и количество пользователей в группах практически не различается  \n",
    "Также стоит проверить, не попали ли какие-то пользователи сразу в несколько групп"
   ]
  },
  {
   "cell_type": "code",
   "execution_count": 29,
   "metadata": {},
   "outputs": [
    {
     "data": {
      "text/plain": [
       "group    0\n",
       "dtype: int64"
      ]
     },
     "execution_count": 29,
     "metadata": {},
     "output_type": "execute_result"
    }
   ],
   "source": [
    "# проверим нет ли пересечений\n",
    "data.groupby('user_id').agg({'group': 'nunique'}).query('group > 1').count()"
   ]
  },
  {
   "cell_type": "markdown",
   "metadata": {},
   "source": [
    "### Вывод по шагу 3: \n",
    "В отфильтрованных данных остались события за неделю с 01.08.2019 по 07.08.2019, потери событий и пользователей при этом составили 1,16% и 0,23% соответственно, что позволяет провести дальнейший анализ    \n",
    "Пользователи присутствуют во всех трех группах практически в равном соотношении и не пересекаются"
   ]
  },
  {
   "cell_type": "markdown",
   "metadata": {},
   "source": [
    "## Шаг 4. Изучение воронки событий"
   ]
  },
  {
   "cell_type": "markdown",
   "metadata": {},
   "source": [
    "### Анализ распределения событий\n",
    "Необходимо посмотреть, какие события есть в логах, как часто они встречаются и отсортировать события по частоте"
   ]
  },
  {
   "cell_type": "code",
   "execution_count": 30,
   "metadata": {},
   "outputs": [
    {
     "data": {
      "text/plain": [
       "MainScreenAppear           117328\n",
       "OffersScreenAppear          46333\n",
       "CartScreenAppear            42303\n",
       "PaymentScreenSuccessful     33918\n",
       "Tutorial                     1005\n",
       "Name: event_name, dtype: int64"
      ]
     },
     "execution_count": 30,
     "metadata": {},
     "output_type": "execute_result"
    }
   ],
   "source": [
    "data['event_name'].value_counts()"
   ]
  },
  {
   "cell_type": "markdown",
   "metadata": {},
   "source": [
    "Всего 5 событий:  \n",
    "1. Появление главной страницы\n",
    "2. Появление страницы с предложением\n",
    "3. Открытие корзины\n",
    "4. Экран успешной оплаты\n",
    "5. Туториал (инструкция или обучающий ролик)  \n",
    "\n",
    "Чаще всего встречается появление главной страницы, а реже всего - туториал"
   ]
  },
  {
   "cell_type": "markdown",
   "metadata": {},
   "source": [
    "### Расчет доли пользователей по событиям\n",
    "В рамках данного пункта необходимо: \n",
    "* посчитать, сколько пользователей совершали каждое из событий \n",
    "* отсортировать события по числу пользователей \n",
    "* посчитать долю пользователей, которые хоть раз совершали событие\n",
    "* предположить, в каком порядке происходят события - все ли они выстраиваются в последовательную цепочку? Какие не нужно учитывать при расчёте воронки?"
   ]
  },
  {
   "cell_type": "code",
   "execution_count": 31,
   "metadata": {},
   "outputs": [
    {
     "data": {
      "text/html": [
       "<div>\n",
       "<style scoped>\n",
       "    .dataframe tbody tr th:only-of-type {\n",
       "        vertical-align: middle;\n",
       "    }\n",
       "\n",
       "    .dataframe tbody tr th {\n",
       "        vertical-align: top;\n",
       "    }\n",
       "\n",
       "    .dataframe thead th {\n",
       "        text-align: right;\n",
       "    }\n",
       "</style>\n",
       "<table border=\"1\" class=\"dataframe\">\n",
       "  <thead>\n",
       "    <tr style=\"text-align: right;\">\n",
       "      <th></th>\n",
       "      <th>user_id</th>\n",
       "      <th>share</th>\n",
       "    </tr>\n",
       "    <tr>\n",
       "      <th>event_name</th>\n",
       "      <th></th>\n",
       "      <th></th>\n",
       "    </tr>\n",
       "  </thead>\n",
       "  <tbody>\n",
       "    <tr>\n",
       "      <th>MainScreenAppear</th>\n",
       "      <td>7419</td>\n",
       "      <td>0.98</td>\n",
       "    </tr>\n",
       "    <tr>\n",
       "      <th>OffersScreenAppear</th>\n",
       "      <td>4593</td>\n",
       "      <td>0.61</td>\n",
       "    </tr>\n",
       "    <tr>\n",
       "      <th>CartScreenAppear</th>\n",
       "      <td>3734</td>\n",
       "      <td>0.50</td>\n",
       "    </tr>\n",
       "    <tr>\n",
       "      <th>PaymentScreenSuccessful</th>\n",
       "      <td>3539</td>\n",
       "      <td>0.47</td>\n",
       "    </tr>\n",
       "    <tr>\n",
       "      <th>Tutorial</th>\n",
       "      <td>840</td>\n",
       "      <td>0.11</td>\n",
       "    </tr>\n",
       "  </tbody>\n",
       "</table>\n",
       "</div>"
      ],
      "text/plain": [
       "                         user_id  share\n",
       "event_name                             \n",
       "MainScreenAppear            7419   0.98\n",
       "OffersScreenAppear          4593   0.61\n",
       "CartScreenAppear            3734   0.50\n",
       "PaymentScreenSuccessful     3539   0.47\n",
       "Tutorial                     840   0.11"
      ]
     },
     "execution_count": 31,
     "metadata": {},
     "output_type": "execute_result"
    }
   ],
   "source": [
    "users = data.groupby('event_name').agg({'user_id': 'nunique'})\n",
    "users['share'] = round(data.groupby('event_name')['user_id'].nunique() / data['user_id'].nunique(), 2)\n",
    "users.sort_values(by='share', ascending=False)"
   ]
  },
  {
   "cell_type": "markdown",
   "metadata": {},
   "source": [
    "Рейтинг по частоте событий остался таким же, как в предыдущем пункте   \n",
    "На главную страницу перешли 7 419 или 98% пользователей, страница с предложением появилась у 4593 или 61%, на этап корзины вышли 3 734 или 50%, экран успешной оплаты появился у 3 539 или 47%, а туториал - у 840 или 11% пользователей  \n",
    "\n",
    "Соответственно, можем сделать предположение, что события происходят в следующем порядке:\n",
    "1. Tutorial\t- туториал, скорее всего его можно пропустить, поэтому такой маленький процент пользователей посмотрел его \n",
    "2. MainScreenAppear - появление главной страницы\n",
    "3. OffersScreenAppear - появление страницы с предложением\n",
    "4. CartScreenAppear - открытие корзины\n",
    "5. PaymentScreenSuccessful - экран успешной оплаты\n",
    "\n",
    "Туториал не является необходимым элементом в пути до совершения покупки, возможно, он даже не является первым по очереди, а его можно открыть просто в любой момент в какой-то вкладке приложения, поэтому пользователи в основной массе туда не переходят, соответственно, при расчете воронки его не нужно учитывать  \n",
    "Поэтому для дальнейшнего анализа исключим событие Tutorial"
   ]
  },
  {
   "cell_type": "code",
   "execution_count": 32,
   "metadata": {},
   "outputs": [],
   "source": [
    "data = data.query('event_name != \"Tutorial\"') "
   ]
  },
  {
   "cell_type": "markdown",
   "metadata": {},
   "source": [
    "### Расчет доли пользователей по шагам воронки\n",
    "1. Посчитайте, какая доля пользователей проходит на следующий шаг воронки  \n",
    "По воронке событий посчитайте, какая доля пользователей проходит на следующий шаг воронки (от числа пользователей на предыдущем). То есть для последовательности событий A → B → C посчитайте отношение числа пользователей с событием B к количеству пользователей с событием A, а также отношение числа пользователей с событием C к количеству пользователей с событием B.\n",
    "2. На каком шаге теряете больше всего пользователей?\n",
    "3. Какая доля пользователей доходит от первого события до оплаты?"
   ]
  },
  {
   "cell_type": "code",
   "execution_count": 33,
   "metadata": {},
   "outputs": [
    {
     "data": {
      "text/html": [
       "<div>\n",
       "<style scoped>\n",
       "    .dataframe tbody tr th:only-of-type {\n",
       "        vertical-align: middle;\n",
       "    }\n",
       "\n",
       "    .dataframe tbody tr th {\n",
       "        vertical-align: top;\n",
       "    }\n",
       "\n",
       "    .dataframe thead th {\n",
       "        text-align: right;\n",
       "    }\n",
       "</style>\n",
       "<table border=\"1\" class=\"dataframe\">\n",
       "  <thead>\n",
       "    <tr style=\"text-align: right;\">\n",
       "      <th></th>\n",
       "      <th>user_id</th>\n",
       "      <th>share</th>\n",
       "      <th>conversion</th>\n",
       "      <th>shift_users</th>\n",
       "      <th>share_conversion</th>\n",
       "    </tr>\n",
       "    <tr>\n",
       "      <th>event_name</th>\n",
       "      <th></th>\n",
       "      <th></th>\n",
       "      <th></th>\n",
       "      <th></th>\n",
       "      <th></th>\n",
       "    </tr>\n",
       "  </thead>\n",
       "  <tbody>\n",
       "    <tr>\n",
       "      <th>MainScreenAppear</th>\n",
       "      <td>7419</td>\n",
       "      <td>0.98</td>\n",
       "      <td>1.00</td>\n",
       "      <td>NaN</td>\n",
       "      <td>NaN</td>\n",
       "    </tr>\n",
       "    <tr>\n",
       "      <th>OffersScreenAppear</th>\n",
       "      <td>4593</td>\n",
       "      <td>0.61</td>\n",
       "      <td>0.62</td>\n",
       "      <td>7419.0</td>\n",
       "      <td>0.62</td>\n",
       "    </tr>\n",
       "    <tr>\n",
       "      <th>CartScreenAppear</th>\n",
       "      <td>3734</td>\n",
       "      <td>0.50</td>\n",
       "      <td>0.50</td>\n",
       "      <td>4593.0</td>\n",
       "      <td>0.81</td>\n",
       "    </tr>\n",
       "    <tr>\n",
       "      <th>PaymentScreenSuccessful</th>\n",
       "      <td>3539</td>\n",
       "      <td>0.47</td>\n",
       "      <td>0.48</td>\n",
       "      <td>3734.0</td>\n",
       "      <td>0.95</td>\n",
       "    </tr>\n",
       "  </tbody>\n",
       "</table>\n",
       "</div>"
      ],
      "text/plain": [
       "                         user_id  share  conversion  shift_users  \\\n",
       "event_name                                                         \n",
       "MainScreenAppear            7419   0.98        1.00          NaN   \n",
       "OffersScreenAppear          4593   0.61        0.62       7419.0   \n",
       "CartScreenAppear            3734   0.50        0.50       4593.0   \n",
       "PaymentScreenSuccessful     3539   0.47        0.48       3734.0   \n",
       "\n",
       "                         share_conversion  \n",
       "event_name                                 \n",
       "MainScreenAppear                      NaN  \n",
       "OffersScreenAppear                   0.62  \n",
       "CartScreenAppear                     0.81  \n",
       "PaymentScreenSuccessful              0.95  "
      ]
     },
     "execution_count": 33,
     "metadata": {},
     "output_type": "execute_result"
    }
   ],
   "source": [
    "# уберем из users туториал\n",
    "users = users.query('event_name != \"Tutorial\"') \n",
    "# отсортируем по убыванию количества пользователей\n",
    "users = users.sort_values(by='user_id', ascending=False)\n",
    "# добавим столбец с расчетом доли пользователей, перешедших из одного события в другое \n",
    "users['conversion'] = round(users['user_id'] / users['user_id'][0], 2) \n",
    "# сдвинем значения в столбце для расчета доли от предыдущего шага\n",
    "users['shift_users'] = users['user_id'].shift() \n",
    "# добавим столбец с расчетом доли от предыдущего шага\n",
    "users['share_conversion'] = round(users['user_id'] / users['shift_users'], 2) \n",
    "users"
   ]
  },
  {
   "cell_type": "markdown",
   "metadata": {},
   "source": [
    "Мы рассчитали, какая доля пользователей проходит на следующий шаг воронки, и получили следующие данные:  \n",
    "Столбец share_conversion показыывает, что:\n",
    "* с главного экрана на экран предложений переходит 62% пользователей,\n",
    "* со страницы предложения в корзину переходит 81% пользователей,\n",
    "* и из корзины успешную оплату совершают 95% пользователей.\n",
    "\n",
    "Больше всего пользователей теряются при переходе с главной страницы на страницу предложения  \n",
    "Столбец conversion говорит нам, что от первого события до оплаты доходит 48% пользователей  \n",
    "\n",
    "Визуализируем нашу воронку:"
   ]
  },
  {
   "cell_type": "code",
   "execution_count": 51,
   "metadata": {
    "scrolled": false
   },
   "outputs": [
    {
     "data": {
      "application/vnd.plotly.v1+json": {
       "config": {
        "plotlyServerURL": "https://plot.ly"
       },
       "data": [
        {
         "connector": {
          "line": {
           "color": "royalblue",
           "dash": "dot",
           "width": 3
          }
         },
         "marker": {
          "color": [
           "deepskyblue",
           "lightsalmon",
           "tan",
           "teal"
          ],
          "line": {
           "color": [
            "wheat",
            "wheat",
            "wheat",
            "wheat"
           ],
           "width": [
            4,
            2,
            2,
            3
           ]
          }
         },
         "opacity": 0.65,
         "textinfo": "value+percent initial",
         "textposition": "inside",
         "type": "funnel",
         "x": [
          7419,
          4593,
          3734,
          3539
         ],
         "y": [
          "MainScreenAppear",
          "OffersScreenAppear",
          "CartScreenAppear",
          "PaymentScreenSuccessful"
         ]
        }
       ],
       "layout": {
        "template": {
         "data": {
          "bar": [
           {
            "error_x": {
             "color": "#2a3f5f"
            },
            "error_y": {
             "color": "#2a3f5f"
            },
            "marker": {
             "line": {
              "color": "#E5ECF6",
              "width": 0.5
             },
             "pattern": {
              "fillmode": "overlay",
              "size": 10,
              "solidity": 0.2
             }
            },
            "type": "bar"
           }
          ],
          "barpolar": [
           {
            "marker": {
             "line": {
              "color": "#E5ECF6",
              "width": 0.5
             },
             "pattern": {
              "fillmode": "overlay",
              "size": 10,
              "solidity": 0.2
             }
            },
            "type": "barpolar"
           }
          ],
          "carpet": [
           {
            "aaxis": {
             "endlinecolor": "#2a3f5f",
             "gridcolor": "white",
             "linecolor": "white",
             "minorgridcolor": "white",
             "startlinecolor": "#2a3f5f"
            },
            "baxis": {
             "endlinecolor": "#2a3f5f",
             "gridcolor": "white",
             "linecolor": "white",
             "minorgridcolor": "white",
             "startlinecolor": "#2a3f5f"
            },
            "type": "carpet"
           }
          ],
          "choropleth": [
           {
            "colorbar": {
             "outlinewidth": 0,
             "ticks": ""
            },
            "type": "choropleth"
           }
          ],
          "contour": [
           {
            "colorbar": {
             "outlinewidth": 0,
             "ticks": ""
            },
            "colorscale": [
             [
              0,
              "#0d0887"
             ],
             [
              0.1111111111111111,
              "#46039f"
             ],
             [
              0.2222222222222222,
              "#7201a8"
             ],
             [
              0.3333333333333333,
              "#9c179e"
             ],
             [
              0.4444444444444444,
              "#bd3786"
             ],
             [
              0.5555555555555556,
              "#d8576b"
             ],
             [
              0.6666666666666666,
              "#ed7953"
             ],
             [
              0.7777777777777778,
              "#fb9f3a"
             ],
             [
              0.8888888888888888,
              "#fdca26"
             ],
             [
              1,
              "#f0f921"
             ]
            ],
            "type": "contour"
           }
          ],
          "contourcarpet": [
           {
            "colorbar": {
             "outlinewidth": 0,
             "ticks": ""
            },
            "type": "contourcarpet"
           }
          ],
          "heatmap": [
           {
            "colorbar": {
             "outlinewidth": 0,
             "ticks": ""
            },
            "colorscale": [
             [
              0,
              "#0d0887"
             ],
             [
              0.1111111111111111,
              "#46039f"
             ],
             [
              0.2222222222222222,
              "#7201a8"
             ],
             [
              0.3333333333333333,
              "#9c179e"
             ],
             [
              0.4444444444444444,
              "#bd3786"
             ],
             [
              0.5555555555555556,
              "#d8576b"
             ],
             [
              0.6666666666666666,
              "#ed7953"
             ],
             [
              0.7777777777777778,
              "#fb9f3a"
             ],
             [
              0.8888888888888888,
              "#fdca26"
             ],
             [
              1,
              "#f0f921"
             ]
            ],
            "type": "heatmap"
           }
          ],
          "heatmapgl": [
           {
            "colorbar": {
             "outlinewidth": 0,
             "ticks": ""
            },
            "colorscale": [
             [
              0,
              "#0d0887"
             ],
             [
              0.1111111111111111,
              "#46039f"
             ],
             [
              0.2222222222222222,
              "#7201a8"
             ],
             [
              0.3333333333333333,
              "#9c179e"
             ],
             [
              0.4444444444444444,
              "#bd3786"
             ],
             [
              0.5555555555555556,
              "#d8576b"
             ],
             [
              0.6666666666666666,
              "#ed7953"
             ],
             [
              0.7777777777777778,
              "#fb9f3a"
             ],
             [
              0.8888888888888888,
              "#fdca26"
             ],
             [
              1,
              "#f0f921"
             ]
            ],
            "type": "heatmapgl"
           }
          ],
          "histogram": [
           {
            "marker": {
             "pattern": {
              "fillmode": "overlay",
              "size": 10,
              "solidity": 0.2
             }
            },
            "type": "histogram"
           }
          ],
          "histogram2d": [
           {
            "colorbar": {
             "outlinewidth": 0,
             "ticks": ""
            },
            "colorscale": [
             [
              0,
              "#0d0887"
             ],
             [
              0.1111111111111111,
              "#46039f"
             ],
             [
              0.2222222222222222,
              "#7201a8"
             ],
             [
              0.3333333333333333,
              "#9c179e"
             ],
             [
              0.4444444444444444,
              "#bd3786"
             ],
             [
              0.5555555555555556,
              "#d8576b"
             ],
             [
              0.6666666666666666,
              "#ed7953"
             ],
             [
              0.7777777777777778,
              "#fb9f3a"
             ],
             [
              0.8888888888888888,
              "#fdca26"
             ],
             [
              1,
              "#f0f921"
             ]
            ],
            "type": "histogram2d"
           }
          ],
          "histogram2dcontour": [
           {
            "colorbar": {
             "outlinewidth": 0,
             "ticks": ""
            },
            "colorscale": [
             [
              0,
              "#0d0887"
             ],
             [
              0.1111111111111111,
              "#46039f"
             ],
             [
              0.2222222222222222,
              "#7201a8"
             ],
             [
              0.3333333333333333,
              "#9c179e"
             ],
             [
              0.4444444444444444,
              "#bd3786"
             ],
             [
              0.5555555555555556,
              "#d8576b"
             ],
             [
              0.6666666666666666,
              "#ed7953"
             ],
             [
              0.7777777777777778,
              "#fb9f3a"
             ],
             [
              0.8888888888888888,
              "#fdca26"
             ],
             [
              1,
              "#f0f921"
             ]
            ],
            "type": "histogram2dcontour"
           }
          ],
          "mesh3d": [
           {
            "colorbar": {
             "outlinewidth": 0,
             "ticks": ""
            },
            "type": "mesh3d"
           }
          ],
          "parcoords": [
           {
            "line": {
             "colorbar": {
              "outlinewidth": 0,
              "ticks": ""
             }
            },
            "type": "parcoords"
           }
          ],
          "pie": [
           {
            "automargin": true,
            "type": "pie"
           }
          ],
          "scatter": [
           {
            "marker": {
             "colorbar": {
              "outlinewidth": 0,
              "ticks": ""
             }
            },
            "type": "scatter"
           }
          ],
          "scatter3d": [
           {
            "line": {
             "colorbar": {
              "outlinewidth": 0,
              "ticks": ""
             }
            },
            "marker": {
             "colorbar": {
              "outlinewidth": 0,
              "ticks": ""
             }
            },
            "type": "scatter3d"
           }
          ],
          "scattercarpet": [
           {
            "marker": {
             "colorbar": {
              "outlinewidth": 0,
              "ticks": ""
             }
            },
            "type": "scattercarpet"
           }
          ],
          "scattergeo": [
           {
            "marker": {
             "colorbar": {
              "outlinewidth": 0,
              "ticks": ""
             }
            },
            "type": "scattergeo"
           }
          ],
          "scattergl": [
           {
            "marker": {
             "colorbar": {
              "outlinewidth": 0,
              "ticks": ""
             }
            },
            "type": "scattergl"
           }
          ],
          "scattermapbox": [
           {
            "marker": {
             "colorbar": {
              "outlinewidth": 0,
              "ticks": ""
             }
            },
            "type": "scattermapbox"
           }
          ],
          "scatterpolar": [
           {
            "marker": {
             "colorbar": {
              "outlinewidth": 0,
              "ticks": ""
             }
            },
            "type": "scatterpolar"
           }
          ],
          "scatterpolargl": [
           {
            "marker": {
             "colorbar": {
              "outlinewidth": 0,
              "ticks": ""
             }
            },
            "type": "scatterpolargl"
           }
          ],
          "scatterternary": [
           {
            "marker": {
             "colorbar": {
              "outlinewidth": 0,
              "ticks": ""
             }
            },
            "type": "scatterternary"
           }
          ],
          "surface": [
           {
            "colorbar": {
             "outlinewidth": 0,
             "ticks": ""
            },
            "colorscale": [
             [
              0,
              "#0d0887"
             ],
             [
              0.1111111111111111,
              "#46039f"
             ],
             [
              0.2222222222222222,
              "#7201a8"
             ],
             [
              0.3333333333333333,
              "#9c179e"
             ],
             [
              0.4444444444444444,
              "#bd3786"
             ],
             [
              0.5555555555555556,
              "#d8576b"
             ],
             [
              0.6666666666666666,
              "#ed7953"
             ],
             [
              0.7777777777777778,
              "#fb9f3a"
             ],
             [
              0.8888888888888888,
              "#fdca26"
             ],
             [
              1,
              "#f0f921"
             ]
            ],
            "type": "surface"
           }
          ],
          "table": [
           {
            "cells": {
             "fill": {
              "color": "#EBF0F8"
             },
             "line": {
              "color": "white"
             }
            },
            "header": {
             "fill": {
              "color": "#C8D4E3"
             },
             "line": {
              "color": "white"
             }
            },
            "type": "table"
           }
          ]
         },
         "layout": {
          "annotationdefaults": {
           "arrowcolor": "#2a3f5f",
           "arrowhead": 0,
           "arrowwidth": 1
          },
          "autotypenumbers": "strict",
          "coloraxis": {
           "colorbar": {
            "outlinewidth": 0,
            "ticks": ""
           }
          },
          "colorscale": {
           "diverging": [
            [
             0,
             "#8e0152"
            ],
            [
             0.1,
             "#c51b7d"
            ],
            [
             0.2,
             "#de77ae"
            ],
            [
             0.3,
             "#f1b6da"
            ],
            [
             0.4,
             "#fde0ef"
            ],
            [
             0.5,
             "#f7f7f7"
            ],
            [
             0.6,
             "#e6f5d0"
            ],
            [
             0.7,
             "#b8e186"
            ],
            [
             0.8,
             "#7fbc41"
            ],
            [
             0.9,
             "#4d9221"
            ],
            [
             1,
             "#276419"
            ]
           ],
           "sequential": [
            [
             0,
             "#0d0887"
            ],
            [
             0.1111111111111111,
             "#46039f"
            ],
            [
             0.2222222222222222,
             "#7201a8"
            ],
            [
             0.3333333333333333,
             "#9c179e"
            ],
            [
             0.4444444444444444,
             "#bd3786"
            ],
            [
             0.5555555555555556,
             "#d8576b"
            ],
            [
             0.6666666666666666,
             "#ed7953"
            ],
            [
             0.7777777777777778,
             "#fb9f3a"
            ],
            [
             0.8888888888888888,
             "#fdca26"
            ],
            [
             1,
             "#f0f921"
            ]
           ],
           "sequentialminus": [
            [
             0,
             "#0d0887"
            ],
            [
             0.1111111111111111,
             "#46039f"
            ],
            [
             0.2222222222222222,
             "#7201a8"
            ],
            [
             0.3333333333333333,
             "#9c179e"
            ],
            [
             0.4444444444444444,
             "#bd3786"
            ],
            [
             0.5555555555555556,
             "#d8576b"
            ],
            [
             0.6666666666666666,
             "#ed7953"
            ],
            [
             0.7777777777777778,
             "#fb9f3a"
            ],
            [
             0.8888888888888888,
             "#fdca26"
            ],
            [
             1,
             "#f0f921"
            ]
           ]
          },
          "colorway": [
           "#636efa",
           "#EF553B",
           "#00cc96",
           "#ab63fa",
           "#FFA15A",
           "#19d3f3",
           "#FF6692",
           "#B6E880",
           "#FF97FF",
           "#FECB52"
          ],
          "font": {
           "color": "#2a3f5f"
          },
          "geo": {
           "bgcolor": "white",
           "lakecolor": "white",
           "landcolor": "#E5ECF6",
           "showlakes": true,
           "showland": true,
           "subunitcolor": "white"
          },
          "hoverlabel": {
           "align": "left"
          },
          "hovermode": "closest",
          "mapbox": {
           "style": "light"
          },
          "paper_bgcolor": "white",
          "plot_bgcolor": "#E5ECF6",
          "polar": {
           "angularaxis": {
            "gridcolor": "white",
            "linecolor": "white",
            "ticks": ""
           },
           "bgcolor": "#E5ECF6",
           "radialaxis": {
            "gridcolor": "white",
            "linecolor": "white",
            "ticks": ""
           }
          },
          "scene": {
           "xaxis": {
            "backgroundcolor": "#E5ECF6",
            "gridcolor": "white",
            "gridwidth": 2,
            "linecolor": "white",
            "showbackground": true,
            "ticks": "",
            "zerolinecolor": "white"
           },
           "yaxis": {
            "backgroundcolor": "#E5ECF6",
            "gridcolor": "white",
            "gridwidth": 2,
            "linecolor": "white",
            "showbackground": true,
            "ticks": "",
            "zerolinecolor": "white"
           },
           "zaxis": {
            "backgroundcolor": "#E5ECF6",
            "gridcolor": "white",
            "gridwidth": 2,
            "linecolor": "white",
            "showbackground": true,
            "ticks": "",
            "zerolinecolor": "white"
           }
          },
          "shapedefaults": {
           "line": {
            "color": "#2a3f5f"
           }
          },
          "ternary": {
           "aaxis": {
            "gridcolor": "white",
            "linecolor": "white",
            "ticks": ""
           },
           "baxis": {
            "gridcolor": "white",
            "linecolor": "white",
            "ticks": ""
           },
           "bgcolor": "#E5ECF6",
           "caxis": {
            "gridcolor": "white",
            "linecolor": "white",
            "ticks": ""
           }
          },
          "title": {
           "x": 0.05
          },
          "xaxis": {
           "automargin": true,
           "gridcolor": "white",
           "linecolor": "white",
           "ticks": "",
           "title": {
            "standoff": 15
           },
           "zerolinecolor": "white",
           "zerolinewidth": 2
          },
          "yaxis": {
           "automargin": true,
           "gridcolor": "white",
           "linecolor": "white",
           "ticks": "",
           "title": {
            "standoff": 15
           },
           "zerolinecolor": "white",
           "zerolinewidth": 2
          }
         }
        },
        "title": {
         "text": "Воронка событий"
        }
       }
      },
      "text/html": [
       "<div>                            <div id=\"f7a50556-1563-46f4-810d-db61c9c6b47d\" class=\"plotly-graph-div\" style=\"height:525px; width:100%;\"></div>            <script type=\"text/javascript\">                require([\"plotly\"], function(Plotly) {                    window.PLOTLYENV=window.PLOTLYENV || {};                                    if (document.getElementById(\"f7a50556-1563-46f4-810d-db61c9c6b47d\")) {                    Plotly.newPlot(                        \"f7a50556-1563-46f4-810d-db61c9c6b47d\",                        [{\"connector\":{\"line\":{\"color\":\"royalblue\",\"dash\":\"dot\",\"width\":3}},\"marker\":{\"color\":[\"deepskyblue\",\"lightsalmon\",\"tan\",\"teal\"],\"line\":{\"color\":[\"wheat\",\"wheat\",\"wheat\",\"wheat\"],\"width\":[4,2,2,3]}},\"opacity\":0.65,\"textinfo\":\"value+percent initial\",\"textposition\":\"inside\",\"x\":[7419,4593,3734,3539],\"y\":[\"MainScreenAppear\",\"OffersScreenAppear\",\"CartScreenAppear\",\"PaymentScreenSuccessful\"],\"type\":\"funnel\"}],                        {\"template\":{\"data\":{\"bar\":[{\"error_x\":{\"color\":\"#2a3f5f\"},\"error_y\":{\"color\":\"#2a3f5f\"},\"marker\":{\"line\":{\"color\":\"#E5ECF6\",\"width\":0.5},\"pattern\":{\"fillmode\":\"overlay\",\"size\":10,\"solidity\":0.2}},\"type\":\"bar\"}],\"barpolar\":[{\"marker\":{\"line\":{\"color\":\"#E5ECF6\",\"width\":0.5},\"pattern\":{\"fillmode\":\"overlay\",\"size\":10,\"solidity\":0.2}},\"type\":\"barpolar\"}],\"carpet\":[{\"aaxis\":{\"endlinecolor\":\"#2a3f5f\",\"gridcolor\":\"white\",\"linecolor\":\"white\",\"minorgridcolor\":\"white\",\"startlinecolor\":\"#2a3f5f\"},\"baxis\":{\"endlinecolor\":\"#2a3f5f\",\"gridcolor\":\"white\",\"linecolor\":\"white\",\"minorgridcolor\":\"white\",\"startlinecolor\":\"#2a3f5f\"},\"type\":\"carpet\"}],\"choropleth\":[{\"colorbar\":{\"outlinewidth\":0,\"ticks\":\"\"},\"type\":\"choropleth\"}],\"contour\":[{\"colorbar\":{\"outlinewidth\":0,\"ticks\":\"\"},\"colorscale\":[[0.0,\"#0d0887\"],[0.1111111111111111,\"#46039f\"],[0.2222222222222222,\"#7201a8\"],[0.3333333333333333,\"#9c179e\"],[0.4444444444444444,\"#bd3786\"],[0.5555555555555556,\"#d8576b\"],[0.6666666666666666,\"#ed7953\"],[0.7777777777777778,\"#fb9f3a\"],[0.8888888888888888,\"#fdca26\"],[1.0,\"#f0f921\"]],\"type\":\"contour\"}],\"contourcarpet\":[{\"colorbar\":{\"outlinewidth\":0,\"ticks\":\"\"},\"type\":\"contourcarpet\"}],\"heatmap\":[{\"colorbar\":{\"outlinewidth\":0,\"ticks\":\"\"},\"colorscale\":[[0.0,\"#0d0887\"],[0.1111111111111111,\"#46039f\"],[0.2222222222222222,\"#7201a8\"],[0.3333333333333333,\"#9c179e\"],[0.4444444444444444,\"#bd3786\"],[0.5555555555555556,\"#d8576b\"],[0.6666666666666666,\"#ed7953\"],[0.7777777777777778,\"#fb9f3a\"],[0.8888888888888888,\"#fdca26\"],[1.0,\"#f0f921\"]],\"type\":\"heatmap\"}],\"heatmapgl\":[{\"colorbar\":{\"outlinewidth\":0,\"ticks\":\"\"},\"colorscale\":[[0.0,\"#0d0887\"],[0.1111111111111111,\"#46039f\"],[0.2222222222222222,\"#7201a8\"],[0.3333333333333333,\"#9c179e\"],[0.4444444444444444,\"#bd3786\"],[0.5555555555555556,\"#d8576b\"],[0.6666666666666666,\"#ed7953\"],[0.7777777777777778,\"#fb9f3a\"],[0.8888888888888888,\"#fdca26\"],[1.0,\"#f0f921\"]],\"type\":\"heatmapgl\"}],\"histogram\":[{\"marker\":{\"pattern\":{\"fillmode\":\"overlay\",\"size\":10,\"solidity\":0.2}},\"type\":\"histogram\"}],\"histogram2d\":[{\"colorbar\":{\"outlinewidth\":0,\"ticks\":\"\"},\"colorscale\":[[0.0,\"#0d0887\"],[0.1111111111111111,\"#46039f\"],[0.2222222222222222,\"#7201a8\"],[0.3333333333333333,\"#9c179e\"],[0.4444444444444444,\"#bd3786\"],[0.5555555555555556,\"#d8576b\"],[0.6666666666666666,\"#ed7953\"],[0.7777777777777778,\"#fb9f3a\"],[0.8888888888888888,\"#fdca26\"],[1.0,\"#f0f921\"]],\"type\":\"histogram2d\"}],\"histogram2dcontour\":[{\"colorbar\":{\"outlinewidth\":0,\"ticks\":\"\"},\"colorscale\":[[0.0,\"#0d0887\"],[0.1111111111111111,\"#46039f\"],[0.2222222222222222,\"#7201a8\"],[0.3333333333333333,\"#9c179e\"],[0.4444444444444444,\"#bd3786\"],[0.5555555555555556,\"#d8576b\"],[0.6666666666666666,\"#ed7953\"],[0.7777777777777778,\"#fb9f3a\"],[0.8888888888888888,\"#fdca26\"],[1.0,\"#f0f921\"]],\"type\":\"histogram2dcontour\"}],\"mesh3d\":[{\"colorbar\":{\"outlinewidth\":0,\"ticks\":\"\"},\"type\":\"mesh3d\"}],\"parcoords\":[{\"line\":{\"colorbar\":{\"outlinewidth\":0,\"ticks\":\"\"}},\"type\":\"parcoords\"}],\"pie\":[{\"automargin\":true,\"type\":\"pie\"}],\"scatter\":[{\"marker\":{\"colorbar\":{\"outlinewidth\":0,\"ticks\":\"\"}},\"type\":\"scatter\"}],\"scatter3d\":[{\"line\":{\"colorbar\":{\"outlinewidth\":0,\"ticks\":\"\"}},\"marker\":{\"colorbar\":{\"outlinewidth\":0,\"ticks\":\"\"}},\"type\":\"scatter3d\"}],\"scattercarpet\":[{\"marker\":{\"colorbar\":{\"outlinewidth\":0,\"ticks\":\"\"}},\"type\":\"scattercarpet\"}],\"scattergeo\":[{\"marker\":{\"colorbar\":{\"outlinewidth\":0,\"ticks\":\"\"}},\"type\":\"scattergeo\"}],\"scattergl\":[{\"marker\":{\"colorbar\":{\"outlinewidth\":0,\"ticks\":\"\"}},\"type\":\"scattergl\"}],\"scattermapbox\":[{\"marker\":{\"colorbar\":{\"outlinewidth\":0,\"ticks\":\"\"}},\"type\":\"scattermapbox\"}],\"scatterpolar\":[{\"marker\":{\"colorbar\":{\"outlinewidth\":0,\"ticks\":\"\"}},\"type\":\"scatterpolar\"}],\"scatterpolargl\":[{\"marker\":{\"colorbar\":{\"outlinewidth\":0,\"ticks\":\"\"}},\"type\":\"scatterpolargl\"}],\"scatterternary\":[{\"marker\":{\"colorbar\":{\"outlinewidth\":0,\"ticks\":\"\"}},\"type\":\"scatterternary\"}],\"surface\":[{\"colorbar\":{\"outlinewidth\":0,\"ticks\":\"\"},\"colorscale\":[[0.0,\"#0d0887\"],[0.1111111111111111,\"#46039f\"],[0.2222222222222222,\"#7201a8\"],[0.3333333333333333,\"#9c179e\"],[0.4444444444444444,\"#bd3786\"],[0.5555555555555556,\"#d8576b\"],[0.6666666666666666,\"#ed7953\"],[0.7777777777777778,\"#fb9f3a\"],[0.8888888888888888,\"#fdca26\"],[1.0,\"#f0f921\"]],\"type\":\"surface\"}],\"table\":[{\"cells\":{\"fill\":{\"color\":\"#EBF0F8\"},\"line\":{\"color\":\"white\"}},\"header\":{\"fill\":{\"color\":\"#C8D4E3\"},\"line\":{\"color\":\"white\"}},\"type\":\"table\"}]},\"layout\":{\"annotationdefaults\":{\"arrowcolor\":\"#2a3f5f\",\"arrowhead\":0,\"arrowwidth\":1},\"autotypenumbers\":\"strict\",\"coloraxis\":{\"colorbar\":{\"outlinewidth\":0,\"ticks\":\"\"}},\"colorscale\":{\"diverging\":[[0,\"#8e0152\"],[0.1,\"#c51b7d\"],[0.2,\"#de77ae\"],[0.3,\"#f1b6da\"],[0.4,\"#fde0ef\"],[0.5,\"#f7f7f7\"],[0.6,\"#e6f5d0\"],[0.7,\"#b8e186\"],[0.8,\"#7fbc41\"],[0.9,\"#4d9221\"],[1,\"#276419\"]],\"sequential\":[[0.0,\"#0d0887\"],[0.1111111111111111,\"#46039f\"],[0.2222222222222222,\"#7201a8\"],[0.3333333333333333,\"#9c179e\"],[0.4444444444444444,\"#bd3786\"],[0.5555555555555556,\"#d8576b\"],[0.6666666666666666,\"#ed7953\"],[0.7777777777777778,\"#fb9f3a\"],[0.8888888888888888,\"#fdca26\"],[1.0,\"#f0f921\"]],\"sequentialminus\":[[0.0,\"#0d0887\"],[0.1111111111111111,\"#46039f\"],[0.2222222222222222,\"#7201a8\"],[0.3333333333333333,\"#9c179e\"],[0.4444444444444444,\"#bd3786\"],[0.5555555555555556,\"#d8576b\"],[0.6666666666666666,\"#ed7953\"],[0.7777777777777778,\"#fb9f3a\"],[0.8888888888888888,\"#fdca26\"],[1.0,\"#f0f921\"]]},\"colorway\":[\"#636efa\",\"#EF553B\",\"#00cc96\",\"#ab63fa\",\"#FFA15A\",\"#19d3f3\",\"#FF6692\",\"#B6E880\",\"#FF97FF\",\"#FECB52\"],\"font\":{\"color\":\"#2a3f5f\"},\"geo\":{\"bgcolor\":\"white\",\"lakecolor\":\"white\",\"landcolor\":\"#E5ECF6\",\"showlakes\":true,\"showland\":true,\"subunitcolor\":\"white\"},\"hoverlabel\":{\"align\":\"left\"},\"hovermode\":\"closest\",\"mapbox\":{\"style\":\"light\"},\"paper_bgcolor\":\"white\",\"plot_bgcolor\":\"#E5ECF6\",\"polar\":{\"angularaxis\":{\"gridcolor\":\"white\",\"linecolor\":\"white\",\"ticks\":\"\"},\"bgcolor\":\"#E5ECF6\",\"radialaxis\":{\"gridcolor\":\"white\",\"linecolor\":\"white\",\"ticks\":\"\"}},\"scene\":{\"xaxis\":{\"backgroundcolor\":\"#E5ECF6\",\"gridcolor\":\"white\",\"gridwidth\":2,\"linecolor\":\"white\",\"showbackground\":true,\"ticks\":\"\",\"zerolinecolor\":\"white\"},\"yaxis\":{\"backgroundcolor\":\"#E5ECF6\",\"gridcolor\":\"white\",\"gridwidth\":2,\"linecolor\":\"white\",\"showbackground\":true,\"ticks\":\"\",\"zerolinecolor\":\"white\"},\"zaxis\":{\"backgroundcolor\":\"#E5ECF6\",\"gridcolor\":\"white\",\"gridwidth\":2,\"linecolor\":\"white\",\"showbackground\":true,\"ticks\":\"\",\"zerolinecolor\":\"white\"}},\"shapedefaults\":{\"line\":{\"color\":\"#2a3f5f\"}},\"ternary\":{\"aaxis\":{\"gridcolor\":\"white\",\"linecolor\":\"white\",\"ticks\":\"\"},\"baxis\":{\"gridcolor\":\"white\",\"linecolor\":\"white\",\"ticks\":\"\"},\"bgcolor\":\"#E5ECF6\",\"caxis\":{\"gridcolor\":\"white\",\"linecolor\":\"white\",\"ticks\":\"\"}},\"title\":{\"x\":0.05},\"xaxis\":{\"automargin\":true,\"gridcolor\":\"white\",\"linecolor\":\"white\",\"ticks\":\"\",\"title\":{\"standoff\":15},\"zerolinecolor\":\"white\",\"zerolinewidth\":2},\"yaxis\":{\"automargin\":true,\"gridcolor\":\"white\",\"linecolor\":\"white\",\"ticks\":\"\",\"title\":{\"standoff\":15},\"zerolinecolor\":\"white\",\"zerolinewidth\":2}}},\"title\":{\"text\":\"\\u0412\\u043e\\u0440\\u043e\\u043d\\u043a\\u0430 \\u0441\\u043e\\u0431\\u044b\\u0442\\u0438\\u0439\"}},                        {\"responsive\": true}                    ).then(function(){\n",
       "                            \n",
       "var gd = document.getElementById('f7a50556-1563-46f4-810d-db61c9c6b47d');\n",
       "var x = new MutationObserver(function (mutations, observer) {{\n",
       "        var display = window.getComputedStyle(gd).display;\n",
       "        if (!display || display === 'none') {{\n",
       "            console.log([gd, 'removed!']);\n",
       "            Plotly.purge(gd);\n",
       "            observer.disconnect();\n",
       "        }}\n",
       "}});\n",
       "\n",
       "// Listen for the removal of the full notebook cells\n",
       "var notebookContainer = gd.closest('#notebook-container');\n",
       "if (notebookContainer) {{\n",
       "    x.observe(notebookContainer, {childList: true});\n",
       "}}\n",
       "\n",
       "// Listen for the clearing of the current output cell\n",
       "var outputEl = gd.closest('.output');\n",
       "if (outputEl) {{\n",
       "    x.observe(outputEl, {childList: true});\n",
       "}}\n",
       "\n",
       "                        })                };                });            </script>        </div>"
      ]
     },
     "metadata": {},
     "output_type": "display_data"
    }
   ],
   "source": [
    "fig = go.Figure(go.Funnel(\n",
    "    y = users.index,\n",
    "    x = users['user_id'],\n",
    "    textposition = \"inside\",\n",
    "    textinfo = \"value+percent initial\",\n",
    "    opacity = 0.65, marker = {\"color\": [\"deepskyblue\", \"lightsalmon\", \"tan\", \"teal\"],\n",
    "    \"line\": {\"width\": [4, 2, 2, 3], \"color\": [\"wheat\", \"wheat\", \"wheat\", \"wheat\"]}},\n",
    "    connector = {\"line\": {\"color\": \"royalblue\", \"dash\": \"dot\", \"width\": 3}})           \n",
    ")\n",
    "fig.update_layout(title=\"Воронка событий\")\n",
    "fig.show()"
   ]
  },
  {
   "cell_type": "markdown",
   "metadata": {},
   "source": [
    "### Вывод по шагу 4:\n",
    "Мы предположили, в каком порядке совершаются события и выявили, что шаг туториал не должен включаться в воронку  \n",
    "Рассчитали, какая доля пользователей проходит на следующий шаг воронки, больше всего пользователей теряются при переходе с главной страницы на страницу предложения - 38%, при переходе со страницы предложения в корзину мы теряем 19% пользователей, а \n",
    "после корзины на этап успешной оплаты не переходят всего 5% пользователей  \n",
    "Всего от первого события до оплаты доходит 48% пользователей"
   ]
  },
  {
   "cell_type": "markdown",
   "metadata": {},
   "source": [
    "## Шаг 5. Изучите результаты эксперимента"
   ]
  },
  {
   "cell_type": "markdown",
   "metadata": {},
   "source": [
    "### Сколько пользователей в каждой экспериментальной группе?"
   ]
  },
  {
   "cell_type": "code",
   "execution_count": 35,
   "metadata": {},
   "outputs": [
    {
     "data": {
      "text/plain": [
       "group\n",
       "246    2483\n",
       "247    2512\n",
       "248    2535\n",
       "Name: user_id, dtype: int64"
      ]
     },
     "execution_count": 35,
     "metadata": {},
     "output_type": "execute_result"
    }
   ],
   "source": [
    "# посчитаем пользователей в каждой группе и запишем их в переменную \n",
    "users_per_group = data.groupby('group')['user_id'].nunique()\n",
    "users_per_group"
   ]
  },
  {
   "cell_type": "markdown",
   "metadata": {},
   "source": [
    "Количество пользователей в экспериментальных группах:\n",
    "1. 246 - 2 483 пользователя\n",
    "2. 247 - 2 512 пользователей\n",
    "3. 248 - 2 535 пользователей"
   ]
  },
  {
   "cell_type": "markdown",
   "metadata": {},
   "source": [
    "### Проверка корректности всех механизмов и расчётов для А/А-эксперимента + Разбор самого популярного события в контрольных группах\n",
    "Есть 2 контрольные группы для А/А-эксперимента, чтобы проверить корректность всех механизмов и расчётов  \n",
    "Необходимо проверить, находят ли статистические критерии разницу между выборками 246 и 247  \n",
    "Выберите самое популярное событие. Посчитайте число пользователей, совершивших это событие в каждой из контрольных групп. Посчитайте долю пользователей, совершивших это событие. Проверьте, будет ли отличие между группами статистически достоверным. Проделайте то же самое для всех других событий (удобно обернуть проверку в отдельную функцию). Можно ли сказать, что разбиение на группы работает корректно?"
   ]
  },
  {
   "cell_type": "markdown",
   "metadata": {},
   "source": [
    "Критерии успешного A/A-теста:\n",
    "1. Количество пользователей в различных группах различается не более, чем на 1%;\n",
    "2. Для всех групп фиксируют и отправляют в системы аналитики данные об одном и том же;\n",
    "3. Различие ключевых метрик по группам не превышает 1% и не имеет статистической значимости;\n",
    "4. Попавший в одну из групп посетитель остаётся в этой группе до конца теста.\n",
    "\n",
    "Количество пользователей в экспериментальных группах практически не отличается, п. 2 мы не можем проверить в текущем анализе, п. 4 мы уже проверили выше - пользователи в группах не пересекаются  \n",
    "\n",
    "Осталось проверить п. 3"
   ]
  },
  {
   "cell_type": "markdown",
   "metadata": {},
   "source": [
    "Нам необходимо будет проверить гипотезу о равенстве долей, т.е. применить z-критерий    \n",
    "Чтобы посчитать z-value - статистику в стандартных отклонениях стандартного нормального распределения, нужно посчитать сколько пользователей совершали каждое из событий в каждой из групп, а также доли пользователей по этим событиям  \n",
    "Соберем эти данные в одну таблицу"
   ]
  },
  {
   "cell_type": "code",
   "execution_count": 36,
   "metadata": {},
   "outputs": [
    {
     "data": {
      "text/html": [
       "<div>\n",
       "<style scoped>\n",
       "    .dataframe tbody tr th:only-of-type {\n",
       "        vertical-align: middle;\n",
       "    }\n",
       "\n",
       "    .dataframe tbody tr th {\n",
       "        vertical-align: top;\n",
       "    }\n",
       "\n",
       "    .dataframe thead th {\n",
       "        text-align: right;\n",
       "    }\n",
       "</style>\n",
       "<table border=\"1\" class=\"dataframe\">\n",
       "  <thead>\n",
       "    <tr style=\"text-align: right;\">\n",
       "      <th>group</th>\n",
       "      <th>event_name</th>\n",
       "      <th>246</th>\n",
       "      <th>247</th>\n",
       "      <th>248</th>\n",
       "      <th>share_246</th>\n",
       "      <th>share_247</th>\n",
       "      <th>share_248</th>\n",
       "    </tr>\n",
       "  </thead>\n",
       "  <tbody>\n",
       "    <tr>\n",
       "      <th>0</th>\n",
       "      <td>MainScreenAppear</td>\n",
       "      <td>2450</td>\n",
       "      <td>2476</td>\n",
       "      <td>2493</td>\n",
       "      <td>98.67</td>\n",
       "      <td>98.57</td>\n",
       "      <td>98.34</td>\n",
       "    </tr>\n",
       "    <tr>\n",
       "      <th>1</th>\n",
       "      <td>OffersScreenAppear</td>\n",
       "      <td>1542</td>\n",
       "      <td>1520</td>\n",
       "      <td>1531</td>\n",
       "      <td>62.10</td>\n",
       "      <td>60.51</td>\n",
       "      <td>60.39</td>\n",
       "    </tr>\n",
       "    <tr>\n",
       "      <th>2</th>\n",
       "      <td>CartScreenAppear</td>\n",
       "      <td>1266</td>\n",
       "      <td>1238</td>\n",
       "      <td>1230</td>\n",
       "      <td>50.99</td>\n",
       "      <td>49.28</td>\n",
       "      <td>48.52</td>\n",
       "    </tr>\n",
       "    <tr>\n",
       "      <th>3</th>\n",
       "      <td>PaymentScreenSuccessful</td>\n",
       "      <td>1200</td>\n",
       "      <td>1158</td>\n",
       "      <td>1181</td>\n",
       "      <td>48.33</td>\n",
       "      <td>46.10</td>\n",
       "      <td>46.59</td>\n",
       "    </tr>\n",
       "  </tbody>\n",
       "</table>\n",
       "</div>"
      ],
      "text/plain": [
       "group               event_name   246   247   248  share_246  share_247  \\\n",
       "0             MainScreenAppear  2450  2476  2493      98.67      98.57   \n",
       "1           OffersScreenAppear  1542  1520  1531      62.10      60.51   \n",
       "2             CartScreenAppear  1266  1238  1230      50.99      49.28   \n",
       "3      PaymentScreenSuccessful  1200  1158  1181      48.33      46.10   \n",
       "\n",
       "group  share_248  \n",
       "0          98.34  \n",
       "1          60.39  \n",
       "2          48.52  \n",
       "3          46.59  "
      ]
     },
     "execution_count": 36,
     "metadata": {},
     "output_type": "execute_result"
    }
   ],
   "source": [
    "# соберем данные о количестве пользователей по каждой группе в сводную таблицу\n",
    "data_group = data.pivot_table(\n",
    "    index='event_name', \n",
    "    columns='group', \n",
    "    values='user_id',\n",
    "    aggfunc='nunique').sort_values(by=246, ascending=False)\n",
    "\n",
    "data_group = data_group.reset_index()\n",
    "\n",
    "# добавим стлбцы с долями по каждой группе\n",
    "data_group['share_246'] = (data_group[246] / users_per_group[246] * 100).round(2)\n",
    "data_group['share_247'] = (data_group[247] / users_per_group[247] * 100).round(2)\n",
    "data_group['share_248'] = (data_group[248] / users_per_group[248] * 100).round(2)\n",
    "\n",
    "data_group"
   ]
  },
  {
   "cell_type": "markdown",
   "metadata": {},
   "source": [
    "По данным этой таблицы легко сделать вывод о самом популярном событии в контрольных группах - это MainScreenAppear, т.е. страница главного экрана, на нее переходят 2 450, 2 476 и 2 493 пользователя в группах 246, 247 и 248 соответственно, в каждой из групп доля пользователей превышает 98%  \n",
    "\n",
    "Теперь можно приступить к проверке, будет ли отличие между группами статистически достоверным  \n",
    "Поскольку проверку необходимо провести по разным группам несколько раз, обернем ее в функцию:"
   ]
  },
  {
   "cell_type": "code",
   "execution_count": 37,
   "metadata": {},
   "outputs": [],
   "source": [
    "def aab_test(group_1, group_2, alpha):\n",
    "    for i in data_group.index:\n",
    "        p1 = data_group[group_1][i] / users_per_group[group_1]\n",
    "        # пропорция успехов во второй группе:\n",
    "        p2 = data_group[group_2][i] / users_per_group[group_2]\n",
    "        # пропорция успехов в комбинированном датасете:\n",
    "        p_combined = ((data_group[group_1][i] + data_group[group_2][i]) / \n",
    "                      (users_per_group[group_1] + users_per_group[group_2]))\n",
    "        # разница пропорций в датасетах\n",
    "        difference = p1 - p2\n",
    "        # считаем статистику в ст.отклонениях стандартного нормального распределения\n",
    "        z_value = difference / mth.sqrt(p_combined * (1 - p_combined) * \n",
    "                                        (1/users_per_group[group_1] + 1/users_per_group[group_2]))\n",
    "        # задаем стандартное нормальное распределение (среднее 0, ст.отклонение 1)\n",
    "        distr = st.norm(0, 1) \n",
    "        p_value = (1 - distr.cdf(abs(z_value))) * 2\n",
    "        print('{} p-значение: {}'.format(data_group['event_name'][i], p_value))\n",
    "        if (p_value < alpha):\n",
    "            print(\"Отвергаем нулевую гипотезу: между долями есть значимая разница\")\n",
    "        else:\n",
    "            print(\"Не получилось отвергнуть нулевую гипотезу, нет оснований считать доли разными\")\n",
    "        print('')"
   ]
  },
  {
   "cell_type": "markdown",
   "metadata": {},
   "source": [
    "Теперь можем выполнить проверку пункта 3: Различие ключевых метрик по группам не превышает 1% и не имеет статистической значимости  \n",
    "т.е. значение alpha = 0,01\n",
    "\n",
    "Сформулируем гипотезы:\n",
    "\n",
    "* Н0: Разница между долями контрольных групп 246 и 247 отсутствует\n",
    "* Н1: Разница между долями контрольных групп 246 и 247 присутсвтует \n",
    "\n",
    "И запустим функцию для проверки, находят ли статистические критерии разницу между выборками 246 и 247"
   ]
  },
  {
   "cell_type": "code",
   "execution_count": 38,
   "metadata": {},
   "outputs": [
    {
     "name": "stdout",
     "output_type": "stream",
     "text": [
      "MainScreenAppear p-значение: 0.7526703436483038\n",
      "Не получилось отвергнуть нулевую гипотезу, нет оснований считать доли разными\n",
      "\n",
      "OffersScreenAppear p-значение: 0.24786096925282264\n",
      "Не получилось отвергнуть нулевую гипотезу, нет оснований считать доли разными\n",
      "\n",
      "CartScreenAppear p-значение: 0.22867643757335676\n",
      "Не получилось отвергнуть нулевую гипотезу, нет оснований считать доли разными\n",
      "\n",
      "PaymentScreenSuccessful p-значение: 0.11446627829276612\n",
      "Не получилось отвергнуть нулевую гипотезу, нет оснований считать доли разными\n",
      "\n"
     ]
    }
   ],
   "source": [
    "aab_test(246, 247, 0.01)"
   ]
  },
  {
   "cell_type": "markdown",
   "metadata": {},
   "source": [
    "Ни по одному из событий не получилось отвергнуть нулевую гипотезу, соответственно, последний пункт проверки на успешность для А/А-эксперимента подтвержден, т.е. **контрольные группы 246 и 247 составлены корректно**"
   ]
  },
  {
   "cell_type": "markdown",
   "metadata": {},
   "source": [
    "### Разбор самого популярного события в группе с изменённым шрифтом\n",
    "Аналогично поступите с группой с изменённым шрифтом. Сравните результаты с каждой из контрольных групп в отдельности по каждому событию. Сравните результаты с объединённой контрольной группой. Какие выводы из эксперимента можно сделать?"
   ]
  },
  {
   "cell_type": "markdown",
   "metadata": {},
   "source": [
    "Используя ту же функцию, мы можем сравнить результаты с каждой из контрольных групп в отдельности по каждому событию, т.е. 246 и 248, и 247 и 248  \n",
    "В случае проведения A/B-тестирования критический уровень статистической значимости примем 5%, т.е. alpha = 0,05"
   ]
  },
  {
   "cell_type": "markdown",
   "metadata": {},
   "source": [
    "Проведем тест для групп 246 и 248  \n",
    "\n",
    "Сформулируем гипотезы: \n",
    "* Н0: Разница между долями контрольной групы 246 и экспериментальной 248 отсутствует\n",
    "* Н1: Разница между долями контрольной групы 246 и экспериментальной 248 присутсвтует\n",
    "\n",
    "alpha = 0,05"
   ]
  },
  {
   "cell_type": "code",
   "execution_count": 39,
   "metadata": {
    "scrolled": true
   },
   "outputs": [
    {
     "name": "stdout",
     "output_type": "stream",
     "text": [
      "MainScreenAppear p-значение: 0.3387114076159288\n",
      "Не получилось отвергнуть нулевую гипотезу, нет оснований считать доли разными\n",
      "\n",
      "OffersScreenAppear p-значение: 0.21442476639710506\n",
      "Не получилось отвергнуть нулевую гипотезу, нет оснований считать доли разными\n",
      "\n",
      "CartScreenAppear p-значение: 0.08067367598823139\n",
      "Не получилось отвергнуть нулевую гипотезу, нет оснований считать доли разными\n",
      "\n",
      "PaymentScreenSuccessful p-значение: 0.21693033984516674\n",
      "Не получилось отвергнуть нулевую гипотезу, нет оснований считать доли разными\n",
      "\n"
     ]
    }
   ],
   "source": [
    "aab_test(246, 248, 0.05)"
   ]
  },
  {
   "cell_type": "markdown",
   "metadata": {},
   "source": [
    "Сравнение групп 246 и 248 показало, что между группами **нет значимой разницы ни по одному событию** "
   ]
  },
  {
   "cell_type": "markdown",
   "metadata": {},
   "source": [
    "Теперь проведем аналогичный тест для групп 247 и 248, сформулируем гипотезы:\n",
    "\n",
    "* Н0: Разница между долями контрольной групы 247 и экспериментальной 248 отсутствует\n",
    "* Н1: Разница между долями контрольной групы 247 и экспериментальной 248 присутсвтует\n",
    "\n",
    "alpha = 0,05"
   ]
  },
  {
   "cell_type": "code",
   "execution_count": 40,
   "metadata": {},
   "outputs": [
    {
     "name": "stdout",
     "output_type": "stream",
     "text": [
      "MainScreenAppear p-значение: 0.5194964354051703\n",
      "Не получилось отвергнуть нулевую гипотезу, нет оснований считать доли разными\n",
      "\n",
      "OffersScreenAppear p-значение: 0.9333751305879443\n",
      "Не получилось отвергнуть нулевую гипотезу, нет оснований считать доли разными\n",
      "\n",
      "CartScreenAppear p-значение: 0.5878284605111943\n",
      "Не получилось отвергнуть нулевую гипотезу, нет оснований считать доли разными\n",
      "\n",
      "PaymentScreenSuccessful p-значение: 0.7275718682261119\n",
      "Не получилось отвергнуть нулевую гипотезу, нет оснований считать доли разными\n",
      "\n"
     ]
    }
   ],
   "source": [
    "aab_test(247, 248, 0.05)"
   ]
  },
  {
   "cell_type": "markdown",
   "metadata": {},
   "source": [
    "Между группами 247 и 248 также **нет значимой разницы ни по одному событию**"
   ]
  },
  {
   "cell_type": "markdown",
   "metadata": {},
   "source": [
    "Следующий шаг - сравнить результаты с объединённой контрольной группой  \n",
    "Для этого в таблицу users_per_group и data_group нужно добавить столбец, которых объединит 246 и 247 группу"
   ]
  },
  {
   "cell_type": "code",
   "execution_count": 41,
   "metadata": {},
   "outputs": [],
   "source": [
    "# добавим в таблицу users_per_group новый столбец с количествои пользователей в двух группах\n",
    "users_per_group['join_246_247'] = users_per_group[246] + users_per_group[247]\n",
    "# добавим в таблицу data_group новый столбец с количествои пользователей в двух группах\n",
    "data_group['join_246_247'] = data_group[246] + data_group[247]\n",
    "# добавим в таблицу data_group новый столбец с долей пользователей в двух группах\n",
    "data_group['share_join_246_247'] = ((data_group[246] + data_group[247]) / \\\n",
    "                                  (users_per_group[246] + users_per_group[247]) * 100).round(2)"
   ]
  },
  {
   "cell_type": "markdown",
   "metadata": {},
   "source": [
    "Теперь можем применить функцию для проведения теста  \n",
    "\n",
    "Сформулируем гипотезы:\n",
    "* Н0: Разница между долями объединенной контрольной групы 246+247 и экспериментальной 248 отсутствует\n",
    "* Н1: Разница между долями объединенной контрольной групы 246+247 и экспериментальной 248 присутсвтует\n",
    "\n",
    "alpha = 0,05"
   ]
  },
  {
   "cell_type": "code",
   "execution_count": 42,
   "metadata": {
    "scrolled": true
   },
   "outputs": [
    {
     "name": "stdout",
     "output_type": "stream",
     "text": [
      "MainScreenAppear p-значение: 0.3486684291093256\n",
      "Не получилось отвергнуть нулевую гипотезу, нет оснований считать доли разными\n",
      "\n",
      "OffersScreenAppear p-значение: 0.44582745409482394\n",
      "Не получилось отвергнуть нулевую гипотезу, нет оснований считать доли разными\n",
      "\n",
      "CartScreenAppear p-значение: 0.18683558686831558\n",
      "Не получилось отвергнуть нулевую гипотезу, нет оснований считать доли разными\n",
      "\n",
      "PaymentScreenSuccessful p-значение: 0.6107918742187335\n",
      "Не получилось отвергнуть нулевую гипотезу, нет оснований считать доли разными\n",
      "\n"
     ]
    }
   ],
   "source": [
    "aab_test('join_246_247', 248, 0.05)"
   ]
  },
  {
   "cell_type": "markdown",
   "metadata": {},
   "source": [
    "Результаты по боъединенной контрольной группе не изменились по сравнению с отдельными: между объединенной группой и 248 также **нет значимой разницы ни по одному событию**"
   ]
  },
  {
   "cell_type": "markdown",
   "metadata": {},
   "source": [
    "### Проверка уровня значимости\n",
    "Какой уровень значимости вы выбрали при проверке статистических гипотез выше? Посчитайте, сколько проверок статистических гипотез вы сделали. При уровне значимости 0.1 каждый десятый раз можно получать ложный результат. Какой уровень значимости стоит применить? Если вы хотите изменить его, проделайте предыдущие пункты и проверьте свои выводы."
   ]
  },
  {
   "cell_type": "markdown",
   "metadata": {},
   "source": [
    "При проверке статистических гипотез в А/А-тесте был выбран уровень значимости 1%, а для А/В-теста - 5%  \n",
    "Проведено 4 проверки по группам: 246 - 247, 246 - 248, 247 - 248, 246+247 - 248, а в каждой проверке - по 4 события, т.е. всего было проведено 16 проверок  \n",
    "Для того, чтобы проверить, корректно ли были выбраны уровни значимости, нужно применить метод Бонферрони:  \n",
    "Уровни значимости в каждом из m сравнений в m раз меньше, чем уровень значимости, требуемый при единственном сравнении  \n",
    "т.е. разделить уровень значимости alpha на число гипотез  \n",
    "\n",
    "При множественном тесте с каждой новой проверкой гипотезы растёт вероятность ошибки первого рода   \n",
    "Поэтому посчитаем вероятность ошибиться хотя бы раз за k сравнений для А/А-теста и А/В-теста:"
   ]
  },
  {
   "cell_type": "code",
   "execution_count": 43,
   "metadata": {},
   "outputs": [
    {
     "data": {
      "text/plain": [
       "0.039403990000000055"
      ]
     },
     "execution_count": 43,
     "metadata": {},
     "output_type": "execute_result"
    }
   ],
   "source": [
    "# для А/А-теста\n",
    "alpha=0.01\n",
    "k=4\n",
    "\n",
    "1-(1-alpha)**k"
   ]
  },
  {
   "cell_type": "markdown",
   "metadata": {},
   "source": [
    "Вероятность ошибиться при проведении А/А теста составляет 4%, это низкая вероятность, соответственно, уровень значимости выбран корректно"
   ]
  },
  {
   "cell_type": "code",
   "execution_count": 44,
   "metadata": {},
   "outputs": [
    {
     "data": {
      "text/plain": [
       "0.45963991233736334"
      ]
     },
     "execution_count": 44,
     "metadata": {},
     "output_type": "execute_result"
    }
   ],
   "source": [
    "# для А/В-теста\n",
    "alpha=0.05\n",
    "k=12\n",
    "\n",
    "1-(1-alpha)**k"
   ]
  },
  {
   "cell_type": "markdown",
   "metadata": {},
   "source": [
    "Вероятность ошибиться при проведении А/В теста составляет 46%, это много  \n",
    "Для того чтобы снизить вероятность ошибки, нужно применить метод Бонферрони:  \n",
    "Уровни значимости в каждом из m сравнений в m раз меньше, чем уровень значимости, требуемый при единственном сравнении  \n",
    "т.е. разделить уровень значимости alpha на число гипотез - в А/В-тесте мы проверили 12 статистических гипотез, значит выбранный уровень значимости alpha=0,05 нужно разделить на 12   "
   ]
  },
  {
   "cell_type": "code",
   "execution_count": 45,
   "metadata": {},
   "outputs": [
    {
     "data": {
      "text/plain": [
       "0.004166666666666667"
      ]
     },
     "execution_count": 45,
     "metadata": {},
     "output_type": "execute_result"
    }
   ],
   "source": [
    "# посчитаем alpha с учетом метода Бонферрони\n",
    "alpha_bonf = 0.05/12\n",
    "alpha_bonf"
   ]
  },
  {
   "cell_type": "code",
   "execution_count": 46,
   "metadata": {},
   "outputs": [
    {
     "data": {
      "text/plain": [
       "0.04886993281129881"
      ]
     },
     "execution_count": 46,
     "metadata": {},
     "output_type": "execute_result"
    }
   ],
   "source": [
    "# посчитаем вероятность ошибиться с новым alpha\n",
    "1-(1-alpha_bonf)**k"
   ]
  },
  {
   "cell_type": "markdown",
   "metadata": {},
   "source": [
    "Вероятность ошибиться с учтеом поправки Бонферрони снизилась до 5%, при этом alpha = 0,04  \n",
    "Еще раз проведем тесты, чтобы проверить, изменится ли статистическая значимость"
   ]
  },
  {
   "cell_type": "code",
   "execution_count": 47,
   "metadata": {},
   "outputs": [
    {
     "name": "stdout",
     "output_type": "stream",
     "text": [
      "MainScreenAppear p-значение: 0.7526703436483038\n",
      "Не получилось отвергнуть нулевую гипотезу, нет оснований считать доли разными\n",
      "\n",
      "OffersScreenAppear p-значение: 0.24786096925282264\n",
      "Не получилось отвергнуть нулевую гипотезу, нет оснований считать доли разными\n",
      "\n",
      "CartScreenAppear p-значение: 0.22867643757335676\n",
      "Не получилось отвергнуть нулевую гипотезу, нет оснований считать доли разными\n",
      "\n",
      "PaymentScreenSuccessful p-значение: 0.11446627829276612\n",
      "Не получилось отвергнуть нулевую гипотезу, нет оснований считать доли разными\n",
      "\n"
     ]
    }
   ],
   "source": [
    "aab_test(246, 247, 0.004)"
   ]
  },
  {
   "cell_type": "code",
   "execution_count": 48,
   "metadata": {},
   "outputs": [
    {
     "name": "stdout",
     "output_type": "stream",
     "text": [
      "MainScreenAppear p-значение: 0.3387114076159288\n",
      "Не получилось отвергнуть нулевую гипотезу, нет оснований считать доли разными\n",
      "\n",
      "OffersScreenAppear p-значение: 0.21442476639710506\n",
      "Не получилось отвергнуть нулевую гипотезу, нет оснований считать доли разными\n",
      "\n",
      "CartScreenAppear p-значение: 0.08067367598823139\n",
      "Не получилось отвергнуть нулевую гипотезу, нет оснований считать доли разными\n",
      "\n",
      "PaymentScreenSuccessful p-значение: 0.21693033984516674\n",
      "Не получилось отвергнуть нулевую гипотезу, нет оснований считать доли разными\n",
      "\n"
     ]
    }
   ],
   "source": [
    "aab_test(246, 248, 0.004)"
   ]
  },
  {
   "cell_type": "code",
   "execution_count": 49,
   "metadata": {},
   "outputs": [
    {
     "name": "stdout",
     "output_type": "stream",
     "text": [
      "MainScreenAppear p-значение: 0.5194964354051703\n",
      "Не получилось отвергнуть нулевую гипотезу, нет оснований считать доли разными\n",
      "\n",
      "OffersScreenAppear p-значение: 0.9333751305879443\n",
      "Не получилось отвергнуть нулевую гипотезу, нет оснований считать доли разными\n",
      "\n",
      "CartScreenAppear p-значение: 0.5878284605111943\n",
      "Не получилось отвергнуть нулевую гипотезу, нет оснований считать доли разными\n",
      "\n",
      "PaymentScreenSuccessful p-значение: 0.7275718682261119\n",
      "Не получилось отвергнуть нулевую гипотезу, нет оснований считать доли разными\n",
      "\n"
     ]
    }
   ],
   "source": [
    "aab_test(247, 248, 0.004)"
   ]
  },
  {
   "cell_type": "code",
   "execution_count": 50,
   "metadata": {
    "scrolled": true
   },
   "outputs": [
    {
     "name": "stdout",
     "output_type": "stream",
     "text": [
      "MainScreenAppear p-значение: 0.3486684291093256\n",
      "Не получилось отвергнуть нулевую гипотезу, нет оснований считать доли разными\n",
      "\n",
      "OffersScreenAppear p-значение: 0.44582745409482394\n",
      "Не получилось отвергнуть нулевую гипотезу, нет оснований считать доли разными\n",
      "\n",
      "CartScreenAppear p-значение: 0.18683558686831558\n",
      "Не получилось отвергнуть нулевую гипотезу, нет оснований считать доли разными\n",
      "\n",
      "PaymentScreenSuccessful p-значение: 0.6107918742187335\n",
      "Не получилось отвергнуть нулевую гипотезу, нет оснований считать доли разными\n",
      "\n"
     ]
    }
   ],
   "source": [
    "aab_test('join_246_247', 248, 0.004)"
   ]
  },
  {
   "cell_type": "markdown",
   "metadata": {},
   "source": [
    "При уменьшении уровня значимости alpha с 0,05 до 0,004 результаты проверки статистических гипотез не изменились  \n",
    "Соответственно, выводы были сделаны верно и при alpha=0,05  "
   ]
  },
  {
   "cell_type": "markdown",
   "metadata": {},
   "source": [
    "### Вывод по шагу 5: \n",
    "Гипотеза Н0 о том, что разница между выборками отсутствует ни разу не была отвергнута, это означает, что новые шрифты не вызовут бОльшую заинтересованность пользователей, т.е. **нет смысла задействовать ресурсы компании на изменение шрифтов в приложении**"
   ]
  },
  {
   "cell_type": "markdown",
   "metadata": {},
   "source": [
    "## Общий вывод"
   ]
  },
  {
   "cell_type": "markdown",
   "metadata": {},
   "source": [
    "При изучении воронки продаж было выявлено следующее:\n",
    "* В датафрейме присутствуют данные с 25.07.2019 по 07.08.2019, однако полные данные начинаются с 01.08.2019, при этом данных с 25.07.2019 по 31.07.2019 составляют всего 1,16% от всех событий и 0,23% от всех прльзователей, поэтому анализ проводился на данных с 01.08.2019 по 07.08.2019  \n",
    "* В логе всего 7 551 пользователей  \n",
    "* В среднем на пользователя приходится 32 события  \n",
    "* Всего 5 событий:\n",
    "    * Появление главной страницы\n",
    "    * Появление страницы с предложением\n",
    "    * Открытие корзины\n",
    "    * Экран успешной оплаты\n",
    "    * Туториал (инструкция или обучающий ролик)\n",
    "* Чаще всего встречается появление главной страницы, а реже всего - туториал  \n",
    "* На главную страницу перешли 7 419 или 98% пользователей, страница с предложением появилась у 4593 или 61%, на этап корзины вышли 3 734 или 50%, экран успешной оплаты появился у 3 539 или 47%, а туториал - у 840 или 11% пользователей  \n",
    "* В разрезе доли пользователей, которые переходят на следующий шаг воронки:\n",
    "    * с главного экрана на экран предложений переходит 62% пользователей,\n",
    "    * со страницы предложения в корзину переходит 81% пользователей,\n",
    "    * из корзины успешную оплату совершают 95% пользователей.\n",
    "* Больше всего пользователей теряются при переходе с главной страницы на страницу предложения\n",
    "* От первого события до оплаты доходит 48% пользователей  \n",
    "\n",
    "Далее было проведено иссследование результатов A/A/B-эксперимента для выбора шрифта: \n",
    "* Данные для А/А-теста подобраны корректно  \n",
    "* Было проведено суммарно 16 проверок - 4 по А/А и 12 по А/В, по результатам всех 16 тестов не получилось отвергнуть нулевую гипотезу, нет оснований считать доли разными, т.е. новые шрифты не вызовут бОльшую заинтересованность пользователей, т.е. нет оснований задействовать ресурсы компании на изменение шрифтов в приложении"
   ]
  }
 ],
 "metadata": {
  "ExecuteTimeLog": [
   {
    "duration": 1377,
    "start_time": "2023-03-01T20:15:22.383Z"
   },
   {
    "duration": 838,
    "start_time": "2023-03-01T20:17:10.658Z"
   },
   {
    "duration": 11,
    "start_time": "2023-03-01T20:17:24.419Z"
   },
   {
    "duration": 68,
    "start_time": "2023-03-01T20:17:39.312Z"
   },
   {
    "duration": 159,
    "start_time": "2023-03-01T20:17:51.961Z"
   },
   {
    "duration": 8,
    "start_time": "2023-03-01T20:17:54.545Z"
   },
   {
    "duration": 19,
    "start_time": "2023-03-01T20:18:49.603Z"
   },
   {
    "duration": 24,
    "start_time": "2023-03-01T21:11:55.146Z"
   },
   {
    "duration": 4,
    "start_time": "2023-03-01T21:30:14.437Z"
   },
   {
    "duration": 20,
    "start_time": "2023-03-01T21:30:56.232Z"
   },
   {
    "duration": 20,
    "start_time": "2023-03-01T21:32:01.944Z"
   },
   {
    "duration": 8,
    "start_time": "2023-03-01T21:36:45.173Z"
   },
   {
    "duration": 65,
    "start_time": "2023-03-01T21:38:07.070Z"
   },
   {
    "duration": 108,
    "start_time": "2023-03-01T21:41:32.618Z"
   },
   {
    "duration": 57,
    "start_time": "2023-03-01T21:41:41.114Z"
   },
   {
    "duration": 73,
    "start_time": "2023-03-01T21:42:45.711Z"
   },
   {
    "duration": 60,
    "start_time": "2023-03-01T21:42:56.346Z"
   },
   {
    "duration": 4,
    "start_time": "2023-03-01T21:43:18.244Z"
   },
   {
    "duration": 68,
    "start_time": "2023-03-01T21:45:40.180Z"
   },
   {
    "duration": 3,
    "start_time": "2023-03-01T21:45:44.993Z"
   },
   {
    "duration": 154,
    "start_time": "2023-03-01T21:45:45.002Z"
   },
   {
    "duration": 8,
    "start_time": "2023-03-01T21:45:45.158Z"
   },
   {
    "duration": 22,
    "start_time": "2023-03-01T21:45:45.167Z"
   },
   {
    "duration": 14,
    "start_time": "2023-03-01T21:45:45.192Z"
   },
   {
    "duration": 3,
    "start_time": "2023-03-01T21:45:45.208Z"
   },
   {
    "duration": 11,
    "start_time": "2023-03-01T21:45:45.213Z"
   },
   {
    "duration": 19,
    "start_time": "2023-03-01T21:45:45.225Z"
   },
   {
    "duration": 81,
    "start_time": "2023-03-01T21:45:45.246Z"
   },
   {
    "duration": 59,
    "start_time": "2023-03-01T21:45:45.329Z"
   },
   {
    "duration": 67,
    "start_time": "2023-03-01T21:45:45.404Z"
   },
   {
    "duration": 68,
    "start_time": "2023-03-01T21:45:45.473Z"
   },
   {
    "duration": 70,
    "start_time": "2023-03-01T21:46:44.195Z"
   },
   {
    "duration": 65,
    "start_time": "2023-03-01T21:46:53.600Z"
   },
   {
    "duration": 53,
    "start_time": "2023-03-01T21:47:55.538Z"
   },
   {
    "duration": 3,
    "start_time": "2023-03-01T21:48:01.098Z"
   },
   {
    "duration": 170,
    "start_time": "2023-03-01T21:48:01.104Z"
   },
   {
    "duration": 8,
    "start_time": "2023-03-01T21:48:01.276Z"
   },
   {
    "duration": 44,
    "start_time": "2023-03-01T21:48:01.286Z"
   },
   {
    "duration": 24,
    "start_time": "2023-03-01T21:48:01.333Z"
   },
   {
    "duration": 24,
    "start_time": "2023-03-01T21:48:01.359Z"
   },
   {
    "duration": 24,
    "start_time": "2023-03-01T21:48:01.385Z"
   },
   {
    "duration": 34,
    "start_time": "2023-03-01T21:48:01.411Z"
   },
   {
    "duration": 61,
    "start_time": "2023-03-01T21:48:01.447Z"
   },
   {
    "duration": 51,
    "start_time": "2023-03-01T21:48:01.510Z"
   },
   {
    "duration": 72,
    "start_time": "2023-03-01T21:48:01.563Z"
   },
   {
    "duration": 56,
    "start_time": "2023-03-01T21:48:01.637Z"
   },
   {
    "duration": 48,
    "start_time": "2023-03-01T21:48:14.630Z"
   },
   {
    "duration": 52,
    "start_time": "2023-03-01T21:48:48.617Z"
   },
   {
    "duration": 3,
    "start_time": "2023-03-01T21:48:58.128Z"
   },
   {
    "duration": 149,
    "start_time": "2023-03-01T21:48:58.133Z"
   },
   {
    "duration": 8,
    "start_time": "2023-03-01T21:48:58.284Z"
   },
   {
    "duration": 24,
    "start_time": "2023-03-01T21:48:58.294Z"
   },
   {
    "duration": 4,
    "start_time": "2023-03-01T21:48:58.320Z"
   },
   {
    "duration": 11,
    "start_time": "2023-03-01T21:48:58.326Z"
   },
   {
    "duration": 14,
    "start_time": "2023-03-01T21:48:58.339Z"
   },
   {
    "duration": 18,
    "start_time": "2023-03-01T21:48:58.355Z"
   },
   {
    "duration": 66,
    "start_time": "2023-03-01T21:48:58.375Z"
   },
   {
    "duration": 70,
    "start_time": "2023-03-01T21:48:58.444Z"
   },
   {
    "duration": 57,
    "start_time": "2023-03-01T21:48:58.516Z"
   },
   {
    "duration": 65,
    "start_time": "2023-03-01T21:48:58.575Z"
   },
   {
    "duration": 49,
    "start_time": "2023-03-01T21:52:51.810Z"
   },
   {
    "duration": 9,
    "start_time": "2023-03-01T21:55:28.502Z"
   },
   {
    "duration": 19,
    "start_time": "2023-03-01T21:55:38.780Z"
   },
   {
    "duration": 8,
    "start_time": "2023-03-01T21:55:55.003Z"
   },
   {
    "duration": 4,
    "start_time": "2023-03-01T22:00:01.262Z"
   },
   {
    "duration": 4,
    "start_time": "2023-03-01T22:00:03.729Z"
   },
   {
    "duration": 156,
    "start_time": "2023-03-01T22:00:03.740Z"
   },
   {
    "duration": 13,
    "start_time": "2023-03-01T22:00:03.898Z"
   },
   {
    "duration": 28,
    "start_time": "2023-03-01T22:00:03.914Z"
   },
   {
    "duration": 6,
    "start_time": "2023-03-01T22:00:03.945Z"
   },
   {
    "duration": 19,
    "start_time": "2023-03-01T22:00:03.953Z"
   },
   {
    "duration": 24,
    "start_time": "2023-03-01T22:00:03.974Z"
   },
   {
    "duration": 31,
    "start_time": "2023-03-01T22:00:04.000Z"
   },
   {
    "duration": 60,
    "start_time": "2023-03-01T22:00:04.033Z"
   },
   {
    "duration": 63,
    "start_time": "2023-03-01T22:00:04.095Z"
   },
   {
    "duration": 84,
    "start_time": "2023-03-01T22:00:04.161Z"
   },
   {
    "duration": 65,
    "start_time": "2023-03-01T22:00:04.247Z"
   },
   {
    "duration": 9,
    "start_time": "2023-03-01T22:00:04.314Z"
   },
   {
    "duration": 24,
    "start_time": "2023-03-01T22:00:04.325Z"
   },
   {
    "duration": 9,
    "start_time": "2023-03-01T22:00:04.351Z"
   },
   {
    "duration": 1097,
    "start_time": "2023-03-01T22:05:40.215Z"
   },
   {
    "duration": 5,
    "start_time": "2023-03-01T22:06:05.068Z"
   },
   {
    "duration": 9,
    "start_time": "2023-03-01T22:06:12.216Z"
   },
   {
    "duration": 127,
    "start_time": "2023-03-01T22:07:08.530Z"
   },
   {
    "duration": 9,
    "start_time": "2023-03-01T22:07:13.807Z"
   },
   {
    "duration": 3,
    "start_time": "2023-03-01T22:07:20.398Z"
   },
   {
    "duration": 156,
    "start_time": "2023-03-01T22:07:20.405Z"
   },
   {
    "duration": 7,
    "start_time": "2023-03-01T22:07:20.563Z"
   },
   {
    "duration": 21,
    "start_time": "2023-03-01T22:07:20.572Z"
   },
   {
    "duration": 11,
    "start_time": "2023-03-01T22:07:20.595Z"
   },
   {
    "duration": 5,
    "start_time": "2023-03-01T22:07:20.608Z"
   },
   {
    "duration": 12,
    "start_time": "2023-03-01T22:07:20.615Z"
   },
   {
    "duration": 15,
    "start_time": "2023-03-01T22:07:20.628Z"
   },
   {
    "duration": 77,
    "start_time": "2023-03-01T22:07:20.645Z"
   },
   {
    "duration": 57,
    "start_time": "2023-03-01T22:07:20.724Z"
   },
   {
    "duration": 73,
    "start_time": "2023-03-01T22:07:20.783Z"
   },
   {
    "duration": 64,
    "start_time": "2023-03-01T22:07:20.858Z"
   },
   {
    "duration": 9,
    "start_time": "2023-03-01T22:07:20.923Z"
   },
   {
    "duration": 19,
    "start_time": "2023-03-01T22:07:20.934Z"
   },
   {
    "duration": 9,
    "start_time": "2023-03-01T22:07:20.955Z"
   },
   {
    "duration": 123,
    "start_time": "2023-03-01T22:07:20.965Z"
   },
   {
    "duration": 9,
    "start_time": "2023-03-01T22:07:21.089Z"
   },
   {
    "duration": 18,
    "start_time": "2023-03-01T22:08:22.409Z"
   },
   {
    "duration": 4,
    "start_time": "2023-03-01T22:14:49.513Z"
   },
   {
    "duration": 11,
    "start_time": "2023-03-01T22:15:31.063Z"
   },
   {
    "duration": 18,
    "start_time": "2023-03-01T22:19:39.577Z"
   },
   {
    "duration": 5,
    "start_time": "2023-03-01T22:21:49.530Z"
   },
   {
    "duration": 1477,
    "start_time": "2023-03-01T22:24:21.886Z"
   },
   {
    "duration": 416,
    "start_time": "2023-03-01T22:24:29.701Z"
   },
   {
    "duration": 551,
    "start_time": "2023-03-01T22:24:42.215Z"
   },
   {
    "duration": 433,
    "start_time": "2023-03-01T22:24:47.003Z"
   },
   {
    "duration": 423,
    "start_time": "2023-03-01T22:25:04.892Z"
   },
   {
    "duration": 393,
    "start_time": "2023-03-01T22:25:50.562Z"
   },
   {
    "duration": 19,
    "start_time": "2023-03-01T22:59:25.354Z"
   },
   {
    "duration": 6,
    "start_time": "2023-03-01T22:59:40.902Z"
   },
   {
    "duration": 5,
    "start_time": "2023-03-01T23:05:57.067Z"
   },
   {
    "duration": 5,
    "start_time": "2023-03-01T23:06:11.342Z"
   },
   {
    "duration": 11,
    "start_time": "2023-03-01T23:09:18.114Z"
   },
   {
    "duration": 31,
    "start_time": "2023-03-01T23:09:46.404Z"
   },
   {
    "duration": 58,
    "start_time": "2023-03-01T23:16:52.404Z"
   },
   {
    "duration": 32,
    "start_time": "2023-03-01T23:17:00.795Z"
   },
   {
    "duration": 35,
    "start_time": "2023-03-01T23:17:34.930Z"
   },
   {
    "duration": 36,
    "start_time": "2023-03-01T23:26:20.980Z"
   },
   {
    "duration": 1312,
    "start_time": "2023-03-02T08:49:23.431Z"
   },
   {
    "duration": 497,
    "start_time": "2023-03-02T08:49:24.745Z"
   },
   {
    "duration": 14,
    "start_time": "2023-03-02T08:49:25.244Z"
   },
   {
    "duration": 31,
    "start_time": "2023-03-02T08:49:25.261Z"
   },
   {
    "duration": 5,
    "start_time": "2023-03-02T08:49:25.294Z"
   },
   {
    "duration": 12,
    "start_time": "2023-03-02T08:49:25.301Z"
   },
   {
    "duration": 13,
    "start_time": "2023-03-02T08:49:25.316Z"
   },
   {
    "duration": 44,
    "start_time": "2023-03-02T08:49:25.331Z"
   },
   {
    "duration": 80,
    "start_time": "2023-03-02T08:49:25.378Z"
   },
   {
    "duration": 60,
    "start_time": "2023-03-02T08:49:25.461Z"
   },
   {
    "duration": 81,
    "start_time": "2023-03-02T08:49:25.523Z"
   },
   {
    "duration": 70,
    "start_time": "2023-03-02T08:49:25.606Z"
   },
   {
    "duration": 11,
    "start_time": "2023-03-02T08:49:25.678Z"
   },
   {
    "duration": 20,
    "start_time": "2023-03-02T08:49:25.690Z"
   },
   {
    "duration": 148,
    "start_time": "2023-03-02T08:49:25.711Z"
   },
   {
    "duration": 9,
    "start_time": "2023-03-02T08:49:25.860Z"
   },
   {
    "duration": 10,
    "start_time": "2023-03-02T08:49:25.871Z"
   },
   {
    "duration": 14,
    "start_time": "2023-03-02T08:49:25.883Z"
   },
   {
    "duration": 25,
    "start_time": "2023-03-02T08:49:25.899Z"
   },
   {
    "duration": 24,
    "start_time": "2023-03-02T08:49:25.926Z"
   },
   {
    "duration": 505,
    "start_time": "2023-03-02T08:49:25.951Z"
   },
   {
    "duration": 19,
    "start_time": "2023-03-02T08:49:26.457Z"
   },
   {
    "duration": 6,
    "start_time": "2023-03-02T08:49:26.478Z"
   },
   {
    "duration": 4,
    "start_time": "2023-03-02T08:49:26.486Z"
   },
   {
    "duration": 27,
    "start_time": "2023-03-02T08:49:26.492Z"
   },
   {
    "duration": 32,
    "start_time": "2023-03-02T08:49:26.548Z"
   },
   {
    "duration": 39,
    "start_time": "2023-03-02T08:49:26.582Z"
   },
   {
    "duration": 5,
    "start_time": "2023-03-02T08:52:09.152Z"
   },
   {
    "duration": 20,
    "start_time": "2023-03-02T09:26:12.968Z"
   },
   {
    "duration": 98,
    "start_time": "2023-03-02T09:58:23.097Z"
   },
   {
    "duration": 1036,
    "start_time": "2023-03-02T10:46:18.772Z"
   },
   {
    "duration": 19,
    "start_time": "2023-03-02T10:46:29.468Z"
   },
   {
    "duration": 13,
    "start_time": "2023-03-02T10:47:23.579Z"
   },
   {
    "duration": 19,
    "start_time": "2023-03-02T10:47:35.046Z"
   },
   {
    "duration": 15,
    "start_time": "2023-03-02T10:47:54.671Z"
   },
   {
    "duration": 4,
    "start_time": "2023-03-02T10:48:02.096Z"
   },
   {
    "duration": 208,
    "start_time": "2023-03-02T10:48:02.102Z"
   },
   {
    "duration": 10,
    "start_time": "2023-03-02T10:48:02.312Z"
   },
   {
    "duration": 48,
    "start_time": "2023-03-02T10:48:02.324Z"
   },
   {
    "duration": 18,
    "start_time": "2023-03-02T10:48:02.374Z"
   },
   {
    "duration": 19,
    "start_time": "2023-03-02T10:48:02.394Z"
   },
   {
    "duration": 31,
    "start_time": "2023-03-02T10:48:02.415Z"
   },
   {
    "duration": 55,
    "start_time": "2023-03-02T10:48:02.452Z"
   },
   {
    "duration": 102,
    "start_time": "2023-03-02T10:48:02.510Z"
   },
   {
    "duration": 73,
    "start_time": "2023-03-02T10:48:02.614Z"
   },
   {
    "duration": 70,
    "start_time": "2023-03-02T10:48:02.689Z"
   },
   {
    "duration": 68,
    "start_time": "2023-03-02T10:48:02.762Z"
   },
   {
    "duration": 14,
    "start_time": "2023-03-02T10:48:02.841Z"
   },
   {
    "duration": 48,
    "start_time": "2023-03-02T10:48:02.862Z"
   },
   {
    "duration": 184,
    "start_time": "2023-03-02T10:48:02.912Z"
   },
   {
    "duration": 10,
    "start_time": "2023-03-02T10:48:03.100Z"
   },
   {
    "duration": 60,
    "start_time": "2023-03-02T10:48:03.112Z"
   },
   {
    "duration": 35,
    "start_time": "2023-03-02T10:48:03.173Z"
   },
   {
    "duration": 20,
    "start_time": "2023-03-02T10:48:03.210Z"
   },
   {
    "duration": 6,
    "start_time": "2023-03-02T10:48:03.237Z"
   },
   {
    "duration": 469,
    "start_time": "2023-03-02T10:48:03.245Z"
   },
   {
    "duration": 15,
    "start_time": "2023-03-02T10:48:03.716Z"
   },
   {
    "duration": 16,
    "start_time": "2023-03-02T10:48:03.733Z"
   },
   {
    "duration": 34,
    "start_time": "2023-03-02T10:48:03.752Z"
   },
   {
    "duration": 37,
    "start_time": "2023-03-02T10:48:03.788Z"
   },
   {
    "duration": 47,
    "start_time": "2023-03-02T10:48:03.828Z"
   },
   {
    "duration": 42,
    "start_time": "2023-03-02T10:48:03.877Z"
   },
   {
    "duration": 46,
    "start_time": "2023-03-02T10:48:03.921Z"
   },
   {
    "duration": 190,
    "start_time": "2023-03-02T10:48:03.969Z"
   },
   {
    "duration": 19,
    "start_time": "2023-03-02T10:48:04.161Z"
   },
   {
    "duration": 6,
    "start_time": "2023-03-02T10:50:15.247Z"
   },
   {
    "duration": 15,
    "start_time": "2023-03-02T10:50:17.612Z"
   },
   {
    "duration": 3,
    "start_time": "2023-03-02T10:50:26.443Z"
   },
   {
    "duration": 174,
    "start_time": "2023-03-02T10:50:26.448Z"
   },
   {
    "duration": 6,
    "start_time": "2023-03-02T10:50:26.624Z"
   },
   {
    "duration": 40,
    "start_time": "2023-03-02T10:50:26.632Z"
   },
   {
    "duration": 4,
    "start_time": "2023-03-02T10:50:26.674Z"
   },
   {
    "duration": 5,
    "start_time": "2023-03-02T10:50:26.679Z"
   },
   {
    "duration": 25,
    "start_time": "2023-03-02T10:50:26.686Z"
   },
   {
    "duration": 41,
    "start_time": "2023-03-02T10:50:26.712Z"
   },
   {
    "duration": 71,
    "start_time": "2023-03-02T10:50:26.754Z"
   },
   {
    "duration": 48,
    "start_time": "2023-03-02T10:50:26.826Z"
   },
   {
    "duration": 50,
    "start_time": "2023-03-02T10:50:26.876Z"
   },
   {
    "duration": 61,
    "start_time": "2023-03-02T10:50:26.928Z"
   },
   {
    "duration": 8,
    "start_time": "2023-03-02T10:50:26.990Z"
   },
   {
    "duration": 111,
    "start_time": "2023-03-02T10:50:27.000Z"
   },
   {
    "duration": 122,
    "start_time": "2023-03-02T10:50:27.113Z"
   },
   {
    "duration": 8,
    "start_time": "2023-03-02T10:50:27.237Z"
   },
   {
    "duration": 21,
    "start_time": "2023-03-02T10:50:27.250Z"
   },
   {
    "duration": 15,
    "start_time": "2023-03-02T10:50:27.272Z"
   },
   {
    "duration": 17,
    "start_time": "2023-03-02T10:50:27.288Z"
   },
   {
    "duration": 6,
    "start_time": "2023-03-02T10:50:27.306Z"
   },
   {
    "duration": 395,
    "start_time": "2023-03-02T10:50:27.313Z"
   },
   {
    "duration": 16,
    "start_time": "2023-03-02T10:50:27.710Z"
   },
   {
    "duration": 23,
    "start_time": "2023-03-02T10:50:27.728Z"
   },
   {
    "duration": 6,
    "start_time": "2023-03-02T10:50:27.753Z"
   },
   {
    "duration": 52,
    "start_time": "2023-03-02T10:50:27.760Z"
   },
   {
    "duration": 28,
    "start_time": "2023-03-02T10:50:27.814Z"
   },
   {
    "duration": 39,
    "start_time": "2023-03-02T10:50:27.843Z"
   },
   {
    "duration": 33,
    "start_time": "2023-03-02T10:50:27.884Z"
   },
   {
    "duration": 116,
    "start_time": "2023-03-02T10:50:27.918Z"
   },
   {
    "duration": 16,
    "start_time": "2023-03-02T10:50:28.036Z"
   },
   {
    "duration": 36,
    "start_time": "2023-03-02T10:50:28.054Z"
   },
   {
    "duration": 24,
    "start_time": "2023-03-02T10:52:15.442Z"
   },
   {
    "duration": 18,
    "start_time": "2023-03-02T10:57:25.491Z"
   },
   {
    "duration": 2,
    "start_time": "2023-03-02T10:58:23.944Z"
   },
   {
    "duration": 12,
    "start_time": "2023-03-02T11:34:43.627Z"
   },
   {
    "duration": 16,
    "start_time": "2023-03-02T11:53:25.999Z"
   },
   {
    "duration": 13,
    "start_time": "2023-03-02T11:53:30.359Z"
   },
   {
    "duration": 31,
    "start_time": "2023-03-02T11:53:47.391Z"
   },
   {
    "duration": 3,
    "start_time": "2023-03-02T14:38:05.967Z"
   },
   {
    "duration": 160,
    "start_time": "2023-03-02T14:38:05.972Z"
   },
   {
    "duration": 7,
    "start_time": "2023-03-02T14:38:06.134Z"
   },
   {
    "duration": 55,
    "start_time": "2023-03-02T14:38:06.148Z"
   },
   {
    "duration": 26,
    "start_time": "2023-03-02T14:38:06.205Z"
   },
   {
    "duration": 37,
    "start_time": "2023-03-02T14:38:06.232Z"
   },
   {
    "duration": 38,
    "start_time": "2023-03-02T14:38:06.270Z"
   },
   {
    "duration": 55,
    "start_time": "2023-03-02T14:38:06.309Z"
   },
   {
    "duration": 70,
    "start_time": "2023-03-02T14:38:06.366Z"
   },
   {
    "duration": 60,
    "start_time": "2023-03-02T14:38:06.437Z"
   },
   {
    "duration": 68,
    "start_time": "2023-03-02T14:38:06.499Z"
   },
   {
    "duration": 57,
    "start_time": "2023-03-02T14:38:06.568Z"
   },
   {
    "duration": 6,
    "start_time": "2023-03-02T14:38:06.627Z"
   },
   {
    "duration": 21,
    "start_time": "2023-03-02T14:38:06.655Z"
   },
   {
    "duration": 119,
    "start_time": "2023-03-02T14:38:06.678Z"
   },
   {
    "duration": 9,
    "start_time": "2023-03-02T14:38:06.798Z"
   },
   {
    "duration": 21,
    "start_time": "2023-03-02T14:38:06.808Z"
   },
   {
    "duration": 33,
    "start_time": "2023-03-02T14:38:06.830Z"
   },
   {
    "duration": 26,
    "start_time": "2023-03-02T14:38:06.864Z"
   },
   {
    "duration": 14,
    "start_time": "2023-03-02T14:38:06.891Z"
   },
   {
    "duration": 389,
    "start_time": "2023-03-02T14:38:06.906Z"
   },
   {
    "duration": 14,
    "start_time": "2023-03-02T14:38:07.297Z"
   },
   {
    "duration": 33,
    "start_time": "2023-03-02T14:38:07.312Z"
   },
   {
    "duration": 41,
    "start_time": "2023-03-02T14:38:07.347Z"
   },
   {
    "duration": 20,
    "start_time": "2023-03-02T14:38:07.390Z"
   },
   {
    "duration": 27,
    "start_time": "2023-03-02T14:38:07.411Z"
   },
   {
    "duration": 38,
    "start_time": "2023-03-02T14:38:07.439Z"
   },
   {
    "duration": 21,
    "start_time": "2023-03-02T14:38:07.478Z"
   },
   {
    "duration": 109,
    "start_time": "2023-03-02T14:38:07.501Z"
   },
   {
    "duration": 13,
    "start_time": "2023-03-02T14:38:07.611Z"
   },
   {
    "duration": 38,
    "start_time": "2023-03-02T14:38:07.625Z"
   },
   {
    "duration": 38,
    "start_time": "2023-03-02T14:38:07.665Z"
   },
   {
    "duration": 28,
    "start_time": "2023-03-02T15:31:27.707Z"
   },
   {
    "duration": 30,
    "start_time": "2023-03-02T15:44:53.310Z"
   },
   {
    "duration": 71,
    "start_time": "2023-03-02T16:07:11.581Z"
   },
   {
    "duration": 48,
    "start_time": "2023-03-02T16:07:19.699Z"
   },
   {
    "duration": 15,
    "start_time": "2023-03-02T16:07:43.120Z"
   },
   {
    "duration": 90,
    "start_time": "2023-03-02T16:08:42.456Z"
   },
   {
    "duration": 5,
    "start_time": "2023-03-02T16:55:43.729Z"
   },
   {
    "duration": 9,
    "start_time": "2023-03-02T16:57:48.764Z"
   },
   {
    "duration": 9,
    "start_time": "2023-03-02T17:28:57.330Z"
   },
   {
    "duration": 11,
    "start_time": "2023-03-02T17:32:21.420Z"
   },
   {
    "duration": 7,
    "start_time": "2023-03-02T17:46:40.412Z"
   },
   {
    "duration": 4,
    "start_time": "2023-03-02T17:46:47.339Z"
   },
   {
    "duration": 10,
    "start_time": "2023-03-02T17:46:52.726Z"
   },
   {
    "duration": 8,
    "start_time": "2023-03-02T17:48:27.299Z"
   },
   {
    "duration": 4,
    "start_time": "2023-03-02T18:11:17.635Z"
   },
   {
    "duration": 3,
    "start_time": "2023-03-02T18:11:57.586Z"
   },
   {
    "duration": 3,
    "start_time": "2023-03-02T18:12:13.592Z"
   },
   {
    "duration": 3,
    "start_time": "2023-03-02T18:12:17.590Z"
   },
   {
    "duration": 3,
    "start_time": "2023-03-02T18:13:39.556Z"
   },
   {
    "duration": 5,
    "start_time": "2023-03-02T18:17:48.346Z"
   },
   {
    "duration": 4,
    "start_time": "2023-03-02T18:17:55.473Z"
   },
   {
    "duration": 5,
    "start_time": "2023-03-02T18:18:31.903Z"
   },
   {
    "duration": 3,
    "start_time": "2023-03-02T18:19:56.334Z"
   },
   {
    "duration": 3,
    "start_time": "2023-03-02T18:19:59.356Z"
   },
   {
    "duration": 3,
    "start_time": "2023-03-02T18:22:26.164Z"
   },
   {
    "duration": 185,
    "start_time": "2023-03-02T18:22:26.169Z"
   },
   {
    "duration": 6,
    "start_time": "2023-03-02T18:22:26.356Z"
   },
   {
    "duration": 31,
    "start_time": "2023-03-02T18:22:26.364Z"
   },
   {
    "duration": 14,
    "start_time": "2023-03-02T18:22:26.397Z"
   },
   {
    "duration": 33,
    "start_time": "2023-03-02T18:22:26.413Z"
   },
   {
    "duration": 17,
    "start_time": "2023-03-02T18:22:26.448Z"
   },
   {
    "duration": 33,
    "start_time": "2023-03-02T18:22:26.467Z"
   },
   {
    "duration": 65,
    "start_time": "2023-03-02T18:22:26.502Z"
   },
   {
    "duration": 53,
    "start_time": "2023-03-02T18:22:26.569Z"
   },
   {
    "duration": 76,
    "start_time": "2023-03-02T18:22:26.626Z"
   },
   {
    "duration": 65,
    "start_time": "2023-03-02T18:22:26.703Z"
   },
   {
    "duration": 6,
    "start_time": "2023-03-02T18:22:26.770Z"
   },
   {
    "duration": 32,
    "start_time": "2023-03-02T18:22:26.778Z"
   },
   {
    "duration": 132,
    "start_time": "2023-03-02T18:22:26.812Z"
   },
   {
    "duration": 8,
    "start_time": "2023-03-02T18:22:26.946Z"
   },
   {
    "duration": 12,
    "start_time": "2023-03-02T18:22:26.956Z"
   },
   {
    "duration": 10,
    "start_time": "2023-03-02T18:22:26.970Z"
   },
   {
    "duration": 32,
    "start_time": "2023-03-02T18:22:26.982Z"
   },
   {
    "duration": 14,
    "start_time": "2023-03-02T18:22:27.015Z"
   },
   {
    "duration": 491,
    "start_time": "2023-03-02T18:22:27.031Z"
   },
   {
    "duration": 14,
    "start_time": "2023-03-02T18:22:27.524Z"
   },
   {
    "duration": 6,
    "start_time": "2023-03-02T18:22:27.548Z"
   },
   {
    "duration": 11,
    "start_time": "2023-03-02T18:22:27.556Z"
   },
   {
    "duration": 28,
    "start_time": "2023-03-02T18:22:27.569Z"
   },
   {
    "duration": 29,
    "start_time": "2023-03-02T18:22:27.598Z"
   },
   {
    "duration": 47,
    "start_time": "2023-03-02T18:22:27.628Z"
   },
   {
    "duration": 23,
    "start_time": "2023-03-02T18:22:27.676Z"
   },
   {
    "duration": 112,
    "start_time": "2023-03-02T18:22:27.702Z"
   },
   {
    "duration": 12,
    "start_time": "2023-03-02T18:22:27.815Z"
   },
   {
    "duration": 27,
    "start_time": "2023-03-02T18:22:27.829Z"
   },
   {
    "duration": 37,
    "start_time": "2023-03-02T18:22:27.857Z"
   },
   {
    "duration": 92,
    "start_time": "2023-03-02T18:22:27.896Z"
   },
   {
    "duration": 6,
    "start_time": "2023-03-02T18:22:27.990Z"
   },
   {
    "duration": 18,
    "start_time": "2023-03-02T18:22:27.998Z"
   },
   {
    "duration": 10,
    "start_time": "2023-03-02T18:22:28.018Z"
   },
   {
    "duration": 9,
    "start_time": "2023-03-02T18:22:28.048Z"
   },
   {
    "duration": 8,
    "start_time": "2023-03-02T18:22:28.059Z"
   },
   {
    "duration": 32,
    "start_time": "2023-03-02T18:22:28.068Z"
   },
   {
    "duration": 10,
    "start_time": "2023-03-02T18:22:28.101Z"
   },
   {
    "duration": 13,
    "start_time": "2023-03-02T18:22:28.113Z"
   },
   {
    "duration": 5,
    "start_time": "2023-03-02T18:22:28.128Z"
   },
   {
    "duration": 7,
    "start_time": "2023-03-02T18:22:28.135Z"
   },
   {
    "duration": 9,
    "start_time": "2023-03-02T18:25:31.600Z"
   },
   {
    "duration": 9,
    "start_time": "2023-03-02T18:25:47.263Z"
   },
   {
    "duration": 10,
    "start_time": "2023-03-02T18:25:53.851Z"
   },
   {
    "duration": 8,
    "start_time": "2023-03-02T18:26:12.978Z"
   },
   {
    "duration": 6,
    "start_time": "2023-03-02T19:04:32.605Z"
   },
   {
    "duration": 3,
    "start_time": "2023-03-02T19:04:36.405Z"
   },
   {
    "duration": 189,
    "start_time": "2023-03-02T19:04:36.410Z"
   },
   {
    "duration": 7,
    "start_time": "2023-03-02T19:04:36.601Z"
   },
   {
    "duration": 23,
    "start_time": "2023-03-02T19:04:36.609Z"
   },
   {
    "duration": 3,
    "start_time": "2023-03-02T19:04:36.649Z"
   },
   {
    "duration": 5,
    "start_time": "2023-03-02T19:04:36.654Z"
   },
   {
    "duration": 12,
    "start_time": "2023-03-02T19:04:36.660Z"
   },
   {
    "duration": 16,
    "start_time": "2023-03-02T19:04:36.674Z"
   },
   {
    "duration": 69,
    "start_time": "2023-03-02T19:04:36.691Z"
   },
   {
    "duration": 48,
    "start_time": "2023-03-02T19:04:36.762Z"
   },
   {
    "duration": 70,
    "start_time": "2023-03-02T19:04:36.813Z"
   },
   {
    "duration": 49,
    "start_time": "2023-03-02T19:04:36.885Z"
   },
   {
    "duration": 17,
    "start_time": "2023-03-02T19:04:36.936Z"
   },
   {
    "duration": 20,
    "start_time": "2023-03-02T19:04:36.955Z"
   },
   {
    "duration": 135,
    "start_time": "2023-03-02T19:04:36.976Z"
   },
   {
    "duration": 9,
    "start_time": "2023-03-02T19:04:37.113Z"
   },
   {
    "duration": 6,
    "start_time": "2023-03-02T19:04:37.123Z"
   },
   {
    "duration": 23,
    "start_time": "2023-03-02T19:04:37.130Z"
   },
   {
    "duration": 18,
    "start_time": "2023-03-02T19:04:37.155Z"
   },
   {
    "duration": 5,
    "start_time": "2023-03-02T19:04:37.175Z"
   },
   {
    "duration": 442,
    "start_time": "2023-03-02T19:04:37.182Z"
   },
   {
    "duration": 24,
    "start_time": "2023-03-02T19:04:37.626Z"
   },
   {
    "duration": 6,
    "start_time": "2023-03-02T19:04:37.652Z"
   },
   {
    "duration": 5,
    "start_time": "2023-03-02T19:04:37.660Z"
   },
   {
    "duration": 21,
    "start_time": "2023-03-02T19:04:37.667Z"
   },
   {
    "duration": 31,
    "start_time": "2023-03-02T19:04:37.690Z"
   },
   {
    "duration": 41,
    "start_time": "2023-03-02T19:04:37.748Z"
   },
   {
    "duration": 23,
    "start_time": "2023-03-02T19:04:37.790Z"
   },
   {
    "duration": 134,
    "start_time": "2023-03-02T19:04:37.817Z"
   },
   {
    "duration": 13,
    "start_time": "2023-03-02T19:04:37.954Z"
   },
   {
    "duration": 15,
    "start_time": "2023-03-02T19:04:37.969Z"
   },
   {
    "duration": 33,
    "start_time": "2023-03-02T19:04:37.986Z"
   },
   {
    "duration": 101,
    "start_time": "2023-03-02T19:04:38.021Z"
   },
   {
    "duration": 5,
    "start_time": "2023-03-02T19:04:38.124Z"
   },
   {
    "duration": 22,
    "start_time": "2023-03-02T19:04:38.131Z"
   },
   {
    "duration": 10,
    "start_time": "2023-03-02T19:04:38.154Z"
   },
   {
    "duration": 12,
    "start_time": "2023-03-02T19:04:38.165Z"
   },
   {
    "duration": 10,
    "start_time": "2023-03-02T19:04:38.178Z"
   },
   {
    "duration": 15,
    "start_time": "2023-03-02T19:04:38.189Z"
   },
   {
    "duration": 9,
    "start_time": "2023-03-02T19:04:38.205Z"
   },
   {
    "duration": 34,
    "start_time": "2023-03-02T19:04:38.215Z"
   },
   {
    "duration": 6,
    "start_time": "2023-03-02T19:04:38.251Z"
   },
   {
    "duration": 6,
    "start_time": "2023-03-02T19:04:38.259Z"
   },
   {
    "duration": 13,
    "start_time": "2023-03-02T19:04:38.267Z"
   },
   {
    "duration": 14,
    "start_time": "2023-03-02T19:04:38.281Z"
   },
   {
    "duration": 14,
    "start_time": "2023-03-02T19:04:38.296Z"
   },
   {
    "duration": 36,
    "start_time": "2023-03-02T19:04:38.312Z"
   },
   {
    "duration": 3,
    "start_time": "2023-03-02T19:36:41.526Z"
   },
   {
    "duration": 159,
    "start_time": "2023-03-02T19:36:41.533Z"
   },
   {
    "duration": 7,
    "start_time": "2023-03-02T19:36:41.694Z"
   },
   {
    "duration": 21,
    "start_time": "2023-03-02T19:36:41.702Z"
   },
   {
    "duration": 24,
    "start_time": "2023-03-02T19:36:41.725Z"
   },
   {
    "duration": 4,
    "start_time": "2023-03-02T19:36:41.751Z"
   },
   {
    "duration": 24,
    "start_time": "2023-03-02T19:36:41.756Z"
   },
   {
    "duration": 17,
    "start_time": "2023-03-02T19:36:41.782Z"
   },
   {
    "duration": 56,
    "start_time": "2023-03-02T19:36:41.800Z"
   },
   {
    "duration": 48,
    "start_time": "2023-03-02T19:36:41.857Z"
   },
   {
    "duration": 71,
    "start_time": "2023-03-02T19:36:41.906Z"
   },
   {
    "duration": 52,
    "start_time": "2023-03-02T19:36:41.979Z"
   },
   {
    "duration": 20,
    "start_time": "2023-03-02T19:36:42.033Z"
   },
   {
    "duration": 19,
    "start_time": "2023-03-02T19:36:42.055Z"
   },
   {
    "duration": 131,
    "start_time": "2023-03-02T19:36:42.077Z"
   },
   {
    "duration": 9,
    "start_time": "2023-03-02T19:36:42.209Z"
   },
   {
    "duration": 5,
    "start_time": "2023-03-02T19:36:42.219Z"
   },
   {
    "duration": 23,
    "start_time": "2023-03-02T19:36:42.226Z"
   },
   {
    "duration": 18,
    "start_time": "2023-03-02T19:36:42.251Z"
   },
   {
    "duration": 6,
    "start_time": "2023-03-02T19:36:42.270Z"
   },
   {
    "duration": 423,
    "start_time": "2023-03-02T19:36:42.278Z"
   },
   {
    "duration": 18,
    "start_time": "2023-03-02T19:36:42.703Z"
   },
   {
    "duration": 7,
    "start_time": "2023-03-02T19:36:42.722Z"
   },
   {
    "duration": 21,
    "start_time": "2023-03-02T19:36:42.730Z"
   },
   {
    "duration": 25,
    "start_time": "2023-03-02T19:36:42.752Z"
   },
   {
    "duration": 32,
    "start_time": "2023-03-02T19:36:42.779Z"
   },
   {
    "duration": 58,
    "start_time": "2023-03-02T19:36:42.813Z"
   },
   {
    "duration": 25,
    "start_time": "2023-03-02T19:36:42.873Z"
   },
   {
    "duration": 111,
    "start_time": "2023-03-02T19:36:42.900Z"
   },
   {
    "duration": 12,
    "start_time": "2023-03-02T19:36:43.013Z"
   },
   {
    "duration": 113,
    "start_time": "2023-03-02T19:36:43.026Z"
   },
   {
    "duration": 36,
    "start_time": "2023-03-02T19:36:43.141Z"
   },
   {
    "duration": 91,
    "start_time": "2023-03-02T19:36:43.178Z"
   },
   {
    "duration": 5,
    "start_time": "2023-03-02T19:36:43.271Z"
   },
   {
    "duration": 15,
    "start_time": "2023-03-02T19:36:43.278Z"
   },
   {
    "duration": 8,
    "start_time": "2023-03-02T19:36:43.294Z"
   },
   {
    "duration": 12,
    "start_time": "2023-03-02T19:36:43.304Z"
   },
   {
    "duration": 31,
    "start_time": "2023-03-02T19:36:43.317Z"
   },
   {
    "duration": 18,
    "start_time": "2023-03-02T19:36:43.350Z"
   },
   {
    "duration": 7,
    "start_time": "2023-03-02T19:36:43.369Z"
   },
   {
    "duration": 7,
    "start_time": "2023-03-02T19:36:43.378Z"
   },
   {
    "duration": 7,
    "start_time": "2023-03-02T19:36:43.388Z"
   },
   {
    "duration": 10,
    "start_time": "2023-03-02T19:36:43.397Z"
   },
   {
    "duration": 11,
    "start_time": "2023-03-02T19:36:43.408Z"
   },
   {
    "duration": 11,
    "start_time": "2023-03-02T19:36:43.420Z"
   },
   {
    "duration": 22,
    "start_time": "2023-03-02T19:36:43.433Z"
   },
   {
    "duration": 8,
    "start_time": "2023-03-02T19:36:43.456Z"
   },
   {
    "duration": 1149,
    "start_time": "2023-03-03T10:00:03.027Z"
   },
   {
    "duration": 174,
    "start_time": "2023-03-03T10:00:04.178Z"
   },
   {
    "duration": 10,
    "start_time": "2023-03-03T10:00:04.353Z"
   },
   {
    "duration": 43,
    "start_time": "2023-03-03T10:00:04.364Z"
   },
   {
    "duration": 4,
    "start_time": "2023-03-03T10:00:04.409Z"
   },
   {
    "duration": 5,
    "start_time": "2023-03-03T10:00:04.415Z"
   },
   {
    "duration": 9,
    "start_time": "2023-03-03T10:00:04.421Z"
   },
   {
    "duration": 19,
    "start_time": "2023-03-03T10:00:04.431Z"
   },
   {
    "duration": 76,
    "start_time": "2023-03-03T10:00:04.451Z"
   },
   {
    "duration": 63,
    "start_time": "2023-03-03T10:00:04.529Z"
   },
   {
    "duration": 110,
    "start_time": "2023-03-03T10:00:04.597Z"
   },
   {
    "duration": 54,
    "start_time": "2023-03-03T10:00:04.709Z"
   },
   {
    "duration": 12,
    "start_time": "2023-03-03T10:00:04.765Z"
   },
   {
    "duration": 25,
    "start_time": "2023-03-03T10:00:04.791Z"
   },
   {
    "duration": 130,
    "start_time": "2023-03-03T10:00:04.817Z"
   },
   {
    "duration": 8,
    "start_time": "2023-03-03T10:00:04.949Z"
   },
   {
    "duration": 8,
    "start_time": "2023-03-03T10:00:04.958Z"
   },
   {
    "duration": 37,
    "start_time": "2023-03-03T10:00:04.968Z"
   },
   {
    "duration": 17,
    "start_time": "2023-03-03T10:00:05.008Z"
   },
   {
    "duration": 5,
    "start_time": "2023-03-03T10:00:05.027Z"
   },
   {
    "duration": 489,
    "start_time": "2023-03-03T10:00:05.033Z"
   },
   {
    "duration": 20,
    "start_time": "2023-03-03T10:00:05.524Z"
   },
   {
    "duration": 6,
    "start_time": "2023-03-03T10:00:05.546Z"
   },
   {
    "duration": 17,
    "start_time": "2023-03-03T10:00:05.554Z"
   },
   {
    "duration": 54,
    "start_time": "2023-03-03T10:00:05.572Z"
   },
   {
    "duration": 29,
    "start_time": "2023-03-03T10:00:05.627Z"
   },
   {
    "duration": 51,
    "start_time": "2023-03-03T10:00:05.657Z"
   },
   {
    "duration": 21,
    "start_time": "2023-03-03T10:00:05.710Z"
   },
   {
    "duration": 139,
    "start_time": "2023-03-03T10:00:05.733Z"
   },
   {
    "duration": 13,
    "start_time": "2023-03-03T10:00:05.873Z"
   },
   {
    "duration": 16,
    "start_time": "2023-03-03T10:00:05.893Z"
   },
   {
    "duration": 31,
    "start_time": "2023-03-03T10:00:05.911Z"
   },
   {
    "duration": 95,
    "start_time": "2023-03-03T10:00:05.943Z"
   },
   {
    "duration": 6,
    "start_time": "2023-03-03T10:00:06.040Z"
   },
   {
    "duration": 40,
    "start_time": "2023-03-03T10:00:06.047Z"
   },
   {
    "duration": 13,
    "start_time": "2023-03-03T10:00:06.089Z"
   },
   {
    "duration": 22,
    "start_time": "2023-03-03T10:00:06.107Z"
   },
   {
    "duration": 16,
    "start_time": "2023-03-03T10:00:06.131Z"
   },
   {
    "duration": 15,
    "start_time": "2023-03-03T10:00:06.148Z"
   },
   {
    "duration": 14,
    "start_time": "2023-03-03T10:00:06.165Z"
   },
   {
    "duration": 5,
    "start_time": "2023-03-03T10:00:06.184Z"
   },
   {
    "duration": 24,
    "start_time": "2023-03-03T10:00:06.190Z"
   },
   {
    "duration": 9,
    "start_time": "2023-03-03T10:00:06.216Z"
   },
   {
    "duration": 14,
    "start_time": "2023-03-03T10:00:06.226Z"
   },
   {
    "duration": 18,
    "start_time": "2023-03-03T10:00:06.242Z"
   },
   {
    "duration": 10,
    "start_time": "2023-03-03T10:00:06.262Z"
   },
   {
    "duration": 22,
    "start_time": "2023-03-03T10:00:06.275Z"
   },
   {
    "duration": 45,
    "start_time": "2023-03-03T11:27:18.117Z"
   },
   {
    "duration": 1234,
    "start_time": "2023-03-03T11:27:23.249Z"
   },
   {
    "duration": 543,
    "start_time": "2023-03-03T11:27:24.485Z"
   },
   {
    "duration": 11,
    "start_time": "2023-03-03T11:27:25.029Z"
   },
   {
    "duration": 27,
    "start_time": "2023-03-03T11:27:25.041Z"
   },
   {
    "duration": 4,
    "start_time": "2023-03-03T11:27:25.070Z"
   },
   {
    "duration": 6,
    "start_time": "2023-03-03T11:27:25.076Z"
   },
   {
    "duration": 31,
    "start_time": "2023-03-03T11:27:25.083Z"
   },
   {
    "duration": 20,
    "start_time": "2023-03-03T11:27:25.115Z"
   },
   {
    "duration": 71,
    "start_time": "2023-03-03T11:27:25.137Z"
   },
   {
    "duration": 56,
    "start_time": "2023-03-03T11:27:25.210Z"
   },
   {
    "duration": 76,
    "start_time": "2023-03-03T11:27:25.267Z"
   },
   {
    "duration": 60,
    "start_time": "2023-03-03T11:27:25.345Z"
   },
   {
    "duration": 12,
    "start_time": "2023-03-03T11:27:25.406Z"
   },
   {
    "duration": 21,
    "start_time": "2023-03-03T11:27:25.419Z"
   },
   {
    "duration": 131,
    "start_time": "2023-03-03T11:27:25.441Z"
   },
   {
    "duration": 8,
    "start_time": "2023-03-03T11:27:25.574Z"
   },
   {
    "duration": 16,
    "start_time": "2023-03-03T11:27:25.590Z"
   },
   {
    "duration": 11,
    "start_time": "2023-03-03T11:27:25.608Z"
   },
   {
    "duration": 17,
    "start_time": "2023-03-03T11:27:25.621Z"
   },
   {
    "duration": 5,
    "start_time": "2023-03-03T11:27:25.640Z"
   },
   {
    "duration": 510,
    "start_time": "2023-03-03T11:27:25.646Z"
   },
   {
    "duration": 17,
    "start_time": "2023-03-03T11:27:26.158Z"
   },
   {
    "duration": 23,
    "start_time": "2023-03-03T11:27:26.177Z"
   },
   {
    "duration": 19,
    "start_time": "2023-03-03T11:27:26.201Z"
   },
   {
    "duration": 27,
    "start_time": "2023-03-03T11:27:26.222Z"
   },
   {
    "duration": 31,
    "start_time": "2023-03-03T11:27:26.251Z"
   },
   {
    "duration": 42,
    "start_time": "2023-03-03T11:27:26.284Z"
   },
   {
    "duration": 21,
    "start_time": "2023-03-03T11:27:26.329Z"
   },
   {
    "duration": 135,
    "start_time": "2023-03-03T11:27:26.351Z"
   },
   {
    "duration": 19,
    "start_time": "2023-03-03T11:27:26.490Z"
   },
   {
    "duration": 23,
    "start_time": "2023-03-03T11:27:26.511Z"
   },
   {
    "duration": 38,
    "start_time": "2023-03-03T11:27:26.536Z"
   },
   {
    "duration": 124,
    "start_time": "2023-03-03T11:27:26.591Z"
   },
   {
    "duration": 7,
    "start_time": "2023-03-03T11:27:26.717Z"
   },
   {
    "duration": 27,
    "start_time": "2023-03-03T11:27:26.726Z"
   },
   {
    "duration": 17,
    "start_time": "2023-03-03T11:27:26.755Z"
   },
   {
    "duration": 18,
    "start_time": "2023-03-03T11:27:26.774Z"
   },
   {
    "duration": 13,
    "start_time": "2023-03-03T11:27:26.803Z"
   },
   {
    "duration": 23,
    "start_time": "2023-03-03T11:27:26.818Z"
   },
   {
    "duration": 5,
    "start_time": "2023-03-03T11:27:26.842Z"
   },
   {
    "duration": 7,
    "start_time": "2023-03-03T11:27:26.848Z"
   },
   {
    "duration": 5,
    "start_time": "2023-03-03T11:27:26.856Z"
   },
   {
    "duration": 5,
    "start_time": "2023-03-03T11:27:26.863Z"
   },
   {
    "duration": 10,
    "start_time": "2023-03-03T11:27:26.869Z"
   },
   {
    "duration": 20,
    "start_time": "2023-03-03T11:27:26.880Z"
   },
   {
    "duration": 18,
    "start_time": "2023-03-03T11:27:26.903Z"
   },
   {
    "duration": 8,
    "start_time": "2023-03-03T11:27:26.922Z"
   },
   {
    "duration": 3408,
    "start_time": "2023-03-03T11:31:03.013Z"
   },
   {
    "duration": 4,
    "start_time": "2023-03-03T11:32:28.275Z"
   },
   {
    "duration": 3,
    "start_time": "2023-03-03T11:32:42.618Z"
   },
   {
    "duration": 166,
    "start_time": "2023-03-03T11:32:42.625Z"
   },
   {
    "duration": 15,
    "start_time": "2023-03-03T11:32:42.795Z"
   },
   {
    "duration": 20,
    "start_time": "2023-03-03T11:32:42.812Z"
   },
   {
    "duration": 4,
    "start_time": "2023-03-03T11:32:42.833Z"
   },
   {
    "duration": 6,
    "start_time": "2023-03-03T11:32:42.838Z"
   },
   {
    "duration": 11,
    "start_time": "2023-03-03T11:32:42.845Z"
   },
   {
    "duration": 34,
    "start_time": "2023-03-03T11:32:42.858Z"
   },
   {
    "duration": 55,
    "start_time": "2023-03-03T11:32:42.895Z"
   },
   {
    "duration": 61,
    "start_time": "2023-03-03T11:32:42.952Z"
   },
   {
    "duration": 57,
    "start_time": "2023-03-03T11:32:43.016Z"
   },
   {
    "duration": 77,
    "start_time": "2023-03-03T11:32:43.075Z"
   },
   {
    "duration": 7,
    "start_time": "2023-03-03T11:32:43.154Z"
   },
   {
    "duration": 22,
    "start_time": "2023-03-03T11:32:43.162Z"
   },
   {
    "duration": 132,
    "start_time": "2023-03-03T11:32:43.186Z"
   },
   {
    "duration": 8,
    "start_time": "2023-03-03T11:32:43.320Z"
   },
   {
    "duration": 8,
    "start_time": "2023-03-03T11:32:43.329Z"
   },
   {
    "duration": 10,
    "start_time": "2023-03-03T11:32:43.338Z"
   },
   {
    "duration": 35,
    "start_time": "2023-03-03T11:32:43.349Z"
   },
   {
    "duration": 38,
    "start_time": "2023-03-03T11:32:43.387Z"
   },
   {
    "duration": 42,
    "start_time": "2023-03-03T11:32:43.427Z"
   },
   {
    "duration": 466,
    "start_time": "2023-03-03T11:32:43.471Z"
   },
   {
    "duration": 17,
    "start_time": "2023-03-03T11:32:43.938Z"
   },
   {
    "duration": 25,
    "start_time": "2023-03-03T11:32:43.957Z"
   },
   {
    "duration": 33,
    "start_time": "2023-03-03T11:32:43.983Z"
   },
   {
    "duration": 40,
    "start_time": "2023-03-03T11:32:44.017Z"
   },
   {
    "duration": 49,
    "start_time": "2023-03-03T11:32:44.059Z"
   },
   {
    "duration": 36,
    "start_time": "2023-03-03T11:32:44.109Z"
   },
   {
    "duration": 21,
    "start_time": "2023-03-03T11:32:44.148Z"
   },
   {
    "duration": 124,
    "start_time": "2023-03-03T11:32:44.171Z"
   },
   {
    "duration": 16,
    "start_time": "2023-03-03T11:32:44.296Z"
   },
   {
    "duration": 32,
    "start_time": "2023-03-03T11:32:44.313Z"
   },
   {
    "duration": 67,
    "start_time": "2023-03-03T11:32:44.347Z"
   },
   {
    "duration": 85,
    "start_time": "2023-03-03T11:32:44.415Z"
   },
   {
    "duration": 7,
    "start_time": "2023-03-03T11:32:44.501Z"
   },
   {
    "duration": 39,
    "start_time": "2023-03-03T11:32:44.509Z"
   },
   {
    "duration": 9,
    "start_time": "2023-03-03T11:32:44.549Z"
   },
   {
    "duration": 8,
    "start_time": "2023-03-03T11:32:44.559Z"
   },
   {
    "duration": 7,
    "start_time": "2023-03-03T11:32:44.568Z"
   },
   {
    "duration": 22,
    "start_time": "2023-03-03T11:32:44.576Z"
   },
   {
    "duration": 15,
    "start_time": "2023-03-03T11:32:44.601Z"
   },
   {
    "duration": 8,
    "start_time": "2023-03-03T11:32:44.617Z"
   },
   {
    "duration": 6,
    "start_time": "2023-03-03T11:32:44.626Z"
   },
   {
    "duration": 9,
    "start_time": "2023-03-03T11:32:44.633Z"
   },
   {
    "duration": 55,
    "start_time": "2023-03-03T11:32:44.643Z"
   },
   {
    "duration": 10,
    "start_time": "2023-03-03T11:32:44.701Z"
   },
   {
    "duration": 17,
    "start_time": "2023-03-03T11:32:44.713Z"
   },
   {
    "duration": 9,
    "start_time": "2023-03-03T11:32:44.732Z"
   },
   {
    "duration": 4,
    "start_time": "2023-03-03T11:33:55.519Z"
   },
   {
    "duration": 28,
    "start_time": "2023-03-03T11:34:15.476Z"
   },
   {
    "duration": 3,
    "start_time": "2023-03-03T11:35:30.335Z"
   },
   {
    "duration": 210,
    "start_time": "2023-03-03T11:35:30.340Z"
   },
   {
    "duration": 7,
    "start_time": "2023-03-03T11:35:30.552Z"
   },
   {
    "duration": 61,
    "start_time": "2023-03-03T11:35:30.560Z"
   },
   {
    "duration": 20,
    "start_time": "2023-03-03T11:35:30.623Z"
   },
   {
    "duration": 28,
    "start_time": "2023-03-03T11:35:30.645Z"
   },
   {
    "duration": 65,
    "start_time": "2023-03-03T11:35:30.674Z"
   },
   {
    "duration": 66,
    "start_time": "2023-03-03T11:35:30.741Z"
   },
   {
    "duration": 107,
    "start_time": "2023-03-03T11:35:30.808Z"
   },
   {
    "duration": 88,
    "start_time": "2023-03-03T11:35:30.917Z"
   },
   {
    "duration": 69,
    "start_time": "2023-03-03T11:35:31.010Z"
   },
   {
    "duration": 77,
    "start_time": "2023-03-03T11:35:31.081Z"
   },
   {
    "duration": 7,
    "start_time": "2023-03-03T11:35:31.160Z"
   },
   {
    "duration": 62,
    "start_time": "2023-03-03T11:35:31.169Z"
   },
   {
    "duration": 173,
    "start_time": "2023-03-03T11:35:31.233Z"
   },
   {
    "duration": 10,
    "start_time": "2023-03-03T11:35:31.408Z"
   },
   {
    "duration": 35,
    "start_time": "2023-03-03T11:35:31.420Z"
   },
   {
    "duration": 53,
    "start_time": "2023-03-03T11:35:31.457Z"
   },
   {
    "duration": 45,
    "start_time": "2023-03-03T11:35:31.512Z"
   },
   {
    "duration": 48,
    "start_time": "2023-03-03T11:35:31.558Z"
   },
   {
    "duration": 22,
    "start_time": "2023-03-03T11:35:31.608Z"
   },
   {
    "duration": 443,
    "start_time": "2023-03-03T11:35:31.632Z"
   },
   {
    "duration": 27,
    "start_time": "2023-03-03T11:35:32.076Z"
   },
   {
    "duration": 9,
    "start_time": "2023-03-03T11:35:32.104Z"
   },
   {
    "duration": 30,
    "start_time": "2023-03-03T11:35:32.114Z"
   },
   {
    "duration": 85,
    "start_time": "2023-03-03T11:35:32.145Z"
   },
   {
    "duration": 32,
    "start_time": "2023-03-03T11:35:32.232Z"
   },
   {
    "duration": 43,
    "start_time": "2023-03-03T11:35:32.265Z"
   },
   {
    "duration": 21,
    "start_time": "2023-03-03T11:35:32.312Z"
   },
   {
    "duration": 123,
    "start_time": "2023-03-03T11:35:32.334Z"
   },
   {
    "duration": 12,
    "start_time": "2023-03-03T11:35:32.459Z"
   },
   {
    "duration": 55,
    "start_time": "2023-03-03T11:35:32.473Z"
   },
   {
    "duration": 67,
    "start_time": "2023-03-03T11:35:32.530Z"
   },
   {
    "duration": 81,
    "start_time": "2023-03-03T11:35:32.598Z"
   },
   {
    "duration": 16,
    "start_time": "2023-03-03T11:35:32.681Z"
   },
   {
    "duration": 28,
    "start_time": "2023-03-03T11:35:32.699Z"
   },
   {
    "duration": 22,
    "start_time": "2023-03-03T11:35:32.729Z"
   },
   {
    "duration": 62,
    "start_time": "2023-03-03T11:35:32.752Z"
   },
   {
    "duration": 10,
    "start_time": "2023-03-03T11:35:32.816Z"
   },
   {
    "duration": 15,
    "start_time": "2023-03-03T11:35:32.827Z"
   },
   {
    "duration": 9,
    "start_time": "2023-03-03T11:35:32.844Z"
   },
   {
    "duration": 4,
    "start_time": "2023-03-03T11:35:32.894Z"
   },
   {
    "duration": 23,
    "start_time": "2023-03-03T11:35:32.907Z"
   },
   {
    "duration": 5,
    "start_time": "2023-03-03T11:35:32.932Z"
   },
   {
    "duration": 55,
    "start_time": "2023-03-03T11:35:32.939Z"
   },
   {
    "duration": 13,
    "start_time": "2023-03-03T11:35:32.997Z"
   },
   {
    "duration": 11,
    "start_time": "2023-03-03T11:35:33.011Z"
   },
   {
    "duration": 13,
    "start_time": "2023-03-03T11:35:33.023Z"
   },
   {
    "duration": 31,
    "start_time": "2023-03-03T11:35:55.023Z"
   },
   {
    "duration": 4,
    "start_time": "2023-03-03T11:35:57.603Z"
   },
   {
    "duration": 163,
    "start_time": "2023-03-03T11:35:57.609Z"
   },
   {
    "duration": 32,
    "start_time": "2023-03-03T11:35:57.773Z"
   },
   {
    "duration": 20,
    "start_time": "2023-03-03T11:35:57.810Z"
   },
   {
    "duration": 4,
    "start_time": "2023-03-03T11:35:57.833Z"
   },
   {
    "duration": 45,
    "start_time": "2023-03-03T11:35:57.838Z"
   },
   {
    "duration": 20,
    "start_time": "2023-03-03T11:35:57.885Z"
   },
   {
    "duration": 12,
    "start_time": "2023-03-03T11:35:57.906Z"
   },
   {
    "duration": 32,
    "start_time": "2023-03-03T11:35:57.920Z"
   },
   {
    "duration": 54,
    "start_time": "2023-03-03T11:35:57.954Z"
   },
   {
    "duration": 44,
    "start_time": "2023-03-03T11:35:58.010Z"
   },
   {
    "duration": 66,
    "start_time": "2023-03-03T11:35:58.056Z"
   },
   {
    "duration": 58,
    "start_time": "2023-03-03T11:35:58.124Z"
   },
   {
    "duration": 9,
    "start_time": "2023-03-03T11:35:58.197Z"
   },
   {
    "duration": 24,
    "start_time": "2023-03-03T11:35:58.208Z"
   },
   {
    "duration": 122,
    "start_time": "2023-03-03T11:35:58.234Z"
   },
   {
    "duration": 9,
    "start_time": "2023-03-03T11:35:58.357Z"
   },
   {
    "duration": 10,
    "start_time": "2023-03-03T11:35:58.368Z"
   },
   {
    "duration": 20,
    "start_time": "2023-03-03T11:35:58.379Z"
   },
   {
    "duration": 18,
    "start_time": "2023-03-03T11:35:58.403Z"
   },
   {
    "duration": 24,
    "start_time": "2023-03-03T11:35:58.423Z"
   },
   {
    "duration": 6,
    "start_time": "2023-03-03T11:35:58.449Z"
   },
   {
    "duration": 471,
    "start_time": "2023-03-03T11:35:58.457Z"
   },
   {
    "duration": 11,
    "start_time": "2023-03-03T11:35:58.930Z"
   },
   {
    "duration": 6,
    "start_time": "2023-03-03T11:35:58.943Z"
   },
   {
    "duration": 8,
    "start_time": "2023-03-03T11:35:58.950Z"
   },
   {
    "duration": 51,
    "start_time": "2023-03-03T11:35:58.960Z"
   },
   {
    "duration": 30,
    "start_time": "2023-03-03T11:35:59.012Z"
   },
   {
    "duration": 52,
    "start_time": "2023-03-03T11:35:59.043Z"
   },
   {
    "duration": 29,
    "start_time": "2023-03-03T11:35:59.100Z"
   },
   {
    "duration": 125,
    "start_time": "2023-03-03T11:35:59.131Z"
   },
   {
    "duration": 12,
    "start_time": "2023-03-03T11:35:59.258Z"
   },
   {
    "duration": 31,
    "start_time": "2023-03-03T11:35:59.272Z"
   },
   {
    "duration": 35,
    "start_time": "2023-03-03T11:35:59.308Z"
   },
   {
    "duration": 96,
    "start_time": "2023-03-03T11:35:59.345Z"
   },
   {
    "duration": 6,
    "start_time": "2023-03-03T11:35:59.443Z"
   },
   {
    "duration": 17,
    "start_time": "2023-03-03T11:35:59.450Z"
   },
   {
    "duration": 30,
    "start_time": "2023-03-03T11:35:59.468Z"
   },
   {
    "duration": 13,
    "start_time": "2023-03-03T11:35:59.506Z"
   },
   {
    "duration": 10,
    "start_time": "2023-03-03T11:35:59.520Z"
   },
   {
    "duration": 11,
    "start_time": "2023-03-03T11:35:59.534Z"
   },
   {
    "duration": 5,
    "start_time": "2023-03-03T11:35:59.547Z"
   },
   {
    "duration": 9,
    "start_time": "2023-03-03T11:35:59.554Z"
   },
   {
    "duration": 17,
    "start_time": "2023-03-03T11:35:59.564Z"
   },
   {
    "duration": 8,
    "start_time": "2023-03-03T11:35:59.583Z"
   },
   {
    "duration": 26,
    "start_time": "2023-03-03T11:35:59.593Z"
   },
   {
    "duration": 13,
    "start_time": "2023-03-03T11:35:59.620Z"
   },
   {
    "duration": 13,
    "start_time": "2023-03-03T11:35:59.635Z"
   },
   {
    "duration": 10,
    "start_time": "2023-03-03T11:35:59.650Z"
   },
   {
    "duration": 681,
    "start_time": "2023-03-03T11:37:06.704Z"
   },
   {
    "duration": 85,
    "start_time": "2023-03-03T11:37:21.325Z"
   },
   {
    "duration": 40,
    "start_time": "2023-03-03T11:37:32.569Z"
   },
   {
    "duration": 55,
    "start_time": "2023-03-03T11:53:32.365Z"
   },
   {
    "duration": 57,
    "start_time": "2023-03-03T11:53:44.206Z"
   },
   {
    "duration": 297,
    "start_time": "2023-03-03T11:54:06.412Z"
   },
   {
    "duration": 219,
    "start_time": "2023-03-03T11:55:44.018Z"
   },
   {
    "duration": 221,
    "start_time": "2023-03-03T12:00:15.823Z"
   },
   {
    "duration": 92,
    "start_time": "2023-03-03T12:02:18.917Z"
   },
   {
    "duration": 3,
    "start_time": "2023-03-03T12:02:21.634Z"
   },
   {
    "duration": 196,
    "start_time": "2023-03-03T12:02:21.644Z"
   },
   {
    "duration": 7,
    "start_time": "2023-03-03T12:02:21.842Z"
   },
   {
    "duration": 20,
    "start_time": "2023-03-03T12:02:21.850Z"
   },
   {
    "duration": 25,
    "start_time": "2023-03-03T12:02:21.871Z"
   },
   {
    "duration": 29,
    "start_time": "2023-03-03T12:02:21.898Z"
   },
   {
    "duration": 8,
    "start_time": "2023-03-03T12:02:21.928Z"
   },
   {
    "duration": 19,
    "start_time": "2023-03-03T12:02:21.938Z"
   },
   {
    "duration": 68,
    "start_time": "2023-03-03T12:02:21.959Z"
   },
   {
    "duration": 51,
    "start_time": "2023-03-03T12:02:22.029Z"
   },
   {
    "duration": 90,
    "start_time": "2023-03-03T12:02:22.081Z"
   },
   {
    "duration": 62,
    "start_time": "2023-03-03T12:02:22.172Z"
   },
   {
    "duration": 8,
    "start_time": "2023-03-03T12:02:22.236Z"
   },
   {
    "duration": 24,
    "start_time": "2023-03-03T12:02:22.245Z"
   },
   {
    "duration": 179,
    "start_time": "2023-03-03T12:02:22.271Z"
   },
   {
    "duration": 9,
    "start_time": "2023-03-03T12:02:22.452Z"
   },
   {
    "duration": 12,
    "start_time": "2023-03-03T12:02:22.462Z"
   },
   {
    "duration": 23,
    "start_time": "2023-03-03T12:02:22.476Z"
   },
   {
    "duration": 30,
    "start_time": "2023-03-03T12:02:22.505Z"
   },
   {
    "duration": 28,
    "start_time": "2023-03-03T12:02:22.536Z"
   },
   {
    "duration": 242,
    "start_time": "2023-03-03T12:02:22.565Z"
   },
   {
    "duration": 9,
    "start_time": "2023-03-03T12:02:22.809Z"
   },
   {
    "duration": 416,
    "start_time": "2023-03-03T12:02:22.820Z"
   },
   {
    "duration": 13,
    "start_time": "2023-03-03T12:02:23.237Z"
   },
   {
    "duration": 6,
    "start_time": "2023-03-03T12:02:23.251Z"
   },
   {
    "duration": 7,
    "start_time": "2023-03-03T12:02:23.258Z"
   },
   {
    "duration": 54,
    "start_time": "2023-03-03T12:02:23.267Z"
   },
   {
    "duration": 27,
    "start_time": "2023-03-03T12:02:23.323Z"
   },
   {
    "duration": 50,
    "start_time": "2023-03-03T12:02:23.352Z"
   },
   {
    "duration": 31,
    "start_time": "2023-03-03T12:02:23.404Z"
   },
   {
    "duration": 121,
    "start_time": "2023-03-03T12:02:23.436Z"
   },
   {
    "duration": 13,
    "start_time": "2023-03-03T12:02:23.559Z"
   },
   {
    "duration": 35,
    "start_time": "2023-03-03T12:02:23.573Z"
   },
   {
    "duration": 40,
    "start_time": "2023-03-03T12:02:23.610Z"
   },
   {
    "duration": 82,
    "start_time": "2023-03-03T12:02:23.651Z"
   },
   {
    "duration": 5,
    "start_time": "2023-03-03T12:02:23.734Z"
   },
   {
    "duration": 17,
    "start_time": "2023-03-03T12:02:23.740Z"
   },
   {
    "duration": 16,
    "start_time": "2023-03-03T12:02:23.759Z"
   },
   {
    "duration": 21,
    "start_time": "2023-03-03T12:02:23.776Z"
   },
   {
    "duration": 30,
    "start_time": "2023-03-03T12:02:23.798Z"
   },
   {
    "duration": 22,
    "start_time": "2023-03-03T12:02:23.830Z"
   },
   {
    "duration": 5,
    "start_time": "2023-03-03T12:02:23.857Z"
   },
   {
    "duration": 9,
    "start_time": "2023-03-03T12:02:23.864Z"
   },
   {
    "duration": 49,
    "start_time": "2023-03-03T12:02:23.874Z"
   },
   {
    "duration": 22,
    "start_time": "2023-03-03T12:02:23.925Z"
   },
   {
    "duration": 31,
    "start_time": "2023-03-03T12:02:23.949Z"
   },
   {
    "duration": 33,
    "start_time": "2023-03-03T12:02:23.982Z"
   },
   {
    "duration": 12,
    "start_time": "2023-03-03T12:02:24.017Z"
   },
   {
    "duration": 28,
    "start_time": "2023-03-03T12:02:24.031Z"
   },
   {
    "duration": 27,
    "start_time": "2023-03-03T12:10:18.317Z"
   },
   {
    "duration": 6,
    "start_time": "2023-03-03T12:15:56.213Z"
   },
   {
    "duration": 195,
    "start_time": "2023-03-03T12:15:56.221Z"
   },
   {
    "duration": 11,
    "start_time": "2023-03-03T12:15:56.418Z"
   },
   {
    "duration": 32,
    "start_time": "2023-03-03T12:15:56.430Z"
   },
   {
    "duration": 3,
    "start_time": "2023-03-03T12:15:56.464Z"
   },
   {
    "duration": 5,
    "start_time": "2023-03-03T12:15:56.468Z"
   },
   {
    "duration": 31,
    "start_time": "2023-03-03T12:15:56.474Z"
   },
   {
    "duration": 52,
    "start_time": "2023-03-03T12:15:56.507Z"
   },
   {
    "duration": 60,
    "start_time": "2023-03-03T12:15:56.561Z"
   },
   {
    "duration": 54,
    "start_time": "2023-03-03T12:15:56.623Z"
   },
   {
    "duration": 64,
    "start_time": "2023-03-03T12:15:56.678Z"
   },
   {
    "duration": 69,
    "start_time": "2023-03-03T12:15:56.744Z"
   },
   {
    "duration": 7,
    "start_time": "2023-03-03T12:15:56.815Z"
   },
   {
    "duration": 31,
    "start_time": "2023-03-03T12:15:56.836Z"
   },
   {
    "duration": 200,
    "start_time": "2023-03-03T12:15:56.869Z"
   },
   {
    "duration": 10,
    "start_time": "2023-03-03T12:15:57.071Z"
   },
   {
    "duration": 39,
    "start_time": "2023-03-03T12:15:57.100Z"
   },
   {
    "duration": 10,
    "start_time": "2023-03-03T12:15:57.141Z"
   },
   {
    "duration": 23,
    "start_time": "2023-03-03T12:15:57.153Z"
   },
   {
    "duration": 34,
    "start_time": "2023-03-03T12:15:57.177Z"
   },
   {
    "duration": 236,
    "start_time": "2023-03-03T12:15:57.212Z"
   },
   {
    "duration": 7,
    "start_time": "2023-03-03T12:15:57.450Z"
   },
   {
    "duration": 474,
    "start_time": "2023-03-03T12:15:57.459Z"
   },
   {
    "duration": 10,
    "start_time": "2023-03-03T12:15:57.935Z"
   },
   {
    "duration": 5,
    "start_time": "2023-03-03T12:15:57.947Z"
   },
   {
    "duration": 6,
    "start_time": "2023-03-03T12:15:57.954Z"
   },
   {
    "duration": 19,
    "start_time": "2023-03-03T12:15:57.961Z"
   },
   {
    "duration": 53,
    "start_time": "2023-03-03T12:15:57.982Z"
   },
   {
    "duration": 35,
    "start_time": "2023-03-03T12:15:58.037Z"
   },
   {
    "duration": 40,
    "start_time": "2023-03-03T12:15:58.073Z"
   },
   {
    "duration": 123,
    "start_time": "2023-03-03T12:15:58.114Z"
   },
   {
    "duration": 13,
    "start_time": "2023-03-03T12:15:58.238Z"
   },
   {
    "duration": 13,
    "start_time": "2023-03-03T12:15:58.252Z"
   },
   {
    "duration": 89,
    "start_time": "2023-03-03T12:15:58.266Z"
   },
   {
    "duration": 0,
    "start_time": "2023-03-03T12:15:58.357Z"
   },
   {
    "duration": 0,
    "start_time": "2023-03-03T12:15:58.358Z"
   },
   {
    "duration": 0,
    "start_time": "2023-03-03T12:15:58.359Z"
   },
   {
    "duration": 0,
    "start_time": "2023-03-03T12:15:58.360Z"
   },
   {
    "duration": 0,
    "start_time": "2023-03-03T12:15:58.361Z"
   },
   {
    "duration": 0,
    "start_time": "2023-03-03T12:15:58.362Z"
   },
   {
    "duration": 0,
    "start_time": "2023-03-03T12:15:58.363Z"
   },
   {
    "duration": 0,
    "start_time": "2023-03-03T12:15:58.364Z"
   },
   {
    "duration": 0,
    "start_time": "2023-03-03T12:15:58.365Z"
   },
   {
    "duration": 0,
    "start_time": "2023-03-03T12:15:58.366Z"
   },
   {
    "duration": 0,
    "start_time": "2023-03-03T12:15:58.367Z"
   },
   {
    "duration": 0,
    "start_time": "2023-03-03T12:15:58.367Z"
   },
   {
    "duration": 0,
    "start_time": "2023-03-03T12:15:58.368Z"
   },
   {
    "duration": 0,
    "start_time": "2023-03-03T12:15:58.402Z"
   },
   {
    "duration": 0,
    "start_time": "2023-03-03T12:15:58.407Z"
   },
   {
    "duration": 0,
    "start_time": "2023-03-03T12:15:58.408Z"
   },
   {
    "duration": 1898,
    "start_time": "2023-03-03T12:17:41.434Z"
   },
   {
    "duration": 4,
    "start_time": "2023-03-03T12:18:37.018Z"
   },
   {
    "duration": 7,
    "start_time": "2023-03-03T12:18:41.991Z"
   },
   {
    "duration": 3,
    "start_time": "2023-03-03T12:18:44.640Z"
   },
   {
    "duration": 192,
    "start_time": "2023-03-03T12:18:44.647Z"
   },
   {
    "duration": 7,
    "start_time": "2023-03-03T12:18:44.843Z"
   },
   {
    "duration": 22,
    "start_time": "2023-03-03T12:18:44.851Z"
   },
   {
    "duration": 3,
    "start_time": "2023-03-03T12:18:44.875Z"
   },
   {
    "duration": 25,
    "start_time": "2023-03-03T12:18:44.879Z"
   },
   {
    "duration": 44,
    "start_time": "2023-03-03T12:18:44.906Z"
   },
   {
    "duration": 18,
    "start_time": "2023-03-03T12:18:44.952Z"
   },
   {
    "duration": 67,
    "start_time": "2023-03-03T12:18:44.971Z"
   },
   {
    "duration": 65,
    "start_time": "2023-03-03T12:18:45.040Z"
   },
   {
    "duration": 63,
    "start_time": "2023-03-03T12:18:45.107Z"
   },
   {
    "duration": 61,
    "start_time": "2023-03-03T12:18:45.172Z"
   },
   {
    "duration": 7,
    "start_time": "2023-03-03T12:18:45.235Z"
   },
   {
    "duration": 26,
    "start_time": "2023-03-03T12:18:45.244Z"
   },
   {
    "duration": 157,
    "start_time": "2023-03-03T12:18:45.273Z"
   },
   {
    "duration": 11,
    "start_time": "2023-03-03T12:18:45.432Z"
   },
   {
    "duration": 9,
    "start_time": "2023-03-03T12:18:45.444Z"
   },
   {
    "duration": 9,
    "start_time": "2023-03-03T12:18:45.455Z"
   },
   {
    "duration": 32,
    "start_time": "2023-03-03T12:18:45.465Z"
   },
   {
    "duration": 38,
    "start_time": "2023-03-03T12:18:45.498Z"
   },
   {
    "duration": 238,
    "start_time": "2023-03-03T12:18:45.537Z"
   },
   {
    "duration": 16,
    "start_time": "2023-03-03T12:18:45.777Z"
   },
   {
    "duration": 457,
    "start_time": "2023-03-03T12:18:45.794Z"
   },
   {
    "duration": 12,
    "start_time": "2023-03-03T12:18:46.252Z"
   },
   {
    "duration": 6,
    "start_time": "2023-03-03T12:18:46.266Z"
   },
   {
    "duration": 13,
    "start_time": "2023-03-03T12:18:46.300Z"
   },
   {
    "duration": 49,
    "start_time": "2023-03-03T12:18:46.314Z"
   },
   {
    "duration": 31,
    "start_time": "2023-03-03T12:18:46.365Z"
   },
   {
    "duration": 46,
    "start_time": "2023-03-03T12:18:46.399Z"
   },
   {
    "duration": 25,
    "start_time": "2023-03-03T12:18:46.447Z"
   },
   {
    "duration": 151,
    "start_time": "2023-03-03T12:18:46.473Z"
   },
   {
    "duration": 17,
    "start_time": "2023-03-03T12:18:46.625Z"
   },
   {
    "duration": 19,
    "start_time": "2023-03-03T12:18:46.643Z"
   },
   {
    "duration": 6,
    "start_time": "2023-03-03T12:18:46.664Z"
   },
   {
    "duration": 44,
    "start_time": "2023-03-03T12:18:46.672Z"
   },
   {
    "duration": 90,
    "start_time": "2023-03-03T12:18:46.717Z"
   },
   {
    "duration": 8,
    "start_time": "2023-03-03T12:18:46.815Z"
   },
   {
    "duration": 43,
    "start_time": "2023-03-03T12:18:46.824Z"
   },
   {
    "duration": 10,
    "start_time": "2023-03-03T12:18:46.869Z"
   },
   {
    "duration": 17,
    "start_time": "2023-03-03T12:18:46.881Z"
   },
   {
    "duration": 42,
    "start_time": "2023-03-03T12:18:46.907Z"
   },
   {
    "duration": 16,
    "start_time": "2023-03-03T12:18:46.954Z"
   },
   {
    "duration": 13,
    "start_time": "2023-03-03T12:18:46.972Z"
   },
   {
    "duration": 50,
    "start_time": "2023-03-03T12:18:46.987Z"
   },
   {
    "duration": 9,
    "start_time": "2023-03-03T12:18:47.038Z"
   },
   {
    "duration": 7,
    "start_time": "2023-03-03T12:18:47.049Z"
   },
   {
    "duration": 16,
    "start_time": "2023-03-03T12:18:47.057Z"
   },
   {
    "duration": 12,
    "start_time": "2023-03-03T12:18:47.074Z"
   },
   {
    "duration": 51,
    "start_time": "2023-03-03T12:18:47.088Z"
   },
   {
    "duration": 15,
    "start_time": "2023-03-03T12:18:47.141Z"
   },
   {
    "duration": 8,
    "start_time": "2023-03-03T12:22:38.042Z"
   },
   {
    "duration": 12,
    "start_time": "2023-03-03T12:23:31.617Z"
   },
   {
    "duration": 102,
    "start_time": "2023-03-03T12:24:15.818Z"
   },
   {
    "duration": 5,
    "start_time": "2023-03-03T12:24:20.456Z"
   },
   {
    "duration": 20,
    "start_time": "2023-03-03T12:24:41.833Z"
   },
   {
    "duration": 42,
    "start_time": "2023-03-03T12:28:56.308Z"
   },
   {
    "duration": 3,
    "start_time": "2023-03-03T12:29:19.785Z"
   },
   {
    "duration": 168,
    "start_time": "2023-03-03T12:29:19.805Z"
   },
   {
    "duration": 7,
    "start_time": "2023-03-03T12:29:19.975Z"
   },
   {
    "duration": 54,
    "start_time": "2023-03-03T12:29:19.994Z"
   },
   {
    "duration": 5,
    "start_time": "2023-03-03T12:29:20.051Z"
   },
   {
    "duration": 7,
    "start_time": "2023-03-03T12:29:20.057Z"
   },
   {
    "duration": 11,
    "start_time": "2023-03-03T12:29:20.065Z"
   },
   {
    "duration": 20,
    "start_time": "2023-03-03T12:29:20.078Z"
   },
   {
    "duration": 67,
    "start_time": "2023-03-03T12:29:20.102Z"
   },
   {
    "duration": 53,
    "start_time": "2023-03-03T12:29:20.171Z"
   },
   {
    "duration": 50,
    "start_time": "2023-03-03T12:29:20.227Z"
   },
   {
    "duration": 67,
    "start_time": "2023-03-03T12:29:20.278Z"
   },
   {
    "duration": 8,
    "start_time": "2023-03-03T12:29:20.347Z"
   },
   {
    "duration": 18,
    "start_time": "2023-03-03T12:29:20.357Z"
   },
   {
    "duration": 133,
    "start_time": "2023-03-03T12:29:20.391Z"
   },
   {
    "duration": 7,
    "start_time": "2023-03-03T12:29:20.526Z"
   },
   {
    "duration": 6,
    "start_time": "2023-03-03T12:29:20.535Z"
   },
   {
    "duration": 10,
    "start_time": "2023-03-03T12:29:20.542Z"
   },
   {
    "duration": 18,
    "start_time": "2023-03-03T12:29:20.553Z"
   },
   {
    "duration": 55,
    "start_time": "2023-03-03T12:29:20.572Z"
   },
   {
    "duration": 220,
    "start_time": "2023-03-03T12:29:20.628Z"
   },
   {
    "duration": 6,
    "start_time": "2023-03-03T12:29:20.849Z"
   },
   {
    "duration": 406,
    "start_time": "2023-03-03T12:29:20.856Z"
   },
   {
    "duration": 12,
    "start_time": "2023-03-03T12:29:21.264Z"
   },
   {
    "duration": 25,
    "start_time": "2023-03-03T12:29:21.277Z"
   },
   {
    "duration": 18,
    "start_time": "2023-03-03T12:29:21.307Z"
   },
   {
    "duration": 23,
    "start_time": "2023-03-03T12:29:21.326Z"
   },
   {
    "duration": 27,
    "start_time": "2023-03-03T12:29:21.351Z"
   },
   {
    "duration": 41,
    "start_time": "2023-03-03T12:29:21.381Z"
   },
   {
    "duration": 21,
    "start_time": "2023-03-03T12:29:21.423Z"
   },
   {
    "duration": 113,
    "start_time": "2023-03-03T12:29:21.446Z"
   },
   {
    "duration": 12,
    "start_time": "2023-03-03T12:29:21.561Z"
   },
   {
    "duration": 33,
    "start_time": "2023-03-03T12:29:21.575Z"
   },
   {
    "duration": 21,
    "start_time": "2023-03-03T12:29:21.609Z"
   },
   {
    "duration": 39,
    "start_time": "2023-03-03T12:29:21.632Z"
   },
   {
    "duration": 38,
    "start_time": "2023-03-03T12:29:21.672Z"
   },
   {
    "duration": 97,
    "start_time": "2023-03-03T12:29:21.712Z"
   },
   {
    "duration": 7,
    "start_time": "2023-03-03T12:29:21.815Z"
   },
   {
    "duration": 15,
    "start_time": "2023-03-03T12:29:21.823Z"
   },
   {
    "duration": 10,
    "start_time": "2023-03-03T12:29:21.840Z"
   },
   {
    "duration": 9,
    "start_time": "2023-03-03T12:29:21.851Z"
   },
   {
    "duration": 7,
    "start_time": "2023-03-03T12:29:21.862Z"
   },
   {
    "duration": 13,
    "start_time": "2023-03-03T12:29:21.870Z"
   },
   {
    "duration": 35,
    "start_time": "2023-03-03T12:29:21.885Z"
   },
   {
    "duration": 8,
    "start_time": "2023-03-03T12:29:21.921Z"
   },
   {
    "duration": 6,
    "start_time": "2023-03-03T12:29:21.930Z"
   },
   {
    "duration": 8,
    "start_time": "2023-03-03T12:29:21.937Z"
   },
   {
    "duration": 9,
    "start_time": "2023-03-03T12:29:21.946Z"
   },
   {
    "duration": 10,
    "start_time": "2023-03-03T12:29:21.956Z"
   },
   {
    "duration": 8,
    "start_time": "2023-03-03T12:29:21.967Z"
   },
   {
    "duration": 11,
    "start_time": "2023-03-03T12:29:21.976Z"
   },
   {
    "duration": 53,
    "start_time": "2023-03-03T12:51:17.153Z"
   },
   {
    "duration": 1221,
    "start_time": "2023-03-03T13:10:59.379Z"
   },
   {
    "duration": 161,
    "start_time": "2023-03-03T13:11:00.602Z"
   },
   {
    "duration": 14,
    "start_time": "2023-03-03T13:11:00.765Z"
   },
   {
    "duration": 47,
    "start_time": "2023-03-03T13:11:00.781Z"
   },
   {
    "duration": 12,
    "start_time": "2023-03-03T13:11:00.830Z"
   },
   {
    "duration": 38,
    "start_time": "2023-03-03T13:11:00.843Z"
   },
   {
    "duration": 30,
    "start_time": "2023-03-03T13:11:00.883Z"
   },
   {
    "duration": 40,
    "start_time": "2023-03-03T13:11:00.915Z"
   },
   {
    "duration": 90,
    "start_time": "2023-03-03T13:11:00.956Z"
   },
   {
    "duration": 68,
    "start_time": "2023-03-03T13:11:01.050Z"
   },
   {
    "duration": 80,
    "start_time": "2023-03-03T13:11:01.120Z"
   },
   {
    "duration": 56,
    "start_time": "2023-03-03T13:11:01.202Z"
   },
   {
    "duration": 32,
    "start_time": "2023-03-03T13:11:01.261Z"
   },
   {
    "duration": 20,
    "start_time": "2023-03-03T13:11:01.294Z"
   },
   {
    "duration": 139,
    "start_time": "2023-03-03T13:11:01.316Z"
   },
   {
    "duration": 8,
    "start_time": "2023-03-03T13:11:01.457Z"
   },
   {
    "duration": 60,
    "start_time": "2023-03-03T13:11:01.466Z"
   },
   {
    "duration": 63,
    "start_time": "2023-03-03T13:11:01.528Z"
   },
   {
    "duration": 37,
    "start_time": "2023-03-03T13:11:01.593Z"
   },
   {
    "duration": 30,
    "start_time": "2023-03-03T13:11:01.631Z"
   },
   {
    "duration": 241,
    "start_time": "2023-03-03T13:11:01.664Z"
   },
   {
    "duration": 7,
    "start_time": "2023-03-03T13:11:01.907Z"
   },
   {
    "duration": 489,
    "start_time": "2023-03-03T13:11:01.916Z"
   },
   {
    "duration": 12,
    "start_time": "2023-03-03T13:11:02.407Z"
   },
   {
    "duration": 15,
    "start_time": "2023-03-03T13:11:02.421Z"
   },
   {
    "duration": 5,
    "start_time": "2023-03-03T13:11:02.438Z"
   },
   {
    "duration": 34,
    "start_time": "2023-03-03T13:11:02.445Z"
   },
   {
    "duration": 34,
    "start_time": "2023-03-03T13:11:02.483Z"
   },
   {
    "duration": 37,
    "start_time": "2023-03-03T13:11:02.518Z"
   },
   {
    "duration": 38,
    "start_time": "2023-03-03T13:11:02.557Z"
   },
   {
    "duration": 102,
    "start_time": "2023-03-03T13:11:02.597Z"
   },
   {
    "duration": 17,
    "start_time": "2023-03-03T13:11:02.701Z"
   },
   {
    "duration": 14,
    "start_time": "2023-03-03T13:11:02.719Z"
   },
   {
    "duration": 173,
    "start_time": "2023-03-03T13:11:02.734Z"
   },
   {
    "duration": 353,
    "start_time": "2023-03-03T13:11:02.909Z"
   },
   {
    "duration": 50,
    "start_time": "2023-03-03T13:11:03.263Z"
   },
   {
    "duration": 28,
    "start_time": "2023-03-03T13:11:03.314Z"
   },
   {
    "duration": 94,
    "start_time": "2023-03-03T13:11:03.344Z"
   },
   {
    "duration": 5,
    "start_time": "2023-03-03T13:11:03.440Z"
   },
   {
    "duration": 13,
    "start_time": "2023-03-03T13:11:03.446Z"
   },
   {
    "duration": 8,
    "start_time": "2023-03-03T13:11:03.460Z"
   },
   {
    "duration": 23,
    "start_time": "2023-03-03T13:11:03.469Z"
   },
   {
    "duration": 6,
    "start_time": "2023-03-03T13:11:03.493Z"
   },
   {
    "duration": 12,
    "start_time": "2023-03-03T13:11:03.500Z"
   },
   {
    "duration": 3,
    "start_time": "2023-03-03T13:11:03.514Z"
   },
   {
    "duration": 6,
    "start_time": "2023-03-03T13:11:03.518Z"
   },
   {
    "duration": 5,
    "start_time": "2023-03-03T13:11:03.525Z"
   },
   {
    "duration": 5,
    "start_time": "2023-03-03T13:11:03.532Z"
   },
   {
    "duration": 9,
    "start_time": "2023-03-03T13:11:03.538Z"
   },
   {
    "duration": 7,
    "start_time": "2023-03-03T13:11:03.549Z"
   },
   {
    "duration": 8,
    "start_time": "2023-03-03T13:11:03.591Z"
   },
   {
    "duration": 10,
    "start_time": "2023-03-03T13:11:03.601Z"
   },
   {
    "duration": 10,
    "start_time": "2023-03-03T13:13:57.372Z"
   },
   {
    "duration": 11,
    "start_time": "2023-03-03T13:14:33.225Z"
   },
   {
    "duration": 1243,
    "start_time": "2023-03-03T13:15:01.201Z"
   },
   {
    "duration": 745,
    "start_time": "2023-03-03T13:15:16.342Z"
   },
   {
    "duration": 53,
    "start_time": "2023-03-03T13:15:53.583Z"
   },
   {
    "duration": 683,
    "start_time": "2023-03-03T13:15:57.530Z"
   },
   {
    "duration": 910,
    "start_time": "2023-03-03T13:18:12.042Z"
   },
   {
    "duration": 1185,
    "start_time": "2023-03-03T13:30:44.699Z"
   },
   {
    "duration": 151,
    "start_time": "2023-03-03T13:30:45.885Z"
   },
   {
    "duration": 9,
    "start_time": "2023-03-03T13:30:46.039Z"
   },
   {
    "duration": 24,
    "start_time": "2023-03-03T13:30:46.050Z"
   },
   {
    "duration": 16,
    "start_time": "2023-03-03T13:30:46.076Z"
   },
   {
    "duration": 6,
    "start_time": "2023-03-03T13:30:46.094Z"
   },
   {
    "duration": 17,
    "start_time": "2023-03-03T13:30:46.101Z"
   },
   {
    "duration": 24,
    "start_time": "2023-03-03T13:30:46.119Z"
   },
   {
    "duration": 60,
    "start_time": "2023-03-03T13:30:46.145Z"
   },
   {
    "duration": 68,
    "start_time": "2023-03-03T13:30:46.208Z"
   },
   {
    "duration": 89,
    "start_time": "2023-03-03T13:30:46.278Z"
   },
   {
    "duration": 76,
    "start_time": "2023-03-03T13:30:46.369Z"
   },
   {
    "duration": 12,
    "start_time": "2023-03-03T13:30:46.447Z"
   },
   {
    "duration": 37,
    "start_time": "2023-03-03T13:30:46.461Z"
   },
   {
    "duration": 135,
    "start_time": "2023-03-03T13:30:46.500Z"
   },
   {
    "duration": 11,
    "start_time": "2023-03-03T13:30:46.637Z"
   },
   {
    "duration": 8,
    "start_time": "2023-03-03T13:30:46.650Z"
   },
   {
    "duration": 15,
    "start_time": "2023-03-03T13:30:46.659Z"
   },
   {
    "duration": 29,
    "start_time": "2023-03-03T13:30:46.675Z"
   },
   {
    "duration": 125829,
    "start_time": "2023-03-03T13:30:46.706Z"
   },
   {
    "duration": 35,
    "start_time": "2023-03-03T13:32:52.537Z"
   },
   {
    "duration": 237,
    "start_time": "2023-03-03T13:32:52.574Z"
   },
   {
    "duration": 6,
    "start_time": "2023-03-03T13:32:52.812Z"
   },
   {
    "duration": 505,
    "start_time": "2023-03-03T13:32:52.819Z"
   },
   {
    "duration": 14,
    "start_time": "2023-03-03T13:32:53.325Z"
   },
   {
    "duration": 6,
    "start_time": "2023-03-03T13:32:53.341Z"
   },
   {
    "duration": 8,
    "start_time": "2023-03-03T13:32:53.349Z"
   },
   {
    "duration": 45,
    "start_time": "2023-03-03T13:32:53.360Z"
   },
   {
    "duration": 27,
    "start_time": "2023-03-03T13:32:53.407Z"
   },
   {
    "duration": 35,
    "start_time": "2023-03-03T13:32:53.435Z"
   },
   {
    "duration": 32,
    "start_time": "2023-03-03T13:32:53.472Z"
   },
   {
    "duration": 103,
    "start_time": "2023-03-03T13:32:53.506Z"
   },
   {
    "duration": 15,
    "start_time": "2023-03-03T13:32:53.611Z"
   },
   {
    "duration": 12,
    "start_time": "2023-03-03T13:32:53.628Z"
   },
   {
    "duration": 156,
    "start_time": "2023-03-03T13:32:53.642Z"
   },
   {
    "duration": 933,
    "start_time": "2023-03-03T13:32:53.800Z"
   },
   {
    "duration": 0,
    "start_time": "2023-03-03T13:32:54.735Z"
   },
   {
    "duration": 0,
    "start_time": "2023-03-03T13:32:54.736Z"
   },
   {
    "duration": 0,
    "start_time": "2023-03-03T13:32:54.737Z"
   },
   {
    "duration": 0,
    "start_time": "2023-03-03T13:32:54.738Z"
   },
   {
    "duration": 0,
    "start_time": "2023-03-03T13:32:54.739Z"
   },
   {
    "duration": 0,
    "start_time": "2023-03-03T13:32:54.740Z"
   },
   {
    "duration": 0,
    "start_time": "2023-03-03T13:32:54.741Z"
   },
   {
    "duration": 0,
    "start_time": "2023-03-03T13:32:54.742Z"
   },
   {
    "duration": 0,
    "start_time": "2023-03-03T13:32:54.743Z"
   },
   {
    "duration": 0,
    "start_time": "2023-03-03T13:32:54.744Z"
   },
   {
    "duration": 0,
    "start_time": "2023-03-03T13:32:54.745Z"
   },
   {
    "duration": 0,
    "start_time": "2023-03-03T13:32:54.746Z"
   },
   {
    "duration": 0,
    "start_time": "2023-03-03T13:32:54.746Z"
   },
   {
    "duration": 0,
    "start_time": "2023-03-03T13:32:54.748Z"
   },
   {
    "duration": 0,
    "start_time": "2023-03-03T13:32:54.749Z"
   },
   {
    "duration": 0,
    "start_time": "2023-03-03T13:32:54.750Z"
   },
   {
    "duration": 54,
    "start_time": "2023-03-03T13:36:48.515Z"
   },
   {
    "duration": 11,
    "start_time": "2023-03-03T14:00:41.087Z"
   },
   {
    "duration": 10,
    "start_time": "2023-03-03T14:00:50.072Z"
   },
   {
    "duration": 16,
    "start_time": "2023-03-03T14:01:00.402Z"
   },
   {
    "duration": 1160,
    "start_time": "2023-03-03T14:01:21.328Z"
   },
   {
    "duration": 159,
    "start_time": "2023-03-03T14:01:22.491Z"
   },
   {
    "duration": 11,
    "start_time": "2023-03-03T14:01:22.652Z"
   },
   {
    "duration": 32,
    "start_time": "2023-03-03T14:01:22.666Z"
   },
   {
    "duration": 3,
    "start_time": "2023-03-03T14:01:22.700Z"
   },
   {
    "duration": 5,
    "start_time": "2023-03-03T14:01:22.705Z"
   },
   {
    "duration": 10,
    "start_time": "2023-03-03T14:01:22.711Z"
   },
   {
    "duration": 15,
    "start_time": "2023-03-03T14:01:22.722Z"
   },
   {
    "duration": 91,
    "start_time": "2023-03-03T14:01:22.739Z"
   },
   {
    "duration": 74,
    "start_time": "2023-03-03T14:01:22.832Z"
   },
   {
    "duration": 85,
    "start_time": "2023-03-03T14:01:22.908Z"
   },
   {
    "duration": 59,
    "start_time": "2023-03-03T14:01:22.995Z"
   },
   {
    "duration": 12,
    "start_time": "2023-03-03T14:01:23.056Z"
   },
   {
    "duration": 40,
    "start_time": "2023-03-03T14:01:23.069Z"
   },
   {
    "duration": 123,
    "start_time": "2023-03-03T14:01:23.111Z"
   },
   {
    "duration": 8,
    "start_time": "2023-03-03T14:01:23.236Z"
   },
   {
    "duration": 6,
    "start_time": "2023-03-03T14:01:23.246Z"
   },
   {
    "duration": 13,
    "start_time": "2023-03-03T14:01:23.253Z"
   },
   {
    "duration": 34,
    "start_time": "2023-03-03T14:01:23.268Z"
   },
   {
    "duration": 30,
    "start_time": "2023-03-03T14:01:23.304Z"
   },
   {
    "duration": 239,
    "start_time": "2023-03-03T14:01:23.336Z"
   },
   {
    "duration": 15,
    "start_time": "2023-03-03T14:01:23.577Z"
   },
   {
    "duration": 505,
    "start_time": "2023-03-03T14:01:23.593Z"
   },
   {
    "duration": 14,
    "start_time": "2023-03-03T14:01:24.100Z"
   },
   {
    "duration": 6,
    "start_time": "2023-03-03T14:01:24.115Z"
   },
   {
    "duration": 11,
    "start_time": "2023-03-03T14:01:24.123Z"
   },
   {
    "duration": 25,
    "start_time": "2023-03-03T14:01:24.135Z"
   },
   {
    "duration": 53,
    "start_time": "2023-03-03T14:01:24.164Z"
   },
   {
    "duration": 37,
    "start_time": "2023-03-03T14:01:24.219Z"
   },
   {
    "duration": 45,
    "start_time": "2023-03-03T14:01:24.259Z"
   },
   {
    "duration": 110,
    "start_time": "2023-03-03T14:01:24.306Z"
   },
   {
    "duration": 15,
    "start_time": "2023-03-03T14:01:24.418Z"
   },
   {
    "duration": 13,
    "start_time": "2023-03-03T14:01:24.435Z"
   },
   {
    "duration": 155,
    "start_time": "2023-03-03T14:01:24.450Z"
   },
   {
    "duration": 85,
    "start_time": "2023-03-03T14:01:24.607Z"
   },
   {
    "duration": 120,
    "start_time": "2023-03-03T14:01:24.695Z"
   },
   {
    "duration": 5,
    "start_time": "2023-03-03T14:01:24.816Z"
   },
   {
    "duration": 23,
    "start_time": "2023-03-03T14:01:24.823Z"
   },
   {
    "duration": 12,
    "start_time": "2023-03-03T14:01:24.847Z"
   },
   {
    "duration": 13,
    "start_time": "2023-03-03T14:01:24.861Z"
   },
   {
    "duration": 13,
    "start_time": "2023-03-03T14:01:24.876Z"
   },
   {
    "duration": 19,
    "start_time": "2023-03-03T14:01:24.891Z"
   },
   {
    "duration": 12,
    "start_time": "2023-03-03T14:01:24.911Z"
   },
   {
    "duration": 19,
    "start_time": "2023-03-03T14:01:24.924Z"
   },
   {
    "duration": 5,
    "start_time": "2023-03-03T14:01:24.944Z"
   },
   {
    "duration": 13,
    "start_time": "2023-03-03T14:01:24.951Z"
   },
   {
    "duration": 15,
    "start_time": "2023-03-03T14:01:24.965Z"
   },
   {
    "duration": 19,
    "start_time": "2023-03-03T14:01:24.981Z"
   },
   {
    "duration": 16,
    "start_time": "2023-03-03T14:01:25.002Z"
   },
   {
    "duration": 8,
    "start_time": "2023-03-03T14:01:25.020Z"
   },
   {
    "duration": 15,
    "start_time": "2023-03-03T14:05:37.531Z"
   },
   {
    "duration": 13,
    "start_time": "2023-03-03T14:06:05.168Z"
   },
   {
    "duration": 86,
    "start_time": "2023-03-03T14:06:25.045Z"
   },
   {
    "duration": 1234,
    "start_time": "2023-03-03T19:05:24.237Z"
   },
   {
    "duration": 146,
    "start_time": "2023-03-03T19:05:25.473Z"
   },
   {
    "duration": 11,
    "start_time": "2023-03-03T19:05:25.621Z"
   },
   {
    "duration": 30,
    "start_time": "2023-03-03T19:05:25.634Z"
   },
   {
    "duration": 4,
    "start_time": "2023-03-03T19:05:25.666Z"
   },
   {
    "duration": 10,
    "start_time": "2023-03-03T19:05:25.672Z"
   },
   {
    "duration": 10,
    "start_time": "2023-03-03T19:05:25.684Z"
   },
   {
    "duration": 15,
    "start_time": "2023-03-03T19:05:25.695Z"
   },
   {
    "duration": 72,
    "start_time": "2023-03-03T19:05:25.711Z"
   },
   {
    "duration": 58,
    "start_time": "2023-03-03T19:05:25.786Z"
   },
   {
    "duration": 69,
    "start_time": "2023-03-03T19:05:25.855Z"
   },
   {
    "duration": 65,
    "start_time": "2023-03-03T19:05:25.926Z"
   },
   {
    "duration": 10,
    "start_time": "2023-03-03T19:05:25.992Z"
   },
   {
    "duration": 16,
    "start_time": "2023-03-03T19:05:26.004Z"
   },
   {
    "duration": 128,
    "start_time": "2023-03-03T19:05:26.022Z"
   },
   {
    "duration": 8,
    "start_time": "2023-03-03T19:05:26.155Z"
   },
   {
    "duration": 5,
    "start_time": "2023-03-03T19:05:26.165Z"
   },
   {
    "duration": 10,
    "start_time": "2023-03-03T19:05:26.172Z"
   },
   {
    "duration": 17,
    "start_time": "2023-03-03T19:05:26.183Z"
   },
   {
    "duration": 59,
    "start_time": "2023-03-03T19:05:26.202Z"
   },
   {
    "duration": 241,
    "start_time": "2023-03-03T19:05:26.263Z"
   },
   {
    "duration": 6,
    "start_time": "2023-03-03T19:05:26.506Z"
   },
   {
    "duration": 503,
    "start_time": "2023-03-03T19:05:26.514Z"
   },
   {
    "duration": 13,
    "start_time": "2023-03-03T19:05:27.019Z"
   },
   {
    "duration": 21,
    "start_time": "2023-03-03T19:05:27.034Z"
   },
   {
    "duration": 3,
    "start_time": "2023-03-03T19:05:27.057Z"
   },
   {
    "duration": 32,
    "start_time": "2023-03-03T19:05:27.062Z"
   },
   {
    "duration": 30,
    "start_time": "2023-03-03T19:05:27.097Z"
   },
   {
    "duration": 47,
    "start_time": "2023-03-03T19:05:27.129Z"
   },
   {
    "duration": 21,
    "start_time": "2023-03-03T19:05:27.178Z"
   },
   {
    "duration": 114,
    "start_time": "2023-03-03T19:05:27.200Z"
   },
   {
    "duration": 15,
    "start_time": "2023-03-03T19:05:27.315Z"
   },
   {
    "duration": 25,
    "start_time": "2023-03-03T19:05:27.332Z"
   },
   {
    "duration": 258,
    "start_time": "2023-03-03T19:05:27.358Z"
   },
   {
    "duration": 41,
    "start_time": "2023-03-03T19:05:27.618Z"
   },
   {
    "duration": 132,
    "start_time": "2023-03-03T19:05:27.661Z"
   },
   {
    "duration": 5,
    "start_time": "2023-03-03T19:05:27.795Z"
   },
   {
    "duration": 12,
    "start_time": "2023-03-03T19:05:27.801Z"
   },
   {
    "duration": 7,
    "start_time": "2023-03-03T19:05:27.814Z"
   },
   {
    "duration": 37,
    "start_time": "2023-03-03T19:05:27.823Z"
   },
   {
    "duration": 6,
    "start_time": "2023-03-03T19:05:27.862Z"
   },
   {
    "duration": 11,
    "start_time": "2023-03-03T19:05:27.869Z"
   },
   {
    "duration": 5,
    "start_time": "2023-03-03T19:05:27.881Z"
   },
   {
    "duration": 4,
    "start_time": "2023-03-03T19:05:27.888Z"
   },
   {
    "duration": 4,
    "start_time": "2023-03-03T19:05:27.894Z"
   },
   {
    "duration": 6,
    "start_time": "2023-03-03T19:05:27.899Z"
   },
   {
    "duration": 8,
    "start_time": "2023-03-03T19:05:27.906Z"
   },
   {
    "duration": 10,
    "start_time": "2023-03-03T19:05:27.954Z"
   },
   {
    "duration": 8,
    "start_time": "2023-03-03T19:05:27.965Z"
   },
   {
    "duration": 8,
    "start_time": "2023-03-03T19:05:27.975Z"
   },
   {
    "duration": 2234,
    "start_time": "2023-03-03T21:32:59.594Z"
   },
   {
    "duration": 1253,
    "start_time": "2023-03-03T21:33:01.833Z"
   },
   {
    "duration": 19,
    "start_time": "2023-03-03T21:33:03.088Z"
   },
   {
    "duration": 74,
    "start_time": "2023-03-03T21:33:03.109Z"
   },
   {
    "duration": 56,
    "start_time": "2023-03-03T21:33:03.186Z"
   },
   {
    "duration": 87,
    "start_time": "2023-03-03T21:33:03.244Z"
   },
   {
    "duration": 63,
    "start_time": "2023-03-03T21:33:03.334Z"
   },
   {
    "duration": 117,
    "start_time": "2023-03-03T21:33:03.400Z"
   },
   {
    "duration": 148,
    "start_time": "2023-03-03T21:33:03.520Z"
   },
   {
    "duration": 94,
    "start_time": "2023-03-03T21:33:03.672Z"
   },
   {
    "duration": 137,
    "start_time": "2023-03-03T21:33:03.772Z"
   },
   {
    "duration": 121,
    "start_time": "2023-03-03T21:33:03.911Z"
   },
   {
    "duration": 12,
    "start_time": "2023-03-03T21:33:04.036Z"
   },
   {
    "duration": 49,
    "start_time": "2023-03-03T21:33:04.056Z"
   },
   {
    "duration": 229,
    "start_time": "2023-03-03T21:33:04.111Z"
   },
   {
    "duration": 37,
    "start_time": "2023-03-03T21:33:04.344Z"
   },
   {
    "duration": 148,
    "start_time": "2023-03-03T21:33:04.385Z"
   },
   {
    "duration": 31,
    "start_time": "2023-03-03T21:33:04.535Z"
   },
   {
    "duration": 148,
    "start_time": "2023-03-03T21:33:04.569Z"
   },
   {
    "duration": 135,
    "start_time": "2023-03-03T21:33:04.719Z"
   },
   {
    "duration": 375,
    "start_time": "2023-03-03T21:33:04.857Z"
   },
   {
    "duration": 28,
    "start_time": "2023-03-03T21:33:05.236Z"
   },
   {
    "duration": 800,
    "start_time": "2023-03-03T21:33:05.280Z"
   },
   {
    "duration": 23,
    "start_time": "2023-03-03T21:33:06.083Z"
   },
   {
    "duration": 135,
    "start_time": "2023-03-03T21:33:06.111Z"
   },
   {
    "duration": 92,
    "start_time": "2023-03-03T21:33:06.252Z"
   },
   {
    "duration": 115,
    "start_time": "2023-03-03T21:33:06.347Z"
   },
   {
    "duration": 203,
    "start_time": "2023-03-03T21:33:06.465Z"
   },
   {
    "duration": 207,
    "start_time": "2023-03-03T21:33:06.673Z"
   },
   {
    "duration": 97,
    "start_time": "2023-03-03T21:33:06.888Z"
   },
   {
    "duration": 242,
    "start_time": "2023-03-03T21:33:06.991Z"
   },
   {
    "duration": 48,
    "start_time": "2023-03-03T21:33:07.235Z"
   },
   {
    "duration": 124,
    "start_time": "2023-03-03T21:33:07.288Z"
   },
   {
    "duration": 572,
    "start_time": "2023-03-03T21:33:07.415Z"
   },
   {
    "duration": 48,
    "start_time": "2023-03-03T21:33:07.988Z"
   },
   {
    "duration": 306,
    "start_time": "2023-03-03T21:33:08.043Z"
   },
   {
    "duration": 10,
    "start_time": "2023-03-03T21:33:08.356Z"
   },
   {
    "duration": 95,
    "start_time": "2023-03-03T21:33:08.386Z"
   },
   {
    "duration": 56,
    "start_time": "2023-03-03T21:33:08.488Z"
   },
   {
    "duration": 97,
    "start_time": "2023-03-03T21:33:08.546Z"
   },
   {
    "duration": 49,
    "start_time": "2023-03-03T21:33:08.647Z"
   },
   {
    "duration": 122,
    "start_time": "2023-03-03T21:33:08.702Z"
   },
   {
    "duration": 13,
    "start_time": "2023-03-03T21:33:08.830Z"
   },
   {
    "duration": 45,
    "start_time": "2023-03-03T21:33:08.845Z"
   },
   {
    "duration": 35,
    "start_time": "2023-03-03T21:33:08.896Z"
   },
   {
    "duration": 60,
    "start_time": "2023-03-03T21:33:08.935Z"
   },
   {
    "duration": 42,
    "start_time": "2023-03-03T21:33:09.002Z"
   },
   {
    "duration": 98,
    "start_time": "2023-03-03T21:33:09.046Z"
   },
   {
    "duration": 94,
    "start_time": "2023-03-03T21:33:09.146Z"
   },
   {
    "duration": 50,
    "start_time": "2023-03-03T21:33:09.242Z"
   },
   {
    "duration": 18,
    "start_time": "2023-03-03T21:35:36.835Z"
   }
  ],
  "kernelspec": {
   "display_name": "Python 3 (ipykernel)",
   "language": "python",
   "name": "python3"
  },
  "language_info": {
   "codemirror_mode": {
    "name": "ipython",
    "version": 3
   },
   "file_extension": ".py",
   "mimetype": "text/x-python",
   "name": "python",
   "nbconvert_exporter": "python",
   "pygments_lexer": "ipython3",
   "version": "3.9.13"
  },
  "toc": {
   "base_numbering": 1,
   "nav_menu": {},
   "number_sections": true,
   "sideBar": true,
   "skip_h1_title": true,
   "title_cell": "Table of Contents",
   "title_sidebar": "Contents",
   "toc_cell": false,
   "toc_position": {
    "height": "calc(100% - 180px)",
    "left": "10px",
    "top": "150px",
    "width": "205.521px"
   },
   "toc_section_display": true,
   "toc_window_display": true
  }
 },
 "nbformat": 4,
 "nbformat_minor": 2
}
